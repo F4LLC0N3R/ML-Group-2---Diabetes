{
 "cells": [
  {
   "cell_type": "code",
   "execution_count": 1,
   "id": "4f157f43",
   "metadata": {},
   "outputs": [],
   "source": [
    "# Import statements\n",
    "\n",
    "# Data Processing\n",
    "import pandas as pd\n",
    "import numpy as np\n",
    "\n",
    "# Visualization\n",
    "import seaborn as sns\n",
    "\n",
    "# Machine Learning\n",
    "from sklearn.preprocessing import MinMaxScaler\n",
    "from sklearn.dummy import DummyClassifier\n",
    "from sklearn.linear_model import LogisticRegression\n",
    "from sklearn.metrics import ConfusionMatrixDisplay, classification_report, roc_auc_score, roc_curve, RocCurveDisplay, PrecisionRecallDisplay, f1_score\n",
    "from sklearn.model_selection import RandomizedSearchCV, GridSearchCV\n",
    "from sklearn.pipeline import make_pipeline"
   ]
  },
  {
   "cell_type": "markdown",
   "id": "95793461",
   "metadata": {},
   "source": [
    "## 3.1. Logistic Regression"
   ]
  },
  {
   "cell_type": "markdown",
   "id": "6529d650",
   "metadata": {},
   "source": [
    "- Import preprocessed features as DataFrames and target variables as Series"
   ]
  },
  {
   "cell_type": "code",
   "execution_count": 2,
   "id": "bf6823eb",
   "metadata": {},
   "outputs": [],
   "source": [
    "# training and test sets with original data distribution\n",
    "\n",
    "X_train = pd.read_csv('data/X_train.csv')\n",
    "y_train = pd.read_csv('data/y_train.csv', squeeze=True)\n",
    "\n",
    "X_test = pd.read_csv('data/X_test.csv')\n",
    "y_test = pd.read_csv('data/y_test.csv', squeeze=True)"
   ]
  },
  {
   "cell_type": "code",
   "execution_count": 3,
   "id": "81989498",
   "metadata": {},
   "outputs": [],
   "source": [
    "# resampled / balanced training sets\n",
    "\n",
    "X_train_rus = pd.read_csv('data/X_train_rus.csv')\n",
    "y_train_rus = pd.read_csv('data/y_train_rus.csv', squeeze=True)\n",
    "\n",
    "X_train_ros = pd.read_csv('data/X_train_ros.csv')\n",
    "y_train_ros = pd.read_csv('data/y_train_ros.csv', squeeze=True)\n",
    "\n",
    "X_train_smote = pd.read_csv('data/X_train_smote.csv')\n",
    "y_train_smote = pd.read_csv('data/y_train_smote.csv', squeeze=True)"
   ]
  },
  {
   "cell_type": "markdown",
   "id": "587856fb",
   "metadata": {},
   "source": [
    "### 3.1.1 Initial Model Building\n",
    "[Back to top](#top)"
   ]
  },
  {
   "cell_type": "markdown",
   "id": "e0008df9",
   "metadata": {},
   "source": [
    "- First logistic regression model: We set the maximal number of iterations to ``max_iter=1000`` which allows the solver to converge. Apart from that we use the default hyperparameter values."
   ]
  },
  {
   "cell_type": "code",
   "execution_count": 83,
   "id": "7dc8971b",
   "metadata": {},
   "outputs": [
    {
     "name": "stdout",
     "output_type": "stream",
     "text": [
      "Wall time: 9.8 s\n"
     ]
    },
    {
     "data": {
      "text/plain": [
       "Pipeline(steps=[('minmaxscaler', MinMaxScaler()),\n",
       "                ('logisticregression',\n",
       "                 LogisticRegression(max_iter=1000, random_state=42))])"
      ]
     },
     "execution_count": 83,
     "metadata": {},
     "output_type": "execute_result"
    }
   ],
   "source": [
    "# Create pipeline\n",
    "clf = make_pipeline(MinMaxScaler(), LogisticRegression(max_iter=1000, random_state=42))\n",
    "\n",
    "# Scale and fit model on training data\n",
    "%time clf.fit(X_train, y_train)"
   ]
  },
  {
   "cell_type": "code",
   "execution_count": 5,
   "id": "d4950410",
   "metadata": {},
   "outputs": [],
   "source": [
    "# Predict labels\n",
    "y_pred = clf.predict(X_test)"
   ]
  },
  {
   "cell_type": "code",
   "execution_count": 6,
   "id": "45ca984e",
   "metadata": {},
   "outputs": [
    {
     "data": {
      "text/plain": [
       "0.9118568232662192"
      ]
     },
     "execution_count": 6,
     "metadata": {},
     "output_type": "execute_result"
    }
   ],
   "source": [
    "clf.score(X_test, y_test)"
   ]
  },
  {
   "cell_type": "markdown",
   "id": "2501e4f1",
   "metadata": {},
   "source": [
    "Our first impression is a good accuracy of 91%. However, having the data imbalance in mind, we will evaluate the model in detail."
   ]
  },
  {
   "cell_type": "markdown",
   "id": "db0d306f",
   "metadata": {},
   "source": [
    "### 3.1.2. Model Evaluation "
   ]
  },
  {
   "cell_type": "code",
   "execution_count": 7,
   "id": "30905f41",
   "metadata": {},
   "outputs": [
    {
     "name": "stdout",
     "output_type": "stream",
     "text": [
      "Count of 0 in test set: 16307, (91.2025%)\n",
      "Count of 1 in test set: 1573, (8.7975%)\n"
     ]
    },
    {
     "name": "stderr",
     "output_type": "stream",
     "text": [
      "C:\\Users\\fabio\\anaconda3\\lib\\site-packages\\seaborn\\_decorators.py:36: FutureWarning: Pass the following variable as a keyword arg: x. From version 0.12, the only valid positional argument will be `data`, and passing other arguments without an explicit keyword will result in an error or misinterpretation.\n",
      "  warnings.warn(\n"
     ]
    },
    {
     "data": {
      "text/plain": [
       "<AxesSubplot:xlabel='readmitted_within_30_days', ylabel='count'>"
      ]
     },
     "execution_count": 7,
     "metadata": {},
     "output_type": "execute_result"
    },
    {
     "data": {
      "image/png": "[encoded data removed]",
      "text/plain": [
       "<Figure size 432x288 with 1 Axes>"
      ]
     },
     "metadata": {
      "needs_background": "light"
     },
     "output_type": "display_data"
    }
   ],
   "source": [
    "count_0 = (y_test == 0).sum()\n",
    "count_1 = (y_test == 1).sum()\n",
    "\n",
    "print(f'Count of 0 in test set: {count_0}, ({round(count_0 / len(y_test) * 100, 4)}%)')\n",
    "print(f'Count of 1 in test set: {count_1}, ({round(count_1 / len(y_test) * 100, 4)}%)')\n",
    "\n",
    "sns.countplot(y_test)"
   ]
  },
  {
   "cell_type": "markdown",
   "id": "4b4c262c",
   "metadata": {},
   "source": [
    "The '0' class has a share of 91.2% of all target values in the test data. This means a simple estimator which is always predicting 0 will have an accuracy of 91.2% while evaluated on this data set."
   ]
  },
  {
   "cell_type": "code",
   "execution_count": 8,
   "id": "a95e1195",
   "metadata": {},
   "outputs": [
    {
     "data": {
      "text/plain": [
       "0.9120246085011185"
      ]
     },
     "execution_count": 8,
     "metadata": {},
     "output_type": "execute_result"
    }
   ],
   "source": [
    "# Classifier which is always predicting the majority class label\n",
    "\n",
    "simplest_clf = DummyClassifier()\n",
    "simplest_clf.fit(X_train, y_train)\n",
    "simplest_clf.score(X_test, y_test)"
   ]
  },
  {
   "cell_type": "markdown",
   "id": "c51a08d5",
   "metadata": {},
   "source": [
    "Consequently, our trained logistic regression model does not have a satisfying accuracy since it is in fact less accurate than the simplest model imaginable!"
   ]
  },
  {
   "cell_type": "code",
   "execution_count": 9,
   "id": "611e6624",
   "metadata": {},
   "outputs": [
    {
     "data": {
      "text/plain": [
       "<sklearn.metrics._plot.confusion_matrix.ConfusionMatrixDisplay at 0x2689afbd520>"
      ]
     },
     "execution_count": 9,
     "metadata": {},
     "output_type": "execute_result"
    },
    {
     "data": {
      "image/png": "[encoded data removed]",
      "text/plain": [
       "<Figure size 432x288 with 2 Axes>"
      ]
     },
     "metadata": {
      "needs_background": "light"
     },
     "output_type": "display_data"
    }
   ],
   "source": [
    "# scikit-learn 1.0 needed\n",
    "\n",
    "ConfusionMatrixDisplay.from_predictions(y_test, y_pred, cmap='Blues')"
   ]
  },
  {
   "cell_type": "markdown",
   "id": "6ad2550f",
   "metadata": {},
   "source": [
    "In the confusion matrix, the data imbalance becomes obvious. The majority of the instances in the test dataset is classified correctly ($\\rightarrow$ therefore the 'good' accuracy), the large majority in the 'True Negative' section. Out of the 17,880 instances, the classifier predicted only 23 instances as '1', and only 10 of these predictions were correct. As we are interested in a model which identifies patients which will be readmitted to the hospital, this model is as worse as it can get. This becomes even clearer if we normalize the counts display in the confusion matrix over the true conditions:"
   ]
  },
  {
   "cell_type": "code",
   "execution_count": 10,
   "id": "bd8aef16",
   "metadata": {},
   "outputs": [
    {
     "data": {
      "text/plain": [
       "<sklearn.metrics._plot.confusion_matrix.ConfusionMatrixDisplay at 0x268a0e6a880>"
      ]
     },
     "execution_count": 10,
     "metadata": {},
     "output_type": "execute_result"
    },
    {
     "data": {
      "image/png": "[encoded data removed]",
      "text/plain": [
       "<Figure size 432x288 with 2 Axes>"
      ]
     },
     "metadata": {
      "needs_background": "light"
     },
     "output_type": "display_data"
    }
   ],
   "source": [
    "ConfusionMatrixDisplay.from_predictions(y_test, y_pred, cmap='Greens', normalize='true')"
   ]
  },
  {
   "cell_type": "markdown",
   "id": "623aba3c",
   "metadata": {},
   "source": [
    "While only 0.0008% of all '0' instances are misclassified as '1', 99% of all '1' instances are misclassified as '0'!"
   ]
  },
  {
   "cell_type": "code",
   "execution_count": 11,
   "id": "ebd4a548",
   "metadata": {
    "scrolled": true
   },
   "outputs": [
    {
     "name": "stdout",
     "output_type": "stream",
     "text": [
      "              precision    recall  f1-score   support\n",
      "\n",
      "           0       0.91      1.00      0.95     16307\n",
      "           1       0.43      0.01      0.01      1573\n",
      "\n",
      "    accuracy                           0.91     17880\n",
      "   macro avg       0.67      0.50      0.48     17880\n",
      "weighted avg       0.87      0.91      0.87     17880\n",
      "\n"
     ]
    }
   ],
   "source": [
    "# Print evaluation metrics\n",
    "print(classification_report(y_test, y_pred))"
   ]
  },
  {
   "cell_type": "markdown",
   "id": "0dc558ab",
   "metadata": {},
   "source": [
    "The classification report summarized the already observed difference in performance with respect to the different target classes. We have an overall good accuracy because the classifier performs well in regard to the majority class where it shows perfect recall while also giving a good precision. In regard to the minority class in which we are particularly interested in, the classifier shows an abysmal performance, having the worst possible recall while not even having a good precision."
   ]
  },
  {
   "cell_type": "markdown",
   "id": "0a2feed1",
   "metadata": {},
   "source": [
    "### 3.1.3. Hyperparameter Tuning to improve Accuracy\n",
    "[Back to top](#top)"
   ]
  },
  {
   "cell_type": "code",
   "execution_count": 12,
   "id": "35253074",
   "metadata": {
    "scrolled": false
   },
   "outputs": [
    {
     "data": {
      "text/plain": [
       "{'C': 1.0,\n",
       " 'class_weight': None,\n",
       " 'dual': False,\n",
       " 'fit_intercept': True,\n",
       " 'intercept_scaling': 1,\n",
       " 'l1_ratio': None,\n",
       " 'max_iter': 500,\n",
       " 'multi_class': 'auto',\n",
       " 'n_jobs': None,\n",
       " 'penalty': 'l2',\n",
       " 'random_state': 42,\n",
       " 'solver': 'lbfgs',\n",
       " 'tol': 0.0001,\n",
       " 'verbose': 0,\n",
       " 'warm_start': False}"
      ]
     },
     "execution_count": 12,
     "metadata": {},
     "output_type": "execute_result"
    }
   ],
   "source": [
    "# Show hyperparameters and their values\n",
    "clf['logisticregression'].get_params()"
   ]
  },
  {
   "cell_type": "markdown",
   "id": "f3296345",
   "metadata": {},
   "source": [
    "Hyperparameters to be varied:\n",
    "\n",
    "- ``penalty``: By default, a l2 regularization is performed. Alternatively, the logistic regression can be done without any regularization or the penalty term can be changed to l1 norm or an elastic net. We opt for an elastic net which includes l1 and l2 regularization (see ``l1_ratio``).\n",
    "\n",
    "- ``l1_ratio``: The combination of l1 and l2 penalty in the elastic net can be selected by a ratio between 0 and 1. A value of 0 equals l2 regularization while the value of 1 equals l1 regularization.\n",
    "\n",
    "- ``C``: Inverse of regularization strength. A lower value results in a stronger regularization with 1.0 being the default.\n",
    "\n",
    "- ``solver``: The algorithm which solves the optimization problem. We opt for the 'saga' solver, a stochastic average gradient descent implementation which supports elastic net regularization and is recommended for large datasets (https://scikit-learn.org/dev/modules/linear_model.html#logistic-regression).\n",
    "\n",
    "\n",
    "- ``fit_intercept``: Specification if an intercept should be added to the regression function\n",
    "\n",
    "\n",
    "- ``max_iter``: Maximum number of iterations as limit for the solver to converge.\n",
    "\n",
    "- ``tol``: Tolerance of the stopping criteria, by default: 0.0001.\n",
    "\n",
    "- ``warm_start``: When set to True, the solution of the previous call is used to fit as initialization (False by default.\n",
    "\n",
    "- ``class_weight``: Weights associated with the different classes in the target variable. By default, all classes are weighted the same. Apart from manually assigning weights to each class, we can use the 'balanced' option which automatically adjust weights inversely proportional to class frequencies. We will deal with class imbalances later."
   ]
  },
  {
   "cell_type": "markdown",
   "id": "34a9dba6",
   "metadata": {},
   "source": [
    "In the following section, we try to optimize the logistic regression model with regard to its accuracy score. As discussed in the previous section, accuracy might not be the best evaluation metric for our problem. However, an improvement of the accuracy could potentially improve the model: Since the recall for class 0 is already almost 100%, a siginificant increase in accuracy can only be obtained if the classification performance for class 1 improves.\n",
    "\n",
    "\n",
    "We start by having a detailed look at the hyperparameters of scikit-learn's implementation in order to decide how to vary the model. We conduct a randomized search on a large parameter grid before finetuning with a grid search on a narrowly defined grid."
   ]
  },
  {
   "cell_type": "markdown",
   "id": "887afc4f",
   "metadata": {},
   "source": [
    "After having a detailed look at the possible hyperparameter values, we create the following parameter grid which will be given to the randomized search algorithm:"
   ]
  },
  {
   "cell_type": "code",
   "execution_count": 13,
   "id": "78bbeee3",
   "metadata": {},
   "outputs": [],
   "source": [
    "param_dist = {'logisticregression__solver': ['saga'],\n",
    "              'logisticregression__penalty': ['elasticnet', 'none'],\n",
    "              'logisticregression__l1_ratio': np.linspace(0, 1, 11), # try different elastic nets\n",
    "              'logisticregression__C': [0.001, 0.01, 0.1, 1, 10, 100, 1000, 10000], # vary regularization strength\n",
    "              'logisticregression__fit_intercept': [False, True], \n",
    "              'logisticregression__tol': [0.000001, 0.00001, 0.0001, 0.001, 0.01], # vary stopping threshold\n",
    "              'logisticregression__warm_start': [False, True],         \n",
    "             }"
   ]
  },
  {
   "cell_type": "markdown",
   "id": "b4dc373d",
   "metadata": {},
   "source": [
    "We conduct a 5-fold cross validated search where 10 randomly selected parameter combinations are tried:"
   ]
  },
  {
   "cell_type": "code",
   "execution_count": 14,
   "id": "87094f9e",
   "metadata": {},
   "outputs": [
    {
     "name": "stdout",
     "output_type": "stream",
     "text": [
      "Fitting 3 folds for each of 10 candidates, totalling 30 fits\n",
      "Wall time: 8min 2s\n"
     ]
    },
    {
     "data": {
      "text/plain": [
       "RandomizedSearchCV(cv=3,\n",
       "                   estimator=Pipeline(steps=[('minmaxscaler', MinMaxScaler()),\n",
       "                                             ('logisticregression',\n",
       "                                              LogisticRegression(max_iter=500,\n",
       "                                                                 random_state=42))]),\n",
       "                   n_jobs=-1,\n",
       "                   param_distributions={'logisticregression__C': [0.001, 0.01,\n",
       "                                                                  0.1, 1, 10,\n",
       "                                                                  100, 1000,\n",
       "                                                                  10000],\n",
       "                                        'logisticregression__fit_intercept': [False,\n",
       "                                                                              True],\n",
       "                                        'logisticregression__l1_ratio': array([0. , 0.1, 0.2, 0.3, 0.4, 0.5, 0.6, 0.7, 0.8, 0.9, 1. ]),\n",
       "                                        'logisticregression__penalty': ['elasticnet',\n",
       "                                                                        'none'],\n",
       "                                        'logisticregression__solver': ['saga'],\n",
       "                                        'logisticregression__tol': [1e-06,\n",
       "                                                                    1e-05,\n",
       "                                                                    0.0001,\n",
       "                                                                    0.001,\n",
       "                                                                    0.01],\n",
       "                                        'logisticregression__warm_start': [False,\n",
       "                                                                           True]},\n",
       "                   verbose=1)"
      ]
     },
     "execution_count": 14,
     "metadata": {},
     "output_type": "execute_result"
    }
   ],
   "source": [
    "random_search = RandomizedSearchCV(estimator=clf, \n",
    "                                   param_distributions = param_dist,\n",
    "                                   n_jobs=-1,\n",
    "                                   cv=3, #reduced to 3-fold to reduce runtime\n",
    "                                   verbose=1)\n",
    "%time random_search.fit(X_train, y_train)"
   ]
  },
  {
   "cell_type": "markdown",
   "id": "f9259918",
   "metadata": {},
   "source": [
    "Look a the results of the different tried estimators and identify the best one"
   ]
  },
  {
   "cell_type": "code",
   "execution_count": 15,
   "id": "59548d8c",
   "metadata": {
    "scrolled": true
   },
   "outputs": [
    {
     "data": {
      "text/html": [
       "<div>\n",
       "<style scoped>\n",
       "    .dataframe tbody tr th:only-of-type {\n",
       "        vertical-align: middle;\n",
       "    }\n",
       "\n",
       "    .dataframe tbody tr th {\n",
       "        vertical-align: top;\n",
       "    }\n",
       "\n",
       "    .dataframe thead th {\n",
       "        text-align: right;\n",
       "    }\n",
       "</style>\n",
       "<table border=\"1\" class=\"dataframe\">\n",
       "  <thead>\n",
       "    <tr style=\"text-align: right;\">\n",
       "      <th></th>\n",
       "      <th>mean_fit_time</th>\n",
       "      <th>std_fit_time</th>\n",
       "      <th>mean_score_time</th>\n",
       "      <th>std_score_time</th>\n",
       "      <th>param_logisticregression__warm_start</th>\n",
       "      <th>param_logisticregression__tol</th>\n",
       "      <th>param_logisticregression__solver</th>\n",
       "      <th>param_logisticregression__penalty</th>\n",
       "      <th>param_logisticregression__l1_ratio</th>\n",
       "      <th>param_logisticregression__fit_intercept</th>\n",
       "      <th>param_logisticregression__C</th>\n",
       "      <th>params</th>\n",
       "      <th>split0_test_score</th>\n",
       "      <th>split1_test_score</th>\n",
       "      <th>split2_test_score</th>\n",
       "      <th>mean_test_score</th>\n",
       "      <th>std_test_score</th>\n",
       "      <th>rank_test_score</th>\n",
       "    </tr>\n",
       "  </thead>\n",
       "  <tbody>\n",
       "    <tr>\n",
       "      <th>7</th>\n",
       "      <td>4.559882</td>\n",
       "      <td>0.282111</td>\n",
       "      <td>0.050712</td>\n",
       "      <td>0.000042</td>\n",
       "      <td>False</td>\n",
       "      <td>0.000001</td>\n",
       "      <td>saga</td>\n",
       "      <td>elasticnet</td>\n",
       "      <td>0.3</td>\n",
       "      <td>True</td>\n",
       "      <td>0.001</td>\n",
       "      <td>{'logisticregression__warm_start': False, 'log...</td>\n",
       "      <td>0.911969</td>\n",
       "      <td>0.912020</td>\n",
       "      <td>0.912020</td>\n",
       "      <td>0.912003</td>\n",
       "      <td>0.000024</td>\n",
       "      <td>1</td>\n",
       "    </tr>\n",
       "    <tr>\n",
       "      <th>8</th>\n",
       "      <td>12.114837</td>\n",
       "      <td>1.543198</td>\n",
       "      <td>0.060111</td>\n",
       "      <td>0.008308</td>\n",
       "      <td>True</td>\n",
       "      <td>0.001</td>\n",
       "      <td>saga</td>\n",
       "      <td>elasticnet</td>\n",
       "      <td>0.1</td>\n",
       "      <td>False</td>\n",
       "      <td>1</td>\n",
       "      <td>{'logisticregression__warm_start': True, 'logi...</td>\n",
       "      <td>0.911857</td>\n",
       "      <td>0.911964</td>\n",
       "      <td>0.911684</td>\n",
       "      <td>0.911835</td>\n",
       "      <td>0.000115</td>\n",
       "      <td>2</td>\n",
       "    </tr>\n",
       "    <tr>\n",
       "      <th>1</th>\n",
       "      <td>76.275493</td>\n",
       "      <td>0.316831</td>\n",
       "      <td>0.054079</td>\n",
       "      <td>0.004847</td>\n",
       "      <td>False</td>\n",
       "      <td>0.000001</td>\n",
       "      <td>saga</td>\n",
       "      <td>none</td>\n",
       "      <td>0.6</td>\n",
       "      <td>True</td>\n",
       "      <td>100</td>\n",
       "      <td>{'logisticregression__warm_start': False, 'log...</td>\n",
       "      <td>0.911689</td>\n",
       "      <td>0.911908</td>\n",
       "      <td>0.911349</td>\n",
       "      <td>0.911648</td>\n",
       "      <td>0.000230</td>\n",
       "      <td>3</td>\n",
       "    </tr>\n",
       "    <tr>\n",
       "      <th>0</th>\n",
       "      <td>36.814502</td>\n",
       "      <td>4.362046</td>\n",
       "      <td>0.060860</td>\n",
       "      <td>0.000056</td>\n",
       "      <td>False</td>\n",
       "      <td>0.001</td>\n",
       "      <td>saga</td>\n",
       "      <td>none</td>\n",
       "      <td>1.0</td>\n",
       "      <td>False</td>\n",
       "      <td>10</td>\n",
       "      <td>{'logisticregression__warm_start': False, 'log...</td>\n",
       "      <td>0.911633</td>\n",
       "      <td>0.911852</td>\n",
       "      <td>0.911349</td>\n",
       "      <td>0.911611</td>\n",
       "      <td>0.000206</td>\n",
       "      <td>4</td>\n",
       "    </tr>\n",
       "    <tr>\n",
       "      <th>2</th>\n",
       "      <td>52.326456</td>\n",
       "      <td>7.244754</td>\n",
       "      <td>0.045311</td>\n",
       "      <td>0.003908</td>\n",
       "      <td>False</td>\n",
       "      <td>0.001</td>\n",
       "      <td>saga</td>\n",
       "      <td>elasticnet</td>\n",
       "      <td>1.0</td>\n",
       "      <td>False</td>\n",
       "      <td>100</td>\n",
       "      <td>{'logisticregression__warm_start': False, 'log...</td>\n",
       "      <td>0.911633</td>\n",
       "      <td>0.911852</td>\n",
       "      <td>0.911349</td>\n",
       "      <td>0.911611</td>\n",
       "      <td>0.000206</td>\n",
       "      <td>4</td>\n",
       "    </tr>\n",
       "    <tr>\n",
       "      <th>3</th>\n",
       "      <td>123.713347</td>\n",
       "      <td>1.473037</td>\n",
       "      <td>0.050756</td>\n",
       "      <td>0.000049</td>\n",
       "      <td>True</td>\n",
       "      <td>0.0001</td>\n",
       "      <td>saga</td>\n",
       "      <td>elasticnet</td>\n",
       "      <td>0.7</td>\n",
       "      <td>False</td>\n",
       "      <td>10000</td>\n",
       "      <td>{'logisticregression__warm_start': True, 'logi...</td>\n",
       "      <td>0.911577</td>\n",
       "      <td>0.911852</td>\n",
       "      <td>0.911349</td>\n",
       "      <td>0.911593</td>\n",
       "      <td>0.000206</td>\n",
       "      <td>6</td>\n",
       "    </tr>\n",
       "    <tr>\n",
       "      <th>4</th>\n",
       "      <td>78.936034</td>\n",
       "      <td>0.928515</td>\n",
       "      <td>0.051346</td>\n",
       "      <td>0.000983</td>\n",
       "      <td>True</td>\n",
       "      <td>0.00001</td>\n",
       "      <td>saga</td>\n",
       "      <td>none</td>\n",
       "      <td>0.0</td>\n",
       "      <td>False</td>\n",
       "      <td>0.01</td>\n",
       "      <td>{'logisticregression__warm_start': True, 'logi...</td>\n",
       "      <td>0.911577</td>\n",
       "      <td>0.911852</td>\n",
       "      <td>0.911349</td>\n",
       "      <td>0.911593</td>\n",
       "      <td>0.000206</td>\n",
       "      <td>6</td>\n",
       "    </tr>\n",
       "    <tr>\n",
       "      <th>5</th>\n",
       "      <td>79.544176</td>\n",
       "      <td>0.579456</td>\n",
       "      <td>0.050737</td>\n",
       "      <td>0.000071</td>\n",
       "      <td>True</td>\n",
       "      <td>0.0001</td>\n",
       "      <td>saga</td>\n",
       "      <td>none</td>\n",
       "      <td>1.0</td>\n",
       "      <td>False</td>\n",
       "      <td>1</td>\n",
       "      <td>{'logisticregression__warm_start': True, 'logi...</td>\n",
       "      <td>0.911577</td>\n",
       "      <td>0.911852</td>\n",
       "      <td>0.911349</td>\n",
       "      <td>0.911593</td>\n",
       "      <td>0.000206</td>\n",
       "      <td>6</td>\n",
       "    </tr>\n",
       "    <tr>\n",
       "      <th>6</th>\n",
       "      <td>79.831003</td>\n",
       "      <td>1.437049</td>\n",
       "      <td>0.073884</td>\n",
       "      <td>0.027130</td>\n",
       "      <td>True</td>\n",
       "      <td>0.0001</td>\n",
       "      <td>saga</td>\n",
       "      <td>none</td>\n",
       "      <td>0.6</td>\n",
       "      <td>False</td>\n",
       "      <td>1000</td>\n",
       "      <td>{'logisticregression__warm_start': True, 'logi...</td>\n",
       "      <td>0.911577</td>\n",
       "      <td>0.911852</td>\n",
       "      <td>0.911349</td>\n",
       "      <td>0.911593</td>\n",
       "      <td>0.000206</td>\n",
       "      <td>6</td>\n",
       "    </tr>\n",
       "    <tr>\n",
       "      <th>9</th>\n",
       "      <td>68.721903</td>\n",
       "      <td>0.868092</td>\n",
       "      <td>0.040193</td>\n",
       "      <td>0.007143</td>\n",
       "      <td>True</td>\n",
       "      <td>0.0001</td>\n",
       "      <td>saga</td>\n",
       "      <td>none</td>\n",
       "      <td>0.8</td>\n",
       "      <td>False</td>\n",
       "      <td>10</td>\n",
       "      <td>{'logisticregression__warm_start': True, 'logi...</td>\n",
       "      <td>0.911577</td>\n",
       "      <td>0.911852</td>\n",
       "      <td>0.911349</td>\n",
       "      <td>0.911593</td>\n",
       "      <td>0.000206</td>\n",
       "      <td>6</td>\n",
       "    </tr>\n",
       "  </tbody>\n",
       "</table>\n",
       "</div>"
      ],
      "text/plain": [
       "   mean_fit_time  std_fit_time  mean_score_time  std_score_time  \\\n",
       "7       4.559882      0.282111         0.050712        0.000042   \n",
       "8      12.114837      1.543198         0.060111        0.008308   \n",
       "1      76.275493      0.316831         0.054079        0.004847   \n",
       "0      36.814502      4.362046         0.060860        0.000056   \n",
       "2      52.326456      7.244754         0.045311        0.003908   \n",
       "3     123.713347      1.473037         0.050756        0.000049   \n",
       "4      78.936034      0.928515         0.051346        0.000983   \n",
       "5      79.544176      0.579456         0.050737        0.000071   \n",
       "6      79.831003      1.437049         0.073884        0.027130   \n",
       "9      68.721903      0.868092         0.040193        0.007143   \n",
       "\n",
       "  param_logisticregression__warm_start param_logisticregression__tol  \\\n",
       "7                                False                      0.000001   \n",
       "8                                 True                         0.001   \n",
       "1                                False                      0.000001   \n",
       "0                                False                         0.001   \n",
       "2                                False                         0.001   \n",
       "3                                 True                        0.0001   \n",
       "4                                 True                       0.00001   \n",
       "5                                 True                        0.0001   \n",
       "6                                 True                        0.0001   \n",
       "9                                 True                        0.0001   \n",
       "\n",
       "  param_logisticregression__solver param_logisticregression__penalty  \\\n",
       "7                             saga                        elasticnet   \n",
       "8                             saga                        elasticnet   \n",
       "1                             saga                              none   \n",
       "0                             saga                              none   \n",
       "2                             saga                        elasticnet   \n",
       "3                             saga                        elasticnet   \n",
       "4                             saga                              none   \n",
       "5                             saga                              none   \n",
       "6                             saga                              none   \n",
       "9                             saga                              none   \n",
       "\n",
       "  param_logisticregression__l1_ratio param_logisticregression__fit_intercept  \\\n",
       "7                                0.3                                    True   \n",
       "8                                0.1                                   False   \n",
       "1                                0.6                                    True   \n",
       "0                                1.0                                   False   \n",
       "2                                1.0                                   False   \n",
       "3                                0.7                                   False   \n",
       "4                                0.0                                   False   \n",
       "5                                1.0                                   False   \n",
       "6                                0.6                                   False   \n",
       "9                                0.8                                   False   \n",
       "\n",
       "  param_logisticregression__C  \\\n",
       "7                       0.001   \n",
       "8                           1   \n",
       "1                         100   \n",
       "0                          10   \n",
       "2                         100   \n",
       "3                       10000   \n",
       "4                        0.01   \n",
       "5                           1   \n",
       "6                        1000   \n",
       "9                          10   \n",
       "\n",
       "                                              params  split0_test_score  \\\n",
       "7  {'logisticregression__warm_start': False, 'log...           0.911969   \n",
       "8  {'logisticregression__warm_start': True, 'logi...           0.911857   \n",
       "1  {'logisticregression__warm_start': False, 'log...           0.911689   \n",
       "0  {'logisticregression__warm_start': False, 'log...           0.911633   \n",
       "2  {'logisticregression__warm_start': False, 'log...           0.911633   \n",
       "3  {'logisticregression__warm_start': True, 'logi...           0.911577   \n",
       "4  {'logisticregression__warm_start': True, 'logi...           0.911577   \n",
       "5  {'logisticregression__warm_start': True, 'logi...           0.911577   \n",
       "6  {'logisticregression__warm_start': True, 'logi...           0.911577   \n",
       "9  {'logisticregression__warm_start': True, 'logi...           0.911577   \n",
       "\n",
       "   split1_test_score  split2_test_score  mean_test_score  std_test_score  \\\n",
       "7           0.912020           0.912020         0.912003        0.000024   \n",
       "8           0.911964           0.911684         0.911835        0.000115   \n",
       "1           0.911908           0.911349         0.911648        0.000230   \n",
       "0           0.911852           0.911349         0.911611        0.000206   \n",
       "2           0.911852           0.911349         0.911611        0.000206   \n",
       "3           0.911852           0.911349         0.911593        0.000206   \n",
       "4           0.911852           0.911349         0.911593        0.000206   \n",
       "5           0.911852           0.911349         0.911593        0.000206   \n",
       "6           0.911852           0.911349         0.911593        0.000206   \n",
       "9           0.911852           0.911349         0.911593        0.000206   \n",
       "\n",
       "   rank_test_score  \n",
       "7                1  \n",
       "8                2  \n",
       "1                3  \n",
       "0                4  \n",
       "2                4  \n",
       "3                6  \n",
       "4                6  \n",
       "5                6  \n",
       "6                6  \n",
       "9                6  "
      ]
     },
     "execution_count": 15,
     "metadata": {},
     "output_type": "execute_result"
    }
   ],
   "source": [
    "rs_cv_results = pd.DataFrame(random_search.cv_results_)\n",
    "rs_cv_results.sort_values(by='mean_test_score', ascending=False)"
   ]
  },
  {
   "cell_type": "code",
   "execution_count": 16,
   "id": "191089f3",
   "metadata": {},
   "outputs": [
    {
     "data": {
      "text/plain": [
       "{'logisticregression__warm_start': False,\n",
       " 'logisticregression__tol': 1e-06,\n",
       " 'logisticregression__solver': 'saga',\n",
       " 'logisticregression__penalty': 'elasticnet',\n",
       " 'logisticregression__l1_ratio': 0.30000000000000004,\n",
       " 'logisticregression__fit_intercept': True,\n",
       " 'logisticregression__C': 0.001}"
      ]
     },
     "execution_count": 16,
     "metadata": {},
     "output_type": "execute_result"
    }
   ],
   "source": [
    "random_search.best_params_"
   ]
  },
  {
   "cell_type": "code",
   "execution_count": 17,
   "id": "85e38c50",
   "metadata": {},
   "outputs": [],
   "source": [
    "clf_opt = random_search.best_estimator_"
   ]
  },
  {
   "cell_type": "code",
   "execution_count": 18,
   "id": "6b5ce3ac",
   "metadata": {},
   "outputs": [
    {
     "data": {
      "text/plain": [
       "0.9120246085011185"
      ]
     },
     "execution_count": 18,
     "metadata": {},
     "output_type": "execute_result"
    }
   ],
   "source": [
    "random_search.best_estimator_.score(X_test, y_test)"
   ]
  },
  {
   "cell_type": "markdown",
   "id": "97d34e4a",
   "metadata": {},
   "source": [
    "However, the search did not result in a model with a significantly improved accuracy."
   ]
  },
  {
   "cell_type": "code",
   "execution_count": 19,
   "id": "e8c54e7d",
   "metadata": {},
   "outputs": [
    {
     "name": "stdout",
     "output_type": "stream",
     "text": [
      "              precision    recall  f1-score   support\n",
      "\n",
      "           0       0.91      1.00      0.95     16307\n",
      "           1       0.00      0.00      0.00      1573\n",
      "\n",
      "    accuracy                           0.91     17880\n",
      "   macro avg       0.46      0.50      0.48     17880\n",
      "weighted avg       0.83      0.91      0.87     17880\n",
      "\n"
     ]
    },
    {
     "name": "stderr",
     "output_type": "stream",
     "text": [
      "C:\\Users\\fabio\\anaconda3\\lib\\site-packages\\sklearn\\metrics\\_classification.py:1308: UndefinedMetricWarning: Precision and F-score are ill-defined and being set to 0.0 in labels with no predicted samples. Use `zero_division` parameter to control this behavior.\n",
      "  _warn_prf(average, modifier, msg_start, len(result))\n",
      "C:\\Users\\fabio\\anaconda3\\lib\\site-packages\\sklearn\\metrics\\_classification.py:1308: UndefinedMetricWarning: Precision and F-score are ill-defined and being set to 0.0 in labels with no predicted samples. Use `zero_division` parameter to control this behavior.\n",
      "  _warn_prf(average, modifier, msg_start, len(result))\n",
      "C:\\Users\\fabio\\anaconda3\\lib\\site-packages\\sklearn\\metrics\\_classification.py:1308: UndefinedMetricWarning: Precision and F-score are ill-defined and being set to 0.0 in labels with no predicted samples. Use `zero_division` parameter to control this behavior.\n",
      "  _warn_prf(average, modifier, msg_start, len(result))\n"
     ]
    }
   ],
   "source": [
    "# Predict labels\n",
    "y_pred = clf_opt.predict(X_test)\n",
    "\n",
    "# Print metrics\n",
    "print(classification_report(y_test, y_pred))"
   ]
  },
  {
   "cell_type": "code",
   "execution_count": 20,
   "id": "12c6d2c4",
   "metadata": {},
   "outputs": [
    {
     "data": {
      "text/plain": [
       "<sklearn.metrics._plot.confusion_matrix.ConfusionMatrixDisplay at 0x268a10885e0>"
      ]
     },
     "execution_count": 20,
     "metadata": {},
     "output_type": "execute_result"
    },
    {
     "data": {
      "image/png": "[encoded data removed]",
      "text/plain": [
       "<Figure size 432x288 with 2 Axes>"
      ]
     },
     "metadata": {
      "needs_background": "light"
     },
     "output_type": "display_data"
    }
   ],
   "source": [
    "ConfusionMatrixDisplay.from_predictions(y_test, y_pred, cmap='Blues')"
   ]
  },
  {
   "cell_type": "markdown",
   "id": "e3fffdca",
   "metadata": {},
   "source": [
    "In fact, we found a model which is always predicting 0!"
   ]
  },
  {
   "cell_type": "markdown",
   "id": "5ae5c6fd",
   "metadata": {},
   "source": [
    "### 3.1.4. Weighted Logistic Regression to improve ROC-AUC\n",
    "[Back to top](#top)"
   ]
  },
  {
   "cell_type": "markdown",
   "id": "9673eff8",
   "metadata": {},
   "source": [
    "In the following section we want to develop a class-weighted logistic regression model to handle the substantial data imbalance better. As accuracy is not a suitable metric (see initial model evaluation), we optimize it in respect to the ROC-AUC metric which describes the area under the receiver operating characteristic (ROC) curve. The ROC curve illustrates the performance of a classifier in terms of true positive rate (recall) and false positive rate as its dicrimination threshold is varied."
   ]
  },
  {
   "cell_type": "markdown",
   "id": "18f547c8",
   "metadata": {},
   "source": [
    "#### Starting point"
   ]
  },
  {
   "cell_type": "markdown",
   "id": "ec714990",
   "metadata": {},
   "source": [
    "- Calculate ROC-AUC and plot ROC curve of our basic logistic regression model"
   ]
  },
  {
   "cell_type": "code",
   "execution_count": 94,
   "id": "33ca94ee",
   "metadata": {},
   "outputs": [
    {
     "data": {
      "text/plain": [
       "0.6507265570411904"
      ]
     },
     "execution_count": 94,
     "metadata": {},
     "output_type": "execute_result"
    }
   ],
   "source": [
    "# calculate prediction probabilities\n",
    "y_prob = clf.predict_proba(X_test)\n",
    "\n",
    "# calculate roc-auc\n",
    "roc_auc_score(y_test, y_prob[:,1])"
   ]
  },
  {
   "cell_type": "code",
   "execution_count": 95,
   "id": "5555a631",
   "metadata": {},
   "outputs": [
    {
     "data": {
      "text/plain": [
       "<sklearn.metrics._plot.roc_curve.RocCurveDisplay at 0x268a173afd0>"
      ]
     },
     "execution_count": 95,
     "metadata": {},
     "output_type": "execute_result"
    },
    {
     "data": {
      "image/png": "[encoded data removed]",
      "text/plain": [
       "<Figure size 432x288 with 1 Axes>"
      ]
     },
     "metadata": {
      "needs_background": "light"
     },
     "output_type": "display_data"
    }
   ],
   "source": [
    "# plot roc curve\n",
    "RocCurveDisplay.from_estimator(clf, X_test, y_test)"
   ]
  },
  {
   "cell_type": "markdown",
   "id": "08f9d6b1",
   "metadata": {},
   "source": [
    "We perform a Weighted Logistic Regression with 'balanced' option. It uses the following formula to calculate the class weights: ``n_samples / (n_classes * np.bincount(y))``, hence it uses the following weights in our case: "
   ]
  },
  {
   "cell_type": "code",
   "execution_count": 55,
   "id": "cb84a3b8",
   "metadata": {},
   "outputs": [
    {
     "name": "stdout",
     "output_type": "stream",
     "text": [
      "Class weights in \"balanced\" mode: [0.548244   5.68199153]\n"
     ]
    }
   ],
   "source": [
    "print(f'Class weights in \"balanced\" mode: {y_train.shape[0] / (y_train.nunique() * np.bincount(y_train))}')"
   ]
  },
  {
   "cell_type": "markdown",
   "id": "b78bd47f",
   "metadata": {},
   "source": [
    "This means that the instances of the minority class are weighted around ten times more within the model than the instances of the majority class. This reflects the fact that the majority class has about 10 times more instances than the minority class in the dataset."
   ]
  },
  {
   "cell_type": "code",
   "execution_count": 46,
   "id": "ec662fd2",
   "metadata": {},
   "outputs": [],
   "source": [
    "# define model\n",
    "clf_balanced = make_pipeline(MinMaxScaler(), LogisticRegression(max_iter=1000, random_state=42, class_weight='balanced'))"
   ]
  },
  {
   "cell_type": "code",
   "execution_count": 47,
   "id": "1c4b2efc",
   "metadata": {},
   "outputs": [
    {
     "name": "stdout",
     "output_type": "stream",
     "text": [
      "Wall time: 13.6 s\n"
     ]
    },
    {
     "data": {
      "text/plain": [
       "Pipeline(steps=[('minmaxscaler', MinMaxScaler()),\n",
       "                ('logisticregression',\n",
       "                 LogisticRegression(class_weight='balanced', max_iter=1000,\n",
       "                                    random_state=42))])"
      ]
     },
     "execution_count": 47,
     "metadata": {},
     "output_type": "execute_result"
    }
   ],
   "source": [
    "# fit model\n",
    "%time clf_balanced.fit(X_train, y_train)"
   ]
  },
  {
   "cell_type": "code",
   "execution_count": 97,
   "id": "7621d599",
   "metadata": {},
   "outputs": [
    {
     "data": {
      "text/plain": [
       "0.6514416973338686"
      ]
     },
     "execution_count": 97,
     "metadata": {},
     "output_type": "execute_result"
    }
   ],
   "source": [
    "# calculate probability estimates\n",
    "y_prob = clf_balanced.predict_proba(X_test)\n",
    "\n",
    "# calculate roc-auc\n",
    "roc_auc_score(y_test, y_prob[:,1])"
   ]
  },
  {
   "cell_type": "code",
   "execution_count": 48,
   "id": "4f397bf4",
   "metadata": {},
   "outputs": [
    {
     "data": {
      "text/plain": [
       "<sklearn.metrics._plot.roc_curve.RocCurveDisplay at 0x268a15df550>"
      ]
     },
     "execution_count": 48,
     "metadata": {},
     "output_type": "execute_result"
    },
    {
     "data": {
      "image/png": "[encoded data removed]",
      "text/plain": [
       "<Figure size 432x288 with 1 Axes>"
      ]
     },
     "metadata": {
      "needs_background": "light"
     },
     "output_type": "display_data"
    }
   ],
   "source": [
    "# plot roc curve\n",
    "RocCurveDisplay.from_estimator(clf_balanced, X_test, y_test)"
   ]
  },
  {
   "cell_type": "markdown",
   "id": "01d2e710",
   "metadata": {},
   "source": [
    "We see a small improvement in the ROC-AUC metric using the inverse ratio of the training data (the 'balanced' mode). However, this is a heuristic which does not necessarily yield the best results out of all class weight combinations (https://machinelearningmastery.com/cost-sensitive-logistic-regression/). We conduct a grid search which brute forces different weights in order to confirm our assumption that the 'balanced' weighting yields the best results or to further improve our ROC-AUC metric."
   ]
  },
  {
   "cell_type": "code",
   "execution_count": 98,
   "id": "f43f304d",
   "metadata": {},
   "outputs": [],
   "source": [
    "weight_grid = {'logisticregression__class_weight': [{0: 1, 1: 1}, \n",
    "                                                    {0: 1, 1: 10}, \n",
    "                                                    {0: 1, 1: 100},\n",
    "                                                    {0: 1, 1: 1000},\n",
    "                                                    'balanced']}"
   ]
  },
  {
   "cell_type": "code",
   "execution_count": 99,
   "id": "fa953f92",
   "metadata": {},
   "outputs": [],
   "source": [
    "weight_search = GridSearchCV(clf, param_grid=weight_grid, scoring='roc_auc', cv=3, n_jobs=-1, verbose=1)"
   ]
  },
  {
   "cell_type": "code",
   "execution_count": 86,
   "id": "ea3a55de",
   "metadata": {},
   "outputs": [
    {
     "name": "stdout",
     "output_type": "stream",
     "text": [
      "Fitting 3 folds for each of 6 candidates, totalling 18 fits\n",
      "Wall time: 2min 24s\n"
     ]
    },
    {
     "data": {
      "text/plain": [
       "GridSearchCV(cv=3,\n",
       "             estimator=Pipeline(steps=[('minmaxscaler', MinMaxScaler()),\n",
       "                                       ('logisticregression',\n",
       "                                        LogisticRegression(max_iter=1000,\n",
       "                                                           random_state=42))]),\n",
       "             n_jobs=-1,\n",
       "             param_grid={'logisticregression__class_weight': [{0: 1, 1: 0.1},\n",
       "                                                              {0: 1, 1: 1},\n",
       "                                                              {0: 1, 1: 10},\n",
       "                                                              {0: 1, 1: 100},\n",
       "                                                              {0: 1, 1: 1000},\n",
       "                                                              'balanced']},\n",
       "             scoring='roc_auc', verbose=1)"
      ]
     },
     "execution_count": 86,
     "metadata": {},
     "output_type": "execute_result"
    }
   ],
   "source": [
    "%time weight_search.fit(X_train, y_train)"
   ]
  },
  {
   "cell_type": "code",
   "execution_count": 87,
   "id": "ce041045",
   "metadata": {
    "scrolled": true
   },
   "outputs": [
    {
     "data": {
      "text/html": [
       "<div>\n",
       "<style scoped>\n",
       "    .dataframe tbody tr th:only-of-type {\n",
       "        vertical-align: middle;\n",
       "    }\n",
       "\n",
       "    .dataframe tbody tr th {\n",
       "        vertical-align: top;\n",
       "    }\n",
       "\n",
       "    .dataframe thead th {\n",
       "        text-align: right;\n",
       "    }\n",
       "</style>\n",
       "<table border=\"1\" class=\"dataframe\">\n",
       "  <thead>\n",
       "    <tr style=\"text-align: right;\">\n",
       "      <th></th>\n",
       "      <th>param_logisticregression__class_weight</th>\n",
       "      <th>mean_test_score</th>\n",
       "    </tr>\n",
       "  </thead>\n",
       "  <tbody>\n",
       "    <tr>\n",
       "      <th>5</th>\n",
       "      <td>balanced</td>\n",
       "      <td>0.645640</td>\n",
       "    </tr>\n",
       "    <tr>\n",
       "      <th>2</th>\n",
       "      <td>{0: 1, 1: 10}</td>\n",
       "      <td>0.645496</td>\n",
       "    </tr>\n",
       "    <tr>\n",
       "      <th>1</th>\n",
       "      <td>{0: 1, 1: 1}</td>\n",
       "      <td>0.644422</td>\n",
       "    </tr>\n",
       "    <tr>\n",
       "      <th>3</th>\n",
       "      <td>{0: 1, 1: 100}</td>\n",
       "      <td>0.644043</td>\n",
       "    </tr>\n",
       "    <tr>\n",
       "      <th>4</th>\n",
       "      <td>{0: 1, 1: 1000}</td>\n",
       "      <td>0.643280</td>\n",
       "    </tr>\n",
       "    <tr>\n",
       "      <th>0</th>\n",
       "      <td>{0: 1, 1: 0.1}</td>\n",
       "      <td>0.641992</td>\n",
       "    </tr>\n",
       "  </tbody>\n",
       "</table>\n",
       "</div>"
      ],
      "text/plain": [
       "  param_logisticregression__class_weight  mean_test_score\n",
       "5                               balanced         0.645640\n",
       "2                          {0: 1, 1: 10}         0.645496\n",
       "1                           {0: 1, 1: 1}         0.644422\n",
       "3                         {0: 1, 1: 100}         0.644043\n",
       "4                        {0: 1, 1: 1000}         0.643280\n",
       "0                         {0: 1, 1: 0.1}         0.641992"
      ]
     },
     "execution_count": 87,
     "metadata": {},
     "output_type": "execute_result"
    }
   ],
   "source": [
    "ws_cv_results = pd.DataFrame(weight_search.cv_results_)\n",
    "\n",
    "ws_cv_results.loc[:, ['param_logisticregression__class_weight', 'mean_test_score']].sort_values(by='mean_test_score', ascending=False)"
   ]
  },
  {
   "cell_type": "markdown",
   "id": "41cd8fe2",
   "metadata": {},
   "source": [
    "As expected, the best cross-validated ROC-AUC are obtained by the balancing heuristic and the 1:10 weighting which is really close. It is not better to weight the minority class even more."
   ]
  },
  {
   "cell_type": "markdown",
   "id": "da73ac38",
   "metadata": {},
   "source": [
    "#### Threshold moving"
   ]
  },
  {
   "cell_type": "markdown",
   "id": "86af2aee",
   "metadata": {},
   "source": [
    "The ROC-AUC metric provides a measure of performance across all possible discrimination thresholds. To have the best possible model we have to choose the threshold which suits the purpose of the model. A common way to choose the threshold is to maximize the geometric mean between the two dimensions of the ROC curve, true positive rate and false positive rate."
   ]
  },
  {
   "cell_type": "code",
   "execution_count": 111,
   "id": "f14994b6",
   "metadata": {},
   "outputs": [],
   "source": [
    "# predict probabilities\n",
    "y_prob = clf_balanced.predict_proba(X_test)\n",
    "\n",
    "# probabilities for the positive outcome only\n",
    "y_prob_1 = y_prob[:, 1]\n",
    "\n",
    "# calculate roc curve\n",
    "fpr, tpr, thresholds = roc_curve(y_test, y_prob_1)\n",
    "\n",
    "# calculate g-mean for every threshold\n",
    "gmeans = np.sqrt(tpr * (1-fpr))"
   ]
  },
  {
   "cell_type": "code",
   "execution_count": 110,
   "id": "ee3517a1",
   "metadata": {},
   "outputs": [
    {
     "data": {
      "text/html": [
       "<div>\n",
       "<style scoped>\n",
       "    .dataframe tbody tr th:only-of-type {\n",
       "        vertical-align: middle;\n",
       "    }\n",
       "\n",
       "    .dataframe tbody tr th {\n",
       "        vertical-align: top;\n",
       "    }\n",
       "\n",
       "    .dataframe thead th {\n",
       "        text-align: right;\n",
       "    }\n",
       "</style>\n",
       "<table border=\"1\" class=\"dataframe\">\n",
       "  <thead>\n",
       "    <tr style=\"text-align: right;\">\n",
       "      <th></th>\n",
       "      <th>Threshold</th>\n",
       "      <th>FPR</th>\n",
       "      <th>TPR</th>\n",
       "      <th>GMean</th>\n",
       "    </tr>\n",
       "  </thead>\n",
       "  <tbody>\n",
       "    <tr>\n",
       "      <th>1617</th>\n",
       "      <td>0.484779</td>\n",
       "      <td>0.374686</td>\n",
       "      <td>0.593134</td>\n",
       "      <td>0.609012</td>\n",
       "    </tr>\n",
       "    <tr>\n",
       "      <th>1613</th>\n",
       "      <td>0.485987</td>\n",
       "      <td>0.371374</td>\n",
       "      <td>0.589955</td>\n",
       "      <td>0.608984</td>\n",
       "    </tr>\n",
       "    <tr>\n",
       "      <th>1611</th>\n",
       "      <td>0.486138</td>\n",
       "      <td>0.370884</td>\n",
       "      <td>0.589320</td>\n",
       "      <td>0.608893</td>\n",
       "    </tr>\n",
       "    <tr>\n",
       "      <th>1635</th>\n",
       "      <td>0.482311</td>\n",
       "      <td>0.381615</td>\n",
       "      <td>0.599491</td>\n",
       "      <td>0.608865</td>\n",
       "    </tr>\n",
       "    <tr>\n",
       "      <th>1621</th>\n",
       "      <td>0.484019</td>\n",
       "      <td>0.376648</td>\n",
       "      <td>0.594406</td>\n",
       "      <td>0.608707</td>\n",
       "    </tr>\n",
       "    <tr>\n",
       "      <th>...</th>\n",
       "      <td>...</td>\n",
       "      <td>...</td>\n",
       "      <td>...</td>\n",
       "      <td>...</td>\n",
       "    </tr>\n",
       "    <tr>\n",
       "      <th>4</th>\n",
       "      <td>0.964480</td>\n",
       "      <td>0.000123</td>\n",
       "      <td>0.001907</td>\n",
       "      <td>0.043669</td>\n",
       "    </tr>\n",
       "    <tr>\n",
       "      <th>1</th>\n",
       "      <td>0.984316</td>\n",
       "      <td>0.000000</td>\n",
       "      <td>0.000636</td>\n",
       "      <td>0.025214</td>\n",
       "    </tr>\n",
       "    <tr>\n",
       "      <th>2</th>\n",
       "      <td>0.974490</td>\n",
       "      <td>0.000061</td>\n",
       "      <td>0.000636</td>\n",
       "      <td>0.025213</td>\n",
       "    </tr>\n",
       "    <tr>\n",
       "      <th>0</th>\n",
       "      <td>1.984316</td>\n",
       "      <td>0.000000</td>\n",
       "      <td>0.000000</td>\n",
       "      <td>0.000000</td>\n",
       "    </tr>\n",
       "    <tr>\n",
       "      <th>2814</th>\n",
       "      <td>0.000977</td>\n",
       "      <td>1.000000</td>\n",
       "      <td>1.000000</td>\n",
       "      <td>0.000000</td>\n",
       "    </tr>\n",
       "  </tbody>\n",
       "</table>\n",
       "<p>2815 rows × 4 columns</p>\n",
       "</div>"
      ],
      "text/plain": [
       "      Threshold       FPR       TPR     GMean\n",
       "1617   0.484779  0.374686  0.593134  0.609012\n",
       "1613   0.485987  0.371374  0.589955  0.608984\n",
       "1611   0.486138  0.370884  0.589320  0.608893\n",
       "1635   0.482311  0.381615  0.599491  0.608865\n",
       "1621   0.484019  0.376648  0.594406  0.608707\n",
       "...         ...       ...       ...       ...\n",
       "4      0.964480  0.000123  0.001907  0.043669\n",
       "1      0.984316  0.000000  0.000636  0.025214\n",
       "2      0.974490  0.000061  0.000636  0.025213\n",
       "0      1.984316  0.000000  0.000000  0.000000\n",
       "2814   0.000977  1.000000  1.000000  0.000000\n",
       "\n",
       "[2815 rows x 4 columns]"
      ]
     },
     "execution_count": 110,
     "metadata": {},
     "output_type": "execute_result"
    }
   ],
   "source": [
    "# Save in dataframe and sort by gmean\n",
    "\n",
    "df_thresh = pd.DataFrame({'Threshold': thresholds, 'FPR': fpr, 'TPR': tpr, 'GMean': gmeans})\n",
    "df_thresh.sort_values(by='GMean', ascending=False)"
   ]
  },
  {
   "cell_type": "code",
   "execution_count": 113,
   "id": "415c1e17",
   "metadata": {},
   "outputs": [
    {
     "data": {
      "text/plain": [
       "0.4847793094556708"
      ]
     },
     "execution_count": 113,
     "metadata": {},
     "output_type": "execute_result"
    }
   ],
   "source": [
    "# get the best threshold\n",
    "best_thresh = thresholds[np.argmax(gmeans)]\n",
    "best_thresh"
   ]
  },
  {
   "cell_type": "markdown",
   "id": "de8c215a",
   "metadata": {},
   "source": [
    "- Evaluate the resulting classification"
   ]
  },
  {
   "cell_type": "code",
   "execution_count": 120,
   "id": "bfbd1c79",
   "metadata": {},
   "outputs": [],
   "source": [
    "# calculate probability estimates for class 1\n",
    "y_prob = clf_balanced.predict_proba(X_test)\n",
    "y_prob_1 = y_prob[:,1]\n",
    "\n",
    "#calculate predictions using custom discrimination threshold\n",
    "y_pred = (y_prob_1 >= best_thresh).astype(int)"
   ]
  },
  {
   "cell_type": "code",
   "execution_count": 122,
   "id": "7d1b4f5f",
   "metadata": {},
   "outputs": [
    {
     "data": {
      "text/plain": [
       "<sklearn.metrics._plot.confusion_matrix.ConfusionMatrixDisplay at 0x268a266be80>"
      ]
     },
     "execution_count": 122,
     "metadata": {},
     "output_type": "execute_result"
    },
    {
     "data": {
      "image/png": "[encoded data removed]",
      "text/plain": [
       "<Figure size 432x288 with 2 Axes>"
      ]
     },
     "metadata": {
      "needs_background": "light"
     },
     "output_type": "display_data"
    }
   ],
   "source": [
    "ConfusionMatrixDisplay.from_predictions(y_test, y_pred, cmap='Blues')"
   ]
  },
  {
   "cell_type": "code",
   "execution_count": 124,
   "id": "9f7cd454",
   "metadata": {},
   "outputs": [
    {
     "data": {
      "text/plain": [
       "<sklearn.metrics._plot.confusion_matrix.ConfusionMatrixDisplay at 0x268a27381f0>"
      ]
     },
     "execution_count": 124,
     "metadata": {},
     "output_type": "execute_result"
    },
    {
     "data": {
      "image/png": "[encoded data removed]",
      "text/plain": [
       "<Figure size 432x288 with 2 Axes>"
      ]
     },
     "metadata": {
      "needs_background": "light"
     },
     "output_type": "display_data"
    }
   ],
   "source": [
    "ConfusionMatrixDisplay.from_predictions(y_test, y_pred, normalize='true', cmap='Greens')"
   ]
  },
  {
   "cell_type": "code",
   "execution_count": 121,
   "id": "cb507193",
   "metadata": {
    "scrolled": true
   },
   "outputs": [
    {
     "name": "stdout",
     "output_type": "stream",
     "text": [
      "              precision    recall  f1-score   support\n",
      "\n",
      "           0       0.94      0.63      0.75     16307\n",
      "           1       0.13      0.59      0.22      1573\n",
      "\n",
      "    accuracy                           0.62     17880\n",
      "   macro avg       0.54      0.61      0.48     17880\n",
      "weighted avg       0.87      0.62      0.70     17880\n",
      "\n"
     ]
    }
   ],
   "source": [
    "print(classification_report(y_test, y_pred))"
   ]
  },
  {
   "cell_type": "markdown",
   "id": "35dbdc35",
   "metadata": {},
   "source": [
    "From a minority class perspective we improved our model significantly. While the basic logistic regression misclassified almost every minority class instance, the weighted model is classifying 59% correctly (=recall). This happened at the expense of overall accuracy since many majority class instances are now misclassified as well."
   ]
  },
  {
   "cell_type": "markdown",
   "id": "46c80211",
   "metadata": {},
   "source": [
    "#### c) PR-AUC"
   ]
  },
  {
   "cell_type": "code",
   "execution_count": 23,
   "id": "33cc8586",
   "metadata": {},
   "outputs": [],
   "source": [
    "In the previous section ROC-AUC metric "
   ]
  },
  {
   "cell_type": "code",
   "execution_count": 45,
   "id": "5198f1cb",
   "metadata": {},
   "outputs": [
    {
     "data": {
      "text/plain": [
       "<sklearn.metrics._plot.precision_recall_curve.PrecisionRecallDisplay at 0x268a14667c0>"
      ]
     },
     "execution_count": 45,
     "metadata": {},
     "output_type": "execute_result"
    },
    {
     "data": {
      "image/png": "[encoded data removed]",
      "text/plain": [
       "<Figure size 432x288 with 1 Axes>"
      ]
     },
     "metadata": {
      "needs_background": "light"
     },
     "output_type": "display_data"
    }
   ],
   "source": [
    "PrecisionRecallDisplay.from_estimator(clf, X_test, y_test)"
   ]
  },
  {
   "cell_type": "code",
   "execution_count": null,
   "id": "cabaa2d6",
   "metadata": {},
   "outputs": [],
   "source": []
  },
  {
   "cell_type": "code",
   "execution_count": null,
   "id": "57ad7c6c",
   "metadata": {},
   "outputs": [],
   "source": []
  },
  {
   "cell_type": "code",
   "execution_count": null,
   "id": "3e3e5ea0",
   "metadata": {},
   "outputs": [],
   "source": []
  },
  {
   "cell_type": "code",
   "execution_count": 31,
   "id": "f288e02c",
   "metadata": {},
   "outputs": [
    {
     "ename": "NameError",
     "evalue": "name 'cla' is not defined",
     "output_type": "error",
     "traceback": [
      "\u001b[1;31m---------------------------------------------------------------------------\u001b[0m",
      "\u001b[1;31mNameError\u001b[0m                                 Traceback (most recent call last)",
      "\u001b[1;32m~\\AppData\\Local\\Temp/ipykernel_16152/1033705806.py\u001b[0m in \u001b[0;36m<module>\u001b[1;34m\u001b[0m\n\u001b[1;32m----> 1\u001b[1;33m \u001b[0mcla\u001b[0m\u001b[1;33m\u001b[0m\u001b[1;33m\u001b[0m\u001b[0m\n\u001b[0m",
      "\u001b[1;31mNameError\u001b[0m: name 'cla' is not defined"
     ]
    }
   ],
   "source": [
    "cla"
   ]
  },
  {
   "cell_type": "code",
   "execution_count": null,
   "id": "79b97834",
   "metadata": {},
   "outputs": [],
   "source": [
    "# evaluate model\n",
    "y_pred = weighted_clf.predict(X_test)\n",
    "print(roc_auc_score(y_test, y_pred))\n",
    "print(classification_report(y_test, y_pred))"
   ]
  },
  {
   "cell_type": "code",
   "execution_count": null,
   "id": "44bbaa94",
   "metadata": {},
   "outputs": [],
   "source": [
    "RocCurveDisplay.from_estimator(weighted_clf, X_test, y_test)"
   ]
  },
  {
   "cell_type": "code",
   "execution_count": null,
   "id": "1347d42e",
   "metadata": {},
   "outputs": [],
   "source": []
  },
  {
   "cell_type": "code",
   "execution_count": null,
   "id": "57bb3a1a",
   "metadata": {},
   "outputs": [],
   "source": []
  },
  {
   "cell_type": "markdown",
   "id": "9db88c6d",
   "metadata": {},
   "source": [
    "### 3.1.5. Calibration\n",
    "[Back to top](#top)"
   ]
  },
  {
   "cell_type": "markdown",
   "id": "3ff9b780",
   "metadata": {},
   "source": [
    "The logistic regression model returns well calibrated predictions by default as it directly optimizes the log loss which is defined on probability outputs (https://scikit-learn.org/stable/modules/model_evaluation.html#log-loss)"
   ]
  },
  {
   "cell_type": "code",
   "execution_count": null,
   "id": "97f26105",
   "metadata": {},
   "outputs": [],
   "source": [
    "y_prob = weighted_clf.predict_proba(X_test)"
   ]
  },
  {
   "cell_type": "code",
   "execution_count": null,
   "id": "d70d328a",
   "metadata": {},
   "outputs": [],
   "source": [
    "# scikit-learn 1.0 needed\n",
    "# show calibration curve of current model\n",
    "\n",
    "CalibrationDisplay.from_estimator(weighted_clf, X_test, y_test)"
   ]
  },
  {
   "cell_type": "code",
   "execution_count": null,
   "id": "7d09bd59",
   "metadata": {},
   "outputs": [],
   "source": [
    "# fit and calibrate model on training data\n",
    "calibrated_model = CalibratedClassifierCV(weighted_clf, n_jobs=-1)\n",
    "%time calibrated_model.fit(X_train, y_train)"
   ]
  },
  {
   "cell_type": "code",
   "execution_count": null,
   "id": "27351b7b",
   "metadata": {},
   "outputs": [],
   "source": [
    "# scikit-learn 1.0 needed\n",
    "# show calibration curve of calibrated model\n",
    "\n",
    "CalibrationDisplay.from_estimator(calibrated_model, X_test, y_test)"
   ]
  },
  {
   "cell_type": "code",
   "execution_count": null,
   "id": "5cc94972",
   "metadata": {},
   "outputs": [],
   "source": [
    "print(classification_report(y_test, calibrated_model.predict(X_test)))"
   ]
  },
  {
   "cell_type": "markdown",
   "id": "b9aa2719",
   "metadata": {},
   "source": [
    "### 3.1.6. Threshold Moving\n",
    "[Back to top](#top)"
   ]
  },
  {
   "cell_type": "markdown",
   "id": "b5c31538",
   "metadata": {},
   "source": [
    "https://machinelearningmastery.com/threshold-moving-for-imbalanced-classification/"
   ]
  },
  {
   "cell_type": "markdown",
   "id": "3fd214fb",
   "metadata": {},
   "source": [
    "- Optimal threshold for ROC curve"
   ]
  },
  {
   "cell_type": "code",
   "execution_count": null,
   "id": "26ab8353",
   "metadata": {},
   "outputs": [],
   "source": []
  },
  {
   "cell_type": "markdown",
   "id": "881e4fad",
   "metadata": {},
   "source": [
    "- Optimal threshold for precision-recall curve (focus on minority class): f1 optimization"
   ]
  },
  {
   "cell_type": "code",
   "execution_count": null,
   "id": "0910b084",
   "metadata": {},
   "outputs": [],
   "source": [
    "y_prob = weighted_clf.predict_proba(X_test)[:, 1]\n",
    "PrecisionRecallDisplay.from_predictions(y_test, y_prob)"
   ]
  },
  {
   "cell_type": "code",
   "execution_count": null,
   "id": "71d175c0",
   "metadata": {},
   "outputs": [],
   "source": [
    "# apply threshold to positive probabilities to create labels\n",
    "def to_labels(pos_probs, threshold):\n",
    "    return (pos_probs >= threshold).astype('int')\n",
    "\n",
    "# predict probabilities\n",
    "yhat = clf_lr.predict_proba(X_test)\n",
    "\n",
    "# keep probabilities for the positive outcome only\n",
    "probs = yhat[:, 1]\n",
    "\n",
    "# define thresholds\n",
    "thresholds = np.arange(0, 1, 0.001)\n",
    "\n",
    "# evaluate each threshold\n",
    "scores = [f1_score(y_test, to_labels(probs, t)) for t in thresholds]\n",
    "\n",
    "# get best threshold\n",
    "ix = np.argmax(scores)\n",
    "print('Threshold=%.3f, F-Score=%.5f' % (thresholds[ix], scores[ix]))"
   ]
  },
  {
   "cell_type": "markdown",
   "id": "16f7de9c",
   "metadata": {},
   "source": [
    "### Conclusion LogReg"
   ]
  },
  {
   "cell_type": "markdown",
   "id": "4c7bee2a",
   "metadata": {},
   "source": [
    "Being in a medicine context,..."
   ]
  },
  {
   "cell_type": "code",
   "execution_count": null,
   "id": "a3dcdb8a",
   "metadata": {},
   "outputs": [],
   "source": []
  }
 ],
 "metadata": {
  "kernelspec": {
   "display_name": "Python 3 (ipykernel)",
   "language": "python",
   "name": "python3"
  },
  "language_info": {
   "codemirror_mode": {
    "name": "ipython",
    "version": 3
   },
   "file_extension": ".py",
   "mimetype": "text/x-python",
   "name": "python",
   "nbconvert_exporter": "python",
   "pygments_lexer": "ipython3",
   "version": "3.9.7"
  }
 },
 "nbformat": 4,
 "nbformat_minor": 5
}
