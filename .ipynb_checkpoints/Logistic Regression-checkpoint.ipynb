{
 "cells": [
  {
   "cell_type": "code",
   "execution_count": 1,
   "id": "4f157f43",
   "metadata": {},
   "outputs": [],
   "source": [
    "# Import statements\n",
    "\n",
    "# Data Processing\n",
    "import pandas as pd\n",
    "import numpy as np\n",
    "\n",
    "# Visualization\n",
    "import seaborn as sns\n",
    "\n",
    "# Machine Learning\n",
    "from sklearn.preprocessing import MinMaxScaler\n",
    "from sklearn.dummy import DummyClassifier\n",
    "from sklearn.linear_model import LogisticRegression\n",
    "from sklearn.metrics import ConfusionMatrixDisplay, classification_report, roc_auc_score, roc_curve, PrecisionRecallDisplay, f1_score\n",
    "from sklearn.model_selection import RandomizedSearchCV, GridSearchCV\n",
    "from sklearn.pipeline import make_pipeline"
   ]
  },
  {
   "cell_type": "markdown",
   "id": "95793461",
   "metadata": {},
   "source": [
    "## 3.1. Logistic Regression"
   ]
  },
  {
   "cell_type": "markdown",
   "id": "6529d650",
   "metadata": {},
   "source": [
    "- Import preprocessed features as DataFrames and target variables as Series"
   ]
  },
  {
   "cell_type": "code",
   "execution_count": 2,
   "id": "bf6823eb",
   "metadata": {},
   "outputs": [],
   "source": [
    "# training and test sets with original data distribution\n",
    "\n",
    "X_train = pd.read_csv('data/X_train.csv')\n",
    "y_train = pd.read_csv('data/y_train.csv', squeeze=True)\n",
    "\n",
    "X_test = pd.read_csv('data/X_test.csv')\n",
    "y_test = pd.read_csv('data/y_test.csv', squeeze=True)"
   ]
  },
  {
   "cell_type": "code",
   "execution_count": 3,
   "id": "81989498",
   "metadata": {},
   "outputs": [],
   "source": [
    "# resampled / balanced training sets\n",
    "\n",
    "X_train_rus = pd.read_csv('data/X_train_rus.csv')\n",
    "y_train_rus = pd.read_csv('data/y_train_rus.csv', squeeze=True)\n",
    "\n",
    "X_train_ros = pd.read_csv('data/X_train_ros.csv')\n",
    "y_train_ros = pd.read_csv('data/y_train_ros.csv', squeeze=True)\n",
    "\n",
    "X_train_smote = pd.read_csv('data/X_train_smote.csv')\n",
    "y_train_smote = pd.read_csv('data/y_train_smote.csv', squeeze=True)"
   ]
  },
  {
   "cell_type": "markdown",
   "id": "587856fb",
   "metadata": {},
   "source": [
    "### 3.1.1 Initial Model Building\n",
    "[Back to top](#top)"
   ]
  },
  {
   "cell_type": "markdown",
   "id": "e0008df9",
   "metadata": {},
   "source": [
    "- First logistic regression model: We set the maximal number of iterations to ``max_iter=200`` which allows the solver to converge. Apart from that we use the default hyperparameter values."
   ]
  },
  {
   "cell_type": "code",
   "execution_count": 4,
   "id": "7dc8971b",
   "metadata": {},
   "outputs": [
    {
     "name": "stdout",
     "output_type": "stream",
     "text": [
      "Wall time: 9.59 s\n"
     ]
    },
    {
     "data": {
      "text/plain": [
       "Pipeline(steps=[('minmaxscaler', MinMaxScaler()),\n",
       "                ('logisticregression',\n",
       "                 LogisticRegression(max_iter=500, random_state=42))])"
      ]
     },
     "execution_count": 4,
     "metadata": {},
     "output_type": "execute_result"
    }
   ],
   "source": [
    "# Create pipeline\n",
    "pipe = make_pipeline(MinMaxScaler(), LogisticRegression(max_iter=500, random_state=42))\n",
    "log_reg = pipe['logisticregression']\n",
    "\n",
    "# Scale and fit model on training data\n",
    "%time pipe.fit(X_train, y_train)"
   ]
  },
  {
   "cell_type": "code",
   "execution_count": 5,
   "id": "d4950410",
   "metadata": {},
   "outputs": [],
   "source": [
    "# Predict labels\n",
    "y_pred = pipe.predict(X_test)"
   ]
  },
  {
   "cell_type": "code",
   "execution_count": 6,
   "id": "45ca984e",
   "metadata": {},
   "outputs": [
    {
     "data": {
      "text/plain": [
       "0.9118568232662192"
      ]
     },
     "execution_count": 6,
     "metadata": {},
     "output_type": "execute_result"
    }
   ],
   "source": [
    "pipe.score(X_test, y_test)"
   ]
  },
  {
   "cell_type": "markdown",
   "id": "2501e4f1",
   "metadata": {},
   "source": [
    "Our first impression is a good accuracy of 91%. However, having the data imbalance in mind, we will evaluate the model in detail."
   ]
  },
  {
   "cell_type": "markdown",
   "id": "db0d306f",
   "metadata": {},
   "source": [
    "### 3.1.2. Model Evaluation "
   ]
  },
  {
   "cell_type": "code",
   "execution_count": 7,
   "id": "30905f41",
   "metadata": {},
   "outputs": [
    {
     "name": "stdout",
     "output_type": "stream",
     "text": [
      "Count of 0 in test set: 16307, (91.2025%)\n",
      "Count of 1 in test set: 1573, (8.7975%)\n"
     ]
    },
    {
     "name": "stderr",
     "output_type": "stream",
     "text": [
      "C:\\Users\\fabio\\anaconda3\\lib\\site-packages\\seaborn\\_decorators.py:36: FutureWarning: Pass the following variable as a keyword arg: x. From version 0.12, the only valid positional argument will be `data`, and passing other arguments without an explicit keyword will result in an error or misinterpretation.\n",
      "  warnings.warn(\n"
     ]
    },
    {
     "data": {
      "text/plain": [
       "<AxesSubplot:xlabel='readmitted_within_30_days', ylabel='count'>"
      ]
     },
     "execution_count": 7,
     "metadata": {},
     "output_type": "execute_result"
    },
    {
     "data": {
      "image/png": "[encoded data removed]",
      "text/plain": [
       "<Figure size 432x288 with 1 Axes>"
      ]
     },
     "metadata": {
      "needs_background": "light"
     },
     "output_type": "display_data"
    }
   ],
   "source": [
    "count_0 = (y_test == 0).sum()\n",
    "count_1 = (y_test == 1).sum()\n",
    "\n",
    "print(f'Count of 0 in test set: {count_0}, ({round(count_0 / len(y_test) * 100, 4)}%)')\n",
    "print(f'Count of 1 in test set: {count_1}, ({round(count_1 / len(y_test) * 100, 4)}%)')\n",
    "\n",
    "sns.countplot(y_test)"
   ]
  },
  {
   "cell_type": "markdown",
   "id": "4b4c262c",
   "metadata": {},
   "source": [
    "The '0' class has a share of 91.2% of all target values in the test data. This means a simple estimator which is always predicting 0 will have an accuracy of 91.2% while evaluated on this data set."
   ]
  },
  {
   "cell_type": "code",
   "execution_count": 8,
   "id": "a95e1195",
   "metadata": {},
   "outputs": [
    {
     "data": {
      "text/plain": [
       "0.9120246085011185"
      ]
     },
     "execution_count": 8,
     "metadata": {},
     "output_type": "execute_result"
    }
   ],
   "source": [
    "# Classifier which is always predicting the majority class label\n",
    "\n",
    "simplest_clf = DummyClassifier()\n",
    "simplest_clf.fit(X_train, y_train)\n",
    "simplest_clf.score(X_test, y_test)"
   ]
  },
  {
   "cell_type": "markdown",
   "id": "c51a08d5",
   "metadata": {},
   "source": [
    "Consequently, our trained logistic regression model does not have a satisfying accuracy since it is in fact less accurate than the simplest model imaginable!"
   ]
  },
  {
   "cell_type": "code",
   "execution_count": 9,
   "id": "611e6624",
   "metadata": {},
   "outputs": [
    {
     "data": {
      "text/plain": [
       "<sklearn.metrics._plot.confusion_matrix.ConfusionMatrixDisplay at 0x21e163d0580>"
      ]
     },
     "execution_count": 9,
     "metadata": {},
     "output_type": "execute_result"
    },
    {
     "data": {
      "image/png": "[encoded data removed]",
      "text/plain": [
       "<Figure size 432x288 with 2 Axes>"
      ]
     },
     "metadata": {
      "needs_background": "light"
     },
     "output_type": "display_data"
    }
   ],
   "source": [
    "# scikit-learn 1.0 needed\n",
    "\n",
    "ConfusionMatrixDisplay.from_predictions(y_test, y_pred, cmap='Blues')"
   ]
  },
  {
   "cell_type": "markdown",
   "id": "6ad2550f",
   "metadata": {},
   "source": [
    "In the confusion matrix, the data imbalance becomes obvious. The majority of the instances in the test dataset is classified correctly ($\\rightarrow$ therefore the 'good' accuracy), the large majority in the 'True Negative' section. Out of the 17,880 instances, the classifier predicted only 23 instances as '1', and only 10 of these predictions were correct. As we are interested in a model which identifies patients which will be readmitted to the hospital, this model is as worse as it can get. This becomes even clearer if we normalize the counts display in the confusion matrix over the true conditions:"
   ]
  },
  {
   "cell_type": "code",
   "execution_count": 10,
   "id": "bd8aef16",
   "metadata": {},
   "outputs": [
    {
     "data": {
      "text/plain": [
       "<sklearn.metrics._plot.confusion_matrix.ConfusionMatrixDisplay at 0x21e16bcbd30>"
      ]
     },
     "execution_count": 10,
     "metadata": {},
     "output_type": "execute_result"
    },
    {
     "data": {
      "image/png": "[encoded data removed]",
      "text/plain": [
       "<Figure size 432x288 with 2 Axes>"
      ]
     },
     "metadata": {
      "needs_background": "light"
     },
     "output_type": "display_data"
    }
   ],
   "source": [
    "ConfusionMatrixDisplay.from_predictions(y_test, y_pred, cmap='Greens', normalize='true')"
   ]
  },
  {
   "cell_type": "markdown",
   "id": "623aba3c",
   "metadata": {},
   "source": [
    "While only 0.0008% of all '0' instances are misclassified as '1', 99% of all '1' instances are misclassified as '0'!"
   ]
  },
  {
   "cell_type": "code",
   "execution_count": 11,
   "id": "ebd4a548",
   "metadata": {
    "scrolled": true
   },
   "outputs": [
    {
     "name": "stdout",
     "output_type": "stream",
     "text": [
      "              precision    recall  f1-score   support\n",
      "\n",
      "           0       0.91      1.00      0.95     16307\n",
      "           1       0.43      0.01      0.01      1573\n",
      "\n",
      "    accuracy                           0.91     17880\n",
      "   macro avg       0.67      0.50      0.48     17880\n",
      "weighted avg       0.87      0.91      0.87     17880\n",
      "\n"
     ]
    }
   ],
   "source": [
    "# Print evaluation metrics\n",
    "print(classification_report(y_test, y_pred))"
   ]
  },
  {
   "cell_type": "markdown",
   "id": "0dc558ab",
   "metadata": {},
   "source": [
    "The classification report summarized the already observed difference in performance with respect to the different target classes. We have an overall good accuracy because the classifier performs well in regard to the majority class where it shows perfect recall while also giving a good precision. In regard to the minority class in which we are particularly interested in, the classifier shows an abysmal performance, having the worst possible recall while not even having a good precision."
   ]
  },
  {
   "cell_type": "markdown",
   "id": "0a2feed1",
   "metadata": {},
   "source": [
    "### 3.1.3. Hyperparameter Tuning\n",
    "[Back to top](#top)"
   ]
  },
  {
   "cell_type": "code",
   "execution_count": 12,
   "id": "35253074",
   "metadata": {
    "scrolled": false
   },
   "outputs": [
    {
     "data": {
      "text/plain": [
       "{'C': 1.0,\n",
       " 'class_weight': None,\n",
       " 'dual': False,\n",
       " 'fit_intercept': True,\n",
       " 'intercept_scaling': 1,\n",
       " 'l1_ratio': None,\n",
       " 'max_iter': 500,\n",
       " 'multi_class': 'auto',\n",
       " 'n_jobs': None,\n",
       " 'penalty': 'l2',\n",
       " 'random_state': 42,\n",
       " 'solver': 'lbfgs',\n",
       " 'tol': 0.0001,\n",
       " 'verbose': 0,\n",
       " 'warm_start': False}"
      ]
     },
     "execution_count": 12,
     "metadata": {},
     "output_type": "execute_result"
    }
   ],
   "source": [
    "# Show hyperparameters and their values\n",
    "log_reg.get_params()"
   ]
  },
  {
   "cell_type": "markdown",
   "id": "f3296345",
   "metadata": {},
   "source": [
    "Hyperparameters to be varied:\n",
    "\n",
    "- ``penalty``: By default, a l2 regularization is performed. Alternatively, the logistic regression can be done without any regularization or the penalty term can be changed to l1 norm or an elastic net. We opt for an elastic net which includes l1 and l2 regularization (see ``l1_ratio``).\n",
    "\n",
    "- ``l1_ratio``: The combination of l1 and l2 penalty in the elastic net can be selected by a ratio between 0 and 1. A value of 0 equals l2 regularization while the value of 1 equals l1 regularization.\n",
    "\n",
    "- ``C``: Inverse of regularization strength. A lower value results in a stronger regularization with 1.0 being the default.\n",
    "\n",
    "- ``solver``: The algorithm which solves the optimization problem. We opt for the 'saga' solver, a stochastic average gradient descent implementation which supports elastic net regularization and is recommended for large datasets (https://scikit-learn.org/dev/modules/linear_model.html#logistic-regression).\n",
    "\n",
    "\n",
    "- ``fit_intercept``: Specification if an intercept should be added to the regression function\n",
    "\n",
    "\n",
    "- ``max_iter``: Maximum number of iterations as limit for the solver to converge.\n",
    "\n",
    "- ``tol``: Tolerance of the stopping criteria, by default: 0.0001.\n",
    "\n",
    "- ``warm_start``: When set to True, the solution of the previous call is used to fit as initialization (False by default.\n",
    "\n",
    "- ``class_weight``: Weights associated with the different classes in the target variable. By default, all classes are weighted the same. Apart from manually assigning weights to each class, we can use the 'balanced' option which automatically adjust weights inversely proportional to class frequencies. We will deal with class imbalances later."
   ]
  },
  {
   "cell_type": "markdown",
   "id": "5ae500ec",
   "metadata": {},
   "source": [
    "#### Accuracy"
   ]
  },
  {
   "cell_type": "markdown",
   "id": "34a9dba6",
   "metadata": {},
   "source": [
    "In the following section, we try to optimize the logistic regression model with regard to its accuracy score. As discussed in the previous section, accuracy might not be the best evaluation metric for our problem. However, an improvement of the accuracy could potentially improve the model: Since the recall for class 0 is already almost 100%, a siginificant increase in accuracy can only be obtained if the classification performance for class 1 improves.\n",
    "\n",
    "\n",
    "We start by having a detailed look at the hyperparameters of scikit-learn's implementation in order to decide how to vary the model. We conduct a randomized search on a large parameter grid before finetuning with a grid search on a narrowly defined grid."
   ]
  },
  {
   "cell_type": "markdown",
   "id": "887afc4f",
   "metadata": {},
   "source": [
    "After having a detailed look at the possible hyperparameter values, we create the following parameter grid which will be given to the randomized search algorithm:"
   ]
  },
  {
   "cell_type": "code",
   "execution_count": 13,
   "id": "78bbeee3",
   "metadata": {},
   "outputs": [],
   "source": [
    "param_dist = {'logisticregression__solver': ['saga'],\n",
    "              'logisticregression__penalty': ['elasticnet', 'none'],\n",
    "              'logisticregression__l1_ratio': np.linspace(0, 1, 11), # try different elastic nets\n",
    "              'logisticregression__C': [0.001, 0.01, 0.1, 1, 10, 100, 1000, 10000], # vary regularization strength\n",
    "              'logisticregression__fit_intercept': [False, True], \n",
    "              'logisticregression__tol': [0.000001, 0.00001, 0.0001, 0.001, 0.01], # vary stopping threshold\n",
    "              'logisticregression__warm_start': [False, True],         \n",
    "             }"
   ]
  },
  {
   "cell_type": "markdown",
   "id": "b4dc373d",
   "metadata": {},
   "source": [
    "We conduct a 5-fold cross validated search where 10 randomly selected parameter combinations are tried:"
   ]
  },
  {
   "cell_type": "code",
   "execution_count": 14,
   "id": "1fbd2de3",
   "metadata": {},
   "outputs": [
    {
     "name": "stdout",
     "output_type": "stream",
     "text": [
      "Fitting 3 folds for each of 10 candidates, totalling 30 fits\n",
      "Wall time: 8min 42s\n"
     ]
    },
    {
     "data": {
      "text/plain": [
       "RandomizedSearchCV(cv=3,\n",
       "                   estimator=Pipeline(steps=[('minmaxscaler', MinMaxScaler()),\n",
       "                                             ('logisticregression',\n",
       "                                              LogisticRegression(max_iter=500,\n",
       "                                                                 random_state=42))]),\n",
       "                   n_jobs=-1,\n",
       "                   param_distributions={'logisticregression__C': [0.001, 0.01,\n",
       "                                                                  0.1, 1, 10,\n",
       "                                                                  100, 1000,\n",
       "                                                                  10000],\n",
       "                                        'logisticregression__fit_intercept': [False,\n",
       "                                                                              True],\n",
       "                                        'logisticregression__l1_ratio': array([0. , 0.1, 0.2, 0.3, 0.4, 0.5, 0.6, 0.7, 0.8, 0.9, 1. ]),\n",
       "                                        'logisticregression__penalty': ['elasticnet',\n",
       "                                                                        'none'],\n",
       "                                        'logisticregression__solver': ['saga'],\n",
       "                                        'logisticregression__tol': [1e-06,\n",
       "                                                                    1e-05,\n",
       "                                                                    0.0001,\n",
       "                                                                    0.001,\n",
       "                                                                    0.01],\n",
       "                                        'logisticregression__warm_start': [False,\n",
       "                                                                           True]},\n",
       "                   verbose=1)"
      ]
     },
     "execution_count": 14,
     "metadata": {},
     "output_type": "execute_result"
    }
   ],
   "source": [
    "random_search = RandomizedSearchCV(estimator=pipe, \n",
    "                                   param_distributions = param_dist,\n",
    "                                   n_jobs=-1,\n",
    "                                   cv=3, #reduced to 3-fold to reduce runtime\n",
    "                                   verbose=1)\n",
    "%time random_search.fit(X_train, y_train)"
   ]
  },
  {
   "cell_type": "code",
   "execution_count": 15,
   "id": "59548d8c",
   "metadata": {},
   "outputs": [
    {
     "data": {
      "text/html": [
       "<div>\n",
       "<style scoped>\n",
       "    .dataframe tbody tr th:only-of-type {\n",
       "        vertical-align: middle;\n",
       "    }\n",
       "\n",
       "    .dataframe tbody tr th {\n",
       "        vertical-align: top;\n",
       "    }\n",
       "\n",
       "    .dataframe thead th {\n",
       "        text-align: right;\n",
       "    }\n",
       "</style>\n",
       "<table border=\"1\" class=\"dataframe\">\n",
       "  <thead>\n",
       "    <tr style=\"text-align: right;\">\n",
       "      <th></th>\n",
       "      <th>mean_fit_time</th>\n",
       "      <th>std_fit_time</th>\n",
       "      <th>mean_score_time</th>\n",
       "      <th>std_score_time</th>\n",
       "      <th>param_logisticregression__warm_start</th>\n",
       "      <th>param_logisticregression__tol</th>\n",
       "      <th>param_logisticregression__solver</th>\n",
       "      <th>param_logisticregression__penalty</th>\n",
       "      <th>param_logisticregression__l1_ratio</th>\n",
       "      <th>param_logisticregression__fit_intercept</th>\n",
       "      <th>param_logisticregression__C</th>\n",
       "      <th>params</th>\n",
       "      <th>split0_test_score</th>\n",
       "      <th>split1_test_score</th>\n",
       "      <th>split2_test_score</th>\n",
       "      <th>mean_test_score</th>\n",
       "      <th>std_test_score</th>\n",
       "      <th>rank_test_score</th>\n",
       "    </tr>\n",
       "  </thead>\n",
       "  <tbody>\n",
       "    <tr>\n",
       "      <th>7</th>\n",
       "      <td>8.292997</td>\n",
       "      <td>1.942857</td>\n",
       "      <td>0.052334</td>\n",
       "      <td>0.002626</td>\n",
       "      <td>False</td>\n",
       "      <td>0.00001</td>\n",
       "      <td>saga</td>\n",
       "      <td>elasticnet</td>\n",
       "      <td>1.0</td>\n",
       "      <td>False</td>\n",
       "      <td>0.01</td>\n",
       "      <td>{'logisticregression__warm_start': False, 'log...</td>\n",
       "      <td>0.911969</td>\n",
       "      <td>0.912020</td>\n",
       "      <td>0.912020</td>\n",
       "      <td>0.912003</td>\n",
       "      <td>0.000024</td>\n",
       "      <td>1</td>\n",
       "    </tr>\n",
       "    <tr>\n",
       "      <th>0</th>\n",
       "      <td>4.355992</td>\n",
       "      <td>0.366475</td>\n",
       "      <td>0.070336</td>\n",
       "      <td>0.004784</td>\n",
       "      <td>False</td>\n",
       "      <td>0.01</td>\n",
       "      <td>saga</td>\n",
       "      <td>none</td>\n",
       "      <td>0.1</td>\n",
       "      <td>False</td>\n",
       "      <td>0.01</td>\n",
       "      <td>{'logisticregression__warm_start': False, 'log...</td>\n",
       "      <td>0.911745</td>\n",
       "      <td>0.911964</td>\n",
       "      <td>0.911293</td>\n",
       "      <td>0.911667</td>\n",
       "      <td>0.000279</td>\n",
       "      <td>2</td>\n",
       "    </tr>\n",
       "    <tr>\n",
       "      <th>2</th>\n",
       "      <td>80.928669</td>\n",
       "      <td>0.032898</td>\n",
       "      <td>0.053989</td>\n",
       "      <td>0.001429</td>\n",
       "      <td>True</td>\n",
       "      <td>0.000001</td>\n",
       "      <td>saga</td>\n",
       "      <td>none</td>\n",
       "      <td>0.4</td>\n",
       "      <td>True</td>\n",
       "      <td>10</td>\n",
       "      <td>{'logisticregression__warm_start': True, 'logi...</td>\n",
       "      <td>0.911689</td>\n",
       "      <td>0.911908</td>\n",
       "      <td>0.911349</td>\n",
       "      <td>0.911648</td>\n",
       "      <td>0.000230</td>\n",
       "      <td>3</td>\n",
       "    </tr>\n",
       "    <tr>\n",
       "      <th>3</th>\n",
       "      <td>81.154621</td>\n",
       "      <td>0.771797</td>\n",
       "      <td>0.054997</td>\n",
       "      <td>0.001414</td>\n",
       "      <td>True</td>\n",
       "      <td>0.00001</td>\n",
       "      <td>saga</td>\n",
       "      <td>none</td>\n",
       "      <td>0.6</td>\n",
       "      <td>True</td>\n",
       "      <td>0.1</td>\n",
       "      <td>{'logisticregression__warm_start': True, 'logi...</td>\n",
       "      <td>0.911689</td>\n",
       "      <td>0.911908</td>\n",
       "      <td>0.911349</td>\n",
       "      <td>0.911648</td>\n",
       "      <td>0.000230</td>\n",
       "      <td>3</td>\n",
       "    </tr>\n",
       "    <tr>\n",
       "      <th>6</th>\n",
       "      <td>133.881616</td>\n",
       "      <td>1.491226</td>\n",
       "      <td>0.056667</td>\n",
       "      <td>0.007408</td>\n",
       "      <td>False</td>\n",
       "      <td>0.000001</td>\n",
       "      <td>saga</td>\n",
       "      <td>elasticnet</td>\n",
       "      <td>0.3</td>\n",
       "      <td>True</td>\n",
       "      <td>100</td>\n",
       "      <td>{'logisticregression__warm_start': False, 'log...</td>\n",
       "      <td>0.911689</td>\n",
       "      <td>0.911908</td>\n",
       "      <td>0.911349</td>\n",
       "      <td>0.911648</td>\n",
       "      <td>0.000230</td>\n",
       "      <td>3</td>\n",
       "    </tr>\n",
       "    <tr>\n",
       "      <th>9</th>\n",
       "      <td>38.242569</td>\n",
       "      <td>4.273220</td>\n",
       "      <td>0.049331</td>\n",
       "      <td>0.005314</td>\n",
       "      <td>False</td>\n",
       "      <td>0.001</td>\n",
       "      <td>saga</td>\n",
       "      <td>none</td>\n",
       "      <td>0.5</td>\n",
       "      <td>False</td>\n",
       "      <td>0.001</td>\n",
       "      <td>{'logisticregression__warm_start': False, 'log...</td>\n",
       "      <td>0.911633</td>\n",
       "      <td>0.911852</td>\n",
       "      <td>0.911349</td>\n",
       "      <td>0.911611</td>\n",
       "      <td>0.000206</td>\n",
       "      <td>6</td>\n",
       "    </tr>\n",
       "    <tr>\n",
       "      <th>1</th>\n",
       "      <td>80.542995</td>\n",
       "      <td>0.083198</td>\n",
       "      <td>0.057332</td>\n",
       "      <td>0.007583</td>\n",
       "      <td>False</td>\n",
       "      <td>0.0001</td>\n",
       "      <td>saga</td>\n",
       "      <td>none</td>\n",
       "      <td>0.2</td>\n",
       "      <td>False</td>\n",
       "      <td>0.1</td>\n",
       "      <td>{'logisticregression__warm_start': False, 'log...</td>\n",
       "      <td>0.911577</td>\n",
       "      <td>0.911852</td>\n",
       "      <td>0.911349</td>\n",
       "      <td>0.911593</td>\n",
       "      <td>0.000206</td>\n",
       "      <td>7</td>\n",
       "    </tr>\n",
       "    <tr>\n",
       "      <th>4</th>\n",
       "      <td>81.708552</td>\n",
       "      <td>0.109041</td>\n",
       "      <td>0.064333</td>\n",
       "      <td>0.014608</td>\n",
       "      <td>True</td>\n",
       "      <td>0.00001</td>\n",
       "      <td>saga</td>\n",
       "      <td>none</td>\n",
       "      <td>0.8</td>\n",
       "      <td>False</td>\n",
       "      <td>10000</td>\n",
       "      <td>{'logisticregression__warm_start': True, 'logi...</td>\n",
       "      <td>0.911577</td>\n",
       "      <td>0.911852</td>\n",
       "      <td>0.911349</td>\n",
       "      <td>0.911593</td>\n",
       "      <td>0.000206</td>\n",
       "      <td>7</td>\n",
       "    </tr>\n",
       "    <tr>\n",
       "      <th>5</th>\n",
       "      <td>81.322852</td>\n",
       "      <td>0.041287</td>\n",
       "      <td>0.057000</td>\n",
       "      <td>0.008524</td>\n",
       "      <td>True</td>\n",
       "      <td>0.00001</td>\n",
       "      <td>saga</td>\n",
       "      <td>none</td>\n",
       "      <td>0.0</td>\n",
       "      <td>False</td>\n",
       "      <td>10</td>\n",
       "      <td>{'logisticregression__warm_start': True, 'logi...</td>\n",
       "      <td>0.911577</td>\n",
       "      <td>0.911852</td>\n",
       "      <td>0.911349</td>\n",
       "      <td>0.911593</td>\n",
       "      <td>0.000206</td>\n",
       "      <td>7</td>\n",
       "    </tr>\n",
       "    <tr>\n",
       "      <th>8</th>\n",
       "      <td>79.841689</td>\n",
       "      <td>3.291312</td>\n",
       "      <td>0.046682</td>\n",
       "      <td>0.006825</td>\n",
       "      <td>False</td>\n",
       "      <td>0.0001</td>\n",
       "      <td>saga</td>\n",
       "      <td>none</td>\n",
       "      <td>0.3</td>\n",
       "      <td>False</td>\n",
       "      <td>1</td>\n",
       "      <td>{'logisticregression__warm_start': False, 'log...</td>\n",
       "      <td>0.911577</td>\n",
       "      <td>0.911852</td>\n",
       "      <td>0.911349</td>\n",
       "      <td>0.911593</td>\n",
       "      <td>0.000206</td>\n",
       "      <td>7</td>\n",
       "    </tr>\n",
       "  </tbody>\n",
       "</table>\n",
       "</div>"
      ],
      "text/plain": [
       "   mean_fit_time  std_fit_time  mean_score_time  std_score_time  \\\n",
       "7       8.292997      1.942857         0.052334        0.002626   \n",
       "0       4.355992      0.366475         0.070336        0.004784   \n",
       "2      80.928669      0.032898         0.053989        0.001429   \n",
       "3      81.154621      0.771797         0.054997        0.001414   \n",
       "6     133.881616      1.491226         0.056667        0.007408   \n",
       "9      38.242569      4.273220         0.049331        0.005314   \n",
       "1      80.542995      0.083198         0.057332        0.007583   \n",
       "4      81.708552      0.109041         0.064333        0.014608   \n",
       "5      81.322852      0.041287         0.057000        0.008524   \n",
       "8      79.841689      3.291312         0.046682        0.006825   \n",
       "\n",
       "  param_logisticregression__warm_start param_logisticregression__tol  \\\n",
       "7                                False                       0.00001   \n",
       "0                                False                          0.01   \n",
       "2                                 True                      0.000001   \n",
       "3                                 True                       0.00001   \n",
       "6                                False                      0.000001   \n",
       "9                                False                         0.001   \n",
       "1                                False                        0.0001   \n",
       "4                                 True                       0.00001   \n",
       "5                                 True                       0.00001   \n",
       "8                                False                        0.0001   \n",
       "\n",
       "  param_logisticregression__solver param_logisticregression__penalty  \\\n",
       "7                             saga                        elasticnet   \n",
       "0                             saga                              none   \n",
       "2                             saga                              none   \n",
       "3                             saga                              none   \n",
       "6                             saga                        elasticnet   \n",
       "9                             saga                              none   \n",
       "1                             saga                              none   \n",
       "4                             saga                              none   \n",
       "5                             saga                              none   \n",
       "8                             saga                              none   \n",
       "\n",
       "  param_logisticregression__l1_ratio param_logisticregression__fit_intercept  \\\n",
       "7                                1.0                                   False   \n",
       "0                                0.1                                   False   \n",
       "2                                0.4                                    True   \n",
       "3                                0.6                                    True   \n",
       "6                                0.3                                    True   \n",
       "9                                0.5                                   False   \n",
       "1                                0.2                                   False   \n",
       "4                                0.8                                   False   \n",
       "5                                0.0                                   False   \n",
       "8                                0.3                                   False   \n",
       "\n",
       "  param_logisticregression__C  \\\n",
       "7                        0.01   \n",
       "0                        0.01   \n",
       "2                          10   \n",
       "3                         0.1   \n",
       "6                         100   \n",
       "9                       0.001   \n",
       "1                         0.1   \n",
       "4                       10000   \n",
       "5                          10   \n",
       "8                           1   \n",
       "\n",
       "                                              params  split0_test_score  \\\n",
       "7  {'logisticregression__warm_start': False, 'log...           0.911969   \n",
       "0  {'logisticregression__warm_start': False, 'log...           0.911745   \n",
       "2  {'logisticregression__warm_start': True, 'logi...           0.911689   \n",
       "3  {'logisticregression__warm_start': True, 'logi...           0.911689   \n",
       "6  {'logisticregression__warm_start': False, 'log...           0.911689   \n",
       "9  {'logisticregression__warm_start': False, 'log...           0.911633   \n",
       "1  {'logisticregression__warm_start': False, 'log...           0.911577   \n",
       "4  {'logisticregression__warm_start': True, 'logi...           0.911577   \n",
       "5  {'logisticregression__warm_start': True, 'logi...           0.911577   \n",
       "8  {'logisticregression__warm_start': False, 'log...           0.911577   \n",
       "\n",
       "   split1_test_score  split2_test_score  mean_test_score  std_test_score  \\\n",
       "7           0.912020           0.912020         0.912003        0.000024   \n",
       "0           0.911964           0.911293         0.911667        0.000279   \n",
       "2           0.911908           0.911349         0.911648        0.000230   \n",
       "3           0.911908           0.911349         0.911648        0.000230   \n",
       "6           0.911908           0.911349         0.911648        0.000230   \n",
       "9           0.911852           0.911349         0.911611        0.000206   \n",
       "1           0.911852           0.911349         0.911593        0.000206   \n",
       "4           0.911852           0.911349         0.911593        0.000206   \n",
       "5           0.911852           0.911349         0.911593        0.000206   \n",
       "8           0.911852           0.911349         0.911593        0.000206   \n",
       "\n",
       "   rank_test_score  \n",
       "7                1  \n",
       "0                2  \n",
       "2                3  \n",
       "3                3  \n",
       "6                3  \n",
       "9                6  \n",
       "1                7  \n",
       "4                7  \n",
       "5                7  \n",
       "8                7  "
      ]
     },
     "execution_count": 15,
     "metadata": {},
     "output_type": "execute_result"
    }
   ],
   "source": [
    "rs_cv_results = pd.DataFrame(random_search.cv_results_)\n",
    "rs_cv_results.sort_values(by = 'mean_test_score', ascending=False)"
   ]
  },
  {
   "cell_type": "code",
   "execution_count": 16,
   "id": "191089f3",
   "metadata": {},
   "outputs": [
    {
     "data": {
      "text/plain": [
       "{'logisticregression__warm_start': False,\n",
       " 'logisticregression__tol': 1e-05,\n",
       " 'logisticregression__solver': 'saga',\n",
       " 'logisticregression__penalty': 'elasticnet',\n",
       " 'logisticregression__l1_ratio': 1.0,\n",
       " 'logisticregression__fit_intercept': False,\n",
       " 'logisticregression__C': 0.01}"
      ]
     },
     "execution_count": 16,
     "metadata": {},
     "output_type": "execute_result"
    }
   ],
   "source": [
    "random_search.best_params_"
   ]
  },
  {
   "cell_type": "code",
   "execution_count": 17,
   "id": "6b5ce3ac",
   "metadata": {},
   "outputs": [
    {
     "data": {
      "text/plain": [
       "0.9120246085011185"
      ]
     },
     "execution_count": 17,
     "metadata": {},
     "output_type": "execute_result"
    }
   ],
   "source": [
    "random_search.best_estimator_.score(X_test, y_test)"
   ]
  },
  {
   "cell_type": "code",
   "execution_count": 18,
   "id": "e8c54e7d",
   "metadata": {},
   "outputs": [
    {
     "name": "stdout",
     "output_type": "stream",
     "text": [
      "              precision    recall  f1-score   support\n",
      "\n",
      "           0       0.91      1.00      0.95     16307\n",
      "           1       0.00      0.00      0.00      1573\n",
      "\n",
      "    accuracy                           0.91     17880\n",
      "   macro avg       0.46      0.50      0.48     17880\n",
      "weighted avg       0.83      0.91      0.87     17880\n",
      "\n"
     ]
    },
    {
     "name": "stderr",
     "output_type": "stream",
     "text": [
      "C:\\Users\\fabio\\anaconda3\\lib\\site-packages\\sklearn\\metrics\\_classification.py:1308: UndefinedMetricWarning: Precision and F-score are ill-defined and being set to 0.0 in labels with no predicted samples. Use `zero_division` parameter to control this behavior.\n",
      "  _warn_prf(average, modifier, msg_start, len(result))\n",
      "C:\\Users\\fabio\\anaconda3\\lib\\site-packages\\sklearn\\metrics\\_classification.py:1308: UndefinedMetricWarning: Precision and F-score are ill-defined and being set to 0.0 in labels with no predicted samples. Use `zero_division` parameter to control this behavior.\n",
      "  _warn_prf(average, modifier, msg_start, len(result))\n",
      "C:\\Users\\fabio\\anaconda3\\lib\\site-packages\\sklearn\\metrics\\_classification.py:1308: UndefinedMetricWarning: Precision and F-score are ill-defined and being set to 0.0 in labels with no predicted samples. Use `zero_division` parameter to control this behavior.\n",
      "  _warn_prf(average, modifier, msg_start, len(result))\n"
     ]
    }
   ],
   "source": [
    "# Predict labels\n",
    "y_pred = random_search.best_estimator_.predict(X_test)\n",
    "\n",
    "# Print metrics\n",
    "print(classification_report(y_test, y_pred))"
   ]
  },
  {
   "cell_type": "code",
   "execution_count": 19,
   "id": "12c6d2c4",
   "metadata": {},
   "outputs": [
    {
     "data": {
      "text/plain": [
       "<sklearn.metrics._plot.confusion_matrix.ConfusionMatrixDisplay at 0x21e16d54df0>"
      ]
     },
     "execution_count": 19,
     "metadata": {},
     "output_type": "execute_result"
    },
    {
     "data": {
      "image/png": "[encoded data removed]",
      "text/plain": [
       "<Figure size 432x288 with 2 Axes>"
      ]
     },
     "metadata": {
      "needs_background": "light"
     },
     "output_type": "display_data"
    }
   ],
   "source": [
    "ConfusionMatrixDisplay.from_predictions(y_test, y_pred, cmap='Blues')"
   ]
  },
  {
   "cell_type": "code",
   "execution_count": 20,
   "id": "30575617",
   "metadata": {},
   "outputs": [],
   "source": [
    "param_grid = {'logisticregression__C': [0.001, 0.01, 0,1, 1, 10, 100, 1000],\n",
    "              'logisticregression__l1_ratio': np.linspace(0, 1, 6),\n",
    "              'logisticregression__penalty': ['elasticnet']}"
   ]
  },
  {
   "cell_type": "code",
   "execution_count": 21,
   "id": "deb6f444",
   "metadata": {},
   "outputs": [],
   "source": [
    "grid_search = GridSearchCV(estimator=random_search.best_estimator_,\n",
    "                         param_grid=param_grid,\n",
    "                         cv=3 #lowered to a 3-fold CV to reduce the runtime of the search\n",
    "                          )"
   ]
  },
  {
   "cell_type": "code",
   "execution_count": null,
   "id": "9fc53560",
   "metadata": {},
   "outputs": [
    {
     "name": "stderr",
     "output_type": "stream",
     "text": [
      "C:\\Users\\fabio\\anaconda3\\lib\\site-packages\\sklearn\\linear_model\\_sag.py:352: ConvergenceWarning: The max_iter was reached which means the coef_ did not converge\n",
      "  warnings.warn(\n",
      "C:\\Users\\fabio\\anaconda3\\lib\\site-packages\\sklearn\\linear_model\\_sag.py:352: ConvergenceWarning: The max_iter was reached which means the coef_ did not converge\n",
      "  warnings.warn(\n",
      "C:\\Users\\fabio\\anaconda3\\lib\\site-packages\\sklearn\\linear_model\\_sag.py:352: ConvergenceWarning: The max_iter was reached which means the coef_ did not converge\n",
      "  warnings.warn(\n",
      "C:\\Users\\fabio\\anaconda3\\lib\\site-packages\\sklearn\\linear_model\\_sag.py:352: ConvergenceWarning: The max_iter was reached which means the coef_ did not converge\n",
      "  warnings.warn(\n",
      "C:\\Users\\fabio\\anaconda3\\lib\\site-packages\\sklearn\\linear_model\\_sag.py:352: ConvergenceWarning: The max_iter was reached which means the coef_ did not converge\n",
      "  warnings.warn(\n",
      "C:\\Users\\fabio\\anaconda3\\lib\\site-packages\\sklearn\\linear_model\\_sag.py:352: ConvergenceWarning: The max_iter was reached which means the coef_ did not converge\n",
      "  warnings.warn(\n",
      "C:\\Users\\fabio\\anaconda3\\lib\\site-packages\\sklearn\\linear_model\\_sag.py:352: ConvergenceWarning: The max_iter was reached which means the coef_ did not converge\n",
      "  warnings.warn(\n",
      "C:\\Users\\fabio\\anaconda3\\lib\\site-packages\\sklearn\\linear_model\\_sag.py:352: ConvergenceWarning: The max_iter was reached which means the coef_ did not converge\n",
      "  warnings.warn(\n",
      "C:\\Users\\fabio\\anaconda3\\lib\\site-packages\\sklearn\\linear_model\\_sag.py:352: ConvergenceWarning: The max_iter was reached which means the coef_ did not converge\n",
      "  warnings.warn(\n",
      "C:\\Users\\fabio\\anaconda3\\lib\\site-packages\\sklearn\\linear_model\\_sag.py:352: ConvergenceWarning: The max_iter was reached which means the coef_ did not converge\n",
      "  warnings.warn(\n",
      "C:\\Users\\fabio\\anaconda3\\lib\\site-packages\\sklearn\\linear_model\\_sag.py:352: ConvergenceWarning: The max_iter was reached which means the coef_ did not converge\n",
      "  warnings.warn(\n",
      "C:\\Users\\fabio\\anaconda3\\lib\\site-packages\\sklearn\\linear_model\\_sag.py:352: ConvergenceWarning: The max_iter was reached which means the coef_ did not converge\n",
      "  warnings.warn(\n",
      "C:\\Users\\fabio\\anaconda3\\lib\\site-packages\\sklearn\\linear_model\\_sag.py:352: ConvergenceWarning: The max_iter was reached which means the coef_ did not converge\n",
      "  warnings.warn(\n",
      "C:\\Users\\fabio\\anaconda3\\lib\\site-packages\\sklearn\\linear_model\\_sag.py:352: ConvergenceWarning: The max_iter was reached which means the coef_ did not converge\n",
      "  warnings.warn(\n",
      "C:\\Users\\fabio\\anaconda3\\lib\\site-packages\\sklearn\\linear_model\\_sag.py:352: ConvergenceWarning: The max_iter was reached which means the coef_ did not converge\n",
      "  warnings.warn(\n",
      "C:\\Users\\fabio\\anaconda3\\lib\\site-packages\\sklearn\\linear_model\\_sag.py:352: ConvergenceWarning: The max_iter was reached which means the coef_ did not converge\n",
      "  warnings.warn(\n",
      "C:\\Users\\fabio\\anaconda3\\lib\\site-packages\\sklearn\\linear_model\\_sag.py:352: ConvergenceWarning: The max_iter was reached which means the coef_ did not converge\n",
      "  warnings.warn(\n",
      "C:\\Users\\fabio\\anaconda3\\lib\\site-packages\\sklearn\\linear_model\\_sag.py:352: ConvergenceWarning: The max_iter was reached which means the coef_ did not converge\n",
      "  warnings.warn(\n",
      "C:\\Users\\fabio\\anaconda3\\lib\\site-packages\\sklearn\\linear_model\\_sag.py:352: ConvergenceWarning: The max_iter was reached which means the coef_ did not converge\n",
      "  warnings.warn(\n",
      "C:\\Users\\fabio\\anaconda3\\lib\\site-packages\\sklearn\\linear_model\\_sag.py:352: ConvergenceWarning: The max_iter was reached which means the coef_ did not converge\n",
      "  warnings.warn(\n",
      "C:\\Users\\fabio\\anaconda3\\lib\\site-packages\\sklearn\\linear_model\\_sag.py:352: ConvergenceWarning: The max_iter was reached which means the coef_ did not converge\n",
      "  warnings.warn(\n",
      "C:\\Users\\fabio\\anaconda3\\lib\\site-packages\\sklearn\\linear_model\\_sag.py:352: ConvergenceWarning: The max_iter was reached which means the coef_ did not converge\n",
      "  warnings.warn(\n",
      "C:\\Users\\fabio\\anaconda3\\lib\\site-packages\\sklearn\\linear_model\\_sag.py:352: ConvergenceWarning: The max_iter was reached which means the coef_ did not converge\n",
      "  warnings.warn(\n"
     ]
    }
   ],
   "source": [
    "%time grid_search.fit(X_train, y_train)"
   ]
  },
  {
   "cell_type": "code",
   "execution_count": null,
   "id": "78d08fea",
   "metadata": {},
   "outputs": [],
   "source": [
    "grid_search.best_params_"
   ]
  },
  {
   "cell_type": "code",
   "execution_count": null,
   "id": "c790e740",
   "metadata": {},
   "outputs": [],
   "source": [
    "optimized_clf = grid_search.best_estimator_"
   ]
  },
  {
   "cell_type": "code",
   "execution_count": null,
   "id": "16caa7a9",
   "metadata": {},
   "outputs": [],
   "source": [
    "optimized_clf.score(X_test, y_test)"
   ]
  },
  {
   "cell_type": "code",
   "execution_count": null,
   "id": "a8269994",
   "metadata": {},
   "outputs": [],
   "source": [
    "y_pred = grid_search.best_estimator_.predict(X_test)\n",
    "print(classification_report(y_test, y_pred))"
   ]
  },
  {
   "cell_type": "code",
   "execution_count": null,
   "id": "f94bc5fa",
   "metadata": {},
   "outputs": [],
   "source": [
    "ConfusionMatrixDisplay.from_predictions(y_test, y_pred, cmap='Blues')"
   ]
  },
  {
   "cell_type": "markdown",
   "id": "db927892",
   "metadata": {},
   "source": [
    "#### ROC-AUC"
   ]
  },
  {
   "cell_type": "code",
   "execution_count": null,
   "id": "ca32e3a1",
   "metadata": {},
   "outputs": [],
   "source": [
    "# search"
   ]
  },
  {
   "cell_type": "code",
   "execution_count": null,
   "id": "b531eabc",
   "metadata": {},
   "outputs": [],
   "source": []
  },
  {
   "cell_type": "code",
   "execution_count": null,
   "id": "2c312b94",
   "metadata": {},
   "outputs": [],
   "source": []
  },
  {
   "cell_type": "markdown",
   "id": "fe75045a",
   "metadata": {},
   "source": [
    "#### PR-AUC"
   ]
  },
  {
   "cell_type": "code",
   "execution_count": null,
   "id": "9dc07d5e",
   "metadata": {},
   "outputs": [],
   "source": [
    "# search"
   ]
  },
  {
   "cell_type": "markdown",
   "id": "5ae5c6fd",
   "metadata": {},
   "source": [
    "### 3.1.4. Weighted Logistic Regression\n",
    "[Back to top](#top)"
   ]
  },
  {
   "cell_type": "code",
   "execution_count": null,
   "id": "e14a831f",
   "metadata": {},
   "outputs": [],
   "source": [
    "clf_lr = make_pipeline(MinMaxScaler(), LogisticRegression(max_iter=500, random_state=42))"
   ]
  },
  {
   "cell_type": "code",
   "execution_count": null,
   "id": "db2a0b75",
   "metadata": {},
   "outputs": [],
   "source": [
    "%time clf_lr.fit(X_train, y_train)"
   ]
  },
  {
   "cell_type": "code",
   "execution_count": null,
   "id": "318974ee",
   "metadata": {},
   "outputs": [],
   "source": [
    "y_pred = clf_lr.predict(X_test)\n",
    "roc_auc_score(y_test, y_pred)"
   ]
  },
  {
   "cell_type": "code",
   "execution_count": null,
   "id": "94dcb935",
   "metadata": {
    "scrolled": true
   },
   "outputs": [],
   "source": [
    "RocCurveDisplay.from_estimator(clf_lr, X_test, y_test)"
   ]
  },
  {
   "cell_type": "markdown",
   "id": "54b52315",
   "metadata": {},
   "source": [
    "https://machinelearningmastery.com/cost-sensitive-logistic-regression/"
   ]
  },
  {
   "cell_type": "code",
   "execution_count": null,
   "id": "ec662fd2",
   "metadata": {},
   "outputs": [],
   "source": [
    "# define model\n",
    "weighted_clf = make_pipeline(MinMaxScaler(), LogisticRegression(max_iter=1000, random_state=42, class_weight='balanced'))"
   ]
  },
  {
   "cell_type": "code",
   "execution_count": null,
   "id": "1c4b2efc",
   "metadata": {},
   "outputs": [],
   "source": [
    "# fit model\n",
    "%time weighted_clf.fit(X_train, y_train)"
   ]
  },
  {
   "cell_type": "code",
   "execution_count": null,
   "id": "3ab84b15",
   "metadata": {},
   "outputs": [],
   "source": [
    "cla"
   ]
  },
  {
   "cell_type": "code",
   "execution_count": null,
   "id": "79b97834",
   "metadata": {},
   "outputs": [],
   "source": [
    "# evaluate model\n",
    "y_pred = weighted_clf.predict(X_test)\n",
    "print(roc_auc_score(y_test, y_pred))\n",
    "print(classification_report(y_test, y_pred))"
   ]
  },
  {
   "cell_type": "code",
   "execution_count": null,
   "id": "44bbaa94",
   "metadata": {},
   "outputs": [],
   "source": [
    "RocCurveDisplay.from_estimator(weighted_clf, X_test, y_test)"
   ]
  },
  {
   "cell_type": "code",
   "execution_count": null,
   "id": "1347d42e",
   "metadata": {},
   "outputs": [],
   "source": []
  },
  {
   "cell_type": "code",
   "execution_count": null,
   "id": "57bb3a1a",
   "metadata": {},
   "outputs": [],
   "source": []
  },
  {
   "cell_type": "markdown",
   "id": "9db88c6d",
   "metadata": {},
   "source": [
    "### 3.1.5. Calibration\n",
    "[Back to top](#top)"
   ]
  },
  {
   "cell_type": "markdown",
   "id": "3ff9b780",
   "metadata": {},
   "source": [
    "The logistic regression model returns well calibrated predictions by default as it directly optimizes the log loss which is defined on probability outputs (https://scikit-learn.org/stable/modules/model_evaluation.html#log-loss)"
   ]
  },
  {
   "cell_type": "code",
   "execution_count": null,
   "id": "97f26105",
   "metadata": {},
   "outputs": [],
   "source": [
    "y_prob = weighted_clf.predict_proba(X_test)"
   ]
  },
  {
   "cell_type": "code",
   "execution_count": null,
   "id": "d70d328a",
   "metadata": {},
   "outputs": [],
   "source": [
    "# scikit-learn 1.0 needed\n",
    "# show calibration curve of current model\n",
    "\n",
    "CalibrationDisplay.from_estimator(weighted_clf, X_test, y_test)"
   ]
  },
  {
   "cell_type": "code",
   "execution_count": null,
   "id": "7d09bd59",
   "metadata": {},
   "outputs": [],
   "source": [
    "# fit and calibrate model on training data\n",
    "calibrated_model = CalibratedClassifierCV(weighted_clf, n_jobs=-1)\n",
    "%time calibrated_model.fit(X_train, y_train)"
   ]
  },
  {
   "cell_type": "code",
   "execution_count": null,
   "id": "27351b7b",
   "metadata": {},
   "outputs": [],
   "source": [
    "# scikit-learn 1.0 needed\n",
    "# show calibration curve of calibrated model\n",
    "\n",
    "CalibrationDisplay.from_estimator(calibrated_model, X_test, y_test)"
   ]
  },
  {
   "cell_type": "code",
   "execution_count": null,
   "id": "5cc94972",
   "metadata": {},
   "outputs": [],
   "source": [
    "print(classification_report(y_test, calibrated_model.predict(X_test)))"
   ]
  },
  {
   "cell_type": "markdown",
   "id": "b9aa2719",
   "metadata": {},
   "source": [
    "### 3.1.6. Threshold Moving\n",
    "[Back to top](#top)"
   ]
  },
  {
   "cell_type": "markdown",
   "id": "b5c31538",
   "metadata": {},
   "source": [
    "https://machinelearningmastery.com/threshold-moving-for-imbalanced-classification/"
   ]
  },
  {
   "cell_type": "markdown",
   "id": "ef428483",
   "metadata": {},
   "source": [
    "- Optimal threshold for ROC curve"
   ]
  },
  {
   "cell_type": "code",
   "execution_count": null,
   "id": "26ab8353",
   "metadata": {},
   "outputs": [],
   "source": [
    "# predict probabilities\n",
    "y_prob = clf_lr.predict_proba(X_test)\n",
    "\n",
    "# probabilities for the positive outcome only\n",
    "y_prob_1 = y_prob[:, 1]\n",
    "\n",
    "# calculate roc curve\n",
    "fpr, tpr, thresholds = roc_curve(y_test, y_prob_1)\n",
    "\n",
    "# calculate g-mean for every threshold\n",
    "gmeans = sqrt(tpr * (1-fpr))\n",
    "\n",
    "# get the best threshold\n",
    "best_thresh = thresholds[np.argmax(gmeans)]\n",
    "\n",
    "print('Best Threshold = %f' % (best_thresh))"
   ]
  },
  {
   "cell_type": "markdown",
   "id": "38abeb77",
   "metadata": {},
   "source": [
    "- Optimal threshold for precision-recall curve (focus on minority class): f1 optimization"
   ]
  },
  {
   "cell_type": "code",
   "execution_count": null,
   "id": "b5c08113",
   "metadata": {},
   "outputs": [],
   "source": [
    "y_prob = weighted_clf.predict_proba(X_test)[:, 1]\n",
    "PrecisionRecallDisplay.from_predictions(y_test, y_prob)"
   ]
  },
  {
   "cell_type": "code",
   "execution_count": null,
   "id": "79942a8b",
   "metadata": {},
   "outputs": [],
   "source": [
    "# apply threshold to positive probabilities to create labels\n",
    "def to_labels(pos_probs, threshold):\n",
    "    return (pos_probs >= threshold).astype('int')\n",
    "\n",
    "# predict probabilities\n",
    "yhat = clf_lr.predict_proba(X_test)\n",
    "\n",
    "# keep probabilities for the positive outcome only\n",
    "probs = yhat[:, 1]\n",
    "\n",
    "# define thresholds\n",
    "thresholds = np.arange(0, 1, 0.001)\n",
    "\n",
    "# evaluate each threshold\n",
    "scores = [f1_score(y_test, to_labels(probs, t)) for t in thresholds]\n",
    "\n",
    "# get best threshold\n",
    "ix = np.argmax(scores)\n",
    "print('Threshold=%.3f, F-Score=%.5f' % (thresholds[ix], scores[ix]))"
   ]
  },
  {
   "cell_type": "markdown",
   "id": "0f0f2726",
   "metadata": {},
   "source": [
    "### Conclusion LogReg"
   ]
  },
  {
   "cell_type": "markdown",
   "id": "a465bf82",
   "metadata": {},
   "source": [
    "Being in a medicine context,..."
   ]
  },
  {
   "cell_type": "code",
   "execution_count": null,
   "id": "da9b834d",
   "metadata": {},
   "outputs": [],
   "source": []
  }
 ],
 "metadata": {
  "kernelspec": {
   "display_name": "Python 3 (ipykernel)",
   "language": "python",
   "name": "python3"
  },
  "language_info": {
   "codemirror_mode": {
    "name": "ipython",
    "version": 3
   },
   "file_extension": ".py",
   "mimetype": "text/x-python",
   "name": "python",
   "nbconvert_exporter": "python",
   "pygments_lexer": "ipython3",
   "version": "3.9.7"
  }
 },
 "nbformat": 4,
 "nbformat_minor": 5
}
