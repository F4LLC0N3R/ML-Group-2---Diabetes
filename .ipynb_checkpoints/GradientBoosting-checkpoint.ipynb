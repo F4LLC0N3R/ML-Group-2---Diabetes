{
 "cells": [
  {
   "cell_type": "code",
   "execution_count": 106,
   "metadata": {},
   "outputs": [],
   "source": [
    "import numpy as np\n",
    "import pandas as pd\n",
    "import seaborn as sns\n",
    "\n",
    "#from xgboost import XGBClassifier\n",
    "from sklearn.ensemble import GradientBoostingClassifier\n",
    "\n",
    "from sklearn.preprocessing import MinMaxScaler\n",
    "from sklearn.dummy import DummyClassifier\n",
    "from sklearn.metrics import ConfusionMatrixDisplay, RocCurveDisplay, PrecisionRecallDisplay\n",
    "from sklearn.metrics import classification_report, roc_auc_score, average_precision_score, f1_score\n",
    "from sklearn.metrics import roc_curve, precision_recall_curve  \n",
    "from sklearn.model_selection import RandomizedSearchCV, GridSearchCV\n",
    "from sklearn.pipeline import make_pipeline\n",
    "from sklearn.calibration import CalibrationDisplay, CalibratedClassifierCV\n",
    "from sklearn.inspection import permutation_importance"
   ]
  },
  {
   "cell_type": "markdown",
   "metadata": {},
   "source": [
    "## 3.5 Gradient Boosting<a id=\"Gradient Boosting\"></a>\n",
    "[Back to top](#top)\n",
    "\n",
    "- Import preprocessed features as DataFrame and target variables as Series"
   ]
  },
  {
   "cell_type": "code",
   "execution_count": 107,
   "metadata": {},
   "outputs": [],
   "source": [
    "# training and test sets with original data distribution\n",
    "\n",
    "X_train = pd.read_csv('https://raw.githubusercontent.com/F4LLC0N3R/ML-Group-2---Diabetes/main/data/X_train.csv')\n",
    "y_train = pd.read_csv('https://raw.githubusercontent.com/F4LLC0N3R/ML-Group-2---Diabetes/main/data/y_train.csv', squeeze=True)\n",
    "\n",
    "X_test = pd.read_csv('https://raw.githubusercontent.com/F4LLC0N3R/ML-Group-2---Diabetes/main/data/X_test.csv')\n",
    "y_test = pd.read_csv('https://raw.githubusercontent.com/F4LLC0N3R/ML-Group-2---Diabetes/main/data/y_test.csv', squeeze=True)"
   ]
  },
  {
   "cell_type": "code",
   "execution_count": 108,
   "metadata": {},
   "outputs": [],
   "source": [
    "# resampled / balanced training sets\n",
    "\n",
    "X_train_rus = pd.read_csv('https://raw.githubusercontent.com/F4LLC0N3R/ML-Group-2---Diabetes/main/data/X_train_rus.csv')\n",
    "y_train_rus = pd.read_csv('https://raw.githubusercontent.com/F4LLC0N3R/ML-Group-2---Diabetes/main/data/y_train_rus.csv', squeeze=True)\n",
    "\n",
    "X_train_ros = pd.read_csv('https://raw.githubusercontent.com/F4LLC0N3R/ML-Group-2---Diabetes/main/data/X_train_ros.csv')\n",
    "y_train_ros = pd.read_csv('https://raw.githubusercontent.com/F4LLC0N3R/ML-Group-2---Diabetes/main/data/y_train_ros.csv', squeeze=True)\n",
    "\n",
    "X_train_smote = pd.read_csv('https://raw.githubusercontent.com/F4LLC0N3R/ML-Group-2---Diabetes/main/data/X_train_smote.csv')\n",
    "y_train_smote = pd.read_csv('https://raw.githubusercontent.com/F4LLC0N3R/ML-Group-2---Diabetes/main/data/y_train_smote.csv', squeeze=True)"
   ]
  },
  {
   "cell_type": "markdown",
   "metadata": {},
   "source": [
    "### 3.5.1 Initial Model Building and Evaluation\n",
    "[Back to top](#top)\n",
    "\n",
    "#### Model Building\n",
    "- Training a base model with default values to check our starting point."
   ]
  },
  {
   "cell_type": "code",
   "execution_count": 163,
   "metadata": {},
   "outputs": [
    {
     "name": "stdout",
     "output_type": "stream",
     "text": [
      "Wall time: 18.7 s\n"
     ]
    },
    {
     "data": {
      "text/plain": [
       "0.9125279642058165"
      ]
     },
     "execution_count": 163,
     "metadata": {},
     "output_type": "execute_result"
    }
   ],
   "source": [
    "clf = %time GradientBoostingClassifier(random_state=42).fit(X_train, y_train.values)\n",
    "\n",
    "clf.score(X_test, y_test)"
   ]
  },
  {
   "cell_type": "markdown",
   "metadata": {},
   "source": [
    "- The base model almost has identical first results compared to the previous models. "
   ]
  },
  {
   "cell_type": "markdown",
   "metadata": {},
   "source": [
    "#### Model Evaluation"
   ]
  },
  {
   "cell_type": "code",
   "execution_count": 153,
   "metadata": {
    "scrolled": true
   },
   "outputs": [],
   "source": [
    "# Predict labels\n",
    "y_pred = clf.predict(X_test)"
   ]
  },
  {
   "cell_type": "code",
   "execution_count": 151,
   "metadata": {},
   "outputs": [
    {
     "data": {
      "text/plain": [
       "<sklearn.metrics._plot.confusion_matrix.ConfusionMatrixDisplay at 0x170b1ba7a30>"
      ]
     },
     "execution_count": 151,
     "metadata": {},
     "output_type": "execute_result"
    },
    {
     "data": {
      "image/png": "[encoded data removed]",
      "text/plain": [
       "<Figure size 432x288 with 2 Axes>"
      ]
     },
     "metadata": {
      "needs_background": "light"
     },
     "output_type": "display_data"
    }
   ],
   "source": [
    "ConfusionMatrixDisplay.from_predictions(y_test, y_pred, cmap='Blues')"
   ]
  },
  {
   "cell_type": "code",
   "execution_count": 152,
   "metadata": {},
   "outputs": [
    {
     "data": {
      "text/plain": [
       "<sklearn.metrics._plot.confusion_matrix.ConfusionMatrixDisplay at 0x170b183cdf0>"
      ]
     },
     "execution_count": 152,
     "metadata": {},
     "output_type": "execute_result"
    },
    {
     "data": {
      "image/png": "[encoded data removed]",
      "text/plain": [
       "<Figure size 432x288 with 2 Axes>"
      ]
     },
     "metadata": {
      "needs_background": "light"
     },
     "output_type": "display_data"
    }
   ],
   "source": [
    "ConfusionMatrixDisplay.from_predictions(y_test, y_pred, cmap='Greens', normalize='true')"
   ]
  },
  {
   "cell_type": "code",
   "execution_count": 154,
   "metadata": {},
   "outputs": [
    {
     "name": "stdout",
     "output_type": "stream",
     "text": [
      "              precision    recall  f1-score   support\n",
      "\n",
      "           0       0.91      1.00      0.95     16307\n",
      "           1       0.76      0.01      0.02      1573\n",
      "\n",
      "    accuracy                           0.91     17880\n",
      "   macro avg       0.84      0.50      0.49     17880\n",
      "weighted avg       0.90      0.91      0.87     17880\n",
      "\n"
     ]
    }
   ],
   "source": [
    "# Print evaluation metrics\n",
    "print(classification_report(y_test, y_pred))"
   ]
  },
  {
   "cell_type": "markdown",
   "metadata": {},
   "source": [
    "Just like the other models, the accuracy score of the Gradient Boosted model is high, as more than 90% of the target values are the same (0). On the other hand, the Precision of the Gradient Boosted model is slightly better, with 75%. However, the F1-score and Recall score are once again lacking."
   ]
  },
  {
   "cell_type": "markdown",
   "metadata": {},
   "source": [
    "### 3.5.2 Hyperparameter Tuning\n",
    "[Back to top](#top)"
   ]
  },
  {
   "cell_type": "code",
   "execution_count": 112,
   "metadata": {
    "scrolled": false
   },
   "outputs": [
    {
     "data": {
      "text/plain": [
       "{'ccp_alpha': 0.0,\n",
       " 'criterion': 'friedman_mse',\n",
       " 'init': None,\n",
       " 'learning_rate': 0.1,\n",
       " 'loss': 'deviance',\n",
       " 'max_depth': 3,\n",
       " 'max_features': None,\n",
       " 'max_leaf_nodes': None,\n",
       " 'min_impurity_decrease': 0.0,\n",
       " 'min_samples_leaf': 1,\n",
       " 'min_samples_split': 2,\n",
       " 'min_weight_fraction_leaf': 0.0,\n",
       " 'n_estimators': 100,\n",
       " 'n_iter_no_change': None,\n",
       " 'random_state': 42,\n",
       " 'subsample': 1.0,\n",
       " 'tol': 0.0001,\n",
       " 'validation_fraction': 0.1,\n",
       " 'verbose': 0,\n",
       " 'warm_start': False}"
      ]
     },
     "execution_count": 112,
     "metadata": {},
     "output_type": "execute_result"
    }
   ],
   "source": [
    "# Show hyperparameters and their values\n",
    "clf.get_params()"
   ]
  },
  {
   "cell_type": "code",
   "execution_count": 113,
   "metadata": {},
   "outputs": [
    {
     "data": {
      "text/plain": [
       "dict_keys(['ccp_alpha', 'criterion', 'init', 'learning_rate', 'loss', 'max_depth', 'max_features', 'max_leaf_nodes', 'min_impurity_decrease', 'min_samples_leaf', 'min_samples_split', 'min_weight_fraction_leaf', 'n_estimators', 'n_iter_no_change', 'random_state', 'subsample', 'tol', 'validation_fraction', 'verbose', 'warm_start'])"
      ]
     },
     "execution_count": 113,
     "metadata": {},
     "output_type": "execute_result"
    }
   ],
   "source": [
    "clf.get_params().keys()"
   ]
  },
  {
   "cell_type": "markdown",
   "metadata": {},
   "source": [
    "Hyperparameters to be varied:  \n",
    "- `criterion`: The default value is \"friedman_mse\", yet we also test \"squared_error\" to evaluate which one is better at measuring the quality of the split.\n",
    "- `learning_rate` & `n_estimators`: \"learning_rate\" and \"n_estimators\" have a trade-off between each other. Both of these parameters are tuned to find the best synergy. \n",
    "- `max_depth`: To find the optimal limit to the number of nodes in the tree that is created.\n",
    "- `min_weight_fraction_leaf`: To adjust the sample_weight when splitting the tree. \n",
    "- `max_features`: The number of features that will be considered for splitting the tree.\n",
    "- `min_samples_split`: The least amound of samples that must be reached before splitting the tree. \n",
    "\n",
    "Just as before, we attempt to imptove the accuracy of the model to begin with. This is done by first conducting a Randomized Search to find the main hyperparameter ranges that we can work with. Once we know the approximate optimal range for the hyperparameters, we use GridSearchCV to further finetune some of the hyperparameters. "
   ]
  },
  {
   "cell_type": "code",
   "execution_count": 114,
   "metadata": {},
   "outputs": [],
   "source": [
    "param_grid = {'criterion': ['friedman_mse','squared_error'],\n",
    "              'learning_rate': np.linspace(0.1, 1, 10),\n",
    "              'max_depth': np.linspace(1, 300, 15, dtype='int'),\n",
    "              'min_weight_fraction_leaf': [0.1,0.2,0.5,0.0],\n",
    "              'max_features': ['auto','sqrt','log2'],\n",
    "              'min_samples_split': [2, 10, 50],\n",
    "              'n_estimators': [5, 10, 50, 100, 300],        \n",
    "             }"
   ]
  },
  {
   "cell_type": "code",
   "execution_count": 115,
   "metadata": {},
   "outputs": [
    {
     "name": "stdout",
     "output_type": "stream",
     "text": [
      "Fitting 3 folds for each of 10 candidates, totalling 30 fits\n",
      "Wall time: 49.5 s\n"
     ]
    },
    {
     "data": {
      "text/plain": [
       "RandomizedSearchCV(cv=3, estimator=GradientBoostingClassifier(random_state=42),\n",
       "                   n_jobs=-1,\n",
       "                   param_distributions={'criterion': ['friedman_mse',\n",
       "                                                      'squared_error'],\n",
       "                                        'learning_rate': array([0.1, 0.2, 0.3, 0.4, 0.5, 0.6, 0.7, 0.8, 0.9, 1. ]),\n",
       "                                        'max_depth': array([  1,  22,  43,  65,  86, 107, 129, 150, 171, 193, 214, 235, 257,\n",
       "       278, 300]),\n",
       "                                        'max_features': ['auto', 'sqrt',\n",
       "                                                         'log2'],\n",
       "                                        'min_samples_split': [2, 10, 50],\n",
       "                                        'min_weight_fraction_leaf': [0.1, 0.2,\n",
       "                                                                     0.5, 0.0],\n",
       "                                        'n_estimators': [5, 10, 50, 100, 300]},\n",
       "                   verbose=1)"
      ]
     },
     "execution_count": 115,
     "metadata": {},
     "output_type": "execute_result"
    }
   ],
   "source": [
    "random_search = RandomizedSearchCV(estimator=clf, \n",
    "                                   param_distributions = param_grid,\n",
    "                                   n_jobs=-1,\n",
    "                                   cv=3, #reduced to 3-fold to reduce runtime\n",
    "                                   verbose=1)\n",
    "%time random_search.fit(X_train, y_train)"
   ]
  },
  {
   "cell_type": "markdown",
   "metadata": {},
   "source": [
    "- Having a look at the results of the estimators that were tried"
   ]
  },
  {
   "cell_type": "code",
   "execution_count": 116,
   "metadata": {},
   "outputs": [
    {
     "data": {
      "text/html": [
       "<div>\n",
       "<style scoped>\n",
       "    .dataframe tbody tr th:only-of-type {\n",
       "        vertical-align: middle;\n",
       "    }\n",
       "\n",
       "    .dataframe tbody tr th {\n",
       "        vertical-align: top;\n",
       "    }\n",
       "\n",
       "    .dataframe thead th {\n",
       "        text-align: right;\n",
       "    }\n",
       "</style>\n",
       "<table border=\"1\" class=\"dataframe\">\n",
       "  <thead>\n",
       "    <tr style=\"text-align: right;\">\n",
       "      <th></th>\n",
       "      <th>mean_fit_time</th>\n",
       "      <th>std_fit_time</th>\n",
       "      <th>mean_score_time</th>\n",
       "      <th>std_score_time</th>\n",
       "      <th>param_n_estimators</th>\n",
       "      <th>param_min_weight_fraction_leaf</th>\n",
       "      <th>param_min_samples_split</th>\n",
       "      <th>param_max_features</th>\n",
       "      <th>param_max_depth</th>\n",
       "      <th>param_learning_rate</th>\n",
       "      <th>param_criterion</th>\n",
       "      <th>params</th>\n",
       "      <th>split0_test_score</th>\n",
       "      <th>split1_test_score</th>\n",
       "      <th>split2_test_score</th>\n",
       "      <th>mean_test_score</th>\n",
       "      <th>std_test_score</th>\n",
       "      <th>rank_test_score</th>\n",
       "    </tr>\n",
       "  </thead>\n",
       "  <tbody>\n",
       "    <tr>\n",
       "      <th>1</th>\n",
       "      <td>0.486442</td>\n",
       "      <td>0.020142</td>\n",
       "      <td>0.079688</td>\n",
       "      <td>0.011325</td>\n",
       "      <td>10</td>\n",
       "      <td>0.1</td>\n",
       "      <td>10</td>\n",
       "      <td>sqrt</td>\n",
       "      <td>193</td>\n",
       "      <td>0.5</td>\n",
       "      <td>squared_error</td>\n",
       "      <td>{'n_estimators': 10, 'min_weight_fraction_leaf...</td>\n",
       "      <td>0.911969</td>\n",
       "      <td>0.912020</td>\n",
       "      <td>0.912020</td>\n",
       "      <td>0.912003</td>\n",
       "      <td>0.000024</td>\n",
       "      <td>1</td>\n",
       "    </tr>\n",
       "    <tr>\n",
       "      <th>2</th>\n",
       "      <td>0.349412</td>\n",
       "      <td>0.043155</td>\n",
       "      <td>0.055679</td>\n",
       "      <td>0.005438</td>\n",
       "      <td>5</td>\n",
       "      <td>0.1</td>\n",
       "      <td>10</td>\n",
       "      <td>sqrt</td>\n",
       "      <td>107</td>\n",
       "      <td>0.6</td>\n",
       "      <td>friedman_mse</td>\n",
       "      <td>{'n_estimators': 5, 'min_weight_fraction_leaf'...</td>\n",
       "      <td>0.911969</td>\n",
       "      <td>0.912020</td>\n",
       "      <td>0.912020</td>\n",
       "      <td>0.912003</td>\n",
       "      <td>0.000024</td>\n",
       "      <td>1</td>\n",
       "    </tr>\n",
       "    <tr>\n",
       "      <th>3</th>\n",
       "      <td>0.366414</td>\n",
       "      <td>0.034009</td>\n",
       "      <td>0.064016</td>\n",
       "      <td>0.004900</td>\n",
       "      <td>10</td>\n",
       "      <td>0.1</td>\n",
       "      <td>10</td>\n",
       "      <td>sqrt</td>\n",
       "      <td>86</td>\n",
       "      <td>0.3</td>\n",
       "      <td>friedman_mse</td>\n",
       "      <td>{'n_estimators': 10, 'min_weight_fraction_leaf...</td>\n",
       "      <td>0.911969</td>\n",
       "      <td>0.912020</td>\n",
       "      <td>0.912020</td>\n",
       "      <td>0.912003</td>\n",
       "      <td>0.000024</td>\n",
       "      <td>1</td>\n",
       "    </tr>\n",
       "    <tr>\n",
       "      <th>4</th>\n",
       "      <td>5.363536</td>\n",
       "      <td>0.282607</td>\n",
       "      <td>0.261057</td>\n",
       "      <td>0.021281</td>\n",
       "      <td>300</td>\n",
       "      <td>0.1</td>\n",
       "      <td>10</td>\n",
       "      <td>sqrt</td>\n",
       "      <td>22</td>\n",
       "      <td>0.2</td>\n",
       "      <td>friedman_mse</td>\n",
       "      <td>{'n_estimators': 300, 'min_weight_fraction_lea...</td>\n",
       "      <td>0.911969</td>\n",
       "      <td>0.912020</td>\n",
       "      <td>0.912020</td>\n",
       "      <td>0.912003</td>\n",
       "      <td>0.000024</td>\n",
       "      <td>1</td>\n",
       "    </tr>\n",
       "    <tr>\n",
       "      <th>6</th>\n",
       "      <td>2.742948</td>\n",
       "      <td>0.073121</td>\n",
       "      <td>0.164371</td>\n",
       "      <td>0.011441</td>\n",
       "      <td>300</td>\n",
       "      <td>0.1</td>\n",
       "      <td>10</td>\n",
       "      <td>log2</td>\n",
       "      <td>107</td>\n",
       "      <td>0.7</td>\n",
       "      <td>squared_error</td>\n",
       "      <td>{'n_estimators': 300, 'min_weight_fraction_lea...</td>\n",
       "      <td>0.911969</td>\n",
       "      <td>0.912020</td>\n",
       "      <td>0.912020</td>\n",
       "      <td>0.912003</td>\n",
       "      <td>0.000024</td>\n",
       "      <td>1</td>\n",
       "    </tr>\n",
       "    <tr>\n",
       "      <th>7</th>\n",
       "      <td>0.223384</td>\n",
       "      <td>0.007589</td>\n",
       "      <td>0.045011</td>\n",
       "      <td>0.002162</td>\n",
       "      <td>10</td>\n",
       "      <td>0.2</td>\n",
       "      <td>10</td>\n",
       "      <td>sqrt</td>\n",
       "      <td>300</td>\n",
       "      <td>0.5</td>\n",
       "      <td>squared_error</td>\n",
       "      <td>{'n_estimators': 10, 'min_weight_fraction_leaf...</td>\n",
       "      <td>0.911969</td>\n",
       "      <td>0.912020</td>\n",
       "      <td>0.912020</td>\n",
       "      <td>0.912003</td>\n",
       "      <td>0.000024</td>\n",
       "      <td>1</td>\n",
       "    </tr>\n",
       "    <tr>\n",
       "      <th>5</th>\n",
       "      <td>0.215379</td>\n",
       "      <td>0.017252</td>\n",
       "      <td>0.041342</td>\n",
       "      <td>0.001699</td>\n",
       "      <td>10</td>\n",
       "      <td>0</td>\n",
       "      <td>50</td>\n",
       "      <td>sqrt</td>\n",
       "      <td>1</td>\n",
       "      <td>0.7</td>\n",
       "      <td>squared_error</td>\n",
       "      <td>{'n_estimators': 10, 'min_weight_fraction_leaf...</td>\n",
       "      <td>0.911745</td>\n",
       "      <td>0.912020</td>\n",
       "      <td>0.911796</td>\n",
       "      <td>0.911854</td>\n",
       "      <td>0.000119</td>\n",
       "      <td>7</td>\n",
       "    </tr>\n",
       "    <tr>\n",
       "      <th>0</th>\n",
       "      <td>35.791024</td>\n",
       "      <td>0.201265</td>\n",
       "      <td>0.263704</td>\n",
       "      <td>0.012685</td>\n",
       "      <td>50</td>\n",
       "      <td>0</td>\n",
       "      <td>10</td>\n",
       "      <td>log2</td>\n",
       "      <td>65</td>\n",
       "      <td>0.2</td>\n",
       "      <td>friedman_mse</td>\n",
       "      <td>{'n_estimators': 50, 'min_weight_fraction_leaf...</td>\n",
       "      <td>0.911521</td>\n",
       "      <td>0.911460</td>\n",
       "      <td>0.911572</td>\n",
       "      <td>0.911518</td>\n",
       "      <td>0.000046</td>\n",
       "      <td>8</td>\n",
       "    </tr>\n",
       "    <tr>\n",
       "      <th>9</th>\n",
       "      <td>39.834946</td>\n",
       "      <td>0.535893</td>\n",
       "      <td>0.306400</td>\n",
       "      <td>0.009979</td>\n",
       "      <td>300</td>\n",
       "      <td>0</td>\n",
       "      <td>10</td>\n",
       "      <td>log2</td>\n",
       "      <td>43</td>\n",
       "      <td>0.5</td>\n",
       "      <td>friedman_mse</td>\n",
       "      <td>{'n_estimators': 300, 'min_weight_fraction_lea...</td>\n",
       "      <td>0.911353</td>\n",
       "      <td>0.911293</td>\n",
       "      <td>0.911684</td>\n",
       "      <td>0.911443</td>\n",
       "      <td>0.000172</td>\n",
       "      <td>9</td>\n",
       "    </tr>\n",
       "    <tr>\n",
       "      <th>8</th>\n",
       "      <td>3.910873</td>\n",
       "      <td>0.052933</td>\n",
       "      <td>0.060680</td>\n",
       "      <td>0.003860</td>\n",
       "      <td>5</td>\n",
       "      <td>0</td>\n",
       "      <td>10</td>\n",
       "      <td>log2</td>\n",
       "      <td>235</td>\n",
       "      <td>0.4</td>\n",
       "      <td>squared_error</td>\n",
       "      <td>{'n_estimators': 5, 'min_weight_fraction_leaf'...</td>\n",
       "      <td>0.888535</td>\n",
       "      <td>0.888249</td>\n",
       "      <td>0.889479</td>\n",
       "      <td>0.888754</td>\n",
       "      <td>0.000526</td>\n",
       "      <td>10</td>\n",
       "    </tr>\n",
       "  </tbody>\n",
       "</table>\n",
       "</div>"
      ],
      "text/plain": [
       "   mean_fit_time  std_fit_time  mean_score_time  std_score_time  \\\n",
       "1       0.486442      0.020142         0.079688        0.011325   \n",
       "2       0.349412      0.043155         0.055679        0.005438   \n",
       "3       0.366414      0.034009         0.064016        0.004900   \n",
       "4       5.363536      0.282607         0.261057        0.021281   \n",
       "6       2.742948      0.073121         0.164371        0.011441   \n",
       "7       0.223384      0.007589         0.045011        0.002162   \n",
       "5       0.215379      0.017252         0.041342        0.001699   \n",
       "0      35.791024      0.201265         0.263704        0.012685   \n",
       "9      39.834946      0.535893         0.306400        0.009979   \n",
       "8       3.910873      0.052933         0.060680        0.003860   \n",
       "\n",
       "  param_n_estimators param_min_weight_fraction_leaf param_min_samples_split  \\\n",
       "1                 10                            0.1                      10   \n",
       "2                  5                            0.1                      10   \n",
       "3                 10                            0.1                      10   \n",
       "4                300                            0.1                      10   \n",
       "6                300                            0.1                      10   \n",
       "7                 10                            0.2                      10   \n",
       "5                 10                              0                      50   \n",
       "0                 50                              0                      10   \n",
       "9                300                              0                      10   \n",
       "8                  5                              0                      10   \n",
       "\n",
       "  param_max_features param_max_depth param_learning_rate param_criterion  \\\n",
       "1               sqrt             193                 0.5   squared_error   \n",
       "2               sqrt             107                 0.6    friedman_mse   \n",
       "3               sqrt              86                 0.3    friedman_mse   \n",
       "4               sqrt              22                 0.2    friedman_mse   \n",
       "6               log2             107                 0.7   squared_error   \n",
       "7               sqrt             300                 0.5   squared_error   \n",
       "5               sqrt               1                 0.7   squared_error   \n",
       "0               log2              65                 0.2    friedman_mse   \n",
       "9               log2              43                 0.5    friedman_mse   \n",
       "8               log2             235                 0.4   squared_error   \n",
       "\n",
       "                                              params  split0_test_score  \\\n",
       "1  {'n_estimators': 10, 'min_weight_fraction_leaf...           0.911969   \n",
       "2  {'n_estimators': 5, 'min_weight_fraction_leaf'...           0.911969   \n",
       "3  {'n_estimators': 10, 'min_weight_fraction_leaf...           0.911969   \n",
       "4  {'n_estimators': 300, 'min_weight_fraction_lea...           0.911969   \n",
       "6  {'n_estimators': 300, 'min_weight_fraction_lea...           0.911969   \n",
       "7  {'n_estimators': 10, 'min_weight_fraction_leaf...           0.911969   \n",
       "5  {'n_estimators': 10, 'min_weight_fraction_leaf...           0.911745   \n",
       "0  {'n_estimators': 50, 'min_weight_fraction_leaf...           0.911521   \n",
       "9  {'n_estimators': 300, 'min_weight_fraction_lea...           0.911353   \n",
       "8  {'n_estimators': 5, 'min_weight_fraction_leaf'...           0.888535   \n",
       "\n",
       "   split1_test_score  split2_test_score  mean_test_score  std_test_score  \\\n",
       "1           0.912020           0.912020         0.912003        0.000024   \n",
       "2           0.912020           0.912020         0.912003        0.000024   \n",
       "3           0.912020           0.912020         0.912003        0.000024   \n",
       "4           0.912020           0.912020         0.912003        0.000024   \n",
       "6           0.912020           0.912020         0.912003        0.000024   \n",
       "7           0.912020           0.912020         0.912003        0.000024   \n",
       "5           0.912020           0.911796         0.911854        0.000119   \n",
       "0           0.911460           0.911572         0.911518        0.000046   \n",
       "9           0.911293           0.911684         0.911443        0.000172   \n",
       "8           0.888249           0.889479         0.888754        0.000526   \n",
       "\n",
       "   rank_test_score  \n",
       "1                1  \n",
       "2                1  \n",
       "3                1  \n",
       "4                1  \n",
       "6                1  \n",
       "7                1  \n",
       "5                7  \n",
       "0                8  \n",
       "9                9  \n",
       "8               10  "
      ]
     },
     "execution_count": 116,
     "metadata": {},
     "output_type": "execute_result"
    }
   ],
   "source": [
    "rs_cv_results = pd.DataFrame(random_search.cv_results_)\n",
    "rs_cv_results.sort_values(by='mean_test_score', ascending=False)"
   ]
  },
  {
   "cell_type": "code",
   "execution_count": 117,
   "metadata": {},
   "outputs": [
    {
     "data": {
      "text/plain": [
       "{'n_estimators': 10,\n",
       " 'min_weight_fraction_leaf': 0.1,\n",
       " 'min_samples_split': 10,\n",
       " 'max_features': 'sqrt',\n",
       " 'max_depth': 193,\n",
       " 'learning_rate': 0.5,\n",
       " 'criterion': 'squared_error'}"
      ]
     },
     "execution_count": 117,
     "metadata": {},
     "output_type": "execute_result"
    }
   ],
   "source": [
    "random_search.best_params_"
   ]
  },
  {
   "cell_type": "code",
   "execution_count": 122,
   "metadata": {},
   "outputs": [],
   "source": [
    "clf_opt = random_search.best_estimator_"
   ]
  },
  {
   "cell_type": "code",
   "execution_count": 123,
   "metadata": {},
   "outputs": [
    {
     "data": {
      "text/plain": [
       "0.9120246085011185"
      ]
     },
     "execution_count": 123,
     "metadata": {},
     "output_type": "execute_result"
    }
   ],
   "source": [
    "random_search.best_estimator_.score(X_test, y_test)"
   ]
  },
  {
   "cell_type": "markdown",
   "metadata": {},
   "source": [
    "- After getting an idea of the optimal hyperparameters, they are tuned slightly more with a GridSearchCV, which is more thorough."
   ]
  },
  {
   "cell_type": "code",
   "execution_count": 168,
   "metadata": {},
   "outputs": [],
   "source": [
    "gridsearch_param_grid = {'learning_rate': [0.4, 0.5, 0.6],\n",
    "              'max_depth': [220, 230, 235],\n",
    "              'min_weight_fraction_leaf': [0.2, 0.3, 0.4],\n",
    "              'min_samples_split': [20, 35, 40],\n",
    "              'n_estimators': [10, 13, 20],        \n",
    "            }"
   ]
  },
  {
   "cell_type": "code",
   "execution_count": 169,
   "metadata": {},
   "outputs": [
    {
     "name": "stdout",
     "output_type": "stream",
     "text": [
      "Fitting 3 folds for each of 243 candidates, totalling 729 fits\n",
      "Wall time: 2min 35s\n"
     ]
    },
    {
     "data": {
      "text/plain": [
       "GridSearchCV(cv=3, estimator=GradientBoostingClassifier(random_state=42),\n",
       "             n_jobs=-1,\n",
       "             param_grid={'learning_rate': [0.4, 0.5, 0.6],\n",
       "                         'max_depth': [220, 230, 235],\n",
       "                         'min_samples_split': [20, 35, 40],\n",
       "                         'min_weight_fraction_leaf': [0.2, 0.3, 0.4],\n",
       "                         'n_estimators': [10, 13, 20]},\n",
       "             scoring='roc_auc', verbose=1)"
      ]
     },
     "execution_count": 169,
     "metadata": {},
     "output_type": "execute_result"
    }
   ],
   "source": [
    "# initialize grid search with roc-auc as score\n",
    "gridsearch_roc = GridSearchCV(clf, param_grid = gridsearch_param_grid, scoring='roc_auc', cv=3, n_jobs=-1, verbose=1)\n",
    "\n",
    "# fit on training data\n",
    "%time gridsearch_roc.fit(X_train, y_train)"
   ]
  },
  {
   "cell_type": "code",
   "execution_count": 170,
   "metadata": {},
   "outputs": [],
   "source": [
    "clf_opt_gridsearch = gridsearch_roc.best_estimator_"
   ]
  },
  {
   "cell_type": "code",
   "execution_count": 171,
   "metadata": {},
   "outputs": [
    {
     "data": {
      "text/plain": [
       "{'learning_rate': 0.4,\n",
       " 'max_depth': 220,\n",
       " 'min_samples_split': 20,\n",
       " 'min_weight_fraction_leaf': 0.2,\n",
       " 'n_estimators': 20}"
      ]
     },
     "execution_count": 171,
     "metadata": {},
     "output_type": "execute_result"
    }
   ],
   "source": [
    "gridsearch_roc.best_params_"
   ]
  },
  {
   "cell_type": "code",
   "execution_count": 172,
   "metadata": {},
   "outputs": [
    {
     "data": {
      "text/plain": [
       "0.9120246085011185"
      ]
     },
     "execution_count": 172,
     "metadata": {},
     "output_type": "execute_result"
    }
   ],
   "source": [
    "gridsearch_roc.best_estimator_.score(X_test, y_test)"
   ]
  },
  {
   "cell_type": "markdown",
   "metadata": {},
   "source": [
    "- The hyperparameter tuning has not rendered significant improvements. "
   ]
  },
  {
   "cell_type": "markdown",
   "metadata": {},
   "source": [
    "#### 'Optimized' Model Evaluation\n",
    "The hyperparameter tuning has not rendered significant improvements. "
   ]
  },
  {
   "cell_type": "code",
   "execution_count": 124,
   "metadata": {},
   "outputs": [
    {
     "name": "stdout",
     "output_type": "stream",
     "text": [
      "              precision    recall  f1-score   support\n",
      "\n",
      "           0       0.91      1.00      0.95     16307\n",
      "           1       0.00      0.00      0.00      1573\n",
      "\n",
      "    accuracy                           0.91     17880\n",
      "   macro avg       0.46      0.50      0.48     17880\n",
      "weighted avg       0.83      0.91      0.87     17880\n",
      "\n"
     ]
    },
    {
     "name": "stderr",
     "output_type": "stream",
     "text": [
      "C:\\Users\\dnils\\anaconda3\\lib\\site-packages\\sklearn\\metrics\\_classification.py:1308: UndefinedMetricWarning: Precision and F-score are ill-defined and being set to 0.0 in labels with no predicted samples. Use `zero_division` parameter to control this behavior.\n",
      "  _warn_prf(average, modifier, msg_start, len(result))\n",
      "C:\\Users\\dnils\\anaconda3\\lib\\site-packages\\sklearn\\metrics\\_classification.py:1308: UndefinedMetricWarning: Precision and F-score are ill-defined and being set to 0.0 in labels with no predicted samples. Use `zero_division` parameter to control this behavior.\n",
      "  _warn_prf(average, modifier, msg_start, len(result))\n",
      "C:\\Users\\dnils\\anaconda3\\lib\\site-packages\\sklearn\\metrics\\_classification.py:1308: UndefinedMetricWarning: Precision and F-score are ill-defined and being set to 0.0 in labels with no predicted samples. Use `zero_division` parameter to control this behavior.\n",
      "  _warn_prf(average, modifier, msg_start, len(result))\n"
     ]
    }
   ],
   "source": [
    "# Predict labels\n",
    "y_pred = clf_opt.predict(X_test)\n",
    "\n",
    "# Print metrics\n",
    "print(classification_report(y_test, y_pred))"
   ]
  },
  {
   "cell_type": "code",
   "execution_count": 125,
   "metadata": {},
   "outputs": [
    {
     "data": {
      "text/plain": [
       "<sklearn.metrics._plot.confusion_matrix.ConfusionMatrixDisplay at 0x170b1abce20>"
      ]
     },
     "execution_count": 125,
     "metadata": {},
     "output_type": "execute_result"
    },
    {
     "data": {
      "image/png": "[encoded data removed]",
      "text/plain": [
       "<Figure size 432x288 with 2 Axes>"
      ]
     },
     "metadata": {
      "needs_background": "light"
     },
     "output_type": "display_data"
    }
   ],
   "source": [
    "ConfusionMatrixDisplay.from_predictions(y_test, y_pred, cmap='Blues')"
   ]
  },
  {
   "cell_type": "markdown",
   "metadata": {},
   "source": [
    "Even this model predicts everything as 0."
   ]
  },
  {
   "cell_type": "code",
   "execution_count": 173,
   "metadata": {},
   "outputs": [
    {
     "name": "stdout",
     "output_type": "stream",
     "text": [
      "              precision    recall  f1-score   support\n",
      "\n",
      "           0       0.91      1.00      0.95     16307\n",
      "           1       0.00      0.00      0.00      1573\n",
      "\n",
      "    accuracy                           0.91     17880\n",
      "   macro avg       0.46      0.50      0.48     17880\n",
      "weighted avg       0.83      0.91      0.87     17880\n",
      "\n"
     ]
    },
    {
     "name": "stderr",
     "output_type": "stream",
     "text": [
      "C:\\Users\\dnils\\anaconda3\\lib\\site-packages\\sklearn\\metrics\\_classification.py:1308: UndefinedMetricWarning: Precision and F-score are ill-defined and being set to 0.0 in labels with no predicted samples. Use `zero_division` parameter to control this behavior.\n",
      "  _warn_prf(average, modifier, msg_start, len(result))\n",
      "C:\\Users\\dnils\\anaconda3\\lib\\site-packages\\sklearn\\metrics\\_classification.py:1308: UndefinedMetricWarning: Precision and F-score are ill-defined and being set to 0.0 in labels with no predicted samples. Use `zero_division` parameter to control this behavior.\n",
      "  _warn_prf(average, modifier, msg_start, len(result))\n",
      "C:\\Users\\dnils\\anaconda3\\lib\\site-packages\\sklearn\\metrics\\_classification.py:1308: UndefinedMetricWarning: Precision and F-score are ill-defined and being set to 0.0 in labels with no predicted samples. Use `zero_division` parameter to control this behavior.\n",
      "  _warn_prf(average, modifier, msg_start, len(result))\n"
     ]
    }
   ],
   "source": [
    "# Predict labels\n",
    "y_pred = clf_opt_gridsearch.predict(X_test)\n",
    "\n",
    "# Print metrics\n",
    "print(classification_report(y_test, y_pred))"
   ]
  },
  {
   "cell_type": "code",
   "execution_count": 174,
   "metadata": {},
   "outputs": [
    {
     "data": {
      "text/plain": [
       "<sklearn.metrics._plot.confusion_matrix.ConfusionMatrixDisplay at 0x1708da05bb0>"
      ]
     },
     "execution_count": 174,
     "metadata": {},
     "output_type": "execute_result"
    },
    {
     "data": {
      "image/png": "[encoded data removed]",
      "text/plain": [
       "<Figure size 432x288 with 2 Axes>"
      ]
     },
     "metadata": {
      "needs_background": "light"
     },
     "output_type": "display_data"
    }
   ],
   "source": [
    "ConfusionMatrixDisplay.from_predictions(y_test, y_pred, cmap='Blues')"
   ]
  },
  {
   "cell_type": "markdown",
   "metadata": {},
   "source": [
    "### 3.5.4 Gradient Boosting ROC-AUC\n",
    "[Back to top](#top)\n",
    "\n",
    "As explained earlier, the ROC-AUC could be a better metric compared to Accuracy, as we are dealing with and imbalanced dataset and the ROC-AUC metric dictates to what extent the model can differentiate between classes."
   ]
  },
  {
   "cell_type": "code",
   "execution_count": 126,
   "metadata": {},
   "outputs": [
    {
     "data": {
      "text/plain": [
       "0.6576479291515221"
      ]
     },
     "execution_count": 126,
     "metadata": {},
     "output_type": "execute_result"
    }
   ],
   "source": [
    "# calculate prediction probabilities\n",
    "y_prob = clf.predict_proba(X_test)\n",
    "\n",
    "# calculate roc-auc\n",
    "roc_auc_score(y_test, y_prob[:,1])"
   ]
  },
  {
   "cell_type": "code",
   "execution_count": 127,
   "metadata": {
    "scrolled": true
   },
   "outputs": [
    {
     "data": {
      "text/plain": [
       "<sklearn.metrics._plot.roc_curve.RocCurveDisplay at 0x170b1ba7070>"
      ]
     },
     "execution_count": 127,
     "metadata": {},
     "output_type": "execute_result"
    },
    {
     "data": {
      "image/png": "[encoded data removed]",
      "text/plain": [
       "<Figure size 432x288 with 1 Axes>"
      ]
     },
     "metadata": {
      "needs_background": "light"
     },
     "output_type": "display_data"
    }
   ],
   "source": [
    "# plot roc curve\n",
    "RocCurveDisplay.from_estimator(clf, X_test, y_test)"
   ]
  },
  {
   "cell_type": "markdown",
   "metadata": {},
   "source": [
    "The ROC curve is not very different from the other models with a value of 0.66.  \n",
    "\n",
    "While class_weight has been used in the other models for further handle imbalance, it is not relevant for this Gradient Boosted model. Instead, Gradient Boosted models handle imbalance by training iteratively, with respect to the incorrect classifications."
   ]
  },
  {
   "cell_type": "markdown",
   "metadata": {},
   "source": [
    "#### Probability Calibration\n",
    "\n"
   ]
  },
  {
   "cell_type": "code",
   "execution_count": 181,
   "metadata": {
    "scrolled": true
   },
   "outputs": [
    {
     "data": {
      "text/plain": [
       "<sklearn.calibration.CalibrationDisplay at 0x1708cf68f70>"
      ]
     },
     "execution_count": 181,
     "metadata": {},
     "output_type": "execute_result"
    },
    {
     "data": {
      "image/png": "[encoded data removed]",
      "text/plain": [
       "<Figure size 432x288 with 1 Axes>"
      ]
     },
     "metadata": {
      "needs_background": "light"
     },
     "output_type": "display_data"
    }
   ],
   "source": [
    "CalibrationDisplay.from_estimator(clf, X_test, y_test)"
   ]
  },
  {
   "cell_type": "markdown",
   "metadata": {},
   "source": [
    "While the Gradient Boosting model seems to be relatively well calibrated, there is room for improvement. "
   ]
  },
  {
   "cell_type": "code",
   "execution_count": 182,
   "metadata": {},
   "outputs": [
    {
     "name": "stdout",
     "output_type": "stream",
     "text": [
      "Wall time: 19.2 s\n"
     ]
    },
    {
     "data": {
      "text/plain": [
       "CalibratedClassifierCV(base_estimator=GradientBoostingClassifier(random_state=42),\n",
       "                       n_jobs=-1)"
      ]
     },
     "execution_count": 182,
     "metadata": {},
     "output_type": "execute_result"
    }
   ],
   "source": [
    "# fit and calibrate model on training data\n",
    "\n",
    "clf_calibrated = CalibratedClassifierCV(clf, n_jobs=-1)\n",
    "%time clf_calibrated.fit(X_train, y_train)"
   ]
  },
  {
   "cell_type": "code",
   "execution_count": 184,
   "metadata": {},
   "outputs": [
    {
     "data": {
      "text/plain": [
       "<sklearn.calibration.CalibrationDisplay at 0x170b17947c0>"
      ]
     },
     "execution_count": 184,
     "metadata": {},
     "output_type": "execute_result"
    },
    {
     "data": {
      "image/png": "[encoded data removed]",
      "text/plain": [
       "<Figure size 432x288 with 1 Axes>"
      ]
     },
     "metadata": {
      "needs_background": "light"
     },
     "output_type": "display_data"
    }
   ],
   "source": [
    "CalibrationDisplay.from_estimator(clf_calibrated, X_test, y_test)"
   ]
  },
  {
   "cell_type": "markdown",
   "metadata": {},
   "source": [
    "#### G-Mean Optimizing Threshold Selection\n",
    "\n",
    "After calibration, we attempt to maximize geometric mean between the True Positive Rate (TPR) and False Positive Rate (FPR). "
   ]
  },
  {
   "cell_type": "code",
   "execution_count": 186,
   "metadata": {},
   "outputs": [],
   "source": [
    "# predict probabilities\n",
    "y_prob = clf_calibrated.predict_proba(X_test)\n",
    "\n",
    "# probabilities for the positive outcome only\n",
    "y_prob_1 = y_prob[:, 1]\n",
    "\n",
    "# calculate roc curve\n",
    "fpr, tpr, thresholds = roc_curve(y_test, y_prob_1)\n",
    "\n",
    "# calculate g-mean for every threshold\n",
    "gmeans = np.sqrt(tpr * (1-fpr))"
   ]
  },
  {
   "cell_type": "code",
   "execution_count": 187,
   "metadata": {},
   "outputs": [
    {
     "data": {
      "text/html": [
       "<div>\n",
       "<style scoped>\n",
       "    .dataframe tbody tr th:only-of-type {\n",
       "        vertical-align: middle;\n",
       "    }\n",
       "\n",
       "    .dataframe tbody tr th {\n",
       "        vertical-align: top;\n",
       "    }\n",
       "\n",
       "    .dataframe thead th {\n",
       "        text-align: right;\n",
       "    }\n",
       "</style>\n",
       "<table border=\"1\" class=\"dataframe\">\n",
       "  <thead>\n",
       "    <tr style=\"text-align: right;\">\n",
       "      <th></th>\n",
       "      <th>Threshold</th>\n",
       "      <th>FPR</th>\n",
       "      <th>TPR</th>\n",
       "      <th>GMean</th>\n",
       "    </tr>\n",
       "  </thead>\n",
       "  <tbody>\n",
       "    <tr>\n",
       "      <th>1690</th>\n",
       "      <td>0.077853</td>\n",
       "      <td>0.408659</td>\n",
       "      <td>0.634456</td>\n",
       "      <td>0.612520</td>\n",
       "    </tr>\n",
       "    <tr>\n",
       "      <th>1664</th>\n",
       "      <td>0.078690</td>\n",
       "      <td>0.400258</td>\n",
       "      <td>0.625556</td>\n",
       "      <td>0.612513</td>\n",
       "    </tr>\n",
       "    <tr>\n",
       "      <th>1628</th>\n",
       "      <td>0.079979</td>\n",
       "      <td>0.386582</td>\n",
       "      <td>0.611570</td>\n",
       "      <td>0.612493</td>\n",
       "    </tr>\n",
       "    <tr>\n",
       "      <th>1682</th>\n",
       "      <td>0.078024</td>\n",
       "      <td>0.406942</td>\n",
       "      <td>0.632549</td>\n",
       "      <td>0.612486</td>\n",
       "    </tr>\n",
       "    <tr>\n",
       "      <th>1684</th>\n",
       "      <td>0.077979</td>\n",
       "      <td>0.407862</td>\n",
       "      <td>0.633185</td>\n",
       "      <td>0.612318</td>\n",
       "    </tr>\n",
       "    <tr>\n",
       "      <th>...</th>\n",
       "      <td>...</td>\n",
       "      <td>...</td>\n",
       "      <td>...</td>\n",
       "      <td>...</td>\n",
       "    </tr>\n",
       "    <tr>\n",
       "      <th>2</th>\n",
       "      <td>0.692418</td>\n",
       "      <td>0.000000</td>\n",
       "      <td>0.002543</td>\n",
       "      <td>0.050427</td>\n",
       "    </tr>\n",
       "    <tr>\n",
       "      <th>3</th>\n",
       "      <td>0.646534</td>\n",
       "      <td>0.000061</td>\n",
       "      <td>0.002543</td>\n",
       "      <td>0.050426</td>\n",
       "    </tr>\n",
       "    <tr>\n",
       "      <th>1</th>\n",
       "      <td>0.768425</td>\n",
       "      <td>0.000000</td>\n",
       "      <td>0.000636</td>\n",
       "      <td>0.025214</td>\n",
       "    </tr>\n",
       "    <tr>\n",
       "      <th>0</th>\n",
       "      <td>1.768425</td>\n",
       "      <td>0.000000</td>\n",
       "      <td>0.000000</td>\n",
       "      <td>0.000000</td>\n",
       "    </tr>\n",
       "    <tr>\n",
       "      <th>2872</th>\n",
       "      <td>0.010797</td>\n",
       "      <td>1.000000</td>\n",
       "      <td>1.000000</td>\n",
       "      <td>0.000000</td>\n",
       "    </tr>\n",
       "  </tbody>\n",
       "</table>\n",
       "<p>2873 rows × 4 columns</p>\n",
       "</div>"
      ],
      "text/plain": [
       "      Threshold       FPR       TPR     GMean\n",
       "1690   0.077853  0.408659  0.634456  0.612520\n",
       "1664   0.078690  0.400258  0.625556  0.612513\n",
       "1628   0.079979  0.386582  0.611570  0.612493\n",
       "1682   0.078024  0.406942  0.632549  0.612486\n",
       "1684   0.077979  0.407862  0.633185  0.612318\n",
       "...         ...       ...       ...       ...\n",
       "2      0.692418  0.000000  0.002543  0.050427\n",
       "3      0.646534  0.000061  0.002543  0.050426\n",
       "1      0.768425  0.000000  0.000636  0.025214\n",
       "0      1.768425  0.000000  0.000000  0.000000\n",
       "2872   0.010797  1.000000  1.000000  0.000000\n",
       "\n",
       "[2873 rows x 4 columns]"
      ]
     },
     "execution_count": 187,
     "metadata": {},
     "output_type": "execute_result"
    }
   ],
   "source": [
    "# Save in dataframe and sort by gmean\n",
    "\n",
    "df_thresh = pd.DataFrame({'Threshold': thresholds, 'FPR': fpr, 'TPR': tpr, 'GMean': gmeans})\n",
    "df_thresh.sort_values(by='GMean', ascending=False)"
   ]
  },
  {
   "cell_type": "code",
   "execution_count": 188,
   "metadata": {},
   "outputs": [
    {
     "data": {
      "text/plain": [
       "0.07785328251740202"
      ]
     },
     "execution_count": 188,
     "metadata": {},
     "output_type": "execute_result"
    }
   ],
   "source": [
    "# get the best threshold\n",
    "best_thresh = thresholds[np.argmax(gmeans)]\n",
    "best_thresh"
   ]
  },
  {
   "cell_type": "markdown",
   "metadata": {},
   "source": [
    "#### Weighed Model Evaluation"
   ]
  },
  {
   "cell_type": "code",
   "execution_count": 189,
   "metadata": {},
   "outputs": [],
   "source": [
    "# calculate probability estimates for class 1\n",
    "y_prob = clf_calibrated.predict_proba(X_test)\n",
    "y_prob_1 = y_prob[:,1]\n",
    "\n",
    "#calculate predictions using custom discrimination threshold\n",
    "y_pred = (y_prob_1 >= best_thresh).astype(int)"
   ]
  },
  {
   "cell_type": "code",
   "execution_count": 190,
   "metadata": {},
   "outputs": [
    {
     "data": {
      "text/plain": [
       "<sklearn.metrics._plot.confusion_matrix.ConfusionMatrixDisplay at 0x170b187aee0>"
      ]
     },
     "execution_count": 190,
     "metadata": {},
     "output_type": "execute_result"
    },
    {
     "data": {
      "image/png": "[encoded data removed]",
      "text/plain": [
       "<Figure size 432x288 with 2 Axes>"
      ]
     },
     "metadata": {
      "needs_background": "light"
     },
     "output_type": "display_data"
    }
   ],
   "source": [
    "ConfusionMatrixDisplay.from_predictions(y_test, y_pred, cmap='Blues')"
   ]
  },
  {
   "cell_type": "code",
   "execution_count": 191,
   "metadata": {},
   "outputs": [
    {
     "data": {
      "text/plain": [
       "<sklearn.metrics._plot.confusion_matrix.ConfusionMatrixDisplay at 0x1708ceea730>"
      ]
     },
     "execution_count": 191,
     "metadata": {},
     "output_type": "execute_result"
    },
    {
     "data": {
      "image/png": "[encoded data removed]",
      "text/plain": [
       "<Figure size 432x288 with 2 Axes>"
      ]
     },
     "metadata": {
      "needs_background": "light"
     },
     "output_type": "display_data"
    }
   ],
   "source": [
    "ConfusionMatrixDisplay.from_predictions(y_test, y_pred, normalize='true', cmap='Greens')"
   ]
  },
  {
   "cell_type": "code",
   "execution_count": 192,
   "metadata": {},
   "outputs": [
    {
     "name": "stdout",
     "output_type": "stream",
     "text": [
      "              precision    recall  f1-score   support\n",
      "\n",
      "           0       0.94      0.59      0.73     16307\n",
      "           1       0.13      0.63      0.22      1573\n",
      "\n",
      "    accuracy                           0.60     17880\n",
      "   macro avg       0.54      0.61      0.47     17880\n",
      "weighted avg       0.87      0.60      0.68     17880\n",
      "\n"
     ]
    }
   ],
   "source": [
    "print(classification_report(y_test, y_pred))"
   ]
  },
  {
   "cell_type": "markdown",
   "metadata": {},
   "source": [
    "Once again, to get better results with the minority class, we sacrifice the performance in the majority class. Recall score for example has rised up to 63% for TPR, but TNR has been reduced to 59%. The Precision score has also declined significantly."
   ]
  },
  {
   "cell_type": "markdown",
   "metadata": {},
   "source": [
    "### 3.5.5 Precision-Recall Curve\n",
    "[Back to top](#top)\n",
    "\n",
    "As before, we look at the precision-recall curve which only takes the class 1 into account and to select the threshold according to precision and recall."
   ]
  },
  {
   "cell_type": "code",
   "execution_count": 194,
   "metadata": {},
   "outputs": [
    {
     "data": {
      "text/plain": [
       "0.1802970566701708"
      ]
     },
     "execution_count": 194,
     "metadata": {},
     "output_type": "execute_result"
    }
   ],
   "source": [
    "y_prob_1 = clf_calibrated.predict_proba(X_test)[:,1]\n",
    "average_precision_score(y_test, y_prob_1)"
   ]
  },
  {
   "cell_type": "code",
   "execution_count": 195,
   "metadata": {},
   "outputs": [
    {
     "data": {
      "text/plain": [
       "<sklearn.metrics._plot.precision_recall_curve.PrecisionRecallDisplay at 0x170b187d550>"
      ]
     },
     "execution_count": 195,
     "metadata": {},
     "output_type": "execute_result"
    },
    {
     "data": {
      "image/png": "[encoded data removed]",
      "text/plain": [
       "<Figure size 432x288 with 1 Axes>"
      ]
     },
     "metadata": {
      "needs_background": "light"
     },
     "output_type": "display_data"
    }
   ],
   "source": [
    "PrecisionRecallDisplay.from_estimator(clf_calibrated, X_test, y_test)"
   ]
  },
  {
   "cell_type": "markdown",
   "metadata": {},
   "source": [
    "The Gradient Boosted model has a precision, which is represented by AUC, of 18%.\n",
    "\n",
    "#### F-Score Optimizing Threshold Selection\n",
    "We attempt to optimize the F1 score as it is a harmonic mean between precision and recall. Furthermore, we optimize the F2 score, where recall is more important than precision."
   ]
  },
  {
   "cell_type": "code",
   "execution_count": 196,
   "metadata": {},
   "outputs": [],
   "source": [
    "# predict probabilities\n",
    "y_prob = clf_calibrated.predict_proba(X_test)\n",
    "\n",
    "# probabilities for the positive outcome only\n",
    "y_prob_1 = y_prob[:, 1]\n",
    "\n",
    "# calculate precision-recall curve\n",
    "precision, recall, thresholds = precision_recall_curve(y_test, y_prob_1)\n",
    "\n",
    "# calculate f scores for every threshold\n",
    "f1_scores = (2 * precision * recall) / (precision + recall)\n",
    "f2_scores = (5 * precision * recall) / (4 * precision + recall)"
   ]
  },
  {
   "cell_type": "code",
   "execution_count": 197,
   "metadata": {},
   "outputs": [
    {
     "data": {
      "text/html": [
       "<div>\n",
       "<style scoped>\n",
       "    .dataframe tbody tr th:only-of-type {\n",
       "        vertical-align: middle;\n",
       "    }\n",
       "\n",
       "    .dataframe tbody tr th {\n",
       "        vertical-align: top;\n",
       "    }\n",
       "\n",
       "    .dataframe thead th {\n",
       "        text-align: right;\n",
       "    }\n",
       "</style>\n",
       "<table border=\"1\" class=\"dataframe\">\n",
       "  <thead>\n",
       "    <tr style=\"text-align: right;\">\n",
       "      <th></th>\n",
       "      <th>Threshold</th>\n",
       "      <th>Precision</th>\n",
       "      <th>Recall</th>\n",
       "      <th>F1-Score</th>\n",
       "      <th>F2-Score</th>\n",
       "    </tr>\n",
       "  </thead>\n",
       "  <tbody>\n",
       "    <tr>\n",
       "      <th>14809</th>\n",
       "      <td>0.122676</td>\n",
       "      <td>0.195041</td>\n",
       "      <td>0.335029</td>\n",
       "      <td>0.246550</td>\n",
       "      <td>0.292973</td>\n",
       "    </tr>\n",
       "    <tr>\n",
       "      <th>14808</th>\n",
       "      <td>0.122661</td>\n",
       "      <td>0.194969</td>\n",
       "      <td>0.335029</td>\n",
       "      <td>0.246492</td>\n",
       "      <td>0.292941</td>\n",
       "    </tr>\n",
       "    <tr>\n",
       "      <th>14807</th>\n",
       "      <td>0.122619</td>\n",
       "      <td>0.194896</td>\n",
       "      <td>0.335029</td>\n",
       "      <td>0.246434</td>\n",
       "      <td>0.292908</td>\n",
       "    </tr>\n",
       "    <tr>\n",
       "      <th>14806</th>\n",
       "      <td>0.122603</td>\n",
       "      <td>0.194824</td>\n",
       "      <td>0.335029</td>\n",
       "      <td>0.246377</td>\n",
       "      <td>0.292875</td>\n",
       "    </tr>\n",
       "    <tr>\n",
       "      <th>14805</th>\n",
       "      <td>0.122558</td>\n",
       "      <td>0.194752</td>\n",
       "      <td>0.335029</td>\n",
       "      <td>0.246319</td>\n",
       "      <td>0.292843</td>\n",
       "    </tr>\n",
       "    <tr>\n",
       "      <th>...</th>\n",
       "      <td>...</td>\n",
       "      <td>...</td>\n",
       "      <td>...</td>\n",
       "      <td>...</td>\n",
       "      <td>...</td>\n",
       "    </tr>\n",
       "    <tr>\n",
       "      <th>17504</th>\n",
       "      <td>0.692418</td>\n",
       "      <td>1.000000</td>\n",
       "      <td>0.002543</td>\n",
       "      <td>0.005073</td>\n",
       "      <td>0.003177</td>\n",
       "    </tr>\n",
       "    <tr>\n",
       "      <th>17503</th>\n",
       "      <td>0.646534</td>\n",
       "      <td>0.800000</td>\n",
       "      <td>0.002543</td>\n",
       "      <td>0.005070</td>\n",
       "      <td>0.003176</td>\n",
       "    </tr>\n",
       "    <tr>\n",
       "      <th>17505</th>\n",
       "      <td>0.750225</td>\n",
       "      <td>1.000000</td>\n",
       "      <td>0.001907</td>\n",
       "      <td>0.003807</td>\n",
       "      <td>0.002383</td>\n",
       "    </tr>\n",
       "    <tr>\n",
       "      <th>17506</th>\n",
       "      <td>0.751465</td>\n",
       "      <td>1.000000</td>\n",
       "      <td>0.001271</td>\n",
       "      <td>0.002540</td>\n",
       "      <td>0.001589</td>\n",
       "    </tr>\n",
       "    <tr>\n",
       "      <th>17507</th>\n",
       "      <td>0.768425</td>\n",
       "      <td>1.000000</td>\n",
       "      <td>0.000636</td>\n",
       "      <td>0.001271</td>\n",
       "      <td>0.000795</td>\n",
       "    </tr>\n",
       "  </tbody>\n",
       "</table>\n",
       "<p>17508 rows × 5 columns</p>\n",
       "</div>"
      ],
      "text/plain": [
       "       Threshold  Precision    Recall  F1-Score  F2-Score\n",
       "14809   0.122676   0.195041  0.335029  0.246550  0.292973\n",
       "14808   0.122661   0.194969  0.335029  0.246492  0.292941\n",
       "14807   0.122619   0.194896  0.335029  0.246434  0.292908\n",
       "14806   0.122603   0.194824  0.335029  0.246377  0.292875\n",
       "14805   0.122558   0.194752  0.335029  0.246319  0.292843\n",
       "...          ...        ...       ...       ...       ...\n",
       "17504   0.692418   1.000000  0.002543  0.005073  0.003177\n",
       "17503   0.646534   0.800000  0.002543  0.005070  0.003176\n",
       "17505   0.750225   1.000000  0.001907  0.003807  0.002383\n",
       "17506   0.751465   1.000000  0.001271  0.002540  0.001589\n",
       "17507   0.768425   1.000000  0.000636  0.001271  0.000795\n",
       "\n",
       "[17508 rows x 5 columns]"
      ]
     },
     "execution_count": 197,
     "metadata": {},
     "output_type": "execute_result"
    }
   ],
   "source": [
    "# Save in dataframe and sort by f1-score\n",
    "df_thresh_f = pd.DataFrame({'Threshold': thresholds, 'Precision': precision[:-1], 'Recall': recall[:-1], 'F1-Score': f1_scores[:-1], 'F2-Score': f2_scores[:-1]})\n",
    "df_thresh_f.sort_values(by='F1-Score', ascending=False)"
   ]
  },
  {
   "cell_type": "code",
   "execution_count": 198,
   "metadata": {},
   "outputs": [
    {
     "data": {
      "text/plain": [
       "0.12267626460183681"
      ]
     },
     "execution_count": 198,
     "metadata": {},
     "output_type": "execute_result"
    }
   ],
   "source": [
    "# get the f1-optimizing threshold\n",
    "best_thresh_f1 = thresholds[np.argmax(f1_scores)]\n",
    "best_thresh_f1"
   ]
  },
  {
   "cell_type": "code",
   "execution_count": 199,
   "metadata": {},
   "outputs": [
    {
     "data": {
      "text/html": [
       "<div>\n",
       "<style scoped>\n",
       "    .dataframe tbody tr th:only-of-type {\n",
       "        vertical-align: middle;\n",
       "    }\n",
       "\n",
       "    .dataframe tbody tr th {\n",
       "        vertical-align: top;\n",
       "    }\n",
       "\n",
       "    .dataframe thead th {\n",
       "        text-align: right;\n",
       "    }\n",
       "</style>\n",
       "<table border=\"1\" class=\"dataframe\">\n",
       "  <thead>\n",
       "    <tr style=\"text-align: right;\">\n",
       "      <th></th>\n",
       "      <th>Threshold</th>\n",
       "      <th>Precision</th>\n",
       "      <th>Recall</th>\n",
       "      <th>F1-Score</th>\n",
       "      <th>F2-Score</th>\n",
       "    </tr>\n",
       "  </thead>\n",
       "  <tbody>\n",
       "    <tr>\n",
       "      <th>9183</th>\n",
       "      <td>0.074705</td>\n",
       "      <td>0.125854</td>\n",
       "      <td>0.667514</td>\n",
       "      <td>0.211779</td>\n",
       "      <td>0.358729</td>\n",
       "    </tr>\n",
       "    <tr>\n",
       "      <th>9182</th>\n",
       "      <td>0.074703</td>\n",
       "      <td>0.125839</td>\n",
       "      <td>0.667514</td>\n",
       "      <td>0.211758</td>\n",
       "      <td>0.358705</td>\n",
       "    </tr>\n",
       "    <tr>\n",
       "      <th>9279</th>\n",
       "      <td>0.075117</td>\n",
       "      <td>0.126470</td>\n",
       "      <td>0.663064</td>\n",
       "      <td>0.212424</td>\n",
       "      <td>0.358690</td>\n",
       "    </tr>\n",
       "    <tr>\n",
       "      <th>9181</th>\n",
       "      <td>0.074700</td>\n",
       "      <td>0.125824</td>\n",
       "      <td>0.667514</td>\n",
       "      <td>0.211736</td>\n",
       "      <td>0.358680</td>\n",
       "    </tr>\n",
       "    <tr>\n",
       "      <th>9278</th>\n",
       "      <td>0.075117</td>\n",
       "      <td>0.126455</td>\n",
       "      <td>0.663064</td>\n",
       "      <td>0.212402</td>\n",
       "      <td>0.358666</td>\n",
       "    </tr>\n",
       "    <tr>\n",
       "      <th>...</th>\n",
       "      <td>...</td>\n",
       "      <td>...</td>\n",
       "      <td>...</td>\n",
       "      <td>...</td>\n",
       "      <td>...</td>\n",
       "    </tr>\n",
       "    <tr>\n",
       "      <th>17504</th>\n",
       "      <td>0.692418</td>\n",
       "      <td>1.000000</td>\n",
       "      <td>0.002543</td>\n",
       "      <td>0.005073</td>\n",
       "      <td>0.003177</td>\n",
       "    </tr>\n",
       "    <tr>\n",
       "      <th>17503</th>\n",
       "      <td>0.646534</td>\n",
       "      <td>0.800000</td>\n",
       "      <td>0.002543</td>\n",
       "      <td>0.005070</td>\n",
       "      <td>0.003176</td>\n",
       "    </tr>\n",
       "    <tr>\n",
       "      <th>17505</th>\n",
       "      <td>0.750225</td>\n",
       "      <td>1.000000</td>\n",
       "      <td>0.001907</td>\n",
       "      <td>0.003807</td>\n",
       "      <td>0.002383</td>\n",
       "    </tr>\n",
       "    <tr>\n",
       "      <th>17506</th>\n",
       "      <td>0.751465</td>\n",
       "      <td>1.000000</td>\n",
       "      <td>0.001271</td>\n",
       "      <td>0.002540</td>\n",
       "      <td>0.001589</td>\n",
       "    </tr>\n",
       "    <tr>\n",
       "      <th>17507</th>\n",
       "      <td>0.768425</td>\n",
       "      <td>1.000000</td>\n",
       "      <td>0.000636</td>\n",
       "      <td>0.001271</td>\n",
       "      <td>0.000795</td>\n",
       "    </tr>\n",
       "  </tbody>\n",
       "</table>\n",
       "<p>17508 rows × 5 columns</p>\n",
       "</div>"
      ],
      "text/plain": [
       "       Threshold  Precision    Recall  F1-Score  F2-Score\n",
       "9183    0.074705   0.125854  0.667514  0.211779  0.358729\n",
       "9182    0.074703   0.125839  0.667514  0.211758  0.358705\n",
       "9279    0.075117   0.126470  0.663064  0.212424  0.358690\n",
       "9181    0.074700   0.125824  0.667514  0.211736  0.358680\n",
       "9278    0.075117   0.126455  0.663064  0.212402  0.358666\n",
       "...          ...        ...       ...       ...       ...\n",
       "17504   0.692418   1.000000  0.002543  0.005073  0.003177\n",
       "17503   0.646534   0.800000  0.002543  0.005070  0.003176\n",
       "17505   0.750225   1.000000  0.001907  0.003807  0.002383\n",
       "17506   0.751465   1.000000  0.001271  0.002540  0.001589\n",
       "17507   0.768425   1.000000  0.000636  0.001271  0.000795\n",
       "\n",
       "[17508 rows x 5 columns]"
      ]
     },
     "execution_count": 199,
     "metadata": {},
     "output_type": "execute_result"
    }
   ],
   "source": [
    "# sort by f2 score\n",
    "df_thresh_f.sort_values(by='F2-Score', ascending=False)"
   ]
  },
  {
   "cell_type": "code",
   "execution_count": 200,
   "metadata": {},
   "outputs": [
    {
     "data": {
      "text/plain": [
       "0.07470504007227119"
      ]
     },
     "execution_count": 200,
     "metadata": {},
     "output_type": "execute_result"
    }
   ],
   "source": [
    "# get the f2-optimizing threshold\n",
    "best_thresh_f2 = thresholds[np.argmax(f2_scores)]\n",
    "best_thresh_f2"
   ]
  },
  {
   "cell_type": "markdown",
   "metadata": {},
   "source": [
    "#### Model Evaluation\n",
    "a) F1-optimizing threshold"
   ]
  },
  {
   "cell_type": "code",
   "execution_count": 201,
   "metadata": {},
   "outputs": [],
   "source": [
    "# calculate probability estimates for class 1\n",
    "y_prob = clf_calibrated.predict_proba(X_test)\n",
    "y_prob_1 = y_prob[:,1]\n",
    "\n",
    "#calculate predictions using custom discrimination threshold\n",
    "y_pred = (y_prob_1 >= best_thresh_f1).astype(int)"
   ]
  },
  {
   "cell_type": "code",
   "execution_count": 202,
   "metadata": {},
   "outputs": [
    {
     "data": {
      "text/plain": [
       "<sklearn.metrics._plot.confusion_matrix.ConfusionMatrixDisplay at 0x17091d2b910>"
      ]
     },
     "execution_count": 202,
     "metadata": {},
     "output_type": "execute_result"
    },
    {
     "data": {
      "image/png": "[encoded data removed]",
      "text/plain": [
       "<Figure size 432x288 with 2 Axes>"
      ]
     },
     "metadata": {
      "needs_background": "light"
     },
     "output_type": "display_data"
    }
   ],
   "source": [
    "ConfusionMatrixDisplay.from_predictions(y_test, y_pred, cmap='Blues')"
   ]
  },
  {
   "cell_type": "code",
   "execution_count": 203,
   "metadata": {},
   "outputs": [
    {
     "data": {
      "text/plain": [
       "<sklearn.metrics._plot.confusion_matrix.ConfusionMatrixDisplay at 0x17091dafb80>"
      ]
     },
     "execution_count": 203,
     "metadata": {},
     "output_type": "execute_result"
    },
    {
     "data": {
      "image/png": "[encoded data removed]",
      "text/plain": [
       "<Figure size 432x288 with 2 Axes>"
      ]
     },
     "metadata": {
      "needs_background": "light"
     },
     "output_type": "display_data"
    }
   ],
   "source": [
    "ConfusionMatrixDisplay.from_predictions(y_test, y_pred, normalize='true', cmap='Greens')"
   ]
  },
  {
   "cell_type": "code",
   "execution_count": 204,
   "metadata": {},
   "outputs": [
    {
     "name": "stdout",
     "output_type": "stream",
     "text": [
      "              precision    recall  f1-score   support\n",
      "\n",
      "           0       0.93      0.87      0.90     16307\n",
      "           1       0.20      0.34      0.25      1573\n",
      "\n",
      "    accuracy                           0.82     17880\n",
      "   macro avg       0.56      0.60      0.57     17880\n",
      "weighted avg       0.87      0.82      0.84     17880\n",
      "\n"
     ]
    }
   ],
   "source": [
    "print(classification_report(y_test, y_pred))"
   ]
  },
  {
   "cell_type": "markdown",
   "metadata": {},
   "source": [
    "F1-optimization resulted in an accuracy score of 82%, yet with a recall score of 34% which is unsatisfactory.\n",
    "\n",
    "b) F2-optimizing threshold"
   ]
  },
  {
   "cell_type": "code",
   "execution_count": 205,
   "metadata": {},
   "outputs": [],
   "source": [
    "# calculate probability estimates for class 1\n",
    "y_prob = clf_calibrated.predict_proba(X_test)\n",
    "y_prob_1 = y_prob[:,1]\n",
    "\n",
    "#calculate predictions using custom discrimination threshold\n",
    "y_pred = (y_prob_1 >= best_thresh_f2).astype(int)"
   ]
  },
  {
   "cell_type": "code",
   "execution_count": 206,
   "metadata": {
    "scrolled": true
   },
   "outputs": [
    {
     "data": {
      "text/plain": [
       "<sklearn.metrics._plot.confusion_matrix.ConfusionMatrixDisplay at 0x17091e4ddc0>"
      ]
     },
     "execution_count": 206,
     "metadata": {},
     "output_type": "execute_result"
    },
    {
     "data": {
      "image/png": "[encoded data removed]",
      "text/plain": [
       "<Figure size 432x288 with 2 Axes>"
      ]
     },
     "metadata": {
      "needs_background": "light"
     },
     "output_type": "display_data"
    }
   ],
   "source": [
    "ConfusionMatrixDisplay.from_predictions(y_test, y_pred, cmap='Blues')"
   ]
  },
  {
   "cell_type": "code",
   "execution_count": 207,
   "metadata": {},
   "outputs": [
    {
     "data": {
      "text/plain": [
       "<sklearn.metrics._plot.confusion_matrix.ConfusionMatrixDisplay at 0x17091e4d340>"
      ]
     },
     "execution_count": 207,
     "metadata": {},
     "output_type": "execute_result"
    },
    {
     "data": {
      "image/png": "[encoded data removed]",
      "text/plain": [
       "<Figure size 432x288 with 2 Axes>"
      ]
     },
     "metadata": {
      "needs_background": "light"
     },
     "output_type": "display_data"
    }
   ],
   "source": [
    "ConfusionMatrixDisplay.from_predictions(y_test, y_pred, normalize='true', cmap='Greens')"
   ]
  },
  {
   "cell_type": "code",
   "execution_count": 208,
   "metadata": {},
   "outputs": [
    {
     "name": "stdout",
     "output_type": "stream",
     "text": [
      "              precision    recall  f1-score   support\n",
      "\n",
      "           0       0.95      0.55      0.70     16307\n",
      "           1       0.13      0.67      0.21      1573\n",
      "\n",
      "    accuracy                           0.56     17880\n",
      "   macro avg       0.54      0.61      0.45     17880\n",
      "weighted avg       0.87      0.56      0.65     17880\n",
      "\n"
     ]
    }
   ],
   "source": [
    "print(classification_report(y_test, y_pred))"
   ]
  },
  {
   "cell_type": "markdown",
   "metadata": {},
   "source": [
    "While F2-optimization has improved the recall score (67%), accuracy has been reduced to 56%. This time predicting majority classes is more difficult for the model. \n",
    "\n",
    "### 3.5.6 Gradient Boosting on Resampled Data\n",
    "[Back to top](#top)\n",
    "\n",
    "Another approach to handling the imbalance in our dataset has been to upsample, downsample and use SMOTE. We simply look at the classification report for these approaches to check whether they have better chances than the original dataset we used in the steps above."
   ]
  },
  {
   "cell_type": "code",
   "execution_count": 209,
   "metadata": {},
   "outputs": [
    {
     "name": "stdout",
     "output_type": "stream",
     "text": [
      "              precision    recall  f1-score   support\n",
      "\n",
      "           0       0.94      0.64      0.76     16307\n",
      "           1       0.13      0.57      0.22      1573\n",
      "\n",
      "    accuracy                           0.64     17880\n",
      "   macro avg       0.54      0.61      0.49     17880\n",
      "weighted avg       0.87      0.64      0.72     17880\n",
      "\n"
     ]
    }
   ],
   "source": [
    "clf_rus = clf\n",
    "clf.fit(X_train_rus, y_train_rus)\n",
    "\n",
    "print(classification_report(y_test, clf.predict(X_test)))"
   ]
  },
  {
   "cell_type": "code",
   "execution_count": 211,
   "metadata": {},
   "outputs": [
    {
     "name": "stdout",
     "output_type": "stream",
     "text": [
      "              precision    recall  f1-score   support\n",
      "\n",
      "           0       0.94      0.66      0.77     16307\n",
      "           1       0.14      0.56      0.22      1573\n",
      "\n",
      "    accuracy                           0.65     17880\n",
      "   macro avg       0.54      0.61      0.50     17880\n",
      "weighted avg       0.87      0.65      0.73     17880\n",
      "\n"
     ]
    }
   ],
   "source": [
    "clf_ros = clf\n",
    "clf.fit(X_train_ros, y_train_ros)\n",
    "\n",
    "print(classification_report(y_test, clf.predict(X_test)))"
   ]
  },
  {
   "cell_type": "code",
   "execution_count": 212,
   "metadata": {},
   "outputs": [
    {
     "name": "stdout",
     "output_type": "stream",
     "text": [
      "              precision    recall  f1-score   support\n",
      "\n",
      "           0       0.92      0.95      0.93     16307\n",
      "           1       0.15      0.09      0.11      1573\n",
      "\n",
      "    accuracy                           0.88     17880\n",
      "   macro avg       0.53      0.52      0.52     17880\n",
      "weighted avg       0.85      0.88      0.86     17880\n",
      "\n"
     ]
    }
   ],
   "source": [
    "clf_smote = clf\n",
    "\n",
    "clf.fit(X_train_smote, y_train_smote)\n",
    "\n",
    "print(classification_report(y_test, clf.predict(X_test)))"
   ]
  },
  {
   "cell_type": "markdown",
   "metadata": {},
   "source": [
    "#### Conclusion\n",
    "The results acquired from upsampling and downsampling are quite similar to that of our original dataset. However, SMOTE does not seem to be capable of creating better odds for our Gradient Boosting models to perform."
   ]
  },
  {
   "cell_type": "markdown",
   "metadata": {},
   "source": [
    "### 3.5.7 Permutation Importance\n",
    "[Back to top](#top)\n",
    "\n",
    "Through permutation importance we aim to find out what features are most important for the model when making predictions."
   ]
  },
  {
   "cell_type": "code",
   "execution_count": 160,
   "metadata": {},
   "outputs": [],
   "source": [
    "# Finding the most important features for the model.\n",
    "result = permutation_importance(clf, X_test, y_test, n_repeats=10,random_state=0)"
   ]
  },
  {
   "cell_type": "code",
   "execution_count": 161,
   "metadata": {},
   "outputs": [],
   "source": [
    "df_best_feature = pd.DataFrame({'features':X_test.columns,'mean_importance':result.importances_mean})"
   ]
  },
  {
   "cell_type": "code",
   "execution_count": 162,
   "metadata": {
    "scrolled": true
   },
   "outputs": [
    {
     "data": {
      "text/html": [
       "<div>\n",
       "<style scoped>\n",
       "    .dataframe tbody tr th:only-of-type {\n",
       "        vertical-align: middle;\n",
       "    }\n",
       "\n",
       "    .dataframe tbody tr th {\n",
       "        vertical-align: top;\n",
       "    }\n",
       "\n",
       "    .dataframe thead th {\n",
       "        text-align: right;\n",
       "    }\n",
       "</style>\n",
       "<table border=\"1\" class=\"dataframe\">\n",
       "  <thead>\n",
       "    <tr style=\"text-align: right;\">\n",
       "      <th></th>\n",
       "      <th>features</th>\n",
       "      <th>mean_importance</th>\n",
       "    </tr>\n",
       "  </thead>\n",
       "  <tbody>\n",
       "    <tr>\n",
       "      <th>7</th>\n",
       "      <td>number_inpatient</td>\n",
       "      <td>0.000610</td>\n",
       "    </tr>\n",
       "    <tr>\n",
       "      <th>28</th>\n",
       "      <td>discharge_disposition_id_Discharged/transferre...</td>\n",
       "      <td>0.000280</td>\n",
       "    </tr>\n",
       "    <tr>\n",
       "      <th>1</th>\n",
       "      <td>time_in_hospital</td>\n",
       "      <td>0.000240</td>\n",
       "    </tr>\n",
       "    <tr>\n",
       "      <th>45</th>\n",
       "      <td>admission_source_id_ Emergency Room</td>\n",
       "      <td>0.000224</td>\n",
       "    </tr>\n",
       "    <tr>\n",
       "      <th>34</th>\n",
       "      <td>discharge_disposition_id_Discharged/transferre...</td>\n",
       "      <td>0.000196</td>\n",
       "    </tr>\n",
       "    <tr>\n",
       "      <th>...</th>\n",
       "      <td>...</td>\n",
       "      <td>...</td>\n",
       "    </tr>\n",
       "    <tr>\n",
       "      <th>220</th>\n",
       "      <td>insulin_No</td>\n",
       "      <td>-0.000011</td>\n",
       "    </tr>\n",
       "    <tr>\n",
       "      <th>20</th>\n",
       "      <td>admission_type_id_Urgent</td>\n",
       "      <td>-0.000022</td>\n",
       "    </tr>\n",
       "    <tr>\n",
       "      <th>152</th>\n",
       "      <td>diag_2_diseases of the nervous system and sens...</td>\n",
       "      <td>-0.000050</td>\n",
       "    </tr>\n",
       "    <tr>\n",
       "      <th>169</th>\n",
       "      <td>diag_3_diseases of the respiratory system</td>\n",
       "      <td>-0.000056</td>\n",
       "    </tr>\n",
       "    <tr>\n",
       "      <th>202</th>\n",
       "      <td>glipizide_Up</td>\n",
       "      <td>-0.000056</td>\n",
       "    </tr>\n",
       "  </tbody>\n",
       "</table>\n",
       "<p>231 rows × 2 columns</p>\n",
       "</div>"
      ],
      "text/plain": [
       "                                              features  mean_importance\n",
       "7                                     number_inpatient         0.000610\n",
       "28   discharge_disposition_id_Discharged/transferre...         0.000280\n",
       "1                                     time_in_hospital         0.000240\n",
       "45                 admission_source_id_ Emergency Room         0.000224\n",
       "34   discharge_disposition_id_Discharged/transferre...         0.000196\n",
       "..                                                 ...              ...\n",
       "220                                         insulin_No        -0.000011\n",
       "20                            admission_type_id_Urgent        -0.000022\n",
       "152  diag_2_diseases of the nervous system and sens...        -0.000050\n",
       "169          diag_3_diseases of the respiratory system        -0.000056\n",
       "202                                       glipizide_Up        -0.000056\n",
       "\n",
       "[231 rows x 2 columns]"
      ]
     },
     "execution_count": 162,
     "metadata": {},
     "output_type": "execute_result"
    }
   ],
   "source": [
    "df_best_feature.sort_values(ascending=False, by='mean_importance')"
   ]
  },
  {
   "cell_type": "markdown",
   "metadata": {},
   "source": [
    "According to the table above representing permutation importance, `number_inpatients` is the most important feature for the Gradient Boosting model's predictions."
   ]
  },
  {
   "cell_type": "markdown",
   "metadata": {},
   "source": [
    "### 3.5.8 Conclusion\n",
    "[Back to top](#top)\n",
    "\n",
    "- The GradientBoosting model did not outperform the other models\n",
    "The imbalanced dataset has once again come in the way of building an effective model. Improving one metric (e.g. Recall) bears consequences on the other metric (e.g. accuracy). Given that the Gradient Boosting model has not managed to reach satisfactory levels of Recall and Precision scores, we cannot anticipate it to be used in a real-life scenario in a hospital. "
   ]
  },
  {
   "cell_type": "code",
   "execution_count": null,
   "metadata": {},
   "outputs": [],
   "source": []
  }
 ],
 "metadata": {
  "kernelspec": {
   "display_name": "Python 3",
   "language": "python",
   "name": "python3"
  },
  "language_info": {
   "codemirror_mode": {
    "name": "ipython",
    "version": 3
   },
   "file_extension": ".py",
   "mimetype": "text/x-python",
   "name": "python",
   "nbconvert_exporter": "python",
   "pygments_lexer": "ipython3",
   "version": "3.8.5"
  }
 },
 "nbformat": 4,
 "nbformat_minor": 4
}
