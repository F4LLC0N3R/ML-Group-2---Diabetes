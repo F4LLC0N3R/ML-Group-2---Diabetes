{
 "cells": [
  {
   "cell_type": "code",
   "execution_count": 163,
   "id": "4f157f43",
   "metadata": {},
   "outputs": [],
   "source": [
    "# Import statements\n",
    "\n",
    "# Data Processing\n",
    "import pandas as pd\n",
    "import numpy as np\n",
    "\n",
    "# Visualization\n",
    "import seaborn as sns\n",
    "\n",
    "# Machine Learning\n",
    "from sklearn.preprocessing import MinMaxScaler\n",
    "from sklearn.dummy import DummyClassifier\n",
    "from sklearn.linear_model import LogisticRegression\n",
    "from sklearn.metrics import ConfusionMatrixDisplay, RocCurveDisplay, PrecisionRecallDisplay\n",
    "from sklearn.metrics import classification_report, roc_auc_score, average_precision_score, f1_score\n",
    "from sklearn.metrics import roc_curve, precision_recall_curve  \n",
    "from sklearn.model_selection import RandomizedSearchCV, GridSearchCV\n",
    "from sklearn.pipeline import make_pipeline\n",
    "from sklearn.calibration import CalibrationDisplay, CalibratedClassifierCV"
   ]
  },
  {
   "cell_type": "markdown",
   "id": "95793461",
   "metadata": {},
   "source": [
    "## 3.1. Logistic Regression <a id=\"logistic-regression\"></a>\n",
    "[Back to top](#top)"
   ]
  },
  {
   "cell_type": "markdown",
   "id": "6529d650",
   "metadata": {},
   "source": [
    "- Import preprocessed features as DataFrames and target variables as Series"
   ]
  },
  {
   "cell_type": "code",
   "execution_count": 2,
   "id": "bf6823eb",
   "metadata": {},
   "outputs": [],
   "source": [
    "# training and test sets with original data distribution\n",
    "\n",
    "X_train = pd.read_csv('data/X_train.csv')\n",
    "y_train = pd.read_csv('data/y_train.csv', squeeze=True)\n",
    "\n",
    "X_test = pd.read_csv('data/X_test.csv')\n",
    "y_test = pd.read_csv('data/y_test.csv', squeeze=True)"
   ]
  },
  {
   "cell_type": "code",
   "execution_count": 3,
   "id": "81989498",
   "metadata": {},
   "outputs": [],
   "source": [
    "# resampled / balanced training sets\n",
    "\n",
    "X_train_rus = pd.read_csv('data/X_train_rus.csv')\n",
    "y_train_rus = pd.read_csv('data/y_train_rus.csv', squeeze=True)\n",
    "\n",
    "X_train_ros = pd.read_csv('data/X_train_ros.csv')\n",
    "y_train_ros = pd.read_csv('data/y_train_ros.csv', squeeze=True)\n",
    "\n",
    "X_train_smote = pd.read_csv('data/X_train_smote.csv')\n",
    "y_train_smote = pd.read_csv('data/y_train_smote.csv', squeeze=True)"
   ]
  },
  {
   "cell_type": "markdown",
   "id": "587856fb",
   "metadata": {},
   "source": [
    "### 3.1.1 Initial Model Building and Evaluation <a id=\"logistic-regression-initial\"></a>\n",
    "[Back to top](#top)"
   ]
  },
  {
   "cell_type": "markdown",
   "id": "93745e58",
   "metadata": {},
   "source": [
    "#### Model Building"
   ]
  },
  {
   "cell_type": "markdown",
   "id": "e0008df9",
   "metadata": {},
   "source": [
    "- First logistic regression model: We set the maximal number of iterations to ``max_iter=1000`` which allows the solver to converge. Apart from that we use the default hyperparameter values."
   ]
  },
  {
   "cell_type": "code",
   "execution_count": 83,
   "id": "7dc8971b",
   "metadata": {},
   "outputs": [
    {
     "name": "stdout",
     "output_type": "stream",
     "text": [
      "Wall time: 9.8 s\n"
     ]
    },
    {
     "data": {
      "text/plain": [
       "Pipeline(steps=[('minmaxscaler', MinMaxScaler()),\n",
       "                ('logisticregression',\n",
       "                 LogisticRegression(max_iter=1000, random_state=42))])"
      ]
     },
     "execution_count": 83,
     "metadata": {},
     "output_type": "execute_result"
    }
   ],
   "source": [
    "# Create pipeline\n",
    "clf = make_pipeline(MinMaxScaler(), LogisticRegression(max_iter=1000, random_state=42))\n",
    "\n",
    "# Scale and fit model on training data\n",
    "%time clf.fit(X_train, y_train)"
   ]
  },
  {
   "cell_type": "code",
   "execution_count": 5,
   "id": "d4950410",
   "metadata": {},
   "outputs": [],
   "source": [
    "# Predict labels\n",
    "y_pred = clf.predict(X_test)"
   ]
  },
  {
   "cell_type": "code",
   "execution_count": 6,
   "id": "45ca984e",
   "metadata": {},
   "outputs": [
    {
     "data": {
      "text/plain": [
       "0.9118568232662192"
      ]
     },
     "execution_count": 6,
     "metadata": {},
     "output_type": "execute_result"
    }
   ],
   "source": [
    "clf.score(X_test, y_test)"
   ]
  },
  {
   "cell_type": "markdown",
   "id": "2501e4f1",
   "metadata": {},
   "source": [
    "Our first impression is a good accuracy of 91%. However, having the data imbalance in mind, we will evaluate the model in detail."
   ]
  },
  {
   "cell_type": "markdown",
   "id": "db0d306f",
   "metadata": {},
   "source": [
    "#### Model Evaluation "
   ]
  },
  {
   "cell_type": "code",
   "execution_count": 7,
   "id": "30905f41",
   "metadata": {},
   "outputs": [
    {
     "name": "stdout",
     "output_type": "stream",
     "text": [
      "Count of 0 in test set: 16307, (91.2025%)\n",
      "Count of 1 in test set: 1573, (8.7975%)\n"
     ]
    },
    {
     "name": "stderr",
     "output_type": "stream",
     "text": [
      "C:\\Users\\fabio\\anaconda3\\lib\\site-packages\\seaborn\\_decorators.py:36: FutureWarning: Pass the following variable as a keyword arg: x. From version 0.12, the only valid positional argument will be `data`, and passing other arguments without an explicit keyword will result in an error or misinterpretation.\n",
      "  warnings.warn(\n"
     ]
    },
    {
     "data": {
      "text/plain": [
       "<AxesSubplot:xlabel='readmitted_within_30_days', ylabel='count'>"
      ]
     },
     "execution_count": 7,
     "metadata": {},
     "output_type": "execute_result"
    },
    {
     "data": {
      "image/png": "[encoded data removed]",
      "text/plain": [
       "<Figure size 432x288 with 1 Axes>"
      ]
     },
     "metadata": {
      "needs_background": "light"
     },
     "output_type": "display_data"
    }
   ],
   "source": [
    "count_0 = (y_test == 0).sum()\n",
    "count_1 = (y_test == 1).sum()\n",
    "\n",
    "print(f'Count of 0 in test set: {count_0}, ({round(count_0 / len(y_test) * 100, 4)}%)')\n",
    "print(f'Count of 1 in test set: {count_1}, ({round(count_1 / len(y_test) * 100, 4)}%)')\n",
    "\n",
    "sns.countplot(y_test)"
   ]
  },
  {
   "cell_type": "markdown",
   "id": "4b4c262c",
   "metadata": {},
   "source": [
    "The '0' class has a share of 91.2% of all target values in the test data. This means a simple estimator which is always predicting 0 will have an accuracy of 91.2% while evaluated on this data set."
   ]
  },
  {
   "cell_type": "code",
   "execution_count": 8,
   "id": "a95e1195",
   "metadata": {},
   "outputs": [
    {
     "data": {
      "text/plain": [
       "0.9120246085011185"
      ]
     },
     "execution_count": 8,
     "metadata": {},
     "output_type": "execute_result"
    }
   ],
   "source": [
    "# Classifier which is always predicting the majority class label\n",
    "\n",
    "simplest_clf = DummyClassifier()\n",
    "simplest_clf.fit(X_train, y_train)\n",
    "simplest_clf.score(X_test, y_test)"
   ]
  },
  {
   "cell_type": "markdown",
   "id": "c51a08d5",
   "metadata": {},
   "source": [
    "Consequently, our trained logistic regression model does not have a satisfying accuracy since it is in fact less accurate than the simplest model imaginable!"
   ]
  },
  {
   "cell_type": "code",
   "execution_count": 9,
   "id": "611e6624",
   "metadata": {},
   "outputs": [
    {
     "data": {
      "text/plain": [
       "<sklearn.metrics._plot.confusion_matrix.ConfusionMatrixDisplay at 0x2689afbd520>"
      ]
     },
     "execution_count": 9,
     "metadata": {},
     "output_type": "execute_result"
    },
    {
     "data": {
      "image/png": "[encoded data removed]",
      "text/plain": [
       "<Figure size 432x288 with 2 Axes>"
      ]
     },
     "metadata": {
      "needs_background": "light"
     },
     "output_type": "display_data"
    }
   ],
   "source": [
    "# scikit-learn 1.0 needed\n",
    "\n",
    "ConfusionMatrixDisplay.from_predictions(y_test, y_pred, cmap='Blues')"
   ]
  },
  {
   "cell_type": "markdown",
   "id": "6ad2550f",
   "metadata": {},
   "source": [
    "In the confusion matrix, the data imbalance becomes obvious. The majority of the instances in the test dataset is classified correctly ($\\rightarrow$ therefore the 'good' accuracy), the large majority in the 'True Negative' section. Out of the 17,880 instances, the classifier predicted only 23 instances as '1', and only 10 of these predictions were correct. As we are interested in a model which identifies patients which will be readmitted to the hospital, this model is as worse as it can get. This becomes even clearer if we normalize the counts display in the confusion matrix over the true conditions:"
   ]
  },
  {
   "cell_type": "code",
   "execution_count": 10,
   "id": "bd8aef16",
   "metadata": {},
   "outputs": [
    {
     "data": {
      "text/plain": [
       "<sklearn.metrics._plot.confusion_matrix.ConfusionMatrixDisplay at 0x268a0e6a880>"
      ]
     },
     "execution_count": 10,
     "metadata": {},
     "output_type": "execute_result"
    },
    {
     "data": {
      "image/png": "[encoded data removed]",
      "text/plain": [
       "<Figure size 432x288 with 2 Axes>"
      ]
     },
     "metadata": {
      "needs_background": "light"
     },
     "output_type": "display_data"
    }
   ],
   "source": [
    "ConfusionMatrixDisplay.from_predictions(y_test, y_pred, cmap='Greens', normalize='true')"
   ]
  },
  {
   "cell_type": "markdown",
   "id": "623aba3c",
   "metadata": {},
   "source": [
    "While only 0.0008% of all '0' instances are misclassified as '1', 99% of all '1' instances are misclassified as '0'!"
   ]
  },
  {
   "cell_type": "code",
   "execution_count": 11,
   "id": "ebd4a548",
   "metadata": {
    "scrolled": true
   },
   "outputs": [
    {
     "name": "stdout",
     "output_type": "stream",
     "text": [
      "              precision    recall  f1-score   support\n",
      "\n",
      "           0       0.91      1.00      0.95     16307\n",
      "           1       0.43      0.01      0.01      1573\n",
      "\n",
      "    accuracy                           0.91     17880\n",
      "   macro avg       0.67      0.50      0.48     17880\n",
      "weighted avg       0.87      0.91      0.87     17880\n",
      "\n"
     ]
    }
   ],
   "source": [
    "# Print evaluation metrics\n",
    "print(classification_report(y_test, y_pred))"
   ]
  },
  {
   "cell_type": "markdown",
   "id": "0dc558ab",
   "metadata": {},
   "source": [
    "The classification report summarized the already observed difference in performance with respect to the different target classes. We have an overall good accuracy because the classifier performs well in regard to the majority class where it shows perfect recall while also giving a good precision. In regard to the minority class in which we are particularly interested in, the classifier shows an abysmal performance, having the worst possible recall while not even having a good precision."
   ]
  },
  {
   "cell_type": "markdown",
   "id": "0a2feed1",
   "metadata": {},
   "source": [
    "### 3.1.3. Hyperparameter Tuning to improve Accuracy <a id=\"logistic-regression-accuracy\"></a>\n",
    "[Back to top](#top)"
   ]
  },
  {
   "cell_type": "code",
   "execution_count": 12,
   "id": "35253074",
   "metadata": {
    "scrolled": false
   },
   "outputs": [
    {
     "data": {
      "text/plain": [
       "{'C': 1.0,\n",
       " 'class_weight': None,\n",
       " 'dual': False,\n",
       " 'fit_intercept': True,\n",
       " 'intercept_scaling': 1,\n",
       " 'l1_ratio': None,\n",
       " 'max_iter': 500,\n",
       " 'multi_class': 'auto',\n",
       " 'n_jobs': None,\n",
       " 'penalty': 'l2',\n",
       " 'random_state': 42,\n",
       " 'solver': 'lbfgs',\n",
       " 'tol': 0.0001,\n",
       " 'verbose': 0,\n",
       " 'warm_start': False}"
      ]
     },
     "execution_count": 12,
     "metadata": {},
     "output_type": "execute_result"
    }
   ],
   "source": [
    "# Show hyperparameters and their values\n",
    "clf['logisticregression'].get_params()"
   ]
  },
  {
   "cell_type": "markdown",
   "id": "f3296345",
   "metadata": {},
   "source": [
    "Hyperparameters to be varied:\n",
    "\n",
    "- ``penalty``: By default, a l2 regularization is performed. Alternatively, the logistic regression can be done without any regularization or the penalty term can be changed to l1 norm or an elastic net. We opt for an elastic net which includes l1 and l2 regularization (see ``l1_ratio``).\n",
    "\n",
    "- ``l1_ratio``: The combination of l1 and l2 penalty in the elastic net can be selected by a ratio between 0 and 1. A value of 0 equals l2 regularization while the value of 1 equals l1 regularization.\n",
    "\n",
    "- ``C``: Inverse of regularization strength. A lower value results in a stronger regularization with 1.0 being the default.\n",
    "\n",
    "- ``solver``: The algorithm which solves the optimization problem. For the search, we opt for the 'saga' solver, a stochastic average gradient descent implementation which supports elastic net regularization and is recommended for large datasets (https://scikit-learn.org/dev/modules/linear_model.html#logistic-regression).\n",
    "\n",
    "- ``fit_intercept``: Specification if an intercept should be added to the regression function\n",
    "\n",
    "- ``max_iter``: Maximum number of iterations as limit for the solver to converge.\n",
    "\n",
    "- ``tol``: Tolerance of the stopping criteria, by default: 0.0001.\n",
    "\n",
    "- ``warm_start``: When set to True, the solution of the previous call is used to fit as initialization (False by default.\n",
    "\n",
    "- ``class_weight``: Weights associated with the different classes in the target variable. By default, all classes are weighted the same. Apart from manually assigning weights to each class, we can use the 'balanced' option which automatically adjust weights inversely proportional to class frequencies. We will deal with class imbalances later."
   ]
  },
  {
   "cell_type": "markdown",
   "id": "34a9dba6",
   "metadata": {},
   "source": [
    "In the following section, we try to optimize the logistic regression model with regard to its accuracy score. As discussed in the previous section, accuracy might not be the best evaluation metric for our problem. However, an improvement of the accuracy could potentially improve the model: Since the recall for class 0 is already almost 100%, a siginificant increase in accuracy can only be obtained if the classification performance for class 1 improves.\n",
    "\n",
    "\n",
    "We start by having a detailed look at the hyperparameters of scikit-learn's implementation in order to decide how to vary the model. We conduct a randomized search on a large parameter grid before finetuning with a grid search on a narrowly defined grid."
   ]
  },
  {
   "cell_type": "markdown",
   "id": "887afc4f",
   "metadata": {},
   "source": [
    "After having a detailed look at the possible hyperparameter values, we create the following parameter grid which will be given to the randomized search algorithm:"
   ]
  },
  {
   "cell_type": "code",
   "execution_count": 13,
   "id": "78bbeee3",
   "metadata": {},
   "outputs": [],
   "source": [
    "param_dist = {'logisticregression__solver': ['saga'],\n",
    "              'logisticregression__penalty': ['elasticnet', 'none'],\n",
    "              'logisticregression__l1_ratio': np.linspace(0, 1, 11), # try different elastic nets\n",
    "              'logisticregression__C': [0.001, 0.01, 0.1, 1, 10, 100, 1000, 10000], # vary regularization strength\n",
    "              'logisticregression__fit_intercept': [False, True], \n",
    "              'logisticregression__tol': [0.000001, 0.00001, 0.0001, 0.001, 0.01], # vary stopping threshold\n",
    "              'logisticregression__warm_start': [False, True],         \n",
    "             }"
   ]
  },
  {
   "cell_type": "markdown",
   "id": "b4dc373d",
   "metadata": {},
   "source": [
    "We conduct a 5-fold cross validated search where 10 randomly selected parameter combinations are tried:"
   ]
  },
  {
   "cell_type": "code",
   "execution_count": 14,
   "id": "4c0af1a9",
   "metadata": {},
   "outputs": [
    {
     "name": "stdout",
     "output_type": "stream",
     "text": [
      "Fitting 3 folds for each of 10 candidates, totalling 30 fits\n",
      "Wall time: 8min 2s\n"
     ]
    },
    {
     "data": {
      "text/plain": [
       "RandomizedSearchCV(cv=3,\n",
       "                   estimator=Pipeline(steps=[('minmaxscaler', MinMaxScaler()),\n",
       "                                             ('logisticregression',\n",
       "                                              LogisticRegression(max_iter=500,\n",
       "                                                                 random_state=42))]),\n",
       "                   n_jobs=-1,\n",
       "                   param_distributions={'logisticregression__C': [0.001, 0.01,\n",
       "                                                                  0.1, 1, 10,\n",
       "                                                                  100, 1000,\n",
       "                                                                  10000],\n",
       "                                        'logisticregression__fit_intercept': [False,\n",
       "                                                                              True],\n",
       "                                        'logisticregression__l1_ratio': array([0. , 0.1, 0.2, 0.3, 0.4, 0.5, 0.6, 0.7, 0.8, 0.9, 1. ]),\n",
       "                                        'logisticregression__penalty': ['elasticnet',\n",
       "                                                                        'none'],\n",
       "                                        'logisticregression__solver': ['saga'],\n",
       "                                        'logisticregression__tol': [1e-06,\n",
       "                                                                    1e-05,\n",
       "                                                                    0.0001,\n",
       "                                                                    0.001,\n",
       "                                                                    0.01],\n",
       "                                        'logisticregression__warm_start': [False,\n",
       "                                                                           True]},\n",
       "                   verbose=1)"
      ]
     },
     "execution_count": 14,
     "metadata": {},
     "output_type": "execute_result"
    }
   ],
   "source": [
    "random_search = RandomizedSearchCV(estimator=clf, \n",
    "                                   param_distributions = param_dist,\n",
    "                                   n_jobs=-1,\n",
    "                                   cv=3, #reduced to 3-fold to reduce runtime\n",
    "                                   verbose=1)\n",
    "%time random_search.fit(X_train, y_train)"
   ]
  },
  {
   "cell_type": "markdown",
   "id": "e74b05a5",
   "metadata": {},
   "source": [
    "Look a the results of the different tried estimators and identify the best one"
   ]
  },
  {
   "cell_type": "code",
   "execution_count": 15,
   "id": "59548d8c",
   "metadata": {
    "scrolled": true
   },
   "outputs": [
    {
     "data": {
      "text/html": [
       "<div>\n",
       "<style scoped>\n",
       "    .dataframe tbody tr th:only-of-type {\n",
       "        vertical-align: middle;\n",
       "    }\n",
       "\n",
       "    .dataframe tbody tr th {\n",
       "        vertical-align: top;\n",
       "    }\n",
       "\n",
       "    .dataframe thead th {\n",
       "        text-align: right;\n",
       "    }\n",
       "</style>\n",
       "<table border=\"1\" class=\"dataframe\">\n",
       "  <thead>\n",
       "    <tr style=\"text-align: right;\">\n",
       "      <th></th>\n",
       "      <th>mean_fit_time</th>\n",
       "      <th>std_fit_time</th>\n",
       "      <th>mean_score_time</th>\n",
       "      <th>std_score_time</th>\n",
       "      <th>param_logisticregression__warm_start</th>\n",
       "      <th>param_logisticregression__tol</th>\n",
       "      <th>param_logisticregression__solver</th>\n",
       "      <th>param_logisticregression__penalty</th>\n",
       "      <th>param_logisticregression__l1_ratio</th>\n",
       "      <th>param_logisticregression__fit_intercept</th>\n",
       "      <th>param_logisticregression__C</th>\n",
       "      <th>params</th>\n",
       "      <th>split0_test_score</th>\n",
       "      <th>split1_test_score</th>\n",
       "      <th>split2_test_score</th>\n",
       "      <th>mean_test_score</th>\n",
       "      <th>std_test_score</th>\n",
       "      <th>rank_test_score</th>\n",
       "    </tr>\n",
       "  </thead>\n",
       "  <tbody>\n",
       "    <tr>\n",
       "      <th>7</th>\n",
       "      <td>4.559882</td>\n",
       "      <td>0.282111</td>\n",
       "      <td>0.050712</td>\n",
       "      <td>0.000042</td>\n",
       "      <td>False</td>\n",
       "      <td>0.000001</td>\n",
       "      <td>saga</td>\n",
       "      <td>elasticnet</td>\n",
       "      <td>0.3</td>\n",
       "      <td>True</td>\n",
       "      <td>0.001</td>\n",
       "      <td>{'logisticregression__warm_start': False, 'log...</td>\n",
       "      <td>0.911969</td>\n",
       "      <td>0.912020</td>\n",
       "      <td>0.912020</td>\n",
       "      <td>0.912003</td>\n",
       "      <td>0.000024</td>\n",
       "      <td>1</td>\n",
       "    </tr>\n",
       "    <tr>\n",
       "      <th>8</th>\n",
       "      <td>12.114837</td>\n",
       "      <td>1.543198</td>\n",
       "      <td>0.060111</td>\n",
       "      <td>0.008308</td>\n",
       "      <td>True</td>\n",
       "      <td>0.001</td>\n",
       "      <td>saga</td>\n",
       "      <td>elasticnet</td>\n",
       "      <td>0.1</td>\n",
       "      <td>False</td>\n",
       "      <td>1</td>\n",
       "      <td>{'logisticregression__warm_start': True, 'logi...</td>\n",
       "      <td>0.911857</td>\n",
       "      <td>0.911964</td>\n",
       "      <td>0.911684</td>\n",
       "      <td>0.911835</td>\n",
       "      <td>0.000115</td>\n",
       "      <td>2</td>\n",
       "    </tr>\n",
       "    <tr>\n",
       "      <th>1</th>\n",
       "      <td>76.275493</td>\n",
       "      <td>0.316831</td>\n",
       "      <td>0.054079</td>\n",
       "      <td>0.004847</td>\n",
       "      <td>False</td>\n",
       "      <td>0.000001</td>\n",
       "      <td>saga</td>\n",
       "      <td>none</td>\n",
       "      <td>0.6</td>\n",
       "      <td>True</td>\n",
       "      <td>100</td>\n",
       "      <td>{'logisticregression__warm_start': False, 'log...</td>\n",
       "      <td>0.911689</td>\n",
       "      <td>0.911908</td>\n",
       "      <td>0.911349</td>\n",
       "      <td>0.911648</td>\n",
       "      <td>0.000230</td>\n",
       "      <td>3</td>\n",
       "    </tr>\n",
       "    <tr>\n",
       "      <th>0</th>\n",
       "      <td>36.814502</td>\n",
       "      <td>4.362046</td>\n",
       "      <td>0.060860</td>\n",
       "      <td>0.000056</td>\n",
       "      <td>False</td>\n",
       "      <td>0.001</td>\n",
       "      <td>saga</td>\n",
       "      <td>none</td>\n",
       "      <td>1.0</td>\n",
       "      <td>False</td>\n",
       "      <td>10</td>\n",
       "      <td>{'logisticregression__warm_start': False, 'log...</td>\n",
       "      <td>0.911633</td>\n",
       "      <td>0.911852</td>\n",
       "      <td>0.911349</td>\n",
       "      <td>0.911611</td>\n",
       "      <td>0.000206</td>\n",
       "      <td>4</td>\n",
       "    </tr>\n",
       "    <tr>\n",
       "      <th>2</th>\n",
       "      <td>52.326456</td>\n",
       "      <td>7.244754</td>\n",
       "      <td>0.045311</td>\n",
       "      <td>0.003908</td>\n",
       "      <td>False</td>\n",
       "      <td>0.001</td>\n",
       "      <td>saga</td>\n",
       "      <td>elasticnet</td>\n",
       "      <td>1.0</td>\n",
       "      <td>False</td>\n",
       "      <td>100</td>\n",
       "      <td>{'logisticregression__warm_start': False, 'log...</td>\n",
       "      <td>0.911633</td>\n",
       "      <td>0.911852</td>\n",
       "      <td>0.911349</td>\n",
       "      <td>0.911611</td>\n",
       "      <td>0.000206</td>\n",
       "      <td>4</td>\n",
       "    </tr>\n",
       "    <tr>\n",
       "      <th>3</th>\n",
       "      <td>123.713347</td>\n",
       "      <td>1.473037</td>\n",
       "      <td>0.050756</td>\n",
       "      <td>0.000049</td>\n",
       "      <td>True</td>\n",
       "      <td>0.0001</td>\n",
       "      <td>saga</td>\n",
       "      <td>elasticnet</td>\n",
       "      <td>0.7</td>\n",
       "      <td>False</td>\n",
       "      <td>10000</td>\n",
       "      <td>{'logisticregression__warm_start': True, 'logi...</td>\n",
       "      <td>0.911577</td>\n",
       "      <td>0.911852</td>\n",
       "      <td>0.911349</td>\n",
       "      <td>0.911593</td>\n",
       "      <td>0.000206</td>\n",
       "      <td>6</td>\n",
       "    </tr>\n",
       "    <tr>\n",
       "      <th>4</th>\n",
       "      <td>78.936034</td>\n",
       "      <td>0.928515</td>\n",
       "      <td>0.051346</td>\n",
       "      <td>0.000983</td>\n",
       "      <td>True</td>\n",
       "      <td>0.00001</td>\n",
       "      <td>saga</td>\n",
       "      <td>none</td>\n",
       "      <td>0.0</td>\n",
       "      <td>False</td>\n",
       "      <td>0.01</td>\n",
       "      <td>{'logisticregression__warm_start': True, 'logi...</td>\n",
       "      <td>0.911577</td>\n",
       "      <td>0.911852</td>\n",
       "      <td>0.911349</td>\n",
       "      <td>0.911593</td>\n",
       "      <td>0.000206</td>\n",
       "      <td>6</td>\n",
       "    </tr>\n",
       "    <tr>\n",
       "      <th>5</th>\n",
       "      <td>79.544176</td>\n",
       "      <td>0.579456</td>\n",
       "      <td>0.050737</td>\n",
       "      <td>0.000071</td>\n",
       "      <td>True</td>\n",
       "      <td>0.0001</td>\n",
       "      <td>saga</td>\n",
       "      <td>none</td>\n",
       "      <td>1.0</td>\n",
       "      <td>False</td>\n",
       "      <td>1</td>\n",
       "      <td>{'logisticregression__warm_start': True, 'logi...</td>\n",
       "      <td>0.911577</td>\n",
       "      <td>0.911852</td>\n",
       "      <td>0.911349</td>\n",
       "      <td>0.911593</td>\n",
       "      <td>0.000206</td>\n",
       "      <td>6</td>\n",
       "    </tr>\n",
       "    <tr>\n",
       "      <th>6</th>\n",
       "      <td>79.831003</td>\n",
       "      <td>1.437049</td>\n",
       "      <td>0.073884</td>\n",
       "      <td>0.027130</td>\n",
       "      <td>True</td>\n",
       "      <td>0.0001</td>\n",
       "      <td>saga</td>\n",
       "      <td>none</td>\n",
       "      <td>0.6</td>\n",
       "      <td>False</td>\n",
       "      <td>1000</td>\n",
       "      <td>{'logisticregression__warm_start': True, 'logi...</td>\n",
       "      <td>0.911577</td>\n",
       "      <td>0.911852</td>\n",
       "      <td>0.911349</td>\n",
       "      <td>0.911593</td>\n",
       "      <td>0.000206</td>\n",
       "      <td>6</td>\n",
       "    </tr>\n",
       "    <tr>\n",
       "      <th>9</th>\n",
       "      <td>68.721903</td>\n",
       "      <td>0.868092</td>\n",
       "      <td>0.040193</td>\n",
       "      <td>0.007143</td>\n",
       "      <td>True</td>\n",
       "      <td>0.0001</td>\n",
       "      <td>saga</td>\n",
       "      <td>none</td>\n",
       "      <td>0.8</td>\n",
       "      <td>False</td>\n",
       "      <td>10</td>\n",
       "      <td>{'logisticregression__warm_start': True, 'logi...</td>\n",
       "      <td>0.911577</td>\n",
       "      <td>0.911852</td>\n",
       "      <td>0.911349</td>\n",
       "      <td>0.911593</td>\n",
       "      <td>0.000206</td>\n",
       "      <td>6</td>\n",
       "    </tr>\n",
       "  </tbody>\n",
       "</table>\n",
       "</div>"
      ],
      "text/plain": [
       "   mean_fit_time  std_fit_time  mean_score_time  std_score_time  \\\n",
       "7       4.559882      0.282111         0.050712        0.000042   \n",
       "8      12.114837      1.543198         0.060111        0.008308   \n",
       "1      76.275493      0.316831         0.054079        0.004847   \n",
       "0      36.814502      4.362046         0.060860        0.000056   \n",
       "2      52.326456      7.244754         0.045311        0.003908   \n",
       "3     123.713347      1.473037         0.050756        0.000049   \n",
       "4      78.936034      0.928515         0.051346        0.000983   \n",
       "5      79.544176      0.579456         0.050737        0.000071   \n",
       "6      79.831003      1.437049         0.073884        0.027130   \n",
       "9      68.721903      0.868092         0.040193        0.007143   \n",
       "\n",
       "  param_logisticregression__warm_start param_logisticregression__tol  \\\n",
       "7                                False                      0.000001   \n",
       "8                                 True                         0.001   \n",
       "1                                False                      0.000001   \n",
       "0                                False                         0.001   \n",
       "2                                False                         0.001   \n",
       "3                                 True                        0.0001   \n",
       "4                                 True                       0.00001   \n",
       "5                                 True                        0.0001   \n",
       "6                                 True                        0.0001   \n",
       "9                                 True                        0.0001   \n",
       "\n",
       "  param_logisticregression__solver param_logisticregression__penalty  \\\n",
       "7                             saga                        elasticnet   \n",
       "8                             saga                        elasticnet   \n",
       "1                             saga                              none   \n",
       "0                             saga                              none   \n",
       "2                             saga                        elasticnet   \n",
       "3                             saga                        elasticnet   \n",
       "4                             saga                              none   \n",
       "5                             saga                              none   \n",
       "6                             saga                              none   \n",
       "9                             saga                              none   \n",
       "\n",
       "  param_logisticregression__l1_ratio param_logisticregression__fit_intercept  \\\n",
       "7                                0.3                                    True   \n",
       "8                                0.1                                   False   \n",
       "1                                0.6                                    True   \n",
       "0                                1.0                                   False   \n",
       "2                                1.0                                   False   \n",
       "3                                0.7                                   False   \n",
       "4                                0.0                                   False   \n",
       "5                                1.0                                   False   \n",
       "6                                0.6                                   False   \n",
       "9                                0.8                                   False   \n",
       "\n",
       "  param_logisticregression__C  \\\n",
       "7                       0.001   \n",
       "8                           1   \n",
       "1                         100   \n",
       "0                          10   \n",
       "2                         100   \n",
       "3                       10000   \n",
       "4                        0.01   \n",
       "5                           1   \n",
       "6                        1000   \n",
       "9                          10   \n",
       "\n",
       "                                              params  split0_test_score  \\\n",
       "7  {'logisticregression__warm_start': False, 'log...           0.911969   \n",
       "8  {'logisticregression__warm_start': True, 'logi...           0.911857   \n",
       "1  {'logisticregression__warm_start': False, 'log...           0.911689   \n",
       "0  {'logisticregression__warm_start': False, 'log...           0.911633   \n",
       "2  {'logisticregression__warm_start': False, 'log...           0.911633   \n",
       "3  {'logisticregression__warm_start': True, 'logi...           0.911577   \n",
       "4  {'logisticregression__warm_start': True, 'logi...           0.911577   \n",
       "5  {'logisticregression__warm_start': True, 'logi...           0.911577   \n",
       "6  {'logisticregression__warm_start': True, 'logi...           0.911577   \n",
       "9  {'logisticregression__warm_start': True, 'logi...           0.911577   \n",
       "\n",
       "   split1_test_score  split2_test_score  mean_test_score  std_test_score  \\\n",
       "7           0.912020           0.912020         0.912003        0.000024   \n",
       "8           0.911964           0.911684         0.911835        0.000115   \n",
       "1           0.911908           0.911349         0.911648        0.000230   \n",
       "0           0.911852           0.911349         0.911611        0.000206   \n",
       "2           0.911852           0.911349         0.911611        0.000206   \n",
       "3           0.911852           0.911349         0.911593        0.000206   \n",
       "4           0.911852           0.911349         0.911593        0.000206   \n",
       "5           0.911852           0.911349         0.911593        0.000206   \n",
       "6           0.911852           0.911349         0.911593        0.000206   \n",
       "9           0.911852           0.911349         0.911593        0.000206   \n",
       "\n",
       "   rank_test_score  \n",
       "7                1  \n",
       "8                2  \n",
       "1                3  \n",
       "0                4  \n",
       "2                4  \n",
       "3                6  \n",
       "4                6  \n",
       "5                6  \n",
       "6                6  \n",
       "9                6  "
      ]
     },
     "execution_count": 15,
     "metadata": {},
     "output_type": "execute_result"
    }
   ],
   "source": [
    "rs_cv_results = pd.DataFrame(random_search.cv_results_)\n",
    "rs_cv_results.sort_values(by='mean_test_score', ascending=False)"
   ]
  },
  {
   "cell_type": "code",
   "execution_count": 16,
   "id": "191089f3",
   "metadata": {},
   "outputs": [
    {
     "data": {
      "text/plain": [
       "{'logisticregression__warm_start': False,\n",
       " 'logisticregression__tol': 1e-06,\n",
       " 'logisticregression__solver': 'saga',\n",
       " 'logisticregression__penalty': 'elasticnet',\n",
       " 'logisticregression__l1_ratio': 0.30000000000000004,\n",
       " 'logisticregression__fit_intercept': True,\n",
       " 'logisticregression__C': 0.001}"
      ]
     },
     "execution_count": 16,
     "metadata": {},
     "output_type": "execute_result"
    }
   ],
   "source": [
    "random_search.best_params_"
   ]
  },
  {
   "cell_type": "code",
   "execution_count": 17,
   "id": "56dbcbcf",
   "metadata": {},
   "outputs": [],
   "source": [
    "clf_opt = random_search.best_estimator_"
   ]
  },
  {
   "cell_type": "code",
   "execution_count": 18,
   "id": "6b5ce3ac",
   "metadata": {},
   "outputs": [
    {
     "data": {
      "text/plain": [
       "0.9120246085011185"
      ]
     },
     "execution_count": 18,
     "metadata": {},
     "output_type": "execute_result"
    }
   ],
   "source": [
    "random_search.best_estimator_.score(X_test, y_test)"
   ]
  },
  {
   "cell_type": "markdown",
   "id": "89205754",
   "metadata": {},
   "source": [
    "#### 'Optimized' Model Evaluation"
   ]
  },
  {
   "cell_type": "markdown",
   "id": "e4209904",
   "metadata": {},
   "source": [
    "However, the search did not result in a model with a significantly improved accuracy."
   ]
  },
  {
   "cell_type": "code",
   "execution_count": 19,
   "id": "e8c54e7d",
   "metadata": {},
   "outputs": [
    {
     "name": "stdout",
     "output_type": "stream",
     "text": [
      "              precision    recall  f1-score   support\n",
      "\n",
      "           0       0.91      1.00      0.95     16307\n",
      "           1       0.00      0.00      0.00      1573\n",
      "\n",
      "    accuracy                           0.91     17880\n",
      "   macro avg       0.46      0.50      0.48     17880\n",
      "weighted avg       0.83      0.91      0.87     17880\n",
      "\n"
     ]
    },
    {
     "name": "stderr",
     "output_type": "stream",
     "text": [
      "C:\\Users\\fabio\\anaconda3\\lib\\site-packages\\sklearn\\metrics\\_classification.py:1308: UndefinedMetricWarning: Precision and F-score are ill-defined and being set to 0.0 in labels with no predicted samples. Use `zero_division` parameter to control this behavior.\n",
      "  _warn_prf(average, modifier, msg_start, len(result))\n",
      "C:\\Users\\fabio\\anaconda3\\lib\\site-packages\\sklearn\\metrics\\_classification.py:1308: UndefinedMetricWarning: Precision and F-score are ill-defined and being set to 0.0 in labels with no predicted samples. Use `zero_division` parameter to control this behavior.\n",
      "  _warn_prf(average, modifier, msg_start, len(result))\n",
      "C:\\Users\\fabio\\anaconda3\\lib\\site-packages\\sklearn\\metrics\\_classification.py:1308: UndefinedMetricWarning: Precision and F-score are ill-defined and being set to 0.0 in labels with no predicted samples. Use `zero_division` parameter to control this behavior.\n",
      "  _warn_prf(average, modifier, msg_start, len(result))\n"
     ]
    }
   ],
   "source": [
    "# Predict labels\n",
    "y_pred = clf_opt.predict(X_test)\n",
    "\n",
    "# Print metrics\n",
    "print(classification_report(y_test, y_pred))"
   ]
  },
  {
   "cell_type": "code",
   "execution_count": 20,
   "id": "12c6d2c4",
   "metadata": {},
   "outputs": [
    {
     "data": {
      "text/plain": [
       "<sklearn.metrics._plot.confusion_matrix.ConfusionMatrixDisplay at 0x268a10885e0>"
      ]
     },
     "execution_count": 20,
     "metadata": {},
     "output_type": "execute_result"
    },
    {
     "data": {
      "image/png": "[encoded data removed]",
      "text/plain": [
       "<Figure size 432x288 with 2 Axes>"
      ]
     },
     "metadata": {
      "needs_background": "light"
     },
     "output_type": "display_data"
    }
   ],
   "source": [
    "ConfusionMatrixDisplay.from_predictions(y_test, y_pred, cmap='Blues')"
   ]
  },
  {
   "cell_type": "markdown",
   "id": "be481f82",
   "metadata": {},
   "source": [
    "In fact, we found a model which is always predicting 0!"
   ]
  },
  {
   "cell_type": "markdown",
   "id": "5ae5c6fd",
   "metadata": {},
   "source": [
    "### 3.1.4. Weighted Logistic Regression to improve ROC-AUC <a id=\"weighted-logistic-regression\"></a>\n",
    "[Back to top](#top)"
   ]
  },
  {
   "cell_type": "markdown",
   "id": "2521725e",
   "metadata": {},
   "source": [
    "In the following section we want to develop a class-weighted logistic regression model to handle the substantial data imbalance better. As accuracy is not a suitable metric (see initial model evaluation), we optimize it in respect to the ROC-AUC metric which describes the area under the receiver operating characteristic (ROC) curve. The ROC curve illustrates the performance of a classifier in terms of true positive rate (recall) and false positive rate as its dicrimination threshold is varied."
   ]
  },
  {
   "cell_type": "markdown",
   "id": "3cd2c8ed",
   "metadata": {},
   "source": [
    "#### Starting point"
   ]
  },
  {
   "cell_type": "markdown",
   "id": "0852d180",
   "metadata": {},
   "source": [
    "Since the search in the previous section did not result in a better model, we start with our initial logistic regression model again. First, we calculate the ROC-AUC metric and plot the ROC curve of our basic classifier."
   ]
  },
  {
   "cell_type": "code",
   "execution_count": 94,
   "id": "e3ada552",
   "metadata": {},
   "outputs": [
    {
     "data": {
      "text/plain": [
       "0.6507265570411904"
      ]
     },
     "execution_count": 94,
     "metadata": {},
     "output_type": "execute_result"
    }
   ],
   "source": [
    "# calculate prediction probabilities\n",
    "y_prob = clf.predict_proba(X_test)\n",
    "\n",
    "# calculate roc-auc\n",
    "roc_auc_score(y_test, y_prob[:,1])"
   ]
  },
  {
   "cell_type": "code",
   "execution_count": 95,
   "id": "5555a631",
   "metadata": {},
   "outputs": [
    {
     "data": {
      "text/plain": [
       "<sklearn.metrics._plot.roc_curve.RocCurveDisplay at 0x268a173afd0>"
      ]
     },
     "execution_count": 95,
     "metadata": {},
     "output_type": "execute_result"
    },
    {
     "data": {
      "image/png": "[encoded data removed]",
      "text/plain": [
       "<Figure size 432x288 with 1 Axes>"
      ]
     },
     "metadata": {
      "needs_background": "light"
     },
     "output_type": "display_data"
    }
   ],
   "source": [
    "# plot roc curve\n",
    "RocCurveDisplay.from_estimator(clf, X_test, y_test)"
   ]
  },
  {
   "cell_type": "markdown",
   "id": "1a8403fb",
   "metadata": {},
   "source": [
    "While the ROC curve is far from having a satisfying shape, it is slightly above the bisector. This is reflected in a AUC of 0.65."
   ]
  },
  {
   "cell_type": "markdown",
   "id": "67d4f9f3",
   "metadata": {},
   "source": [
    "#### Weighted Logistic Regression using built-in 'balanced' mode"
   ]
  },
  {
   "cell_type": "markdown",
   "id": "6e19c0f0",
   "metadata": {},
   "source": [
    "The scikit-learn implementation provides the 'balanced' mode which uses the following formula to calculate the class weights: ``n_samples / (n_classes * np.bincount(y))``. Hence the following weights are automatically assigned for our training set:"
   ]
  },
  {
   "cell_type": "code",
   "execution_count": 238,
   "id": "ecd216b3",
   "metadata": {},
   "outputs": [
    {
     "name": "stdout",
     "output_type": "stream",
     "text": [
      "Class weights in \"balanced\" mode: [0.548244   5.68199153]\n"
     ]
    }
   ],
   "source": [
    "print(f'Class weights in \"balanced\" mode: {y_train.shape[0] / (y_train.nunique() * np.bincount(y_train))}')"
   ]
  },
  {
   "cell_type": "markdown",
   "id": "76cc920b",
   "metadata": {},
   "source": [
    "This means that the instances of the minority class are weighted around ten times more within the model than the instances of the majority class. This reflects the fact that the majority class has about 10 times more instances than the minority class in the dataset."
   ]
  },
  {
   "cell_type": "code",
   "execution_count": 239,
   "id": "ec662fd2",
   "metadata": {},
   "outputs": [],
   "source": [
    "# define model\n",
    "clf_balanced = make_pipeline(MinMaxScaler(), LogisticRegression(max_iter=1000, random_state=42, class_weight='balanced'))"
   ]
  },
  {
   "cell_type": "code",
   "execution_count": 250,
   "id": "1c4b2efc",
   "metadata": {},
   "outputs": [
    {
     "name": "stdout",
     "output_type": "stream",
     "text": [
      "Wall time: 14.5 s\n"
     ]
    },
    {
     "data": {
      "text/plain": [
       "Pipeline(steps=[('minmaxscaler', MinMaxScaler()),\n",
       "                ('logisticregression',\n",
       "                 LogisticRegression(class_weight='balanced', max_iter=1000,\n",
       "                                    random_state=42))])"
      ]
     },
     "execution_count": 250,
     "metadata": {},
     "output_type": "execute_result"
    }
   ],
   "source": [
    "# fit model\n",
    "%time clf_balanced.fit(X_train, y_train)"
   ]
  },
  {
   "cell_type": "code",
   "execution_count": 251,
   "id": "51bafff0",
   "metadata": {},
   "outputs": [
    {
     "data": {
      "text/plain": [
       "0.6514416973338686"
      ]
     },
     "execution_count": 251,
     "metadata": {},
     "output_type": "execute_result"
    }
   ],
   "source": [
    "# calculate probability estimates\n",
    "y_prob = clf_balanced.predict_proba(X_test)\n",
    "y_prob_1 = y_prob[:,1]\n",
    "\n",
    "# calculate roc-auc\n",
    "roc_auc_score(y_test, y_prob_1)"
   ]
  },
  {
   "cell_type": "code",
   "execution_count": 48,
   "id": "2367b5d1",
   "metadata": {},
   "outputs": [
    {
     "data": {
      "text/plain": [
       "<sklearn.metrics._plot.roc_curve.RocCurveDisplay at 0x268a15df550>"
      ]
     },
     "execution_count": 48,
     "metadata": {},
     "output_type": "execute_result"
    },
    {
     "data": {
      "image/png": "[encoded data removed]",
      "text/plain": [
       "<Figure size 432x288 with 1 Axes>"
      ]
     },
     "metadata": {
      "needs_background": "light"
     },
     "output_type": "display_data"
    }
   ],
   "source": [
    "# plot roc curve\n",
    "RocCurveDisplay.from_estimator(clf_balanced, X_test, y_test)"
   ]
  },
  {
   "cell_type": "markdown",
   "id": "bd2eaec2",
   "metadata": {},
   "source": [
    "We observe a small improvement in the ROC-AUC metric using the inverse ratio of the training data (the 'balanced' mode). However, this is a heuristic which does not necessarily yield the best results out of all class weight combinations (https://machinelearningmastery.com/cost-sensitive-logistic-regression/). We conduct a grid search which brute forces different weights in order to either confirm the assumption that the 'balanced' weighting yields the best results or to further improve our ROC-AUC metric."
   ]
  },
  {
   "cell_type": "code",
   "execution_count": 98,
   "id": "d499da48",
   "metadata": {},
   "outputs": [],
   "source": [
    "# create parameter grid with different weight ratios\n",
    "weight_grid = {'logisticregression__class_weight': [{0: 1, 1: 1}, \n",
    "                                                    {0: 1, 1: 10}, \n",
    "                                                    {0: 1, 1: 100},\n",
    "                                                    {0: 1, 1: 1000},\n",
    "                                                    'balanced']}"
   ]
  },
  {
   "cell_type": "code",
   "execution_count": 241,
   "id": "be4c4685",
   "metadata": {},
   "outputs": [],
   "source": [
    "# initialize grid search with roc-auc as score\n",
    "weight_search_roc = GridSearchCV(clf, param_grid=weight_grid, scoring='roc_auc', cv=3, n_jobs=-1, verbose=1)\n",
    "\n",
    "# fit on training data\n",
    "%time weight_search_roc.fit(X_train, y_train)"
   ]
  },
  {
   "cell_type": "code",
   "execution_count": 87,
   "id": "d6d23a4f",
   "metadata": {
    "scrolled": true
   },
   "outputs": [
    {
     "data": {
      "text/html": [
       "<div>\n",
       "<style scoped>\n",
       "    .dataframe tbody tr th:only-of-type {\n",
       "        vertical-align: middle;\n",
       "    }\n",
       "\n",
       "    .dataframe tbody tr th {\n",
       "        vertical-align: top;\n",
       "    }\n",
       "\n",
       "    .dataframe thead th {\n",
       "        text-align: right;\n",
       "    }\n",
       "</style>\n",
       "<table border=\"1\" class=\"dataframe\">\n",
       "  <thead>\n",
       "    <tr style=\"text-align: right;\">\n",
       "      <th></th>\n",
       "      <th>param_logisticregression__class_weight</th>\n",
       "      <th>mean_test_score</th>\n",
       "    </tr>\n",
       "  </thead>\n",
       "  <tbody>\n",
       "    <tr>\n",
       "      <th>5</th>\n",
       "      <td>balanced</td>\n",
       "      <td>0.645640</td>\n",
       "    </tr>\n",
       "    <tr>\n",
       "      <th>2</th>\n",
       "      <td>{0: 1, 1: 10}</td>\n",
       "      <td>0.645496</td>\n",
       "    </tr>\n",
       "    <tr>\n",
       "      <th>1</th>\n",
       "      <td>{0: 1, 1: 1}</td>\n",
       "      <td>0.644422</td>\n",
       "    </tr>\n",
       "    <tr>\n",
       "      <th>3</th>\n",
       "      <td>{0: 1, 1: 100}</td>\n",
       "      <td>0.644043</td>\n",
       "    </tr>\n",
       "    <tr>\n",
       "      <th>4</th>\n",
       "      <td>{0: 1, 1: 1000}</td>\n",
       "      <td>0.643280</td>\n",
       "    </tr>\n",
       "    <tr>\n",
       "      <th>0</th>\n",
       "      <td>{0: 1, 1: 0.1}</td>\n",
       "      <td>0.641992</td>\n",
       "    </tr>\n",
       "  </tbody>\n",
       "</table>\n",
       "</div>"
      ],
      "text/plain": [
       "  param_logisticregression__class_weight  mean_test_score\n",
       "5                               balanced         0.645640\n",
       "2                          {0: 1, 1: 10}         0.645496\n",
       "1                           {0: 1, 1: 1}         0.644422\n",
       "3                         {0: 1, 1: 100}         0.644043\n",
       "4                        {0: 1, 1: 1000}         0.643280\n",
       "0                         {0: 1, 1: 0.1}         0.641992"
      ]
     },
     "execution_count": 87,
     "metadata": {},
     "output_type": "execute_result"
    }
   ],
   "source": [
    "ws_roc_cv_results = pd.DataFrame(weight_search.cv_results_)\n",
    "\n",
    "ws_roc_cv_results.loc[:, ['param_logisticregression__class_weight', 'mean_test_score']].sort_values(by='mean_test_score', ascending=False)"
   ]
  },
  {
   "cell_type": "markdown",
   "id": "b8e3644f",
   "metadata": {},
   "source": [
    "The best cross-validated ROC-AUC scores are in fact obtained by the balancing heuristic (which we already evaluated above). It is not better to weight the minority class even more (or less)."
   ]
  },
  {
   "cell_type": "markdown",
   "id": "9a60ebe2",
   "metadata": {},
   "source": [
    "#### Probability Calibration"
   ]
  },
  {
   "cell_type": "markdown",
   "id": "37f00d50",
   "metadata": {},
   "source": [
    "Like many other classifiers, a logistic regression is not directly predicting the classes. Instead, the model is predicting the probability for every instance to be in a certain class. Depending on the set discrimination threshold, the actual classification is calculated in the next step. In a well calibrated model, the predicted probabilities reflect the data distribution."
   ]
  },
  {
   "cell_type": "code",
   "execution_count": 233,
   "id": "64cfd8c7",
   "metadata": {},
   "outputs": [
    {
     "data": {
      "text/plain": [
       "<sklearn.calibration.CalibrationDisplay at 0x268a1f421c0>"
      ]
     },
     "execution_count": 233,
     "metadata": {},
     "output_type": "execute_result"
    },
    {
     "data": {
      "image/png": "[encoded data removed]",
      "text/plain": [
       "<Figure size 432x288 with 1 Axes>"
      ]
     },
     "metadata": {
      "needs_background": "light"
     },
     "output_type": "display_data"
    }
   ],
   "source": [
    "# scikit-learn 1.0 needed\n",
    "# show calibration curve of current model\n",
    "\n",
    "CalibrationDisplay.from_estimator(clf_balanced, X_test, y_test)"
   ]
  },
  {
   "cell_type": "markdown",
   "id": "47df39a5",
   "metadata": {},
   "source": [
    "In general, logistic regression models are by default well calibrated because they are minimizing the log loss. Nevertheless, we fit it again in order to get the best possible calibration. "
   ]
  },
  {
   "cell_type": "code",
   "execution_count": 247,
   "id": "3da92325",
   "metadata": {},
   "outputs": [
    {
     "name": "stdout",
     "output_type": "stream",
     "text": [
      "Wall time: 50.1 s\n"
     ]
    },
    {
     "data": {
      "text/plain": [
       "CalibratedClassifierCV(base_estimator=Pipeline(steps=[('minmaxscaler',\n",
       "                                                       MinMaxScaler()),\n",
       "                                                      ('logisticregression',\n",
       "                                                       LogisticRegression(class_weight='balanced',\n",
       "                                                                          max_iter=1000,\n",
       "                                                                          random_state=42))]),\n",
       "                       n_jobs=-1)"
      ]
     },
     "execution_count": 247,
     "metadata": {},
     "output_type": "execute_result"
    }
   ],
   "source": [
    "# fit and calibrate model on training data\n",
    "\n",
    "clf_calibrated = CalibratedClassifierCV(clf_balanced, n_jobs=-1)\n",
    "%time clf_calibrated.fit(X_train, y_train)"
   ]
  },
  {
   "cell_type": "code",
   "execution_count": 248,
   "id": "705e532b",
   "metadata": {},
   "outputs": [
    {
     "data": {
      "text/plain": [
       "<sklearn.calibration.CalibrationDisplay at 0x268a2110ac0>"
      ]
     },
     "execution_count": 248,
     "metadata": {},
     "output_type": "execute_result"
    },
    {
     "data": {
      "image/png": "[encoded data removed]",
      "text/plain": [
       "<Figure size 432x288 with 1 Axes>"
      ]
     },
     "metadata": {
      "needs_background": "light"
     },
     "output_type": "display_data"
    }
   ],
   "source": [
    "# scikit-learn 1.0 needed\n",
    "# show calibration curve of calibrated model\n",
    "\n",
    "CalibrationDisplay.from_estimator(calibrated_model, X_test, y_test)"
   ]
  },
  {
   "cell_type": "markdown",
   "id": "d0554b6d",
   "metadata": {},
   "source": [
    "#### G-Mean Optimizing Threshold Selection"
   ]
  },
  {
   "cell_type": "markdown",
   "id": "008ea474",
   "metadata": {},
   "source": [
    "The ROC-AUC metric provides a measure of performance across all possible discrimination thresholds. To have the best possible model we have to choose the threshold which suits the purpose of the model. A common way to choose the threshold is to maximize the geometric mean between the two dimensions of the ROC curve, true positive rate and false positive rate."
   ]
  },
  {
   "cell_type": "code",
   "execution_count": 111,
   "id": "933d4386",
   "metadata": {},
   "outputs": [],
   "source": [
    "# predict probabilities\n",
    "y_prob = clf_balanced.predict_proba(X_test)\n",
    "\n",
    "# probabilities for the positive outcome only\n",
    "y_prob_1 = y_prob[:, 1]\n",
    "\n",
    "# calculate roc curve\n",
    "fpr, tpr, thresholds = roc_curve(y_test, y_prob_1)\n",
    "\n",
    "# calculate g-mean for every threshold\n",
    "gmeans = np.sqrt(tpr * (1-fpr))"
   ]
  },
  {
   "cell_type": "code",
   "execution_count": 110,
   "id": "64f01ad3",
   "metadata": {},
   "outputs": [
    {
     "data": {
      "text/html": [
       "<div>\n",
       "<style scoped>\n",
       "    .dataframe tbody tr th:only-of-type {\n",
       "        vertical-align: middle;\n",
       "    }\n",
       "\n",
       "    .dataframe tbody tr th {\n",
       "        vertical-align: top;\n",
       "    }\n",
       "\n",
       "    .dataframe thead th {\n",
       "        text-align: right;\n",
       "    }\n",
       "</style>\n",
       "<table border=\"1\" class=\"dataframe\">\n",
       "  <thead>\n",
       "    <tr style=\"text-align: right;\">\n",
       "      <th></th>\n",
       "      <th>Threshold</th>\n",
       "      <th>FPR</th>\n",
       "      <th>TPR</th>\n",
       "      <th>GMean</th>\n",
       "    </tr>\n",
       "  </thead>\n",
       "  <tbody>\n",
       "    <tr>\n",
       "      <th>1617</th>\n",
       "      <td>0.484779</td>\n",
       "      <td>0.374686</td>\n",
       "      <td>0.593134</td>\n",
       "      <td>0.609012</td>\n",
       "    </tr>\n",
       "    <tr>\n",
       "      <th>1613</th>\n",
       "      <td>0.485987</td>\n",
       "      <td>0.371374</td>\n",
       "      <td>0.589955</td>\n",
       "      <td>0.608984</td>\n",
       "    </tr>\n",
       "    <tr>\n",
       "      <th>1611</th>\n",
       "      <td>0.486138</td>\n",
       "      <td>0.370884</td>\n",
       "      <td>0.589320</td>\n",
       "      <td>0.608893</td>\n",
       "    </tr>\n",
       "    <tr>\n",
       "      <th>1635</th>\n",
       "      <td>0.482311</td>\n",
       "      <td>0.381615</td>\n",
       "      <td>0.599491</td>\n",
       "      <td>0.608865</td>\n",
       "    </tr>\n",
       "    <tr>\n",
       "      <th>1621</th>\n",
       "      <td>0.484019</td>\n",
       "      <td>0.376648</td>\n",
       "      <td>0.594406</td>\n",
       "      <td>0.608707</td>\n",
       "    </tr>\n",
       "    <tr>\n",
       "      <th>...</th>\n",
       "      <td>...</td>\n",
       "      <td>...</td>\n",
       "      <td>...</td>\n",
       "      <td>...</td>\n",
       "    </tr>\n",
       "    <tr>\n",
       "      <th>4</th>\n",
       "      <td>0.964480</td>\n",
       "      <td>0.000123</td>\n",
       "      <td>0.001907</td>\n",
       "      <td>0.043669</td>\n",
       "    </tr>\n",
       "    <tr>\n",
       "      <th>1</th>\n",
       "      <td>0.984316</td>\n",
       "      <td>0.000000</td>\n",
       "      <td>0.000636</td>\n",
       "      <td>0.025214</td>\n",
       "    </tr>\n",
       "    <tr>\n",
       "      <th>2</th>\n",
       "      <td>0.974490</td>\n",
       "      <td>0.000061</td>\n",
       "      <td>0.000636</td>\n",
       "      <td>0.025213</td>\n",
       "    </tr>\n",
       "    <tr>\n",
       "      <th>0</th>\n",
       "      <td>1.984316</td>\n",
       "      <td>0.000000</td>\n",
       "      <td>0.000000</td>\n",
       "      <td>0.000000</td>\n",
       "    </tr>\n",
       "    <tr>\n",
       "      <th>2814</th>\n",
       "      <td>0.000977</td>\n",
       "      <td>1.000000</td>\n",
       "      <td>1.000000</td>\n",
       "      <td>0.000000</td>\n",
       "    </tr>\n",
       "  </tbody>\n",
       "</table>\n",
       "<p>2815 rows × 4 columns</p>\n",
       "</div>"
      ],
      "text/plain": [
       "      Threshold       FPR       TPR     GMean\n",
       "1617   0.484779  0.374686  0.593134  0.609012\n",
       "1613   0.485987  0.371374  0.589955  0.608984\n",
       "1611   0.486138  0.370884  0.589320  0.608893\n",
       "1635   0.482311  0.381615  0.599491  0.608865\n",
       "1621   0.484019  0.376648  0.594406  0.608707\n",
       "...         ...       ...       ...       ...\n",
       "4      0.964480  0.000123  0.001907  0.043669\n",
       "1      0.984316  0.000000  0.000636  0.025214\n",
       "2      0.974490  0.000061  0.000636  0.025213\n",
       "0      1.984316  0.000000  0.000000  0.000000\n",
       "2814   0.000977  1.000000  1.000000  0.000000\n",
       "\n",
       "[2815 rows x 4 columns]"
      ]
     },
     "execution_count": 110,
     "metadata": {},
     "output_type": "execute_result"
    }
   ],
   "source": [
    "# Save in dataframe and sort by gmean\n",
    "\n",
    "df_thresh = pd.DataFrame({'Threshold': thresholds, 'FPR': fpr, 'TPR': tpr, 'GMean': gmeans})\n",
    "df_thresh.sort_values(by='GMean', ascending=False)"
   ]
  },
  {
   "cell_type": "code",
   "execution_count": 113,
   "id": "64f4e708",
   "metadata": {},
   "outputs": [
    {
     "data": {
      "text/plain": [
       "0.4847793094556708"
      ]
     },
     "execution_count": 113,
     "metadata": {},
     "output_type": "execute_result"
    }
   ],
   "source": [
    "# get the best threshold\n",
    "best_thresh = thresholds[np.argmax(gmeans)]\n",
    "best_thresh"
   ]
  },
  {
   "cell_type": "markdown",
   "id": "34972b36",
   "metadata": {},
   "source": [
    "#### Weighted Model Evaluation"
   ]
  },
  {
   "cell_type": "code",
   "execution_count": 120,
   "id": "c7846659",
   "metadata": {},
   "outputs": [],
   "source": [
    "# calculate probability estimates for class 1\n",
    "y_prob = clf_balanced.predict_proba(X_test)\n",
    "y_prob_1 = y_prob[:,1]\n",
    "\n",
    "#calculate predictions using custom discrimination threshold\n",
    "y_pred = (y_prob_1 >= best_thresh).astype(int)"
   ]
  },
  {
   "cell_type": "code",
   "execution_count": 122,
   "id": "2c67ed80",
   "metadata": {},
   "outputs": [
    {
     "data": {
      "text/plain": [
       "<sklearn.metrics._plot.confusion_matrix.ConfusionMatrixDisplay at 0x268a266be80>"
      ]
     },
     "execution_count": 122,
     "metadata": {},
     "output_type": "execute_result"
    },
    {
     "data": {
      "image/png": "[encoded data removed]",
      "text/plain": [
       "<Figure size 432x288 with 2 Axes>"
      ]
     },
     "metadata": {
      "needs_background": "light"
     },
     "output_type": "display_data"
    }
   ],
   "source": [
    "ConfusionMatrixDisplay.from_predictions(y_test, y_pred, cmap='Blues')"
   ]
  },
  {
   "cell_type": "code",
   "execution_count": 124,
   "id": "b424932e",
   "metadata": {},
   "outputs": [
    {
     "data": {
      "text/plain": [
       "<sklearn.metrics._plot.confusion_matrix.ConfusionMatrixDisplay at 0x268a27381f0>"
      ]
     },
     "execution_count": 124,
     "metadata": {},
     "output_type": "execute_result"
    },
    {
     "data": {
      "image/png": "[encoded data removed]",
      "text/plain": [
       "<Figure size 432x288 with 2 Axes>"
      ]
     },
     "metadata": {
      "needs_background": "light"
     },
     "output_type": "display_data"
    }
   ],
   "source": [
    "ConfusionMatrixDisplay.from_predictions(y_test, y_pred, normalize='true', cmap='Greens')"
   ]
  },
  {
   "cell_type": "code",
   "execution_count": 121,
   "id": "8b8d2c22",
   "metadata": {
    "scrolled": false
   },
   "outputs": [
    {
     "name": "stdout",
     "output_type": "stream",
     "text": [
      "              precision    recall  f1-score   support\n",
      "\n",
      "           0       0.94      0.63      0.75     16307\n",
      "           1       0.13      0.59      0.22      1573\n",
      "\n",
      "    accuracy                           0.62     17880\n",
      "   macro avg       0.54      0.61      0.48     17880\n",
      "weighted avg       0.87      0.62      0.70     17880\n",
      "\n"
     ]
    }
   ],
   "source": [
    "print(classification_report(y_test, y_pred))"
   ]
  },
  {
   "cell_type": "markdown",
   "id": "905bb6cf",
   "metadata": {},
   "source": [
    "From a minority class perspective we improved our model significantly. While the basic logistic regression misclassified almost every minority class instance, the weighted model is classifying 59% correctly (=recall). This happened at the expense of overall accuracy since many majority class instances are now misclassified as well. The trade-off of recall and precision becomes visible: While the recall is substantially improved, precision decreased substantially to 13%. In other words: Out of 8 times the classifier predicts the minority class, only one classification is correct."
   ]
  },
  {
   "cell_type": "markdown",
   "id": "46c80211",
   "metadata": {},
   "source": [
    "### 3.1.5. Precision-Recall Curve <a id=\"logistic-regression-pr\"></a>\n",
    "[Back to top](#top)"
   ]
  },
  {
   "cell_type": "markdown",
   "id": "d2804ee6",
   "metadata": {},
   "source": [
    "In the previous section we improved our model in respect to the ROC-AUC metric and were able to get a more satisfying model regarding the purpose to identify patients which will get readmitted to the hospital within 30 days. Having that goal in mind, we can state that we are more/particularly interested in the performance regarding the minority class '1' and less interested in the performance regarding the majority class '0'. Therefore, it is worth to look at the precision-recall curve which only takes the class 1 into account. It can be avaluated by calculating the so-called 'average precision' which equals the area under its curve."
   ]
  },
  {
   "cell_type": "markdown",
   "id": "4857b3ed",
   "metadata": {},
   "source": [
    "#### Starting point"
   ]
  },
  {
   "cell_type": "markdown",
   "id": "da227c47",
   "metadata": {},
   "source": [
    "Let's have a look at the PR curve and average precision score of the already built basic and weighted logistic regression models."
   ]
  },
  {
   "cell_type": "code",
   "execution_count": 253,
   "id": "0c93b820",
   "metadata": {},
   "outputs": [
    {
     "data": {
      "text/plain": [
       "0.11771666360585446"
      ]
     },
     "execution_count": 253,
     "metadata": {},
     "output_type": "execute_result"
    }
   ],
   "source": [
    "y_prob_1 = clf.predict_proba(X_test)[:,1]\n",
    "average_precision_score(y_test, y_prob_1)"
   ]
  },
  {
   "cell_type": "code",
   "execution_count": 254,
   "id": "36cd43b9",
   "metadata": {},
   "outputs": [
    {
     "data": {
      "text/plain": [
       "<sklearn.metrics._plot.precision_recall_curve.PrecisionRecallDisplay at 0x268a2088040>"
      ]
     },
     "execution_count": 254,
     "metadata": {},
     "output_type": "execute_result"
    },
    {
     "data": {
      "image/png": "[encoded data removed]",
      "text/plain": [
       "<Figure size 432x288 with 1 Axes>"
      ]
     },
     "metadata": {
      "needs_background": "light"
     },
     "output_type": "display_data"
    }
   ],
   "source": [
    "PrecisionRecallDisplay.from_estimator(clf, X_test, y_test)"
   ]
  },
  {
   "cell_type": "code",
   "execution_count": 255,
   "id": "68f086d9",
   "metadata": {},
   "outputs": [
    {
     "data": {
      "text/plain": [
       "0.16783993101817343"
      ]
     },
     "execution_count": 255,
     "metadata": {},
     "output_type": "execute_result"
    }
   ],
   "source": [
    "y_prob_1 = clf_balanced.predict_proba(X_test)[:,1]\n",
    "average_precision_score(y_test, y_prob_1)"
   ]
  },
  {
   "cell_type": "code",
   "execution_count": 256,
   "id": "0b3ea6fa",
   "metadata": {},
   "outputs": [
    {
     "data": {
      "text/plain": [
       "<sklearn.metrics._plot.precision_recall_curve.PrecisionRecallDisplay at 0x268a20757f0>"
      ]
     },
     "execution_count": 256,
     "metadata": {},
     "output_type": "execute_result"
    },
    {
     "data": {
      "image/png": "[encoded data removed]",
      "text/plain": [
       "<Figure size 432x288 with 1 Axes>"
      ]
     },
     "metadata": {
      "needs_background": "light"
     },
     "output_type": "display_data"
    }
   ],
   "source": [
    "PrecisionRecallDisplay.from_estimator(clf_balanced, X_test, y_test)"
   ]
  },
  {
   "cell_type": "markdown",
   "id": "310bb287",
   "metadata": {},
   "source": [
    "We observe two PR curves which are far from an ideal shape. However, the weighted model shows a significantly better average precisions core than the basic classifier."
   ]
  },
  {
   "cell_type": "markdown",
   "id": "9b78172e",
   "metadata": {},
   "source": [
    "#### Hyperparameter Tuning "
   ]
  },
  {
   "cell_type": "markdown",
   "id": "d22a6df0",
   "metadata": {},
   "source": [
    "We conduct a random search similar to the [Hyperparameter Tuning](#logistic-regression-accuracy) before, this time using the average precision as score."
   ]
  },
  {
   "cell_type": "code",
   "execution_count": 258,
   "id": "f288e02c",
   "metadata": {},
   "outputs": [],
   "source": [
    "param_dist = {'logisticregression__solver': ['saga'],\n",
    "              'logisticregression__penalty': ['elasticnet', 'none'],\n",
    "              'logisticregression__l1_ratio': np.linspace(0, 1, 11), # try different elastic nets\n",
    "              'logisticregression__C': [0.001, 0.01, 0.1, 1, 10, 100, 1000, 10000], # vary regularization strength\n",
    "              'logisticregression__fit_intercept': [False, True], \n",
    "              'logisticregression__tol': [0.000001, 0.00001, 0.0001, 0.001, 0.01], # vary stopping threshold\n",
    "              'logisticregression__warm_start': [False, True],\n",
    "              'logisticregression__class_weight': ['balanced']\n",
    "             }"
   ]
  },
  {
   "cell_type": "code",
   "execution_count": 140,
   "id": "6fc782a3",
   "metadata": {},
   "outputs": [
    {
     "name": "stdout",
     "output_type": "stream",
     "text": [
      "Fitting 3 folds for each of 10 candidates, totalling 30 fits\n",
      "Wall time: 16min\n"
     ]
    },
    {
     "data": {
      "text/plain": [
       "RandomizedSearchCV(cv=3,\n",
       "                   estimator=Pipeline(steps=[('minmaxscaler', MinMaxScaler()),\n",
       "                                             ('logisticregression',\n",
       "                                              LogisticRegression(max_iter=1000,\n",
       "                                                                 random_state=42))]),\n",
       "                   n_jobs=-1,\n",
       "                   param_distributions={'logisticregression__C': [0.001, 0.01,\n",
       "                                                                  0.1, 1, 10,\n",
       "                                                                  100, 1000,\n",
       "                                                                  10000],\n",
       "                                        'logisticregression__class_weight': [None,\n",
       "                                                                             'balanced'],\n",
       "                                        'logisticregression__fit_intercept': [False,\n",
       "                                                                              True],\n",
       "                                        'logisticregression__l1_ratio': array([0. , 0.1, 0.2, 0.3, 0.4, 0.5, 0.6, 0.7, 0.8, 0.9, 1. ]),\n",
       "                                        'logisticregression__penalty': ['elasticnet',\n",
       "                                                                        'none'],\n",
       "                                        'logisticregression__solver': ['saga'],\n",
       "                                        'logisticregression__tol': [1e-06,\n",
       "                                                                    1e-05,\n",
       "                                                                    0.0001,\n",
       "                                                                    0.001,\n",
       "                                                                    0.01],\n",
       "                                        'logisticregression__warm_start': [False,\n",
       "                                                                           True]},\n",
       "                   scoring='average_precision', verbose=1)"
      ]
     },
     "execution_count": 140,
     "metadata": {},
     "output_type": "execute_result"
    }
   ],
   "source": [
    "random_search = RandomizedSearchCV(estimator=clf, \n",
    "                                   param_distributions = param_dist,\n",
    "                                   scoring='average_precision',\n",
    "                                   cv=3, #reduced to 3-fold to reduce runtime\n",
    "                                   n_jobs=-1,\n",
    "                                   verbose=1)\n",
    "%time random_search.fit(X_train, y_train)"
   ]
  },
  {
   "cell_type": "code",
   "execution_count": 141,
   "id": "57bb3a1a",
   "metadata": {},
   "outputs": [
    {
     "data": {
      "text/html": [
       "<div>\n",
       "<style scoped>\n",
       "    .dataframe tbody tr th:only-of-type {\n",
       "        vertical-align: middle;\n",
       "    }\n",
       "\n",
       "    .dataframe tbody tr th {\n",
       "        vertical-align: top;\n",
       "    }\n",
       "\n",
       "    .dataframe thead th {\n",
       "        text-align: right;\n",
       "    }\n",
       "</style>\n",
       "<table border=\"1\" class=\"dataframe\">\n",
       "  <thead>\n",
       "    <tr style=\"text-align: right;\">\n",
       "      <th></th>\n",
       "      <th>mean_fit_time</th>\n",
       "      <th>std_fit_time</th>\n",
       "      <th>mean_score_time</th>\n",
       "      <th>std_score_time</th>\n",
       "      <th>param_logisticregression__warm_start</th>\n",
       "      <th>param_logisticregression__tol</th>\n",
       "      <th>param_logisticregression__solver</th>\n",
       "      <th>param_logisticregression__penalty</th>\n",
       "      <th>param_logisticregression__l1_ratio</th>\n",
       "      <th>param_logisticregression__fit_intercept</th>\n",
       "      <th>param_logisticregression__class_weight</th>\n",
       "      <th>param_logisticregression__C</th>\n",
       "      <th>params</th>\n",
       "      <th>split0_test_score</th>\n",
       "      <th>split1_test_score</th>\n",
       "      <th>split2_test_score</th>\n",
       "      <th>mean_test_score</th>\n",
       "      <th>std_test_score</th>\n",
       "      <th>rank_test_score</th>\n",
       "    </tr>\n",
       "  </thead>\n",
       "  <tbody>\n",
       "    <tr>\n",
       "      <th>8</th>\n",
       "      <td>6.703994</td>\n",
       "      <td>0.587359</td>\n",
       "      <td>0.053335</td>\n",
       "      <td>0.000943</td>\n",
       "      <td>True</td>\n",
       "      <td>0.01</td>\n",
       "      <td>saga</td>\n",
       "      <td>elasticnet</td>\n",
       "      <td>0.2</td>\n",
       "      <td>True</td>\n",
       "      <td>None</td>\n",
       "      <td>10000</td>\n",
       "      <td>{'logisticregression__warm_start': True, 'logi...</td>\n",
       "      <td>0.175554</td>\n",
       "      <td>0.162100</td>\n",
       "      <td>0.154016</td>\n",
       "      <td>0.163890</td>\n",
       "      <td>0.008884</td>\n",
       "      <td>1</td>\n",
       "    </tr>\n",
       "    <tr>\n",
       "      <th>6</th>\n",
       "      <td>5.881994</td>\n",
       "      <td>1.206025</td>\n",
       "      <td>0.051671</td>\n",
       "      <td>0.000473</td>\n",
       "      <td>False</td>\n",
       "      <td>0.01</td>\n",
       "      <td>saga</td>\n",
       "      <td>elasticnet</td>\n",
       "      <td>0.1</td>\n",
       "      <td>False</td>\n",
       "      <td>None</td>\n",
       "      <td>10</td>\n",
       "      <td>{'logisticregression__warm_start': False, 'log...</td>\n",
       "      <td>0.175567</td>\n",
       "      <td>0.162062</td>\n",
       "      <td>0.153956</td>\n",
       "      <td>0.163862</td>\n",
       "      <td>0.008914</td>\n",
       "      <td>2</td>\n",
       "    </tr>\n",
       "    <tr>\n",
       "      <th>1</th>\n",
       "      <td>167.019006</td>\n",
       "      <td>0.620905</td>\n",
       "      <td>0.071332</td>\n",
       "      <td>0.010780</td>\n",
       "      <td>False</td>\n",
       "      <td>0.0001</td>\n",
       "      <td>saga</td>\n",
       "      <td>none</td>\n",
       "      <td>0.1</td>\n",
       "      <td>False</td>\n",
       "      <td>None</td>\n",
       "      <td>0.1</td>\n",
       "      <td>{'logisticregression__warm_start': False, 'log...</td>\n",
       "      <td>0.172728</td>\n",
       "      <td>0.160613</td>\n",
       "      <td>0.153958</td>\n",
       "      <td>0.162433</td>\n",
       "      <td>0.007770</td>\n",
       "      <td>3</td>\n",
       "    </tr>\n",
       "    <tr>\n",
       "      <th>2</th>\n",
       "      <td>162.003766</td>\n",
       "      <td>6.082071</td>\n",
       "      <td>0.057668</td>\n",
       "      <td>0.003858</td>\n",
       "      <td>False</td>\n",
       "      <td>0.00001</td>\n",
       "      <td>saga</td>\n",
       "      <td>none</td>\n",
       "      <td>0.7</td>\n",
       "      <td>False</td>\n",
       "      <td>None</td>\n",
       "      <td>100</td>\n",
       "      <td>{'logisticregression__warm_start': False, 'log...</td>\n",
       "      <td>0.172728</td>\n",
       "      <td>0.160613</td>\n",
       "      <td>0.153958</td>\n",
       "      <td>0.162433</td>\n",
       "      <td>0.007770</td>\n",
       "      <td>3</td>\n",
       "    </tr>\n",
       "    <tr>\n",
       "      <th>9</th>\n",
       "      <td>10.571996</td>\n",
       "      <td>0.586781</td>\n",
       "      <td>0.058668</td>\n",
       "      <td>0.008055</td>\n",
       "      <td>True</td>\n",
       "      <td>0.001</td>\n",
       "      <td>saga</td>\n",
       "      <td>elasticnet</td>\n",
       "      <td>0.1</td>\n",
       "      <td>False</td>\n",
       "      <td>balanced</td>\n",
       "      <td>0.1</td>\n",
       "      <td>{'logisticregression__warm_start': True, 'logi...</td>\n",
       "      <td>0.172959</td>\n",
       "      <td>0.159204</td>\n",
       "      <td>0.153480</td>\n",
       "      <td>0.161881</td>\n",
       "      <td>0.008174</td>\n",
       "      <td>5</td>\n",
       "    </tr>\n",
       "    <tr>\n",
       "      <th>7</th>\n",
       "      <td>9.624663</td>\n",
       "      <td>0.245186</td>\n",
       "      <td>0.052001</td>\n",
       "      <td>0.000816</td>\n",
       "      <td>True</td>\n",
       "      <td>0.000001</td>\n",
       "      <td>saga</td>\n",
       "      <td>elasticnet</td>\n",
       "      <td>0.7</td>\n",
       "      <td>True</td>\n",
       "      <td>balanced</td>\n",
       "      <td>0.01</td>\n",
       "      <td>{'logisticregression__warm_start': True, 'logi...</td>\n",
       "      <td>0.159252</td>\n",
       "      <td>0.146422</td>\n",
       "      <td>0.145939</td>\n",
       "      <td>0.150538</td>\n",
       "      <td>0.006165</td>\n",
       "      <td>6</td>\n",
       "    </tr>\n",
       "    <tr>\n",
       "      <th>0</th>\n",
       "      <td>168.651673</td>\n",
       "      <td>0.126495</td>\n",
       "      <td>0.109010</td>\n",
       "      <td>0.024131</td>\n",
       "      <td>False</td>\n",
       "      <td>0.01</td>\n",
       "      <td>saga</td>\n",
       "      <td>none</td>\n",
       "      <td>0.3</td>\n",
       "      <td>True</td>\n",
       "      <td>balanced</td>\n",
       "      <td>0.01</td>\n",
       "      <td>{'logisticregression__warm_start': False, 'log...</td>\n",
       "      <td>0.139698</td>\n",
       "      <td>0.148198</td>\n",
       "      <td>0.146532</td>\n",
       "      <td>0.144810</td>\n",
       "      <td>0.003678</td>\n",
       "      <td>7</td>\n",
       "    </tr>\n",
       "    <tr>\n",
       "      <th>4</th>\n",
       "      <td>160.979330</td>\n",
       "      <td>1.058560</td>\n",
       "      <td>0.076335</td>\n",
       "      <td>0.018447</td>\n",
       "      <td>True</td>\n",
       "      <td>0.000001</td>\n",
       "      <td>saga</td>\n",
       "      <td>none</td>\n",
       "      <td>1.0</td>\n",
       "      <td>True</td>\n",
       "      <td>balanced</td>\n",
       "      <td>10000</td>\n",
       "      <td>{'logisticregression__warm_start': True, 'logi...</td>\n",
       "      <td>0.139698</td>\n",
       "      <td>0.148198</td>\n",
       "      <td>0.146532</td>\n",
       "      <td>0.144810</td>\n",
       "      <td>0.003678</td>\n",
       "      <td>7</td>\n",
       "    </tr>\n",
       "    <tr>\n",
       "      <th>3</th>\n",
       "      <td>245.151950</td>\n",
       "      <td>0.231626</td>\n",
       "      <td>0.071012</td>\n",
       "      <td>0.016324</td>\n",
       "      <td>True</td>\n",
       "      <td>0.01</td>\n",
       "      <td>saga</td>\n",
       "      <td>elasticnet</td>\n",
       "      <td>0.8</td>\n",
       "      <td>True</td>\n",
       "      <td>balanced</td>\n",
       "      <td>1</td>\n",
       "      <td>{'logisticregression__warm_start': True, 'logi...</td>\n",
       "      <td>0.143286</td>\n",
       "      <td>0.140829</td>\n",
       "      <td>0.147285</td>\n",
       "      <td>0.143800</td>\n",
       "      <td>0.002661</td>\n",
       "      <td>9</td>\n",
       "    </tr>\n",
       "    <tr>\n",
       "      <th>5</th>\n",
       "      <td>243.726329</td>\n",
       "      <td>27.393802</td>\n",
       "      <td>0.057672</td>\n",
       "      <td>0.015280</td>\n",
       "      <td>False</td>\n",
       "      <td>0.00001</td>\n",
       "      <td>saga</td>\n",
       "      <td>elasticnet</td>\n",
       "      <td>0.5</td>\n",
       "      <td>True</td>\n",
       "      <td>balanced</td>\n",
       "      <td>10</td>\n",
       "      <td>{'logisticregression__warm_start': False, 'log...</td>\n",
       "      <td>0.143758</td>\n",
       "      <td>0.137830</td>\n",
       "      <td>0.137501</td>\n",
       "      <td>0.139697</td>\n",
       "      <td>0.002875</td>\n",
       "      <td>10</td>\n",
       "    </tr>\n",
       "  </tbody>\n",
       "</table>\n",
       "</div>"
      ],
      "text/plain": [
       "   mean_fit_time  std_fit_time  mean_score_time  std_score_time  \\\n",
       "8       6.703994      0.587359         0.053335        0.000943   \n",
       "6       5.881994      1.206025         0.051671        0.000473   \n",
       "1     167.019006      0.620905         0.071332        0.010780   \n",
       "2     162.003766      6.082071         0.057668        0.003858   \n",
       "9      10.571996      0.586781         0.058668        0.008055   \n",
       "7       9.624663      0.245186         0.052001        0.000816   \n",
       "0     168.651673      0.126495         0.109010        0.024131   \n",
       "4     160.979330      1.058560         0.076335        0.018447   \n",
       "3     245.151950      0.231626         0.071012        0.016324   \n",
       "5     243.726329     27.393802         0.057672        0.015280   \n",
       "\n",
       "  param_logisticregression__warm_start param_logisticregression__tol  \\\n",
       "8                                 True                          0.01   \n",
       "6                                False                          0.01   \n",
       "1                                False                        0.0001   \n",
       "2                                False                       0.00001   \n",
       "9                                 True                         0.001   \n",
       "7                                 True                      0.000001   \n",
       "0                                False                          0.01   \n",
       "4                                 True                      0.000001   \n",
       "3                                 True                          0.01   \n",
       "5                                False                       0.00001   \n",
       "\n",
       "  param_logisticregression__solver param_logisticregression__penalty  \\\n",
       "8                             saga                        elasticnet   \n",
       "6                             saga                        elasticnet   \n",
       "1                             saga                              none   \n",
       "2                             saga                              none   \n",
       "9                             saga                        elasticnet   \n",
       "7                             saga                        elasticnet   \n",
       "0                             saga                              none   \n",
       "4                             saga                              none   \n",
       "3                             saga                        elasticnet   \n",
       "5                             saga                        elasticnet   \n",
       "\n",
       "  param_logisticregression__l1_ratio param_logisticregression__fit_intercept  \\\n",
       "8                                0.2                                    True   \n",
       "6                                0.1                                   False   \n",
       "1                                0.1                                   False   \n",
       "2                                0.7                                   False   \n",
       "9                                0.1                                   False   \n",
       "7                                0.7                                    True   \n",
       "0                                0.3                                    True   \n",
       "4                                1.0                                    True   \n",
       "3                                0.8                                    True   \n",
       "5                                0.5                                    True   \n",
       "\n",
       "  param_logisticregression__class_weight param_logisticregression__C  \\\n",
       "8                                   None                       10000   \n",
       "6                                   None                          10   \n",
       "1                                   None                         0.1   \n",
       "2                                   None                         100   \n",
       "9                               balanced                         0.1   \n",
       "7                               balanced                        0.01   \n",
       "0                               balanced                        0.01   \n",
       "4                               balanced                       10000   \n",
       "3                               balanced                           1   \n",
       "5                               balanced                          10   \n",
       "\n",
       "                                              params  split0_test_score  \\\n",
       "8  {'logisticregression__warm_start': True, 'logi...           0.175554   \n",
       "6  {'logisticregression__warm_start': False, 'log...           0.175567   \n",
       "1  {'logisticregression__warm_start': False, 'log...           0.172728   \n",
       "2  {'logisticregression__warm_start': False, 'log...           0.172728   \n",
       "9  {'logisticregression__warm_start': True, 'logi...           0.172959   \n",
       "7  {'logisticregression__warm_start': True, 'logi...           0.159252   \n",
       "0  {'logisticregression__warm_start': False, 'log...           0.139698   \n",
       "4  {'logisticregression__warm_start': True, 'logi...           0.139698   \n",
       "3  {'logisticregression__warm_start': True, 'logi...           0.143286   \n",
       "5  {'logisticregression__warm_start': False, 'log...           0.143758   \n",
       "\n",
       "   split1_test_score  split2_test_score  mean_test_score  std_test_score  \\\n",
       "8           0.162100           0.154016         0.163890        0.008884   \n",
       "6           0.162062           0.153956         0.163862        0.008914   \n",
       "1           0.160613           0.153958         0.162433        0.007770   \n",
       "2           0.160613           0.153958         0.162433        0.007770   \n",
       "9           0.159204           0.153480         0.161881        0.008174   \n",
       "7           0.146422           0.145939         0.150538        0.006165   \n",
       "0           0.148198           0.146532         0.144810        0.003678   \n",
       "4           0.148198           0.146532         0.144810        0.003678   \n",
       "3           0.140829           0.147285         0.143800        0.002661   \n",
       "5           0.137830           0.137501         0.139697        0.002875   \n",
       "\n",
       "   rank_test_score  \n",
       "8                1  \n",
       "6                2  \n",
       "1                3  \n",
       "2                3  \n",
       "9                5  \n",
       "7                6  \n",
       "0                7  \n",
       "4                7  \n",
       "3                9  \n",
       "5               10  "
      ]
     },
     "execution_count": 141,
     "metadata": {},
     "output_type": "execute_result"
    }
   ],
   "source": [
    "rs_cv_results = pd.DataFrame(random_search.cv_results_)\n",
    "rs_cv_results.sort_values(by='mean_test_score', ascending=False)"
   ]
  },
  {
   "cell_type": "code",
   "execution_count": 146,
   "id": "f11846ac",
   "metadata": {},
   "outputs": [
    {
     "data": {
      "text/plain": [
       "{'logisticregression__warm_start': True,\n",
       " 'logisticregression__tol': 0.01,\n",
       " 'logisticregression__solver': 'saga',\n",
       " 'logisticregression__penalty': 'elasticnet',\n",
       " 'logisticregression__l1_ratio': 0.2,\n",
       " 'logisticregression__fit_intercept': True,\n",
       " 'logisticregression__class_weight': None,\n",
       " 'logisticregression__C': 10000}"
      ]
     },
     "execution_count": 146,
     "metadata": {},
     "output_type": "execute_result"
    }
   ],
   "source": [
    "random_search.best_params_"
   ]
  },
  {
   "cell_type": "code",
   "execution_count": 144,
   "id": "e3721b77",
   "metadata": {},
   "outputs": [],
   "source": [
    "# get best model\n",
    "clf_opt = random_search.best_estimator_"
   ]
  },
  {
   "cell_type": "code",
   "execution_count": 260,
   "id": "05376eac",
   "metadata": {},
   "outputs": [
    {
     "data": {
      "text/plain": [
       "0.16867819561257236"
      ]
     },
     "execution_count": 260,
     "metadata": {},
     "output_type": "execute_result"
    }
   ],
   "source": [
    "# predict probability estimates\n",
    "y_prob = clf_opt.predict_proba(X_test)\n",
    "y_prob_1 = y_prob[:,1]\n",
    "\n",
    "# predict average precison\n",
    "average_precision_score(y_test, y_prob_1)"
   ]
  },
  {
   "cell_type": "code",
   "execution_count": 227,
   "id": "7791d5b9",
   "metadata": {},
   "outputs": [
    {
     "data": {
      "text/plain": [
       "<sklearn.metrics._plot.precision_recall_curve.PrecisionRecallDisplay at 0x268a1662eb0>"
      ]
     },
     "execution_count": 227,
     "metadata": {},
     "output_type": "execute_result"
    },
    {
     "data": {
      "image/png": "[encoded data removed]",
      "text/plain": [
       "<Figure size 432x288 with 1 Axes>"
      ]
     },
     "metadata": {
      "needs_background": "light"
     },
     "output_type": "display_data"
    }
   ],
   "source": [
    "PrecisionRecallDisplay.from_estimator(clf_balanced, X_test, y_test)"
   ]
  },
  {
   "cell_type": "markdown",
   "id": "e2f0f306",
   "metadata": {},
   "source": [
    "We observe a slight improvement in the average precision score."
   ]
  },
  {
   "cell_type": "markdown",
   "id": "7f90bd41",
   "metadata": {},
   "source": [
    "#### Calibration"
   ]
  },
  {
   "cell_type": "code",
   "execution_count": 264,
   "id": "dcfc4993",
   "metadata": {},
   "outputs": [
    {
     "data": {
      "text/plain": [
       "<sklearn.calibration.CalibrationDisplay at 0x268a2325640>"
      ]
     },
     "execution_count": 264,
     "metadata": {},
     "output_type": "execute_result"
    },
    {
     "data": {
      "image/png": "[encoded data removed]",
      "text/plain": [
       "<Figure size 432x288 with 1 Axes>"
      ]
     },
     "metadata": {
      "needs_background": "light"
     },
     "output_type": "display_data"
    }
   ],
   "source": [
    "# scikit-learn 1.0 needed\n",
    "# show calibration curve of current model\n",
    "\n",
    "CalibrationDisplay.from_estimator(clf_opt, X_test, y_test)"
   ]
  },
  {
   "cell_type": "code",
   "execution_count": 263,
   "id": "f9cd16c1",
   "metadata": {},
   "outputs": [
    {
     "name": "stdout",
     "output_type": "stream",
     "text": [
      "Wall time: 17.5 s\n"
     ]
    },
    {
     "data": {
      "text/plain": [
       "CalibratedClassifierCV(base_estimator=Pipeline(steps=[('minmaxscaler',\n",
       "                                                       MinMaxScaler()),\n",
       "                                                      ('logisticregression',\n",
       "                                                       LogisticRegression(C=10000,\n",
       "                                                                          l1_ratio=0.2,\n",
       "                                                                          max_iter=1000,\n",
       "                                                                          penalty='elasticnet',\n",
       "                                                                          random_state=42,\n",
       "                                                                          solver='saga',\n",
       "                                                                          tol=0.01,\n",
       "                                                                          warm_start=True))]),\n",
       "                       n_jobs=-1)"
      ]
     },
     "execution_count": 263,
     "metadata": {},
     "output_type": "execute_result"
    }
   ],
   "source": [
    "# fit and calibrate model on training data\n",
    "clf_calibrated = CalibratedClassifierCV(clf_opt, n_jobs=-1)\n",
    "%time clf_calibrated.fit(X_train, y_train)"
   ]
  },
  {
   "cell_type": "code",
   "execution_count": 265,
   "id": "72c86991",
   "metadata": {},
   "outputs": [
    {
     "data": {
      "text/plain": [
       "<sklearn.calibration.CalibrationDisplay at 0x268a21ed9a0>"
      ]
     },
     "execution_count": 265,
     "metadata": {},
     "output_type": "execute_result"
    },
    {
     "data": {
      "image/png": "[encoded data removed]",
      "text/plain": [
       "<Figure size 432x288 with 1 Axes>"
      ]
     },
     "metadata": {
      "needs_background": "light"
     },
     "output_type": "display_data"
    }
   ],
   "source": [
    "# scikit-learn 1.0 needed\n",
    "# show calibration curve of calibrated model\n",
    "\n",
    "CalibrationDisplay.from_estimator(clf_calibrated, X_test, y_test)"
   ]
  },
  {
   "cell_type": "code",
   "execution_count": 266,
   "id": "adc316eb",
   "metadata": {},
   "outputs": [
    {
     "name": "stdout",
     "output_type": "stream",
     "text": [
      "              precision    recall  f1-score   support\n",
      "\n",
      "           0       0.91      1.00      0.95     16307\n",
      "           1       0.41      0.00      0.01      1573\n",
      "\n",
      "    accuracy                           0.91     17880\n",
      "   macro avg       0.66      0.50      0.48     17880\n",
      "weighted avg       0.87      0.91      0.87     17880\n",
      "\n"
     ]
    }
   ],
   "source": [
    "print(classification_report(y_test, clf_calibrated.predict(X_test)))"
   ]
  },
  {
   "cell_type": "code",
   "execution_count": 267,
   "id": "c2d407d3",
   "metadata": {},
   "outputs": [
    {
     "data": {
      "text/plain": [
       "<sklearn.metrics._plot.precision_recall_curve.PrecisionRecallDisplay at 0x268a23e11f0>"
      ]
     },
     "execution_count": 267,
     "metadata": {},
     "output_type": "execute_result"
    },
    {
     "data": {
      "image/png": "[encoded data removed]",
      "text/plain": [
       "<Figure size 432x288 with 1 Axes>"
      ]
     },
     "metadata": {
      "needs_background": "light"
     },
     "output_type": "display_data"
    }
   ],
   "source": [
    "PrecisionRecallDisplay.from_estimator(clf_calibrated, X_test, y_test)"
   ]
  },
  {
   "cell_type": "markdown",
   "id": "e60b0eac",
   "metadata": {},
   "source": [
    "#### F-Score Optimizing Threshold Selection"
   ]
  },
  {
   "cell_type": "markdown",
   "id": "88060307",
   "metadata": {},
   "source": [
    "We can select our preferred discrimiination threshold according to a weighted measure of the two dimensions precision and recall. The most common F-score is the F1 which is used if recall and precision are seen as equally important. We additionally calculate the F2-score for which the recall is twice as important as the precision."
   ]
  },
  {
   "cell_type": "code",
   "execution_count": 272,
   "id": "e6777974",
   "metadata": {},
   "outputs": [],
   "source": [
    "# predict probabilities\n",
    "y_prob = clf_calibrated.predict_proba(X_test)\n",
    "\n",
    "# probabilities for the positive outcome only\n",
    "y_prob_1 = y_prob[:, 1]\n",
    "\n",
    "# calculate precision-recall curve\n",
    "precision, recall, thresholds = precision_recall_curve(y_test, y_prob_1)\n",
    "\n",
    "# calculate f scores for every threshold\n",
    "f1_scores = (2 * precision * recall) / (precision + recall)\n",
    "f2_scores = (5 * precision * recall) / (4 * precision + recall)"
   ]
  },
  {
   "cell_type": "code",
   "execution_count": 273,
   "id": "d79434a5",
   "metadata": {
    "scrolled": true
   },
   "outputs": [
    {
     "data": {
      "text/html": [
       "<div>\n",
       "<style scoped>\n",
       "    .dataframe tbody tr th:only-of-type {\n",
       "        vertical-align: middle;\n",
       "    }\n",
       "\n",
       "    .dataframe tbody tr th {\n",
       "        vertical-align: top;\n",
       "    }\n",
       "\n",
       "    .dataframe thead th {\n",
       "        text-align: right;\n",
       "    }\n",
       "</style>\n",
       "<table border=\"1\" class=\"dataframe\">\n",
       "  <thead>\n",
       "    <tr style=\"text-align: right;\">\n",
       "      <th></th>\n",
       "      <th>Threshold</th>\n",
       "      <th>Precision</th>\n",
       "      <th>Recall</th>\n",
       "      <th>F1-Score</th>\n",
       "      <th>F2-Score</th>\n",
       "    </tr>\n",
       "  </thead>\n",
       "  <tbody>\n",
       "    <tr>\n",
       "      <th>14508</th>\n",
       "      <td>0.116606</td>\n",
       "      <td>0.182025</td>\n",
       "      <td>0.355372</td>\n",
       "      <td>0.240741</td>\n",
       "      <td>0.298515</td>\n",
       "    </tr>\n",
       "    <tr>\n",
       "      <th>14474</th>\n",
       "      <td>0.115955</td>\n",
       "      <td>0.181320</td>\n",
       "      <td>0.357915</td>\n",
       "      <td>0.240701</td>\n",
       "      <td>0.299564</td>\n",
       "    </tr>\n",
       "    <tr>\n",
       "      <th>14507</th>\n",
       "      <td>0.116590</td>\n",
       "      <td>0.181966</td>\n",
       "      <td>0.355372</td>\n",
       "      <td>0.240689</td>\n",
       "      <td>0.298484</td>\n",
       "    </tr>\n",
       "    <tr>\n",
       "      <th>14482</th>\n",
       "      <td>0.116066</td>\n",
       "      <td>0.181466</td>\n",
       "      <td>0.357279</td>\n",
       "      <td>0.240685</td>\n",
       "      <td>0.299286</td>\n",
       "    </tr>\n",
       "    <tr>\n",
       "      <th>14490</th>\n",
       "      <td>0.116193</td>\n",
       "      <td>0.181612</td>\n",
       "      <td>0.356643</td>\n",
       "      <td>0.240669</td>\n",
       "      <td>0.299009</td>\n",
       "    </tr>\n",
       "    <tr>\n",
       "      <th>...</th>\n",
       "      <td>...</td>\n",
       "      <td>...</td>\n",
       "      <td>...</td>\n",
       "      <td>...</td>\n",
       "      <td>...</td>\n",
       "    </tr>\n",
       "    <tr>\n",
       "      <th>17574</th>\n",
       "      <td>0.633357</td>\n",
       "      <td>0.600000</td>\n",
       "      <td>0.001907</td>\n",
       "      <td>0.003802</td>\n",
       "      <td>0.002382</td>\n",
       "    </tr>\n",
       "    <tr>\n",
       "      <th>17576</th>\n",
       "      <td>0.643127</td>\n",
       "      <td>0.666667</td>\n",
       "      <td>0.001271</td>\n",
       "      <td>0.002538</td>\n",
       "      <td>0.001589</td>\n",
       "    </tr>\n",
       "    <tr>\n",
       "      <th>17575</th>\n",
       "      <td>0.639947</td>\n",
       "      <td>0.500000</td>\n",
       "      <td>0.001271</td>\n",
       "      <td>0.002536</td>\n",
       "      <td>0.001588</td>\n",
       "    </tr>\n",
       "    <tr>\n",
       "      <th>17578</th>\n",
       "      <td>0.774017</td>\n",
       "      <td>1.000000</td>\n",
       "      <td>0.000636</td>\n",
       "      <td>0.001271</td>\n",
       "      <td>0.000795</td>\n",
       "    </tr>\n",
       "    <tr>\n",
       "      <th>17577</th>\n",
       "      <td>0.699870</td>\n",
       "      <td>0.500000</td>\n",
       "      <td>0.000636</td>\n",
       "      <td>0.001270</td>\n",
       "      <td>0.000794</td>\n",
       "    </tr>\n",
       "  </tbody>\n",
       "</table>\n",
       "<p>17579 rows × 5 columns</p>\n",
       "</div>"
      ],
      "text/plain": [
       "       Threshold  Precision    Recall  F1-Score  F2-Score\n",
       "14508   0.116606   0.182025  0.355372  0.240741  0.298515\n",
       "14474   0.115955   0.181320  0.357915  0.240701  0.299564\n",
       "14507   0.116590   0.181966  0.355372  0.240689  0.298484\n",
       "14482   0.116066   0.181466  0.357279  0.240685  0.299286\n",
       "14490   0.116193   0.181612  0.356643  0.240669  0.299009\n",
       "...          ...        ...       ...       ...       ...\n",
       "17574   0.633357   0.600000  0.001907  0.003802  0.002382\n",
       "17576   0.643127   0.666667  0.001271  0.002538  0.001589\n",
       "17575   0.639947   0.500000  0.001271  0.002536  0.001588\n",
       "17578   0.774017   1.000000  0.000636  0.001271  0.000795\n",
       "17577   0.699870   0.500000  0.000636  0.001270  0.000794\n",
       "\n",
       "[17579 rows x 5 columns]"
      ]
     },
     "execution_count": 273,
     "metadata": {},
     "output_type": "execute_result"
    }
   ],
   "source": [
    "# Save in dataframe and sort by f1-score\n",
    "df_thresh_f1 = pd.DataFrame({'Threshold': thresholds, 'Precision': precision[:-1], 'Recall': recall[:-1], 'F1-Score': f1_scores[:-1], 'F2-Score': f2_scores[:-1]})\n",
    "df_thresh_f1.sort_values(by='F1-Score', ascending=False)"
   ]
  },
  {
   "cell_type": "code",
   "execution_count": 277,
   "id": "a8849faf",
   "metadata": {},
   "outputs": [
    {
     "data": {
      "text/plain": [
       "0.11660590318921334"
      ]
     },
     "execution_count": 277,
     "metadata": {},
     "output_type": "execute_result"
    }
   ],
   "source": [
    "# get the f1-optimizing threshold\n",
    "best_thresh_f1 = thresholds[np.argmax(f1_scores)]\n",
    "best_thresh_f1"
   ]
  },
  {
   "cell_type": "code",
   "execution_count": 274,
   "id": "65b8e2b7",
   "metadata": {},
   "outputs": [
    {
     "data": {
      "text/html": [
       "<div>\n",
       "<style scoped>\n",
       "    .dataframe tbody tr th:only-of-type {\n",
       "        vertical-align: middle;\n",
       "    }\n",
       "\n",
       "    .dataframe tbody tr th {\n",
       "        vertical-align: top;\n",
       "    }\n",
       "\n",
       "    .dataframe thead th {\n",
       "        text-align: right;\n",
       "    }\n",
       "</style>\n",
       "<table border=\"1\" class=\"dataframe\">\n",
       "  <thead>\n",
       "    <tr style=\"text-align: right;\">\n",
       "      <th></th>\n",
       "      <th>Threshold</th>\n",
       "      <th>Precision</th>\n",
       "      <th>Recall</th>\n",
       "      <th>F1-Score</th>\n",
       "      <th>F2-Score</th>\n",
       "    </tr>\n",
       "  </thead>\n",
       "  <tbody>\n",
       "    <tr>\n",
       "      <th>9781</th>\n",
       "      <td>0.081165</td>\n",
       "      <td>0.126827</td>\n",
       "      <td>0.628735</td>\n",
       "      <td>0.211077</td>\n",
       "      <td>0.350958</td>\n",
       "    </tr>\n",
       "    <tr>\n",
       "      <th>9780</th>\n",
       "      <td>0.081165</td>\n",
       "      <td>0.126811</td>\n",
       "      <td>0.628735</td>\n",
       "      <td>0.211054</td>\n",
       "      <td>0.350933</td>\n",
       "    </tr>\n",
       "    <tr>\n",
       "      <th>9779</th>\n",
       "      <td>0.081161</td>\n",
       "      <td>0.126795</td>\n",
       "      <td>0.628735</td>\n",
       "      <td>0.211032</td>\n",
       "      <td>0.350908</td>\n",
       "    </tr>\n",
       "    <tr>\n",
       "      <th>9778</th>\n",
       "      <td>0.081158</td>\n",
       "      <td>0.126779</td>\n",
       "      <td>0.628735</td>\n",
       "      <td>0.211009</td>\n",
       "      <td>0.350883</td>\n",
       "    </tr>\n",
       "    <tr>\n",
       "      <th>9777</th>\n",
       "      <td>0.081158</td>\n",
       "      <td>0.126762</td>\n",
       "      <td>0.628735</td>\n",
       "      <td>0.210987</td>\n",
       "      <td>0.350859</td>\n",
       "    </tr>\n",
       "    <tr>\n",
       "      <th>...</th>\n",
       "      <td>...</td>\n",
       "      <td>...</td>\n",
       "      <td>...</td>\n",
       "      <td>...</td>\n",
       "      <td>...</td>\n",
       "    </tr>\n",
       "    <tr>\n",
       "      <th>17574</th>\n",
       "      <td>0.633357</td>\n",
       "      <td>0.600000</td>\n",
       "      <td>0.001907</td>\n",
       "      <td>0.003802</td>\n",
       "      <td>0.002382</td>\n",
       "    </tr>\n",
       "    <tr>\n",
       "      <th>17576</th>\n",
       "      <td>0.643127</td>\n",
       "      <td>0.666667</td>\n",
       "      <td>0.001271</td>\n",
       "      <td>0.002538</td>\n",
       "      <td>0.001589</td>\n",
       "    </tr>\n",
       "    <tr>\n",
       "      <th>17575</th>\n",
       "      <td>0.639947</td>\n",
       "      <td>0.500000</td>\n",
       "      <td>0.001271</td>\n",
       "      <td>0.002536</td>\n",
       "      <td>0.001588</td>\n",
       "    </tr>\n",
       "    <tr>\n",
       "      <th>17578</th>\n",
       "      <td>0.774017</td>\n",
       "      <td>1.000000</td>\n",
       "      <td>0.000636</td>\n",
       "      <td>0.001271</td>\n",
       "      <td>0.000795</td>\n",
       "    </tr>\n",
       "    <tr>\n",
       "      <th>17577</th>\n",
       "      <td>0.699870</td>\n",
       "      <td>0.500000</td>\n",
       "      <td>0.000636</td>\n",
       "      <td>0.001270</td>\n",
       "      <td>0.000794</td>\n",
       "    </tr>\n",
       "  </tbody>\n",
       "</table>\n",
       "<p>17579 rows × 5 columns</p>\n",
       "</div>"
      ],
      "text/plain": [
       "       Threshold  Precision    Recall  F1-Score  F2-Score\n",
       "9781    0.081165   0.126827  0.628735  0.211077  0.350958\n",
       "9780    0.081165   0.126811  0.628735  0.211054  0.350933\n",
       "9779    0.081161   0.126795  0.628735  0.211032  0.350908\n",
       "9778    0.081158   0.126779  0.628735  0.211009  0.350883\n",
       "9777    0.081158   0.126762  0.628735  0.210987  0.350859\n",
       "...          ...        ...       ...       ...       ...\n",
       "17574   0.633357   0.600000  0.001907  0.003802  0.002382\n",
       "17576   0.643127   0.666667  0.001271  0.002538  0.001589\n",
       "17575   0.639947   0.500000  0.001271  0.002536  0.001588\n",
       "17578   0.774017   1.000000  0.000636  0.001271  0.000795\n",
       "17577   0.699870   0.500000  0.000636  0.001270  0.000794\n",
       "\n",
       "[17579 rows x 5 columns]"
      ]
     },
     "execution_count": 274,
     "metadata": {},
     "output_type": "execute_result"
    }
   ],
   "source": [
    "# sort by f2 score\n",
    "df_thresh_f1.sort_values(by='F2-Score', ascending=False)"
   ]
  },
  {
   "cell_type": "code",
   "execution_count": 279,
   "id": "f2593c75",
   "metadata": {},
   "outputs": [
    {
     "data": {
      "text/plain": [
       "0.08116500016066096"
      ]
     },
     "execution_count": 279,
     "metadata": {},
     "output_type": "execute_result"
    }
   ],
   "source": [
    "# get the f2-optimizing threshold\n",
    "best_thresh_f2 = thresholds[np.argmax(f2_scores)]\n",
    "best_thresh_f2"
   ]
  },
  {
   "cell_type": "markdown",
   "id": "86f09c0f",
   "metadata": {},
   "source": [
    "#### Model Evaluation"
   ]
  },
  {
   "cell_type": "markdown",
   "id": "4ab2790a",
   "metadata": {},
   "source": [
    "a) F1-optimizing threshold"
   ]
  },
  {
   "cell_type": "code",
   "execution_count": 178,
   "id": "1419ac20",
   "metadata": {},
   "outputs": [],
   "source": [
    "# calculate probability estimates for class 1\n",
    "y_prob = clf_opt.predict_proba(X_test)\n",
    "y_prob_1 = y_prob[:,1]\n",
    "\n",
    "#calculate predictions using custom discrimination threshold\n",
    "y_pred = (y_prob_1 >= best_thresh_f1).astype(int)"
   ]
  },
  {
   "cell_type": "code",
   "execution_count": 179,
   "id": "2ff12c88",
   "metadata": {},
   "outputs": [
    {
     "data": {
      "text/plain": [
       "<sklearn.metrics._plot.confusion_matrix.ConfusionMatrixDisplay at 0x268a1b5fbb0>"
      ]
     },
     "execution_count": 179,
     "metadata": {},
     "output_type": "execute_result"
    },
    {
     "data": {
      "image/png": "[encoded data removed]",
      "text/plain": [
       "<Figure size 432x288 with 2 Axes>"
      ]
     },
     "metadata": {
      "needs_background": "light"
     },
     "output_type": "display_data"
    }
   ],
   "source": [
    "ConfusionMatrixDisplay.from_predictions(y_test, y_pred, cmap='Blues')"
   ]
  },
  {
   "cell_type": "code",
   "execution_count": 180,
   "id": "bc422f7b",
   "metadata": {},
   "outputs": [
    {
     "data": {
      "text/plain": [
       "<sklearn.metrics._plot.confusion_matrix.ConfusionMatrixDisplay at 0x268a1b51fd0>"
      ]
     },
     "execution_count": 180,
     "metadata": {},
     "output_type": "execute_result"
    },
    {
     "data": {
      "image/png": "[encoded data removed]",
      "text/plain": [
       "<Figure size 432x288 with 2 Axes>"
      ]
     },
     "metadata": {
      "needs_background": "light"
     },
     "output_type": "display_data"
    }
   ],
   "source": [
    "ConfusionMatrixDisplay.from_predictions(y_test, y_pred, normalize='true', cmap='Greens')\n"
   ]
  },
  {
   "cell_type": "code",
   "execution_count": 181,
   "id": "9749aed6",
   "metadata": {
    "scrolled": true
   },
   "outputs": [
    {
     "name": "stdout",
     "output_type": "stream",
     "text": [
      "              precision    recall  f1-score   support\n",
      "\n",
      "           0       0.93      0.84      0.88     16307\n",
      "           1       0.18      0.36      0.24      1573\n",
      "\n",
      "    accuracy                           0.80     17880\n",
      "   macro avg       0.56      0.60      0.56     17880\n",
      "weighted avg       0.87      0.80      0.83     17880\n",
      "\n"
     ]
    }
   ],
   "source": [
    "print(classification_report(y_test, y_pred))"
   ]
  },
  {
   "cell_type": "markdown",
   "id": "18518557",
   "metadata": {},
   "source": [
    "Classification with the F1-optimizing threshold keeps a certain accuracy (80%). However, only 36% of all minority class instances are predicted as 1 which is not satisfying for our model purpose."
   ]
  },
  {
   "cell_type": "markdown",
   "id": "6e623233",
   "metadata": {},
   "source": [
    "b) F2-optimizing threshold"
   ]
  },
  {
   "cell_type": "code",
   "execution_count": 285,
   "id": "82584de8",
   "metadata": {},
   "outputs": [],
   "source": [
    "# calculate probability estimates for class 1\n",
    "y_prob = clf_opt.predict_proba(X_test)\n",
    "y_prob_1 = y_prob[:,1]\n",
    "\n",
    "#calculate predictions using custom discrimination threshold\n",
    "y_pred = (y_prob_1 >= best_thresh_f2).astype(int)"
   ]
  },
  {
   "cell_type": "code",
   "execution_count": 286,
   "id": "b6beddfa",
   "metadata": {},
   "outputs": [
    {
     "data": {
      "text/plain": [
       "<sklearn.metrics._plot.confusion_matrix.ConfusionMatrixDisplay at 0x268a341e520>"
      ]
     },
     "execution_count": 286,
     "metadata": {},
     "output_type": "execute_result"
    },
    {
     "data": {
      "image/png": "[encoded data removed]",
      "text/plain": [
       "<Figure size 432x288 with 2 Axes>"
      ]
     },
     "metadata": {
      "needs_background": "light"
     },
     "output_type": "display_data"
    }
   ],
   "source": [
    "ConfusionMatrixDisplay.from_predictions(y_test, y_pred, cmap='Blues')"
   ]
  },
  {
   "cell_type": "code",
   "execution_count": 287,
   "id": "2debfe4d",
   "metadata": {},
   "outputs": [
    {
     "data": {
      "text/plain": [
       "<sklearn.metrics._plot.confusion_matrix.ConfusionMatrixDisplay at 0x268a25073d0>"
      ]
     },
     "execution_count": 287,
     "metadata": {},
     "output_type": "execute_result"
    },
    {
     "data": {
      "image/png": "[encoded data removed]",
      "text/plain": [
       "<Figure size 432x288 with 2 Axes>"
      ]
     },
     "metadata": {
      "needs_background": "light"
     },
     "output_type": "display_data"
    }
   ],
   "source": [
    "ConfusionMatrixDisplay.from_predictions(y_test, y_pred, normalize='true', cmap='Greens')"
   ]
  },
  {
   "cell_type": "code",
   "execution_count": 288,
   "id": "58d59d7f",
   "metadata": {},
   "outputs": [
    {
     "name": "stdout",
     "output_type": "stream",
     "text": [
      "              precision    recall  f1-score   support\n",
      "\n",
      "           0       0.94      0.60      0.73     16307\n",
      "           1       0.13      0.61      0.21      1573\n",
      "\n",
      "    accuracy                           0.60     17880\n",
      "   macro avg       0.53      0.60      0.47     17880\n",
      "weighted avg       0.87      0.60      0.69     17880\n",
      "\n"
     ]
    }
   ],
   "source": [
    "print(classification_report(y_test, y_pred))"
   ]
  },
  {
   "cell_type": "markdown",
   "id": "d062626f",
   "metadata": {},
   "source": [
    "The classification with the F2-optimizing threshold is similar to the one resulting of the ROC-AUC optimization. 61% of all patients which wil be readmitted within 30 days are recognized beforehand."
   ]
  },
  {
   "cell_type": "markdown",
   "id": "77ffc65b",
   "metadata": {},
   "source": [
    "### 3.1.6. Logistic Regression on Resampled Data\n",
    "[Back to top](#top)"
   ]
  },
  {
   "cell_type": "markdown",
   "id": "ac56989b",
   "metadata": {},
   "source": [
    "A different approach is the application of a unweighted logistic regression model on data which was balanced before using sampling techniques.\n",
    "We will test this approach by applying our already built basic model on three differently generated datasets.  "
   ]
  },
  {
   "cell_type": "markdown",
   "id": "1980f2bc",
   "metadata": {},
   "source": [
    "#### Model Fitting and Evaluation"
   ]
  },
  {
   "cell_type": "markdown",
   "id": "60e65e47",
   "metadata": {},
   "source": [
    "a) Randomly undersampled training data"
   ]
  },
  {
   "cell_type": "code",
   "execution_count": 191,
   "id": "ffcf4343",
   "metadata": {
    "scrolled": true
   },
   "outputs": [
    {
     "data": {
      "text/plain": [
       "Pipeline(steps=[('minmaxscaler', MinMaxScaler()),\n",
       "                ('logisticregression',\n",
       "                 LogisticRegression(max_iter=1000, random_state=42))])"
      ]
     },
     "execution_count": 191,
     "metadata": {},
     "output_type": "execute_result"
    }
   ],
   "source": [
    "clf.fit(X_train_rus, y_train_rus)"
   ]
  },
  {
   "cell_type": "code",
   "execution_count": 193,
   "id": "aaabaf33",
   "metadata": {},
   "outputs": [
    {
     "name": "stdout",
     "output_type": "stream",
     "text": [
      "              precision    recall  f1-score   support\n",
      "\n",
      "           0       0.94      0.65      0.77     16307\n",
      "           1       0.13      0.56      0.21      1573\n",
      "\n",
      "    accuracy                           0.64     17880\n",
      "   macro avg       0.54      0.60      0.49     17880\n",
      "weighted avg       0.87      0.64      0.72     17880\n",
      "\n"
     ]
    }
   ],
   "source": [
    "print(classification_report(y_test, clf.predict(X_test)))"
   ]
  },
  {
   "cell_type": "markdown",
   "id": "54072015",
   "metadata": {},
   "source": [
    "2. Randomly oversampled training data"
   ]
  },
  {
   "cell_type": "code",
   "execution_count": 194,
   "id": "a00cf415",
   "metadata": {},
   "outputs": [
    {
     "name": "stdout",
     "output_type": "stream",
     "text": [
      "              precision    recall  f1-score   support\n",
      "\n",
      "           0       0.94      0.67      0.78     16307\n",
      "           1       0.14      0.55      0.22      1573\n",
      "\n",
      "    accuracy                           0.66     17880\n",
      "   macro avg       0.54      0.61      0.50     17880\n",
      "weighted avg       0.87      0.66      0.73     17880\n",
      "\n"
     ]
    }
   ],
   "source": [
    "clf.fit(X_train_ros, y_train_ros)\n",
    "\n",
    "print(classification_report(y_test, clf.predict(X_test)))"
   ]
  },
  {
   "cell_type": "markdown",
   "id": "2a6712d5",
   "metadata": {},
   "source": [
    "3. Oversampled training data resulting from SMOTE"
   ]
  },
  {
   "cell_type": "code",
   "execution_count": 195,
   "id": "66e62744",
   "metadata": {
    "scrolled": true
   },
   "outputs": [
    {
     "name": "stdout",
     "output_type": "stream",
     "text": [
      "              precision    recall  f1-score   support\n",
      "\n",
      "           0       0.91      0.99      0.95     16307\n",
      "           1       0.16      0.02      0.04      1573\n",
      "\n",
      "    accuracy                           0.90     17880\n",
      "   macro avg       0.54      0.50      0.49     17880\n",
      "weighted avg       0.85      0.90      0.87     17880\n",
      "\n"
     ]
    }
   ],
   "source": [
    "clf.fit(X_train_smote, y_train_smote)\n",
    "\n",
    "print(classification_report(y_test, clf.predict(X_test)))"
   ]
  },
  {
   "cell_type": "markdown",
   "id": "1314a6b0",
   "metadata": {},
   "source": [
    "#### Conclusion"
   ]
  },
  {
   "cell_type": "markdown",
   "id": "e58814df",
   "metadata": {},
   "source": [
    "While the basic model shows terrible results when fitted on the SMOTE-generated dataset, the evaluation metrics of the models fitted on randomly over-/undersmapled datasets are comparable with the results we got in the previous analyses. "
   ]
  },
  {
   "cell_type": "markdown",
   "id": "59b68be2",
   "metadata": {},
   "source": [
    "### 3.1.7. Feature Importance: Logistic Regression Coefficients\n",
    "[Back to top](#top)"
   ]
  },
  {
   "cell_type": "markdown",
   "id": "1e78f47c",
   "metadata": {},
   "source": [
    "When the input data was scaled, the coefficients of a linear regression model can be seen as a crude feature importance metric. (https://machinelearningmastery.com/calculate-feature-importance-with-python/)"
   ]
  },
  {
   "cell_type": "code",
   "execution_count": 301,
   "id": "f384bb34",
   "metadata": {},
   "outputs": [
    {
     "data": {
      "text/html": [
       "<div>\n",
       "<style scoped>\n",
       "    .dataframe tbody tr th:only-of-type {\n",
       "        vertical-align: middle;\n",
       "    }\n",
       "\n",
       "    .dataframe tbody tr th {\n",
       "        vertical-align: top;\n",
       "    }\n",
       "\n",
       "    .dataframe thead th {\n",
       "        text-align: right;\n",
       "    }\n",
       "</style>\n",
       "<table border=\"1\" class=\"dataframe\">\n",
       "  <thead>\n",
       "    <tr style=\"text-align: right;\">\n",
       "      <th></th>\n",
       "      <th>Feature</th>\n",
       "      <th>Coefficient</th>\n",
       "    </tr>\n",
       "  </thead>\n",
       "  <tbody>\n",
       "    <tr>\n",
       "      <th>6</th>\n",
       "      <td>number_inpatient</td>\n",
       "      <td>4.142122</td>\n",
       "    </tr>\n",
       "    <tr>\n",
       "      <th>5</th>\n",
       "      <td>number_emergency</td>\n",
       "      <td>3.407906</td>\n",
       "    </tr>\n",
       "  </tbody>\n",
       "</table>\n",
       "</div>"
      ],
      "text/plain": [
       "            Feature  Coefficient\n",
       "6  number_inpatient     4.142122\n",
       "5  number_emergency     3.407906"
      ]
     },
     "execution_count": 301,
     "metadata": {},
     "output_type": "execute_result"
    }
   ],
   "source": [
    "# Retrieve coefficients from the logistic regression model\n",
    "coef_base = clf['logisticregression'].coef_[0]\n",
    "\n",
    "# Save as dataframe and sort by coefficient value\n",
    "df_coef = pd.DataFrame({'Feature': X_train.columns, 'Coefficient': coef_balanced})\n",
    "df_coef.sort_values(by='Coefficient', ascending=False).head(2)"
   ]
  },
  {
   "cell_type": "code",
   "execution_count": 295,
   "id": "164021aa",
   "metadata": {},
   "outputs": [],
   "source": [
    "# Retrieve coefficients from the logistic regression model\n",
    "coef_opt = clf_opt['logisticregression'].coef_[0]"
   ]
  },
  {
   "cell_type": "code",
   "execution_count": 300,
   "id": "a3dcdb8a",
   "metadata": {},
   "outputs": [
    {
     "data": {
      "text/html": [
       "<div>\n",
       "<style scoped>\n",
       "    .dataframe tbody tr th:only-of-type {\n",
       "        vertical-align: middle;\n",
       "    }\n",
       "\n",
       "    .dataframe tbody tr th {\n",
       "        vertical-align: top;\n",
       "    }\n",
       "\n",
       "    .dataframe thead th {\n",
       "        text-align: right;\n",
       "    }\n",
       "</style>\n",
       "<table border=\"1\" class=\"dataframe\">\n",
       "  <thead>\n",
       "    <tr style=\"text-align: right;\">\n",
       "      <th></th>\n",
       "      <th>Feature</th>\n",
       "      <th>Coefficient</th>\n",
       "    </tr>\n",
       "  </thead>\n",
       "  <tbody>\n",
       "    <tr>\n",
       "      <th>6</th>\n",
       "      <td>number_inpatient</td>\n",
       "      <td>4.006076</td>\n",
       "    </tr>\n",
       "    <tr>\n",
       "      <th>5</th>\n",
       "      <td>number_emergency</td>\n",
       "      <td>2.262570</td>\n",
       "    </tr>\n",
       "  </tbody>\n",
       "</table>\n",
       "</div>"
      ],
      "text/plain": [
       "            Feature  Coefficient\n",
       "6  number_inpatient     4.006076\n",
       "5  number_emergency     2.262570"
      ]
     },
     "execution_count": 300,
     "metadata": {},
     "output_type": "execute_result"
    }
   ],
   "source": [
    "# Save as dataframe and sort by coefficient value\n",
    "\n",
    "df_coef = pd.DataFrame({'Feature': X_train.columns, 'Coefficient': coef_opt})\n",
    "df_coef.sort_values(by='Coefficient', ascending=False).head(2)"
   ]
  },
  {
   "cell_type": "code",
   "execution_count": 299,
   "id": "fcdabf8d",
   "metadata": {},
   "outputs": [
    {
     "data": {
      "text/html": [
       "<div>\n",
       "<style scoped>\n",
       "    .dataframe tbody tr th:only-of-type {\n",
       "        vertical-align: middle;\n",
       "    }\n",
       "\n",
       "    .dataframe tbody tr th {\n",
       "        vertical-align: top;\n",
       "    }\n",
       "\n",
       "    .dataframe thead th {\n",
       "        text-align: right;\n",
       "    }\n",
       "</style>\n",
       "<table border=\"1\" class=\"dataframe\">\n",
       "  <thead>\n",
       "    <tr style=\"text-align: right;\">\n",
       "      <th></th>\n",
       "      <th>Feature</th>\n",
       "      <th>Coefficient</th>\n",
       "    </tr>\n",
       "  </thead>\n",
       "  <tbody>\n",
       "    <tr>\n",
       "      <th>6</th>\n",
       "      <td>number_inpatient</td>\n",
       "      <td>4.142122</td>\n",
       "    </tr>\n",
       "    <tr>\n",
       "      <th>5</th>\n",
       "      <td>number_emergency</td>\n",
       "      <td>3.407906</td>\n",
       "    </tr>\n",
       "  </tbody>\n",
       "</table>\n",
       "</div>"
      ],
      "text/plain": [
       "            Feature  Coefficient\n",
       "6  number_inpatient     4.142122\n",
       "5  number_emergency     3.407906"
      ]
     },
     "execution_count": 299,
     "metadata": {},
     "output_type": "execute_result"
    }
   ],
   "source": [
    "# Retrieve coefficients from the logistic regression model\n",
    "coef_balanced = clf_balanced['logisticregression'].coef_[0]\n",
    "\n",
    "# Save as dataframe and sort by coefficient value\n",
    "df_coef = pd.DataFrame({'Feature': X_train.columns, 'Coefficient': coef_balanced})\n",
    "df_coef.sort_values(by='Coefficient', ascending=False).head(2)"
   ]
  },
  {
   "cell_type": "markdown",
   "id": "4c39fdcb",
   "metadata": {},
   "source": [
    "We observe that the number of hospital admissions (inpatient and emergency) in the year preceding the encounter are the most important influence factors for readmission from the perspective of the built logistic regression model. While the exact coefficient values differ in the varied models, these two features have always the highest values."
   ]
  },
  {
   "cell_type": "markdown",
   "id": "648f8277",
   "metadata": {},
   "source": [
    "### 3.1.7. Conclusion\n",
    "[Back to top](#top)"
   ]
  },
  {
   "cell_type": "markdown",
   "id": "4c7bee2a",
   "metadata": {},
   "source": [
    "- Building the perfect model is not possible\n",
    "- Recall is important for us but its improvement always go at the expese of accuracy and precision"
   ]
  },
  {
   "cell_type": "code",
   "execution_count": null,
   "id": "6fc5f706",
   "metadata": {},
   "outputs": [],
   "source": []
  }
 ],
 "metadata": {
  "kernelspec": {
   "display_name": "Python 3 (ipykernel)",
   "language": "python",
   "name": "python3"
  },
  "language_info": {
   "codemirror_mode": {
    "name": "ipython",
    "version": 3
   },
   "file_extension": ".py",
   "mimetype": "text/x-python",
   "name": "python",
   "nbconvert_exporter": "python",
   "pygments_lexer": "ipython3",
   "version": "3.9.7"
  }
 },
 "nbformat": 4,
 "nbformat_minor": 5
}
