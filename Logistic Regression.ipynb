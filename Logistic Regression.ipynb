{
 "cells": [
  {
   "cell_type": "code",
   "execution_count": 1,
   "id": "bb686516",
   "metadata": {},
   "outputs": [],
   "source": [
    "import numpy as np\n",
    "import pandas as pd\n",
    "from sklearn.preprocessing import StandardScaler\n",
    "from sklearn.pipeline import make_pipeline\n",
    "from sklearn.linear_model import LogisticRegression, LogisticRegressionCV\n",
    "from sklearn.metrics import classification_report\n",
    "from sklearn.ensemble import AdaBoostClassifier, RandomForestClassifier\n",
    "from sklearn.tree import DecisionTreeClassifier"
   ]
  },
  {
   "cell_type": "markdown",
   "id": "3de3ee50",
   "metadata": {},
   "source": [
    "- Import preprocessed features as DataFrames and target variables as Series"
   ]
  },
  {
   "cell_type": "code",
   "execution_count": 2,
   "id": "51e9692f",
   "metadata": {},
   "outputs": [],
   "source": [
    "# training and test sets with original data distribution\n",
    "\n",
    "X_train = pd.read_csv('data/X_train.csv')\n",
    "y_train = pd.read_csv('data/y_train.csv', squeeze=True)\n",
    "\n",
    "X_test = pd.read_csv('data/X_test.csv')\n",
    "y_test = pd.read_csv('data/y_test.csv', squeeze=True)"
   ]
  },
  {
   "cell_type": "code",
   "execution_count": 3,
   "id": "8a62b3af",
   "metadata": {},
   "outputs": [
    {
     "data": {
      "text/plain": [
       "(53638, 171)"
      ]
     },
     "execution_count": 3,
     "metadata": {},
     "output_type": "execute_result"
    }
   ],
   "source": [
    "X_train.shape"
   ]
  },
  {
   "cell_type": "code",
   "execution_count": 4,
   "id": "bc582a9d",
   "metadata": {},
   "outputs": [],
   "source": [
    "# resampled / balanced training sets\n",
    "\n",
    "X_train_rus = pd.read_csv('data/X_train_rus.csv')\n",
    "y_train_rus = pd.read_csv('data/y_train_rus.csv', squeeze=True)\n",
    "\n",
    "X_train_ros = pd.read_csv('data/X_train_ros.csv')\n",
    "y_train_ros = pd.read_csv('data/y_train_ros.csv', squeeze=True)\n",
    "\n",
    "X_train_smote = pd.read_csv('data/X_train_smote.csv')\n",
    "y_train_smote = pd.read_csv('data/y_train_smote.csv', squeeze=True)"
   ]
  },
  {
   "cell_type": "markdown",
   "id": "b4efacfa",
   "metadata": {},
   "source": [
    "- We start by building a logistic regression model with default hyperparameter values and fit it on the preprocessed data."
   ]
  },
  {
   "cell_type": "code",
   "execution_count": 5,
   "id": "c4cf85af",
   "metadata": {},
   "outputs": [
    {
     "name": "stderr",
     "output_type": "stream",
     "text": [
      "C:\\Users\\fabio\\anaconda3\\envs\\fastai-cpu-v0.7\\lib\\site-packages\\sklearn\\linear_model\\_logistic.py:765: ConvergenceWarning: lbfgs failed to converge (status=1):\n",
      "STOP: TOTAL NO. of ITERATIONS REACHED LIMIT.\n",
      "\n",
      "Increase the number of iterations (max_iter) or scale the data as shown in:\n",
      "    https://scikit-learn.org/stable/modules/preprocessing.html\n",
      "Please also refer to the documentation for alternative solver options:\n",
      "    https://scikit-learn.org/stable/modules/linear_model.html#logistic-regression\n",
      "  extra_warning_msg=_LOGISTIC_SOLVER_CONVERGENCE_MSG)\n"
     ]
    },
    {
     "data": {
      "text/plain": [
       "LogisticRegression()"
      ]
     },
     "execution_count": 5,
     "metadata": {},
     "output_type": "execute_result"
    }
   ],
   "source": [
    "clf = LogisticRegression()\n",
    "\n",
    "clf.fit(X_train, y_train)"
   ]
  },
  {
   "cell_type": "code",
   "execution_count": 6,
   "id": "ee24d74d",
   "metadata": {},
   "outputs": [],
   "source": [
    "y_pred = clf.predict(X_test)"
   ]
  },
  {
   "cell_type": "code",
   "execution_count": 7,
   "id": "58207774",
   "metadata": {
    "scrolled": true
   },
   "outputs": [
    {
     "name": "stdout",
     "output_type": "stream",
     "text": [
      "              precision    recall  f1-score   support\n",
      "\n",
      "           0       1.00      1.00      1.00     16307\n",
      "           1       1.00      1.00      1.00      1573\n",
      "\n",
      "    accuracy                           1.00     17880\n",
      "   macro avg       1.00      1.00      1.00     17880\n",
      "weighted avg       1.00      1.00      1.00     17880\n",
      "\n"
     ]
    }
   ],
   "source": [
    "print(classification_report(y_test, y_pred))"
   ]
  },
  {
   "cell_type": "markdown",
   "id": "c14ddac6",
   "metadata": {},
   "source": [
    "- CV"
   ]
  },
  {
   "cell_type": "code",
   "execution_count": 8,
   "id": "a7af0c87",
   "metadata": {},
   "outputs": [],
   "source": [
    "#clf = LogisticRegressionCV()\n",
    "\n",
    "#clf.fit(X_train, y_train)"
   ]
  },
  {
   "cell_type": "code",
   "execution_count": 9,
   "id": "4da14daf",
   "metadata": {},
   "outputs": [],
   "source": [
    "#y_pred = clf.predict(X_test)"
   ]
  },
  {
   "cell_type": "code",
   "execution_count": 10,
   "id": "07d7602c",
   "metadata": {},
   "outputs": [],
   "source": [
    "#print(classification_report(y_test, y_pred))"
   ]
  },
  {
   "cell_type": "markdown",
   "id": "7e5e6e27",
   "metadata": {},
   "source": [
    "- RF"
   ]
  },
  {
   "cell_type": "code",
   "execution_count": 11,
   "id": "626d83e7",
   "metadata": {},
   "outputs": [],
   "source": [
    "clf = RandomForestClassifier()"
   ]
  },
  {
   "cell_type": "code",
   "execution_count": 12,
   "id": "e0a93137",
   "metadata": {},
   "outputs": [
    {
     "data": {
      "text/plain": [
       "RandomForestClassifier()"
      ]
     },
     "execution_count": 12,
     "metadata": {},
     "output_type": "execute_result"
    }
   ],
   "source": [
    "clf.fit(X_train, y_train)"
   ]
  },
  {
   "cell_type": "code",
   "execution_count": 13,
   "id": "3f190226",
   "metadata": {},
   "outputs": [],
   "source": [
    "y_pred = clf.predict(X_test)"
   ]
  },
  {
   "cell_type": "code",
   "execution_count": 14,
   "id": "4c77e834",
   "metadata": {},
   "outputs": [
    {
     "name": "stdout",
     "output_type": "stream",
     "text": [
      "              precision    recall  f1-score   support\n",
      "\n",
      "           0       1.00      1.00      1.00     16307\n",
      "           1       1.00      1.00      1.00      1573\n",
      "\n",
      "    accuracy                           1.00     17880\n",
      "   macro avg       1.00      1.00      1.00     17880\n",
      "weighted avg       1.00      1.00      1.00     17880\n",
      "\n"
     ]
    }
   ],
   "source": [
    "print(classification_report(y_test, y_pred))"
   ]
  },
  {
   "cell_type": "code",
   "execution_count": 15,
   "id": "7c45ca7f",
   "metadata": {},
   "outputs": [
    {
     "data": {
      "text/plain": [
       "1.0"
      ]
     },
     "execution_count": 15,
     "metadata": {},
     "output_type": "execute_result"
    }
   ],
   "source": [
    "clf.score(X_test, y_test)"
   ]
  },
  {
   "cell_type": "code",
   "execution_count": 27,
   "id": "81247547",
   "metadata": {},
   "outputs": [],
   "source": [
    "imp = pd.DataFrame({'Column': X_train.columns, 'Feature Importance': clf.feature_importances_})"
   ]
  },
  {
   "cell_type": "code",
   "execution_count": 31,
   "id": "be1a91f5",
   "metadata": {},
   "outputs": [
    {
     "data": {
      "text/html": [
       "<div>\n",
       "<style scoped>\n",
       "    .dataframe tbody tr th:only-of-type {\n",
       "        vertical-align: middle;\n",
       "    }\n",
       "\n",
       "    .dataframe tbody tr th {\n",
       "        vertical-align: top;\n",
       "    }\n",
       "\n",
       "    .dataframe thead th {\n",
       "        text-align: right;\n",
       "    }\n",
       "</style>\n",
       "<table border=\"1\" class=\"dataframe\">\n",
       "  <thead>\n",
       "    <tr style=\"text-align: right;\">\n",
       "      <th></th>\n",
       "      <th>Column</th>\n",
       "      <th>Feature Importance</th>\n",
       "    </tr>\n",
       "  </thead>\n",
       "  <tbody>\n",
       "    <tr>\n",
       "      <th>170</th>\n",
       "      <td>readmitted_NO</td>\n",
       "      <td>0.360951</td>\n",
       "    </tr>\n",
       "    <tr>\n",
       "      <th>169</th>\n",
       "      <td>readmitted_&gt;30</td>\n",
       "      <td>0.352534</td>\n",
       "    </tr>\n",
       "    <tr>\n",
       "      <th>1</th>\n",
       "      <td>num_lab_procedures</td>\n",
       "      <td>0.021185</td>\n",
       "    </tr>\n",
       "    <tr>\n",
       "      <th>3</th>\n",
       "      <td>num_medications</td>\n",
       "      <td>0.019504</td>\n",
       "    </tr>\n",
       "    <tr>\n",
       "      <th>0</th>\n",
       "      <td>time_in_hospital</td>\n",
       "      <td>0.015173</td>\n",
       "    </tr>\n",
       "    <tr>\n",
       "      <th>...</th>\n",
       "      <td>...</td>\n",
       "      <td>...</td>\n",
       "    </tr>\n",
       "    <tr>\n",
       "      <th>59</th>\n",
       "      <td>admission_source_id_ Transfer from Ambulatory ...</td>\n",
       "      <td>0.000000</td>\n",
       "    </tr>\n",
       "    <tr>\n",
       "      <th>133</th>\n",
       "      <td>chlorpropamide_Up</td>\n",
       "      <td>0.000000</td>\n",
       "    </tr>\n",
       "    <tr>\n",
       "      <th>66</th>\n",
       "      <td>admission_source_id_Normal Delivery</td>\n",
       "      <td>0.000000</td>\n",
       "    </tr>\n",
       "    <tr>\n",
       "      <th>63</th>\n",
       "      <td>admission_source_id_ Transfer from hospital in...</td>\n",
       "      <td>0.000000</td>\n",
       "    </tr>\n",
       "    <tr>\n",
       "      <th>41</th>\n",
       "      <td>discharge_disposition_id_Discharged/transferre...</td>\n",
       "      <td>0.000000</td>\n",
       "    </tr>\n",
       "  </tbody>\n",
       "</table>\n",
       "<p>171 rows × 2 columns</p>\n",
       "</div>"
      ],
      "text/plain": [
       "                                                Column  Feature Importance\n",
       "170                                      readmitted_NO            0.360951\n",
       "169                                     readmitted_>30            0.352534\n",
       "1                                   num_lab_procedures            0.021185\n",
       "3                                      num_medications            0.019504\n",
       "0                                     time_in_hospital            0.015173\n",
       "..                                                 ...                 ...\n",
       "59   admission_source_id_ Transfer from Ambulatory ...            0.000000\n",
       "133                                  chlorpropamide_Up            0.000000\n",
       "66                 admission_source_id_Normal Delivery            0.000000\n",
       "63   admission_source_id_ Transfer from hospital in...            0.000000\n",
       "41   discharge_disposition_id_Discharged/transferre...            0.000000\n",
       "\n",
       "[171 rows x 2 columns]"
      ]
     },
     "execution_count": 31,
     "metadata": {},
     "output_type": "execute_result"
    }
   ],
   "source": [
    "imp.sort_values(by='Feature Importance', ascending=False)"
   ]
  },
  {
   "cell_type": "code",
   "execution_count": null,
   "id": "2166be38",
   "metadata": {},
   "outputs": [],
   "source": []
  }
 ],
 "metadata": {
  "kernelspec": {
   "display_name": "Python 3",
   "language": "python",
   "name": "python3"
  },
  "language_info": {
   "codemirror_mode": {
    "name": "ipython",
    "version": 3
   },
   "file_extension": ".py",
   "mimetype": "text/x-python",
   "name": "python",
   "nbconvert_exporter": "python",
   "pygments_lexer": "ipython3",
   "version": "3.6.13"
  }
 },
 "nbformat": 4,
 "nbformat_minor": 5
}
