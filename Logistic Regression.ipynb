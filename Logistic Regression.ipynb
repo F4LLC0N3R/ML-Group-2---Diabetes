{
 "cells": [
  {
   "cell_type": "code",
   "execution_count": 41,
   "id": "833877d8",
   "metadata": {},
   "outputs": [],
   "source": [
    "import numpy as np\n",
    "import pandas as pd\n",
    "import seaborn as sns\n",
    "from sklearn.preprocessing import StandardScaler, MinMaxScaler\n",
    "from sklearn.pipeline import make_pipeline, Pipeline\n",
    "from sklearn.linear_model import LogisticRegression, LogisticRegressionCV\n",
    "from sklearn.metrics import classification_report, ConfusionMatrixDisplay, RocCurveDisplay\n",
    "from sklearn.model_selection import RandomizedSearchCV, GridSearchCV\n",
    "from sklearn.calibration import CalibratedClassifierCV, CalibrationDisplay\n",
    "from sklearn.dummy import DummyClassifier"
   ]
  },
  {
   "cell_type": "markdown",
   "id": "95793461",
   "metadata": {},
   "source": [
    "## 3.1. Logistic Regression"
   ]
  },
  {
   "cell_type": "markdown",
   "id": "6529d650",
   "metadata": {},
   "source": [
    "- Import preprocessed features as DataFrames and target variables as Series"
   ]
  },
  {
   "cell_type": "code",
   "execution_count": 2,
   "id": "bf6823eb",
   "metadata": {},
   "outputs": [],
   "source": [
    "# training and test sets with original data distribution\n",
    "\n",
    "X_train = pd.read_csv('data/X_train.csv')\n",
    "y_train = pd.read_csv('data/y_train.csv', squeeze=True)\n",
    "\n",
    "X_test = pd.read_csv('data/X_test.csv')\n",
    "y_test = pd.read_csv('data/y_test.csv', squeeze=True)"
   ]
  },
  {
   "cell_type": "code",
   "execution_count": 3,
   "id": "81989498",
   "metadata": {},
   "outputs": [],
   "source": [
    "# resampled / balanced training sets\n",
    "\n",
    "X_train_rus = pd.read_csv('data/X_train_rus.csv')\n",
    "y_train_rus = pd.read_csv('data/y_train_rus.csv', squeeze=True)\n",
    "\n",
    "X_train_ros = pd.read_csv('data/X_train_ros.csv')\n",
    "y_train_ros = pd.read_csv('data/y_train_ros.csv', squeeze=True)\n",
    "\n",
    "X_train_smote = pd.read_csv('data/X_train_smote.csv')\n",
    "y_train_smote = pd.read_csv('data/y_train_smote.csv', squeeze=True)"
   ]
  },
  {
   "cell_type": "markdown",
   "id": "587856fb",
   "metadata": {},
   "source": [
    "### 3.1.1 Initial Model Building\n",
    "[Back to top](#top)"
   ]
  },
  {
   "cell_type": "markdown",
   "id": "e0008df9",
   "metadata": {},
   "source": [
    "- First logistic regression model: We set the maximal number of iterations to ``max_iter=200`` which allows the solver to converge. Apart from that we use the default hyperparameter values."
   ]
  },
  {
   "cell_type": "code",
   "execution_count": 4,
   "id": "7dc8971b",
   "metadata": {},
   "outputs": [
    {
     "name": "stdout",
     "output_type": "stream",
     "text": [
      "Wall time: 4.65 s\n"
     ]
    },
    {
     "name": "stderr",
     "output_type": "stream",
     "text": [
      "C:\\Users\\fabio\\anaconda3\\lib\\site-packages\\sklearn\\linear_model\\_logistic.py:814: ConvergenceWarning: lbfgs failed to converge (status=1):\n",
      "STOP: TOTAL NO. of ITERATIONS REACHED LIMIT.\n",
      "\n",
      "Increase the number of iterations (max_iter) or scale the data as shown in:\n",
      "    https://scikit-learn.org/stable/modules/preprocessing.html\n",
      "Please also refer to the documentation for alternative solver options:\n",
      "    https://scikit-learn.org/stable/modules/linear_model.html#logistic-regression\n",
      "  n_iter_i = _check_optimize_result(\n"
     ]
    },
    {
     "data": {
      "text/plain": [
       "Pipeline(steps=[('standardscaler', StandardScaler()),\n",
       "                ('logisticregression',\n",
       "                 LogisticRegression(max_iter=200, random_state=42))])"
      ]
     },
     "execution_count": 4,
     "metadata": {},
     "output_type": "execute_result"
    }
   ],
   "source": [
    "# Create pipeline\n",
    "pipe = make_pipeline(StandardScaler(), LogisticRegression(max_iter=200, random_state=42))\n",
    "log_reg = pipe['logisticregression']\n",
    "\n",
    "# Scale and fit model on training data\n",
    "%time pipe.fit(X_train, y_train)"
   ]
  },
  {
   "cell_type": "code",
   "execution_count": 5,
   "id": "d4950410",
   "metadata": {},
   "outputs": [],
   "source": [
    "# Predict labels\n",
    "y_pred = pipe.predict(X_test)"
   ]
  },
  {
   "cell_type": "code",
   "execution_count": 6,
   "id": "45ca984e",
   "metadata": {},
   "outputs": [
    {
     "data": {
      "text/plain": [
       "0.9119127516778524"
      ]
     },
     "execution_count": 6,
     "metadata": {},
     "output_type": "execute_result"
    }
   ],
   "source": [
    "pipe.score(X_test, y_test)"
   ]
  },
  {
   "cell_type": "markdown",
   "id": "2501e4f1",
   "metadata": {},
   "source": [
    "Our first impression is a good accuracy of 91%. However, having the data imbalance in mind, we will evaluate the model in detail."
   ]
  },
  {
   "cell_type": "markdown",
   "id": "db0d306f",
   "metadata": {},
   "source": [
    "### 3.1.2. Model Evaluation "
   ]
  },
  {
   "cell_type": "code",
   "execution_count": 7,
   "id": "30905f41",
   "metadata": {},
   "outputs": [
    {
     "name": "stdout",
     "output_type": "stream",
     "text": [
      "Count of 0 in test set: 16307, (91.2025%)\n",
      "Count of 1 in test set: 1573, (8.7975%)\n"
     ]
    },
    {
     "name": "stderr",
     "output_type": "stream",
     "text": [
      "C:\\Users\\fabio\\anaconda3\\lib\\site-packages\\seaborn\\_decorators.py:36: FutureWarning: Pass the following variable as a keyword arg: x. From version 0.12, the only valid positional argument will be `data`, and passing other arguments without an explicit keyword will result in an error or misinterpretation.\n",
      "  warnings.warn(\n"
     ]
    },
    {
     "data": {
      "text/plain": [
       "<AxesSubplot:xlabel='readmitted_within_30_days', ylabel='count'>"
      ]
     },
     "execution_count": 7,
     "metadata": {},
     "output_type": "execute_result"
    },
    {
     "data": {
      "image/png": "[encoded data removed]",
      "text/plain": [
       "<Figure size 432x288 with 1 Axes>"
      ]
     },
     "metadata": {
      "needs_background": "light"
     },
     "output_type": "display_data"
    }
   ],
   "source": [
    "count_0 = (y_test == 0).sum()\n",
    "count_1 = (y_test == 1).sum()\n",
    "\n",
    "print(f'Count of 0 in test set: {count_0}, ({round(count_0 / len(y_test) * 100, 4)}%)')\n",
    "print(f'Count of 1 in test set: {count_1}, ({round(count_1 / len(y_test) * 100, 4)}%)')\n",
    "\n",
    "sns.countplot(y_test)"
   ]
  },
  {
   "cell_type": "markdown",
   "id": "4b4c262c",
   "metadata": {},
   "source": [
    "The '0' class has a share of 91.2% of all target values in the test data. This means a simple estimator which is always predicting 0 will have an accuracy of 91.2% while evaluated on this data set."
   ]
  },
  {
   "cell_type": "code",
   "execution_count": 8,
   "id": "a95e1195",
   "metadata": {},
   "outputs": [
    {
     "data": {
      "text/plain": [
       "0.9120246085011185"
      ]
     },
     "execution_count": 8,
     "metadata": {},
     "output_type": "execute_result"
    }
   ],
   "source": [
    "# Classifier which is always predicting the majority class label\n",
    "\n",
    "simplest_clf = DummyClassifier()\n",
    "simplest_clf.fit(X_train, y_train)\n",
    "simplest_clf.score(X_test, y_test)"
   ]
  },
  {
   "cell_type": "markdown",
   "id": "c51a08d5",
   "metadata": {},
   "source": [
    "Consequently, our trained logistic regression model does not have a satisfying accuracy since it is in fact less accurate than the simplest model imaginable!"
   ]
  },
  {
   "cell_type": "code",
   "execution_count": 17,
   "id": "611e6624",
   "metadata": {},
   "outputs": [
    {
     "data": {
      "text/plain": [
       "<sklearn.metrics._plot.confusion_matrix.ConfusionMatrixDisplay at 0x226488bdb80>"
      ]
     },
     "execution_count": 17,
     "metadata": {},
     "output_type": "execute_result"
    },
    {
     "data": {
      "image/png": "[encoded data removed]",
      "text/plain": [
       "<Figure size 432x288 with 2 Axes>"
      ]
     },
     "metadata": {
      "needs_background": "light"
     },
     "output_type": "display_data"
    }
   ],
   "source": [
    "ConfusionMatrixDisplay.from_predictions(y_test, y_pred, cmap='Blues')"
   ]
  },
  {
   "cell_type": "markdown",
   "id": "6ad2550f",
   "metadata": {},
   "source": [
    "In the confusion matrix, the data imbalance becomes obvious. The majority of the instances in the test dataset is classified correctly ($\\rightarrow$ accuracy), the large majority in the 'True Negative' section. Out of the 17880 instances, the classifier predicted only 26 instances as '1', and only 12 of these predictions were correct. As we are interested in a model which identifies patients which will be readmitted to the hospital, this model is as worse as it can get. This becomes even clearer if we normalize the counts display in the confusion matrix over the true conditions:"
   ]
  },
  {
   "cell_type": "code",
   "execution_count": 12,
   "id": "bd8aef16",
   "metadata": {},
   "outputs": [
    {
     "data": {
      "text/plain": [
       "<sklearn.metrics._plot.confusion_matrix.ConfusionMatrixDisplay at 0x22648822730>"
      ]
     },
     "execution_count": 12,
     "metadata": {},
     "output_type": "execute_result"
    },
    {
     "data": {
      "image/png": "[encoded data removed]",
      "text/plain": [
       "<Figure size 432x288 with 2 Axes>"
      ]
     },
     "metadata": {
      "needs_background": "light"
     },
     "output_type": "display_data"
    }
   ],
   "source": [
    "ConfusionMatrixDisplay.from_predictions(y_test, y_pred, cmap='Greens', normalize='true')"
   ]
  },
  {
   "cell_type": "markdown",
   "id": "623aba3c",
   "metadata": {},
   "source": [
    "While only 0.086% of all '0' instances are misclassified as '1', 99% of all '1' instances are misclassified as '0'!"
   ]
  },
  {
   "cell_type": "code",
   "execution_count": 13,
   "id": "ebd4a548",
   "metadata": {
    "scrolled": true
   },
   "outputs": [
    {
     "name": "stdout",
     "output_type": "stream",
     "text": [
      "              precision    recall  f1-score   support\n",
      "\n",
      "           0       0.91      1.00      0.95     16307\n",
      "           1       0.46      0.01      0.02      1573\n",
      "\n",
      "    accuracy                           0.91     17880\n",
      "   macro avg       0.69      0.50      0.48     17880\n",
      "weighted avg       0.87      0.91      0.87     17880\n",
      "\n"
     ]
    }
   ],
   "source": [
    "# Print evaluation metrics\n",
    "print(classification_report(y_test, y_pred))"
   ]
  },
  {
   "cell_type": "markdown",
   "id": "0dc558ab",
   "metadata": {},
   "source": [
    "The classification report summarized the already observed difference in performance with respect to the different target classes. We have an overall good accuracy because the classifier performs well in regard to the majority class where it shows perfect recall while also giving a good precision. In regard to the minority class in which we are particularly interested in, the classifier shows an abysmal performance, having the worst possible recall while not even having a good precision."
   ]
  },
  {
   "cell_type": "markdown",
   "id": "0a2feed1",
   "metadata": {},
   "source": [
    "### 3.1.3. Hyperparameter Tuning / Accuracy Optimization\n",
    "[Back to top](#top)"
   ]
  },
  {
   "cell_type": "markdown",
   "id": "34a9dba6",
   "metadata": {},
   "source": [
    "In the following section, we try to optimize the logistic regression model with regard to its accuracy score. As discussed in the previous section, accuracy might not be the best evaluation metric for our problem. However, an improvement of the accuracy could potentially improve the model: Since the recall for class 0 is already almost 100%, a siginificant increase in accuracy can only be obtained if the classification performance for class 1 improves.\n",
    "\n",
    "\n",
    "We start by having a detailed look at the hyperparameters of scikit-learn's implementation in order to decide how to vary the model. We conduct a randomized search on a large parameter grid before finetuning with a grid search on a narrowly defined grid."
   ]
  },
  {
   "cell_type": "code",
   "execution_count": null,
   "id": "35253074",
   "metadata": {},
   "outputs": [],
   "source": [
    "# Show hyperparameters and their values\n",
    "log_reg.get_params()"
   ]
  },
  {
   "cell_type": "markdown",
   "id": "f3296345",
   "metadata": {},
   "source": [
    "Hyperparameters to be varied:\n",
    "\n",
    "- ``penalty``: By default, a l2 regularization is performed. Alternatively, the logistic regression can be done without any regularization or the penalty term can be changed to l1 norm or an elastic net. We opt for an elastic net which includes l1 and l2 regularization (see ``l1_ratio``).\n",
    "\n",
    "- ``l1_ratio``: The combination of l1 and l2 penalty in the elastic net can be selected by a ratio between 0 and 1. A value of 0 equals l2 regularization while the value of 1 equals l1 regularization.\n",
    "\n",
    "- ``C``: Inverse of regularization strength. A lower value results in a stronger regularization with 1.0 being the default.\n",
    "\n",
    "- ``solver``: The algorithm which solves the optimization problem. We opt for the 'saga' solver, a stochastic average gradient descent implementation which supports elastic net regularization and is recommended for large datasets (https://scikit-learn.org/dev/modules/linear_model.html#logistic-regression).\n",
    "\n",
    "\n",
    "- ``fit_intercept``: Specification if an intercept should be added to the regression function\n",
    "\n",
    "\n",
    "- ``max_iter``: Maximum number of iterations as limit for the solver to converge.\n",
    "\n",
    "- ``tol``: Tolerance of the stopping criteria, by default: 0.0001.\n",
    "\n",
    "- ``warm_start``: When set to True, the solution of the previous call is used to fit as initialization (False by default.\n",
    "\n",
    "- ``class_weight``: Weights associated with the different classes in the target variable. By default, all classes are weighted the same. Apart from manually assigning weights to each class, we can use the 'balanced' option which automatically adjust weights inversely proportional to class frequencies. We will deal with class imbalances later."
   ]
  },
  {
   "cell_type": "markdown",
   "id": "887afc4f",
   "metadata": {},
   "source": [
    "After having a detailed look at the possible hyperparameter values, we create the following parameter grid which will be given to the randomized search algorithm:"
   ]
  },
  {
   "cell_type": "code",
   "execution_count": null,
   "id": "78bbeee3",
   "metadata": {},
   "outputs": [],
   "source": [
    "param_dist = {'logisticregression__solver': ['saga'],\n",
    "              'logisticregression__penalty': ['elasticnet', 'none'],\n",
    "              'logisticregression__l1_ratio': np.linspace(0, 1, 11), # try different elastic nets\n",
    "              'logisticregression__C': [0.001, 0.01, 0.1, 1, 10, 100, 1000, 10000], # vary regularization strength\n",
    "              'logisticregression__fit_intercept': [False, True], \n",
    "              'logisticregression__tol': [0.000001, 0.00001, 0.0001, 0.001, 0.01], # vary stopping threshold\n",
    "              'logisticregression__warm_start': [False, True],         \n",
    "             }"
   ]
  },
  {
   "cell_type": "markdown",
   "id": "b4dc373d",
   "metadata": {},
   "source": [
    "We conduct a 5-fold cross validated search where 10 randomly selected parameter combinations are tried:"
   ]
  },
  {
   "cell_type": "code",
   "execution_count": null,
   "id": "1fbd2de3",
   "metadata": {},
   "outputs": [],
   "source": [
    "random_search = RandomizedSearchCV(estimator=pipe, \n",
    "                                   param_distributions = param_dist,\n",
    "                                   n_jobs=-1, \n",
    "                                   verbose=1)\n",
    "%time random_search.fit(X_train, y_train)"
   ]
  },
  {
   "cell_type": "code",
   "execution_count": null,
   "id": "59548d8c",
   "metadata": {},
   "outputs": [],
   "source": [
    "rs_cv_results = pd.DataFrame(random_search.cv_results_)\n",
    "rs_cv_results.sort_values(by = 'mean_test_score', ascending=False)"
   ]
  },
  {
   "cell_type": "code",
   "execution_count": null,
   "id": "191089f3",
   "metadata": {},
   "outputs": [],
   "source": [
    "random_search.best_params_"
   ]
  },
  {
   "cell_type": "code",
   "execution_count": null,
   "id": "e8c54e7d",
   "metadata": {},
   "outputs": [],
   "source": [
    "# Predict labels\n",
    "y_pred = random_search.best_estimator_.predict(X_test)\n",
    "\n",
    "# Print metrics\n",
    "print(classification_report(y_test, y_pred))"
   ]
  },
  {
   "cell_type": "code",
   "execution_count": null,
   "id": "12c6d2c4",
   "metadata": {},
   "outputs": [],
   "source": [
    "plot_confusion_matrix(random_search.best_estimator_, X_test, y_test, cmap='Blues')"
   ]
  },
  {
   "cell_type": "code",
   "execution_count": null,
   "id": "30575617",
   "metadata": {},
   "outputs": [],
   "source": [
    "param_grid = {'logisticregression__C': [0.001, 0.01, 0,1, 1, 10, 100, 1000],\n",
    "              'logisticregression__l1_ratio': np.linspace(0, 1, 6),\n",
    "              'logisticregression__penalty': ['elasticnet']}"
   ]
  },
  {
   "cell_type": "code",
   "execution_count": null,
   "id": "deb6f444",
   "metadata": {},
   "outputs": [],
   "source": [
    "grid_search = GridSearchCV(estimator=random_search.best_estimator_,\n",
    "                         param_grid=param_grid,\n",
    "                         cv=3)"
   ]
  },
  {
   "cell_type": "code",
   "execution_count": null,
   "id": "9fc53560",
   "metadata": {},
   "outputs": [],
   "source": [
    "%time grid_search.fit(X_train, y_train)"
   ]
  },
  {
   "cell_type": "code",
   "execution_count": null,
   "id": "a8269994",
   "metadata": {},
   "outputs": [],
   "source": [
    "print(classification_report(y_test, y_pred))"
   ]
  },
  {
   "cell_type": "markdown",
   "id": "5ae5c6fd",
   "metadata": {},
   "source": [
    "### 3.1.4. Weighted Logistic Regression\n",
    "[Back to top](#top)"
   ]
  },
  {
   "cell_type": "code",
   "execution_count": null,
   "id": "b38c0e43",
   "metadata": {},
   "outputs": [],
   "source": []
  },
  {
   "cell_type": "code",
   "execution_count": null,
   "id": "ec662fd2",
   "metadata": {},
   "outputs": [],
   "source": []
  },
  {
   "cell_type": "markdown",
   "id": "9db88c6d",
   "metadata": {},
   "source": [
    "### 3.1.5. Calibration\n",
    "[Back to top](#top)"
   ]
  },
  {
   "cell_type": "markdown",
   "id": "3ff9b780",
   "metadata": {},
   "source": [
    "The logistic regression model returns well calibrated predictions by default as it directly optimizes the log loss which is defined on probability outputs (https://scikit-learn.org/stable/modules/model_evaluation.html#log-loss)"
   ]
  },
  {
   "cell_type": "code",
   "execution_count": 24,
   "id": "97f26105",
   "metadata": {},
   "outputs": [],
   "source": [
    "y_prob = pipe.predict_proba(X_test)"
   ]
  },
  {
   "cell_type": "code",
   "execution_count": 32,
   "id": "d70d328a",
   "metadata": {},
   "outputs": [
    {
     "data": {
      "text/plain": [
       "<sklearn.calibration.CalibrationDisplay at 0x22648d75490>"
      ]
     },
     "execution_count": 32,
     "metadata": {},
     "output_type": "execute_result"
    },
    {
     "data": {
      "image/png": "[encoded data removed]",
      "text/plain": [
       "<Figure size 432x288 with 1 Axes>"
      ]
     },
     "metadata": {
      "needs_background": "light"
     },
     "output_type": "display_data"
    }
   ],
   "source": [
    "# scikit-learn 1.0 needed\n",
    "# show calibration curve of current model\n",
    "\n",
    "CalibrationDisplay.from_estimator(pipe, X_test, y_test)"
   ]
  },
  {
   "cell_type": "code",
   "execution_count": 33,
   "id": "7d09bd59",
   "metadata": {},
   "outputs": [
    {
     "data": {
      "text/plain": [
       "CalibratedClassifierCV(base_estimator=Pipeline(steps=[('standardscaler',\n",
       "                                                       StandardScaler()),\n",
       "                                                      ('logisticregression',\n",
       "                                                       LogisticRegression(max_iter=200,\n",
       "                                                                          random_state=42))]),\n",
       "                       n_jobs=-1)"
      ]
     },
     "execution_count": 33,
     "metadata": {},
     "output_type": "execute_result"
    }
   ],
   "source": [
    "# fit and calibrate model on training data\n",
    "calibrated_model = CalibratedClassifierCV(pipe, n_jobs=-1)\n",
    "calibrated_model.fit(X_train, y_train)"
   ]
  },
  {
   "cell_type": "code",
   "execution_count": 34,
   "id": "b31defbb",
   "metadata": {},
   "outputs": [
    {
     "data": {
      "text/plain": [
       "<sklearn.calibration.CalibrationDisplay at 0x22648d34280>"
      ]
     },
     "execution_count": 34,
     "metadata": {},
     "output_type": "execute_result"
    },
    {
     "data": {
      "image/png": "[encoded data removed]",
      "text/plain": [
       "<Figure size 432x288 with 1 Axes>"
      ]
     },
     "metadata": {
      "needs_background": "light"
     },
     "output_type": "display_data"
    }
   ],
   "source": [
    "# scikit-learn 1.0 needed\n",
    "# show calibration curve of calibrated model\n",
    "\n",
    "CalibrationDisplay.from_estimator(calibrated_model, X_test, y_test)"
   ]
  },
  {
   "cell_type": "code",
   "execution_count": 36,
   "id": "13e17e84",
   "metadata": {},
   "outputs": [
    {
     "name": "stdout",
     "output_type": "stream",
     "text": [
      "              precision    recall  f1-score   support\n",
      "\n",
      "           0       0.91      1.00      0.95     16307\n",
      "           1       0.47      0.00      0.01      1573\n",
      "\n",
      "    accuracy                           0.91     17880\n",
      "   macro avg       0.69      0.50      0.48     17880\n",
      "weighted avg       0.87      0.91      0.87     17880\n",
      "\n"
     ]
    }
   ],
   "source": [
    "print(classification_report(y_test, calibrated_model.predict(X_test)))"
   ]
  },
  {
   "cell_type": "markdown",
   "id": "b9aa2719",
   "metadata": {},
   "source": [
    "### 3.1.6. Threshold Moving\n",
    "[Back to top](#top)"
   ]
  },
  {
   "cell_type": "code",
   "execution_count": 44,
   "id": "44bbaa94",
   "metadata": {},
   "outputs": [
    {
     "data": {
      "text/plain": [
       "<sklearn.metrics._plot.roc_curve.RocCurveDisplay at 0x2264ab79070>"
      ]
     },
     "execution_count": 44,
     "metadata": {},
     "output_type": "execute_result"
    },
    {
     "data": {
      "image/png": "[encoded data removed]",
      "text/plain": [
       "<Figure size 432x288 with 1 Axes>"
      ]
     },
     "metadata": {
      "needs_background": "light"
     },
     "output_type": "display_data"
    }
   ],
   "source": [
    "RocCurveDisplay.from_estimator(pipe, X_test, y_test)"
   ]
  },
  {
   "cell_type": "code",
   "execution_count": null,
   "id": "6d039fc9",
   "metadata": {},
   "outputs": [],
   "source": []
  }
 ],
 "metadata": {
  "kernelspec": {
   "display_name": "Python 3 (ipykernel)",
   "language": "python",
   "name": "python3"
  },
  "language_info": {
   "codemirror_mode": {
    "name": "ipython",
    "version": 3
   },
   "file_extension": ".py",
   "mimetype": "text/x-python",
   "name": "python",
   "nbconvert_exporter": "python",
   "pygments_lexer": "ipython3",
   "version": "3.9.7"
  }
 },
 "nbformat": 4,
 "nbformat_minor": 5
}
