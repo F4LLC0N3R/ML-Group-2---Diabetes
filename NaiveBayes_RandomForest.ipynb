{
 "cells": [
  {
   "cell_type": "markdown",
   "id": "b1c82326",
   "metadata": {},
   "source": [
    "# Table of Contents <a id=\"top\"></a>\n",
    "\n",
    "1. [Data Exploration](#load_data)<br>\n",
    "    1.1. [Introduction to Dataset](#intro)<br>\n",
    "    1.2. [Data Distribution and Visualization of Raw Data](#data-visualization-raw)<br>\n",
    "    \n",
    "    \n",
    "2. [Data Preprocessing](#data-preprocessing)<br>\n",
    "    2.1.  [Row and Column Deletion](#row-column-deletion)<br>\n",
    "    2.2.  [Decoding of ID Features](#decoding)<br>\n",
    "    2.3.  [Imputation of Missing Values](#imputation)<br>\n",
    "    2.4.  [Ordinal Encoding of Age Feature](#ordinal-encoding)<br>\n",
    "    2.5.  [Complexity Reduction by Grouping Values](#grouping)<br>\n",
    "    2.6.  [Transformation of Target Variable](#target)<br>\n",
    "    2.7.  [One-hot Encoding](#one-hot-encoding)<br>\n",
    "    2.8.  [Split into Training and Test Sets](#train-test-split)<br>\n",
    "    2.9.  [Data Balancing](#balancing)<br>\n",
    "    2.10. [Save Preprocessed Dataframes](#\"save\")<br>\n",
    "\n",
    " \n",
    "3. [Model Building](#model-building)<br>\n",
    "    3.1 [Logistic Regression](#logistic-regression)<br>\n",
    "    3.2 [Naive Bayes](#naive-bayes)<br>\n",
    "    3.3 [Random Forest](#random-forest)<br>\n",
    "    3.4 [CatBoost](#catboost)<br>\n",
    "    3.5 [XGBoost](#xgboost)<br>\n",
    "\n",
    "\n",
    "4. [Model Evaluation](#model-avaluation)<br>\n",
    "\n"
   ]
  },
  {
   "cell_type": "code",
   "execution_count": 1,
   "id": "d817fb6c",
   "metadata": {},
   "outputs": [
    {
     "name": "stderr",
     "output_type": "stream",
     "text": [
      "\n",
      "Bad key text.latex.unicode in file C:\\Users\\fabio\\anaconda3\\envs\\fastai-cpu-v0.7\\lib\\site-packages\\matplotlib\\mpl-data\\stylelib\\_classic_test.mplstyle, line 112 ('text.latex.unicode : False # use \"ucs\" and \"inputenc\" LaTeX packages for handling')\n",
      "You probably need to get an updated matplotlibrc file from\n",
      "https://github.com/matplotlib/matplotlib/blob/v3.3.4/matplotlibrc.template\n",
      "or from the matplotlib source distribution\n",
      "\n",
      "Bad key savefig.frameon in file C:\\Users\\fabio\\anaconda3\\envs\\fastai-cpu-v0.7\\lib\\site-packages\\matplotlib\\mpl-data\\stylelib\\_classic_test.mplstyle, line 423 ('savefig.frameon : True')\n",
      "You probably need to get an updated matplotlibrc file from\n",
      "https://github.com/matplotlib/matplotlib/blob/v3.3.4/matplotlibrc.template\n",
      "or from the matplotlib source distribution\n",
      "\n",
      "Bad key pgf.debug in file C:\\Users\\fabio\\anaconda3\\envs\\fastai-cpu-v0.7\\lib\\site-packages\\matplotlib\\mpl-data\\stylelib\\_classic_test.mplstyle, line 444 ('pgf.debug           : False')\n",
      "You probably need to get an updated matplotlibrc file from\n",
      "https://github.com/matplotlib/matplotlib/blob/v3.3.4/matplotlibrc.template\n",
      "or from the matplotlib source distribution\n",
      "\n",
      "Bad key verbose.level in file C:\\Users\\fabio\\anaconda3\\envs\\fastai-cpu-v0.7\\lib\\site-packages\\matplotlib\\mpl-data\\stylelib\\_classic_test.mplstyle, line 475 ('verbose.level  : silent      # one of silent, helpful, debug, debug-annoying')\n",
      "You probably need to get an updated matplotlibrc file from\n",
      "https://github.com/matplotlib/matplotlib/blob/v3.3.4/matplotlibrc.template\n",
      "or from the matplotlib source distribution\n",
      "\n",
      "Bad key verbose.fileo in file C:\\Users\\fabio\\anaconda3\\envs\\fastai-cpu-v0.7\\lib\\site-packages\\matplotlib\\mpl-data\\stylelib\\_classic_test.mplstyle, line 476 ('verbose.fileo  : sys.stdout  # a log filename, sys.stdout or sys.stderr')\n",
      "You probably need to get an updated matplotlibrc file from\n",
      "https://github.com/matplotlib/matplotlib/blob/v3.3.4/matplotlibrc.template\n",
      "or from the matplotlib source distribution\n",
      "In C:\\Users\\fabio\\anaconda3\\envs\\fastai-cpu-v0.7\\lib\\site-packages\\matplotlib\\mpl-data\\stylelib\\_classic_test.mplstyle: \n",
      "The text.latex.preview rcparam was deprecated in Matplotlib 3.3 and will be removed two minor releases later.\n",
      "In C:\\Users\\fabio\\anaconda3\\envs\\fastai-cpu-v0.7\\lib\\site-packages\\matplotlib\\mpl-data\\stylelib\\_classic_test.mplstyle: \n",
      "The mathtext.fallback_to_cm rcparam was deprecated in Matplotlib 3.3 and will be removed two minor releases later.\n",
      "In C:\\Users\\fabio\\anaconda3\\envs\\fastai-cpu-v0.7\\lib\\site-packages\\matplotlib\\mpl-data\\stylelib\\_classic_test.mplstyle: Support for setting the 'mathtext.fallback_to_cm' rcParam is deprecated since 3.3 and will be removed two minor releases later; use 'mathtext.fallback : 'cm' instead.\n",
      "In C:\\Users\\fabio\\anaconda3\\envs\\fastai-cpu-v0.7\\lib\\site-packages\\matplotlib\\mpl-data\\stylelib\\_classic_test.mplstyle: \n",
      "The validate_bool_maybe_none function was deprecated in Matplotlib 3.3 and will be removed two minor releases later.\n",
      "In C:\\Users\\fabio\\anaconda3\\envs\\fastai-cpu-v0.7\\lib\\site-packages\\matplotlib\\mpl-data\\stylelib\\_classic_test.mplstyle: \n",
      "The savefig.jpeg_quality rcparam was deprecated in Matplotlib 3.3 and will be removed two minor releases later.\n",
      "In C:\\Users\\fabio\\anaconda3\\envs\\fastai-cpu-v0.7\\lib\\site-packages\\matplotlib\\mpl-data\\stylelib\\_classic_test.mplstyle: \n",
      "The keymap.all_axes rcparam was deprecated in Matplotlib 3.3 and will be removed two minor releases later.\n",
      "In C:\\Users\\fabio\\anaconda3\\envs\\fastai-cpu-v0.7\\lib\\site-packages\\matplotlib\\mpl-data\\stylelib\\_classic_test.mplstyle: \n",
      "The animation.avconv_path rcparam was deprecated in Matplotlib 3.3 and will be removed two minor releases later.\n",
      "In C:\\Users\\fabio\\anaconda3\\envs\\fastai-cpu-v0.7\\lib\\site-packages\\matplotlib\\mpl-data\\stylelib\\_classic_test.mplstyle: \n",
      "The animation.avconv_args rcparam was deprecated in Matplotlib 3.3 and will be removed two minor releases later.\n"
     ]
    }
   ],
   "source": [
    "# Import statements\n",
    "\n",
    "# Data Processing\n",
    "import pandas as pd\n",
    "import numpy as np\n",
    "\n",
    "# Visualization\n",
    "import matplotlib.pyplot as plt\n",
    "import seaborn as sns\n",
    "sns.set_theme()\n",
    "sns.set_context('talk')\n",
    "\n",
    "# Data Resampling\n",
    "from imblearn.under_sampling import RandomUnderSampler\n",
    "from imblearn.over_sampling import RandomOverSampler, SMOTE\n",
    "\n",
    "# Machine Learning\n",
    "from sklearn.model_selection import train_test_split\n",
    "from sklearn.linear_model import LogisticRegression\n",
    "from sklearn.metrics import classification_report\n",
    "\n"
   ]
  },
  {
   "cell_type": "markdown",
   "id": "50a05e59",
   "metadata": {},
   "source": [
    "# 1. Data Exploration\n",
    "[Back to top](#top)"
   ]
  },
  {
   "cell_type": "markdown",
   "id": "c3e01a11",
   "metadata": {},
   "source": [
    "In this first section, we aim at understanding our data as good as possible."
   ]
  },
  {
   "cell_type": "markdown",
   "id": "7e304dd1",
   "metadata": {},
   "source": [
    "## 1.1. Introduction to dataset <a id=\"intro\"></a>\n",
    "[Back to top](#top)"
   ]
  },
  {
   "cell_type": "markdown",
   "id": "dae311f2",
   "metadata": {},
   "source": [
    "- Import data, originally from https://archive.ics.uci.edu/ml/datasets/diabetes+130-us+hospitals+for+years+1999-2008"
   ]
  },
  {
   "cell_type": "code",
   "execution_count": 2,
   "id": "b6b31fb5",
   "metadata": {},
   "outputs": [],
   "source": [
    "raw_data_mappings = \"https://raw.githubusercontent.com/F4LLC0N3R/ML-Group-2---Diabetes/main/data/IDs_mapping.csv\"\n",
    "raw_data_diabetes = \"https://raw.githubusercontent.com/F4LLC0N3R/ML-Group-2---Diabetes/main/data/diabetic_data.csv\"\n",
    "\n",
    "df_mappings = pd.read_csv(raw_data_mappings)\n",
    "df_diabetes = pd.read_csv(raw_data_diabetes)"
   ]
  },
  {
   "cell_type": "markdown",
   "id": "f534976d",
   "metadata": {},
   "source": [
    "- Size of dataset"
   ]
  },
  {
   "cell_type": "markdown",
   "id": "e83d8f55",
   "metadata": {},
   "source": [
    "# 3. Model Building <a id=\"model-building\"></a>\n",
    "[Back to top](#top)"
   ]
  },
  {
   "cell_type": "code",
   "execution_count": 78,
   "id": "d3366952",
   "metadata": {},
   "outputs": [],
   "source": [
    "# ..."
   ]
  },
  {
   "cell_type": "markdown",
   "id": "035184ff",
   "metadata": {},
   "source": [
    "## 3.1. Logistic Regression <a id=\"logistic-regression\"></a>\n",
    "[Back to top](#top)"
   ]
  },
  {
   "cell_type": "code",
   "execution_count": 82,
   "id": "14374911",
   "metadata": {},
   "outputs": [],
   "source": [
    "# ..."
   ]
  },
  {
   "cell_type": "markdown",
   "id": "f7c88296",
   "metadata": {},
   "source": [
    "## 3.2. Naive Bayes <a id=\"naive-bayes\"></a>\n",
    "[Back to top](#top)"
   ]
  },
  {
   "cell_type": "markdown",
   "id": "96f9fe91",
   "metadata": {},
   "source": [
    "### 3.2.1 Gaussian Naive Bayes"
   ]
  },
  {
   "cell_type": "code",
   "execution_count": 92,
   "id": "76e9323b",
   "metadata": {},
   "outputs": [],
   "source": [
    "from sklearn.naive_bayes import GaussianNB\n",
    "from sklearn.naive_bayes import MultinomialNB\n",
    "from sklearn.naive_bayes import ComplementNB\n",
    "from sklearn.naive_bayes import BernoulliNB\n",
    "from sklearn.naive_bayes import CategoricalNB"
   ]
  },
  {
   "cell_type": "code",
   "execution_count": 84,
   "id": "ac049dc5",
   "metadata": {},
   "outputs": [
    {
     "name": "stdout",
     "output_type": "stream",
     "text": [
      "Wall time: 183 ms\n"
     ]
    }
   ],
   "source": [
    "GaussianNBC = GaussianNB()\n",
    "%time GaussianNBC.fit(X_train, y_train)\n",
    "y_pred_test_GaussianNBC = GaussianNBC.predict(X_test)"
   ]
  },
  {
   "cell_type": "code",
   "execution_count": 85,
   "id": "fb4c3038",
   "metadata": {},
   "outputs": [
    {
     "name": "stdout",
     "output_type": "stream",
     "text": [
      "F1 Score is  0.16415374814185602\n",
      "Accuracy score is  0.11946308724832215\n",
      "\n",
      "Classification report :\n",
      "              precision    recall  f1-score   support\n",
      "\n",
      "           0       0.96      0.04      0.07     16307\n",
      "           1       0.09      0.98      0.16      1573\n",
      "\n",
      "    accuracy                           0.12     17880\n",
      "   macro avg       0.52      0.51      0.12     17880\n",
      "weighted avg       0.88      0.12      0.08     17880\n",
      "\n",
      "Confusion matrix :\n",
      "[[  590 15717]\n",
      " [   27  1546]]\n"
     ]
    }
   ],
   "source": [
    "print(\"F1 Score is \", f1_score(y_test,y_pred_test_GaussianNBC))\n",
    "print(\"Accuracy score is \", accuracy_score(y_test,y_pred_test_GaussianNBC))\n",
    "print(\"\\nClassification report :\")\n",
    "print(classification_report(y_test, y_pred_test_GaussianNBC))\n",
    "print(\"Confusion matrix :\")\n",
    "print(confusion_matrix(y_test, y_pred_test_GaussianNBC))"
   ]
  },
  {
   "cell_type": "code",
   "execution_count": 86,
   "id": "f1501b6c",
   "metadata": {},
   "outputs": [
    {
     "data": {
      "image/png": "[encoded data removed]",
      "text/plain": [
       "<Figure size 432x288 with 2 Axes>"
      ]
     },
     "metadata": {},
     "output_type": "display_data"
    }
   ],
   "source": [
    "fig=plot_confusion_matrix(GaussianNBC, X_test, y_test)\n",
    "plt.show()"
   ]
  },
  {
   "cell_type": "markdown",
   "id": "29590e7c",
   "metadata": {},
   "source": [
    "#### Observation\n",
    "- Recall for predicting class 1 is very high ! (98%)"
   ]
  },
  {
   "cell_type": "markdown",
   "id": "4adce218",
   "metadata": {},
   "source": [
    "### 3.2.2 Multinomial Naive Bayes "
   ]
  },
  {
   "cell_type": "code",
   "execution_count": 88,
   "id": "1f9bf436",
   "metadata": {},
   "outputs": [
    {
     "name": "stdout",
     "output_type": "stream",
     "text": [
      "Wall time: 51.8 ms\n"
     ]
    }
   ],
   "source": [
    "MultinomialNBC = MultinomialNB()\n",
    "%time MultinomialNBC.fit(X_train, y_train)\n",
    "y_pred_test_MultinomialNBC = MultinomialNBC.predict(X_test)"
   ]
  },
  {
   "cell_type": "code",
   "execution_count": 89,
   "id": "337c2271",
   "metadata": {},
   "outputs": [
    {
     "name": "stdout",
     "output_type": "stream",
     "text": [
      "F1 Score is  0.07658643326039387\n",
      "Accuracy score is  0.905592841163311\n",
      "\n",
      "Classification report :\n",
      "              precision    recall  f1-score   support\n",
      "\n",
      "           0       0.91      0.99      0.95     16307\n",
      "           1       0.27      0.04      0.08      1573\n",
      "\n",
      "    accuracy                           0.91     17880\n",
      "   macro avg       0.59      0.52      0.51     17880\n",
      "weighted avg       0.86      0.91      0.87     17880\n",
      "\n",
      "Confusion matrix :\n",
      "[[16122   185]\n",
      " [ 1503    70]]\n"
     ]
    }
   ],
   "source": [
    "print(\"F1 Score is \", f1_score(y_test,y_pred_test_MultinomialNBC))\n",
    "print(\"Accuracy score is \", accuracy_score(y_test,y_pred_test_MultinomialNBC))\n",
    "print(\"\\nClassification report :\")\n",
    "print(classification_report(y_test, y_pred_test_MultinomialNBC))\n",
    "print(\"Confusion matrix :\")\n",
    "print(confusion_matrix(y_test, y_pred_test_MultinomialNBC))"
   ]
  },
  {
   "cell_type": "code",
   "execution_count": 90,
   "id": "c7c9b1cd",
   "metadata": {},
   "outputs": [
    {
     "data": {
      "image/png": "[encoded data removed]",
      "text/plain": [
       "<Figure size 432x288 with 2 Axes>"
      ]
     },
     "metadata": {},
     "output_type": "display_data"
    }
   ],
   "source": [
    "fig=plot_confusion_matrix(MultinomialNBC, X_test, y_test)\n",
    "plt.show()"
   ]
  },
  {
   "cell_type": "markdown",
   "id": "802ed0b5",
   "metadata": {},
   "source": [
    "### 3.2.3 Complement Naive Bayes"
   ]
  },
  {
   "cell_type": "code",
   "execution_count": 93,
   "id": "e2c43acf",
   "metadata": {},
   "outputs": [
    {
     "name": "stdout",
     "output_type": "stream",
     "text": [
      "Wall time: 44.9 ms\n"
     ]
    }
   ],
   "source": [
    "ComplementNBC = ComplementNB()\n",
    "%time ComplementNBC.fit(X_train, y_train)\n",
    "y_pred_test_ComplementNBC = ComplementNBC.predict(X_test)"
   ]
  },
  {
   "cell_type": "code",
   "execution_count": 94,
   "id": "2f59e5f3",
   "metadata": {},
   "outputs": [
    {
     "name": "stdout",
     "output_type": "stream",
     "text": [
      "F1 Score is  0.22233847763536488\n",
      "Accuracy score is  0.6674496644295302\n",
      "\n",
      "Classification report :\n",
      "              precision    recall  f1-score   support\n",
      "\n",
      "           0       0.94      0.68      0.79     16307\n",
      "           1       0.14      0.54      0.22      1573\n",
      "\n",
      "    accuracy                           0.67     17880\n",
      "   macro avg       0.54      0.61      0.51     17880\n",
      "weighted avg       0.87      0.67      0.74     17880\n",
      "\n",
      "Confusion matrix :\n",
      "[[11084  5223]\n",
      " [  723   850]]\n"
     ]
    }
   ],
   "source": [
    "print(\"F1 Score is \", f1_score(y_test,y_pred_test_ComplementNBC))\n",
    "print(\"Accuracy score is \", accuracy_score(y_test,y_pred_test_ComplementNBC))\n",
    "print(\"\\nClassification report :\")\n",
    "print(classification_report(y_test, y_pred_test_ComplementNBC))\n",
    "print(\"Confusion matrix :\")\n",
    "print(confusion_matrix(y_test, y_pred_test_ComplementNBC))"
   ]
  },
  {
   "cell_type": "code",
   "execution_count": 95,
   "id": "8b22d81b",
   "metadata": {},
   "outputs": [
    {
     "data": {
      "image/png": "[encoded data removed]",
      "text/plain": [
       "<Figure size 432x288 with 2 Axes>"
      ]
     },
     "metadata": {},
     "output_type": "display_data"
    }
   ],
   "source": [
    "fig=plot_confusion_matrix(ComplementNBC, X_test, y_test)\n",
    "plt.show()"
   ]
  },
  {
   "cell_type": "markdown",
   "id": "f0db6b88",
   "metadata": {},
   "source": [
    "### 3.2.4 Bernoulli Naive Bayes"
   ]
  },
  {
   "cell_type": "code",
   "execution_count": 96,
   "id": "8bbcfc93",
   "metadata": {},
   "outputs": [
    {
     "name": "stdout",
     "output_type": "stream",
     "text": [
      "Wall time: 126 ms\n"
     ]
    }
   ],
   "source": [
    "BernoulliNBC = BernoulliNB()\n",
    "%time BernoulliNBC.fit(X_train, y_train)\n",
    "y_pred_test_BernoulliNBC = BernoulliNBC.predict(X_test)"
   ]
  },
  {
   "cell_type": "code",
   "execution_count": 97,
   "id": "ba4f008a",
   "metadata": {},
   "outputs": [
    {
     "name": "stdout",
     "output_type": "stream",
     "text": [
      "F1 Score is  0.02341343191620456\n",
      "Accuracy score is  0.9113534675615212\n",
      "\n",
      "Classification report :\n",
      "              precision    recall  f1-score   support\n",
      "\n",
      "           0       0.91      1.00      0.95     16307\n",
      "           1       0.38      0.01      0.02      1573\n",
      "\n",
      "    accuracy                           0.91     17880\n",
      "   macro avg       0.65      0.51      0.49     17880\n",
      "weighted avg       0.87      0.91      0.87     17880\n",
      "\n",
      "Confusion matrix :\n",
      "[[16276    31]\n",
      " [ 1554    19]]\n"
     ]
    }
   ],
   "source": [
    "print(\"F1 Score is \", f1_score(y_test,y_pred_test_BernoulliNBC))\n",
    "print(\"Accuracy score is \", accuracy_score(y_test,y_pred_test_BernoulliNBC))\n",
    "print(\"\\nClassification report :\")\n",
    "print(classification_report(y_test, y_pred_test_BernoulliNBC))\n",
    "print(\"Confusion matrix :\")\n",
    "print(confusion_matrix(y_test, y_pred_test_BernoulliNBC))"
   ]
  },
  {
   "cell_type": "code",
   "execution_count": 98,
   "id": "3a60b113",
   "metadata": {},
   "outputs": [
    {
     "data": {
      "image/png": "[encoded data removed]",
      "text/plain": [
       "<Figure size 432x288 with 2 Axes>"
      ]
     },
     "metadata": {},
     "output_type": "display_data"
    }
   ],
   "source": [
    "fig=plot_confusion_matrix(BernoulliNBC, X_test, y_test)\n",
    "plt.show()"
   ]
  },
  {
   "cell_type": "code",
   "execution_count": 83,
   "id": "5974a296",
   "metadata": {},
   "outputs": [],
   "source": [
    "# ..."
   ]
  },
  {
   "cell_type": "markdown",
   "id": "57a68665",
   "metadata": {},
   "source": [
    "## 3.3. Random Forest <a id=\"random-forest\"></a>\n",
    "[Back to top](#top)"
   ]
  },
  {
   "cell_type": "markdown",
   "id": "da114729",
   "metadata": {},
   "source": [
    "- Importing dataframes from github and transforming"
   ]
  },
  {
   "cell_type": "code",
   "execution_count": 128,
   "id": "d358f3c3",
   "metadata": {},
   "outputs": [],
   "source": [
    "X_train = pd.read_csv(\"C:\\Aditya\\MDI\\Year 2\\Exchange\\Machine Learning\\Students_Directory\\Students_Directory\\data\\diabeticData\\X_train.csv\")\n",
    "y_train = pd.read_csv(\"C:\\Aditya\\MDI\\Year 2\\Exchange\\Machine Learning\\Students_Directory\\Students_Directory\\data\\diabeticData\\y_train.csv\")\n",
    "X_train_smote = pd.read_csv(\"C:\\Aditya\\MDI\\Year 2\\Exchange\\Machine Learning\\Students_Directory\\Students_Directory\\data\\diabeticData\\X_train_smote.csv\")\n",
    "y_train_smote = pd.read_csv(\"C:\\Aditya\\MDI\\Year 2\\Exchange\\Machine Learning\\Students_Directory\\Students_Directory\\data\\diabeticData\\y_train_smote.csv\")\n",
    "X_train_rus = pd.read_csv(\"C:\\Aditya\\MDI\\Year 2\\Exchange\\Machine Learning\\Students_Directory\\Students_Directory\\data\\diabeticData\\X_train_rus.csv\")\n",
    "y_train_rus = pd.read_csv(\"C:\\Aditya\\MDI\\Year 2\\Exchange\\Machine Learning\\Students_Directory\\Students_Directory\\data\\diabeticData\\y_train_rus.csv\")\n",
    "X_test = pd.read_csv(\"C:\\Aditya\\MDI\\Year 2\\Exchange\\Machine Learning\\Students_Directory\\Students_Directory\\data\\diabeticData\\X_test.csv\")\n",
    "y_test = pd.read_csv(\"C:\\Aditya\\MDI\\Year 2\\Exchange\\Machine Learning\\Students_Directory\\Students_Directory\\data\\diabeticData\\y_test.csv\")\n",
    "y_train=y_train['readmitted_within_30_days'].to_numpy()\n",
    "y_train_smote=y_train_smote['readmitted_within_30_days'].to_numpy()\n",
    "y_train_rus=y_train_rus['readmitted_within_30_days'].to_numpy()\n",
    "y_test=y_test['readmitted_within_30_days'].to_numpy()"
   ]
  },
  {
   "cell_type": "code",
   "execution_count": 56,
   "id": "c18d4c9d",
   "metadata": {},
   "outputs": [],
   "source": [
    "from sklearn.ensemble import RandomForestClassifier\n",
    "from sklearn.datasets import make_classification\n",
    "from sklearn.metrics import f1_score,accuracy_score, confusion_matrix, classification_report\n",
    "from imblearn.ensemble import BalancedRandomForestClassifier\n",
    "from sklearn.metrics import plot_confusion_matrix\n",
    "import matplotlib.pyplot as plt"
   ]
  },
  {
   "cell_type": "code",
   "execution_count": 7,
   "id": "4bd3e15e",
   "metadata": {},
   "outputs": [
    {
     "data": {
      "image/png": "[encoded data removed]",
      "text/plain": [
       "<Figure size 432x288 with 1 Axes>"
      ]
     },
     "metadata": {},
     "output_type": "display_data"
    }
   ],
   "source": [
    "pd.Series(y_train).plot(kind = 'density', bw_method = 0.05);"
   ]
  },
  {
   "cell_type": "markdown",
   "id": "5da09359",
   "metadata": {},
   "source": [
    "### 3.3.1 Base RandomForest Classifer\n",
    "- Creating randomforestclassifier without any weights"
   ]
  },
  {
   "cell_type": "code",
   "execution_count": 58,
   "id": "2c140595",
   "metadata": {},
   "outputs": [],
   "source": [
    "classifier_base = RandomForestClassifier(\n",
    "    n_estimators = 100, \n",
    "    class_weight = None, # classifier specific\n",
    "    criterion = 'gini',  # classifier specific\n",
    "    max_depth = 3, \n",
    "    min_samples_split = 2, \n",
    "    min_samples_leaf = 1, \n",
    "    min_weight_fraction_leaf = 0.0, \n",
    "    max_features = 'auto', \n",
    "    max_leaf_nodes = None, \n",
    "    min_impurity_decrease = 0.0, \n",
    "    min_impurity_split = None, \n",
    "    ccp_alpha = 0.0, \n",
    "    random_state = 42, \n",
    "    bootstrap = True, \n",
    "    max_samples = None,\n",
    "    warm_start = False, \n",
    "    n_jobs = 1, \n",
    "    verbose = 0, \n",
    ")"
   ]
  },
  {
   "cell_type": "code",
   "execution_count": 59,
   "id": "a1da665a",
   "metadata": {
    "scrolled": false
   },
   "outputs": [
    {
     "name": "stdout",
     "output_type": "stream",
     "text": [
      "Wall time: 1.48 s\n"
     ]
    }
   ],
   "source": [
    "%time classifier_base.fit(X_train, y_train)\n",
    "y_pred_test_classifier_base = classifier_base.predict(X_test)"
   ]
  },
  {
   "cell_type": "code",
   "execution_count": 64,
   "id": "4034d705",
   "metadata": {},
   "outputs": [
    {
     "name": "stdout",
     "output_type": "stream",
     "text": [
      "F1 Score is  0.0\n",
      "Accuracy score is  0.9120246085011185\n",
      "\n",
      "Classification report :\n",
      "              precision    recall  f1-score   support\n",
      "\n",
      "           0       0.91      1.00      0.95     16307\n",
      "           1       0.00      0.00      0.00      1573\n",
      "\n",
      "    accuracy                           0.91     17880\n",
      "   macro avg       0.46      0.50      0.48     17880\n",
      "weighted avg       0.83      0.91      0.87     17880\n",
      "\n",
      "Confusion matrix :\n",
      "[[16307     0]\n",
      " [ 1573     0]]\n"
     ]
    },
    {
     "name": "stderr",
     "output_type": "stream",
     "text": [
      "C:\\Users\\adity\\anaconda3\\envs\\fastai-cpu-v0.7\\lib\\site-packages\\sklearn\\metrics\\_classification.py:1248: UndefinedMetricWarning: Precision and F-score are ill-defined and being set to 0.0 in labels with no predicted samples. Use `zero_division` parameter to control this behavior.\n",
      "  _warn_prf(average, modifier, msg_start, len(result))\n",
      "C:\\Users\\adity\\anaconda3\\envs\\fastai-cpu-v0.7\\lib\\site-packages\\sklearn\\metrics\\_classification.py:1248: UndefinedMetricWarning: Precision and F-score are ill-defined and being set to 0.0 in labels with no predicted samples. Use `zero_division` parameter to control this behavior.\n",
      "  _warn_prf(average, modifier, msg_start, len(result))\n",
      "C:\\Users\\adity\\anaconda3\\envs\\fastai-cpu-v0.7\\lib\\site-packages\\sklearn\\metrics\\_classification.py:1248: UndefinedMetricWarning: Precision and F-score are ill-defined and being set to 0.0 in labels with no predicted samples. Use `zero_division` parameter to control this behavior.\n",
      "  _warn_prf(average, modifier, msg_start, len(result))\n"
     ]
    }
   ],
   "source": [
    "print(\"F1 Score is \", f1_score(y_test,y_pred_test_classifier_base))\n",
    "print(\"Accuracy score is \", accuracy_score(y_test,y_pred_test_classifier_base))\n",
    "print(\"\\nClassification report :\")\n",
    "print(classification_report(y_test, y_pred_test_classifier_base))\n",
    "print(\"Confusion matrix :\")\n",
    "print(confusion_matrix(y_test, y_pred_test_classifier_base))"
   ]
  },
  {
   "cell_type": "code",
   "execution_count": 65,
   "id": "f2b2afc7",
   "metadata": {},
   "outputs": [
    {
     "data": {
      "image/png": "[encoded data removed]",
      "text/plain": [
       "<Figure size 432x288 with 2 Axes>"
      ]
     },
     "metadata": {},
     "output_type": "display_data"
    }
   ],
   "source": [
    "fig=plot_confusion_matrix(classifier_base, X_test, y_test)\n",
    "plt.show()"
   ]
  },
  {
   "cell_type": "markdown",
   "id": "9efd5ce3",
   "metadata": {},
   "source": [
    "####  Observation\n",
    "- Everything is being predicted as 0\n",
    "- Precision in predicting class 1 (chance of readmission) is 0"
   ]
  },
  {
   "cell_type": "markdown",
   "id": "480b1d26",
   "metadata": {},
   "source": [
    "### 3.3.2 Random Forest Classifier with weights\n",
    "- Assigning weights to classes in reverse ratio of prevalence in training set"
   ]
  },
  {
   "cell_type": "code",
   "execution_count": 69,
   "id": "158bf2b9",
   "metadata": {},
   "outputs": [
    {
     "name": "stdout",
     "output_type": "stream",
     "text": [
      "Total occurences of \"1\" in y_train:  4720\n",
      "Total occurences of \"0\" in y_train:  48918\n",
      "weight of 1: 10.363983050847457\n"
     ]
    }
   ],
   "source": [
    "count_arr = np.bincount(y_train)\n",
    "print('Total occurences of \"1\" in y_train: ', count_arr[1])\n",
    "print('Total occurences of \"0\" in y_train: ', count_arr[0])\n",
    "print('weight of 1:', count_arr[0]/count_arr[1])"
   ]
  },
  {
   "cell_type": "code",
   "execution_count": 117,
   "id": "059cb357",
   "metadata": {},
   "outputs": [],
   "source": [
    "classifier_weights = RandomForestClassifier(\n",
    "    n_estimators = 100, \n",
    "    class_weight={0:1,1:10.364},\n",
    "    criterion = 'gini',  # classifier specific\n",
    "    max_depth = 3, \n",
    "    min_samples_split = 2, \n",
    "    min_samples_leaf = 1, \n",
    "    min_weight_fraction_leaf = 0.0, \n",
    "    max_features = 'auto', \n",
    "    max_leaf_nodes = None, \n",
    "    min_impurity_decrease = 0.0, \n",
    "    min_impurity_split = None, \n",
    "    ccp_alpha = 0.0, \n",
    "    random_state = 42, \n",
    "    bootstrap = True, \n",
    "    oob_score = True,\n",
    "    max_samples = None,\n",
    "    warm_start = False, \n",
    "    n_jobs = 1, \n",
    "    verbose = 0, \n",
    ")"
   ]
  },
  {
   "cell_type": "code",
   "execution_count": 118,
   "id": "640b850c",
   "metadata": {
    "scrolled": true
   },
   "outputs": [
    {
     "name": "stdout",
     "output_type": "stream",
     "text": [
      "Wall time: 2.86 s\n"
     ]
    }
   ],
   "source": [
    "%time classifier_weights.fit(X_train, y_train)\n",
    "y_pred_test_classifier_weights = classifier_weights.predict(X_test)"
   ]
  },
  {
   "cell_type": "code",
   "execution_count": 119,
   "id": "1c448909",
   "metadata": {},
   "outputs": [
    {
     "name": "stdout",
     "output_type": "stream",
     "text": [
      "F1 Score is  0.21313266173079257\n",
      "Accuracy score is  0.6374161073825504\n",
      "\n",
      "Classification report :\n",
      "              precision    recall  f1-score   support\n",
      "\n",
      "           0       0.94      0.65      0.76     16307\n",
      "           1       0.13      0.56      0.21      1573\n",
      "\n",
      "    accuracy                           0.64     17880\n",
      "   macro avg       0.53      0.60      0.49     17880\n",
      "weighted avg       0.87      0.64      0.72     17880\n",
      "\n",
      "Confusion matrix :\n",
      "[[10519  5788]\n",
      " [  695   878]]\n"
     ]
    }
   ],
   "source": [
    "print(\"F1 Score is \", f1_score(y_test,y_pred_test_classifier_weights))\n",
    "print(\"Accuracy score is \", accuracy_score(y_test,y_pred_test_classifier_weights))\n",
    "print(\"\\nClassification report :\")\n",
    "print(classification_report(y_test, y_pred_test_classifier_weights))\n",
    "print(\"Confusion matrix :\")\n",
    "print(confusion_matrix(y_test, y_pred_test_classifier_weights))"
   ]
  },
  {
   "cell_type": "code",
   "execution_count": 120,
   "id": "59a9494c",
   "metadata": {},
   "outputs": [
    {
     "data": {
      "image/png": "[encoded data removed]",
      "text/plain": [
       "<Figure size 432x288 with 2 Axes>"
      ]
     },
     "metadata": {},
     "output_type": "display_data"
    }
   ],
   "source": [
    "fig=plot_confusion_matrix(classifier_weights, X_test, y_test)\n",
    "plt.show()"
   ]
  },
  {
   "cell_type": "markdown",
   "id": "0edd3c2d",
   "metadata": {},
   "source": [
    "#### Observation\n",
    "- Precision of predicting minority class has increased to 13 %\n",
    "- But still area for improvement\n",
    "- Overall accuracy went down which is to be expected"
   ]
  },
  {
   "cell_type": "markdown",
   "id": "ffd49e18",
   "metadata": {},
   "source": [
    "### 3.3.3 Balanced Random Forest Classifier\n",
    "- A balanced random forest randomly under-samples each boostrap sample to balance it."
   ]
  },
  {
   "cell_type": "code",
   "execution_count": 78,
   "id": "f14ac290",
   "metadata": {},
   "outputs": [],
   "source": [
    "balanced_classifer = BalancedRandomForestClassifier(\n",
    "    n_estimators = 100, \n",
    "    criterion = 'gini',  # classifier specific\n",
    "    max_depth = 3, \n",
    "    min_samples_split = 2, \n",
    "    min_samples_leaf = 1, \n",
    "    min_weight_fraction_leaf = 0.0, \n",
    "    max_features = 'auto', \n",
    "    max_leaf_nodes = None, \n",
    "    min_impurity_decrease = 0.0, \n",
    "    ccp_alpha = 0.0, \n",
    "    random_state = 42, \n",
    "    bootstrap = True, \n",
    "    oob_score = True,\n",
    "    max_samples = None,\n",
    "    warm_start = False, \n",
    "    n_jobs = 1, \n",
    "    verbose = 0, \n",
    ")"
   ]
  },
  {
   "cell_type": "code",
   "execution_count": 79,
   "id": "6ce6a064",
   "metadata": {
    "scrolled": false
   },
   "outputs": [
    {
     "name": "stdout",
     "output_type": "stream",
     "text": [
      "Wall time: 2.9 s\n"
     ]
    }
   ],
   "source": [
    "%time balanced_classifer.fit(X_train, y_train)\n",
    "y_pred_test_balanced_classifer = balanced_classifer.predict(X_test)"
   ]
  },
  {
   "cell_type": "code",
   "execution_count": 80,
   "id": "0e4e8a40",
   "metadata": {},
   "outputs": [
    {
     "name": "stdout",
     "output_type": "stream",
     "text": [
      "F1 Score is  0.21154299175500585\n",
      "Accuracy score is  0.6256152125279643\n",
      "\n",
      "Classification report :\n",
      "              precision    recall  f1-score   support\n",
      "\n",
      "           0       0.94      0.63      0.75     16307\n",
      "           1       0.13      0.57      0.21      1573\n",
      "\n",
      "    accuracy                           0.63     17880\n",
      "   macro avg       0.53      0.60      0.48     17880\n",
      "weighted avg       0.87      0.63      0.71     17880\n",
      "\n",
      "Confusion matrix :\n",
      "[[10288  6019]\n",
      " [  675   898]]\n"
     ]
    }
   ],
   "source": [
    "print(\"F1 Score is \", f1_score(y_test,y_pred_test_balanced_classifer))\n",
    "print(\"Accuracy score is \", accuracy_score(y_test,y_pred_test_balanced_classifer))\n",
    "print(\"\\nClassification report :\")\n",
    "print(classification_report(y_test, y_pred_test_balanced_classifer))\n",
    "print(\"Confusion matrix :\")\n",
    "print(confusion_matrix(y_test, y_pred_test_balanced_classifer))"
   ]
  },
  {
   "cell_type": "code",
   "execution_count": 82,
   "id": "e5e22ced",
   "metadata": {},
   "outputs": [
    {
     "data": {
      "image/png": "[encoded data removed]",
      "text/plain": [
       "<Figure size 432x288 with 2 Axes>"
      ]
     },
     "metadata": {},
     "output_type": "display_data"
    }
   ],
   "source": [
    "fig=plot_confusion_matrix(balanced_classifer, X_test, y_test)\n",
    "plt.show()"
   ]
  },
  {
   "cell_type": "markdown",
   "id": "93e680c0",
   "metadata": {},
   "source": [
    "### 3.3.4 Using downsampled training set-Random Forest Classifier"
   ]
  },
  {
   "cell_type": "markdown",
   "id": "e962042c",
   "metadata": {},
   "source": [
    "#### no class weights"
   ]
  },
  {
   "cell_type": "code",
   "execution_count": 121,
   "id": "8e573054",
   "metadata": {},
   "outputs": [],
   "source": [
    "classifier_base_us = RandomForestClassifier(\n",
    "    n_estimators = 100, \n",
    "    class_weight = None,\n",
    "    criterion = 'gini',  # classifier specific\n",
    "    max_depth = 3, \n",
    "    min_samples_split = 2, \n",
    "    min_samples_leaf = 1, \n",
    "    min_weight_fraction_leaf = 0.0, \n",
    "    max_features = 'auto', \n",
    "    max_leaf_nodes = None, \n",
    "    min_impurity_decrease = 0.0, \n",
    "    min_impurity_split = None, \n",
    "    ccp_alpha = 0.0, \n",
    "    random_state = 42, \n",
    "    bootstrap = True, \n",
    "    oob_score = True, \n",
    "    max_samples = None,\n",
    "    warm_start = False, \n",
    "    n_jobs = 1, \n",
    "    verbose = 0, \n",
    ")"
   ]
  },
  {
   "cell_type": "code",
   "execution_count": 122,
   "id": "8b49ef28",
   "metadata": {},
   "outputs": [
    {
     "name": "stdout",
     "output_type": "stream",
     "text": [
      "Wall time: 517 ms\n"
     ]
    }
   ],
   "source": [
    "%time classifier_base_us.fit(X_train_rus, y_train_rus)\n",
    "y_pred_test_classifier_base_us = classifier_base_us.predict(X_test)"
   ]
  },
  {
   "cell_type": "code",
   "execution_count": 123,
   "id": "e2e0e6c7",
   "metadata": {},
   "outputs": [
    {
     "name": "stdout",
     "output_type": "stream",
     "text": [
      "F1 Score is  0.2120693867578793\n",
      "Accuracy score is  0.639261744966443\n",
      "\n",
      "Classification report :\n",
      "              precision    recall  f1-score   support\n",
      "\n",
      "           0       0.94      0.65      0.77     16307\n",
      "           1       0.13      0.55      0.21      1573\n",
      "\n",
      "    accuracy                           0.64     17880\n",
      "   macro avg       0.53      0.60      0.49     17880\n",
      "weighted avg       0.87      0.64      0.72     17880\n",
      "\n",
      "Confusion matrix :\n",
      "[[10562  5745]\n",
      " [  705   868]]\n"
     ]
    }
   ],
   "source": [
    "print(\"F1 Score is \", f1_score(y_test,y_pred_test_classifier_base_us))\n",
    "print(\"Accuracy score is \", accuracy_score(y_test,y_pred_test_classifier_base_us))\n",
    "print(\"\\nClassification report :\")\n",
    "print(classification_report(y_test, y_pred_test_classifier_base_us))\n",
    "print(\"Confusion matrix :\")\n",
    "print(confusion_matrix(y_test, y_pred_test_classifier_base_us))"
   ]
  },
  {
   "cell_type": "code",
   "execution_count": 124,
   "id": "6f3eec17",
   "metadata": {},
   "outputs": [
    {
     "data": {
      "image/png": "[encoded data removed]",
      "text/plain": [
       "<Figure size 432x288 with 2 Axes>"
      ]
     },
     "metadata": {},
     "output_type": "display_data"
    }
   ],
   "source": [
    "fig=plot_confusion_matrix(classifier_base_us, X_test, y_test)\n",
    "plt.show()"
   ]
  },
  {
   "cell_type": "markdown",
   "id": "7207970a",
   "metadata": {},
   "source": [
    "#### class weights added"
   ]
  },
  {
   "cell_type": "code",
   "execution_count": 125,
   "id": "e5dd28df",
   "metadata": {},
   "outputs": [
    {
     "name": "stdout",
     "output_type": "stream",
     "text": [
      "Wall time: 497 ms\n"
     ]
    }
   ],
   "source": [
    "classifier_base_us1 = RandomForestClassifier(\n",
    "    n_estimators = 100, \n",
    "    class_weight={0:1,1:10.364},\n",
    "    criterion = 'gini',  # classifier specific\n",
    "    max_depth = 3, \n",
    "    min_samples_split = 2, \n",
    "    min_samples_leaf = 1, \n",
    "    min_weight_fraction_leaf = 0.0, \n",
    "    max_features = 'auto', \n",
    "    max_leaf_nodes = None, \n",
    "    min_impurity_decrease = 0.0, \n",
    "    min_impurity_split = None, \n",
    "    ccp_alpha = 0.0, \n",
    "    random_state = 42, \n",
    "    bootstrap = True, \n",
    "    oob_score = True, \n",
    "    max_samples = None,\n",
    "    warm_start = False, \n",
    "    n_jobs = 1, \n",
    "    verbose = 0, \n",
    ")\n",
    "%time classifier_base_us1.fit(X_train_rus, y_train_rus)\n",
    "y_pred_test_classifier_base_us1 = classifier_base_us1.predict(X_test)"
   ]
  },
  {
   "cell_type": "code",
   "execution_count": 126,
   "id": "72a8c03e",
   "metadata": {},
   "outputs": [
    {
     "name": "stdout",
     "output_type": "stream",
     "text": [
      "F1 Score is  0.16172312753816892\n",
      "Accuracy score is  0.08797539149888144\n",
      "\n",
      "Classification report :\n",
      "              precision    recall  f1-score   support\n",
      "\n",
      "           0       0.00      0.00      0.00     16307\n",
      "           1       0.09      1.00      0.16      1573\n",
      "\n",
      "    accuracy                           0.09     17880\n",
      "   macro avg       0.04      0.50      0.08     17880\n",
      "weighted avg       0.01      0.09      0.01     17880\n",
      "\n",
      "Confusion matrix :\n",
      "[[    0 16307]\n",
      " [    0  1573]]\n"
     ]
    },
    {
     "name": "stderr",
     "output_type": "stream",
     "text": [
      "C:\\Users\\adity\\anaconda3\\envs\\fastai-cpu-v0.7\\lib\\site-packages\\sklearn\\metrics\\_classification.py:1248: UndefinedMetricWarning: Precision and F-score are ill-defined and being set to 0.0 in labels with no predicted samples. Use `zero_division` parameter to control this behavior.\n",
      "  _warn_prf(average, modifier, msg_start, len(result))\n",
      "C:\\Users\\adity\\anaconda3\\envs\\fastai-cpu-v0.7\\lib\\site-packages\\sklearn\\metrics\\_classification.py:1248: UndefinedMetricWarning: Precision and F-score are ill-defined and being set to 0.0 in labels with no predicted samples. Use `zero_division` parameter to control this behavior.\n",
      "  _warn_prf(average, modifier, msg_start, len(result))\n",
      "C:\\Users\\adity\\anaconda3\\envs\\fastai-cpu-v0.7\\lib\\site-packages\\sklearn\\metrics\\_classification.py:1248: UndefinedMetricWarning: Precision and F-score are ill-defined and being set to 0.0 in labels with no predicted samples. Use `zero_division` parameter to control this behavior.\n",
      "  _warn_prf(average, modifier, msg_start, len(result))\n"
     ]
    }
   ],
   "source": [
    "print(\"F1 Score is \", f1_score(y_test,y_pred_test_classifier_base_us1))\n",
    "print(\"Accuracy score is \", accuracy_score(y_test,y_pred_test_classifier_base_us1))\n",
    "print(\"\\nClassification report :\")\n",
    "print(classification_report(y_test, y_pred_test_classifier_base_us1))\n",
    "print(\"Confusion matrix :\")\n",
    "print(confusion_matrix(y_test, y_pred_test_classifier_base_us1))"
   ]
  },
  {
   "cell_type": "code",
   "execution_count": 127,
   "id": "df132370",
   "metadata": {},
   "outputs": [
    {
     "data": {
      "image/png": "[encoded data removed]",
      "text/plain": [
       "<Figure size 432x288 with 2 Axes>"
      ]
     },
     "metadata": {},
     "output_type": "display_data"
    }
   ],
   "source": [
    "fig=plot_confusion_matrix(classifier_base_us1, X_test, y_test)\n",
    "plt.show()"
   ]
  },
  {
   "cell_type": "markdown",
   "id": "d7a90469",
   "metadata": {},
   "source": [
    "### 3.3.5 Using upsampled training set (SMOTE) -Random Forest Classifier"
   ]
  },
  {
   "cell_type": "markdown",
   "id": "6ef39f26",
   "metadata": {},
   "source": [
    "#### no class weights"
   ]
  },
  {
   "cell_type": "code",
   "execution_count": 129,
   "id": "88620495",
   "metadata": {},
   "outputs": [],
   "source": [
    "classifier_base_smote = RandomForestClassifier(\n",
    "    n_estimators = 100, \n",
    "    class_weight = None,\n",
    "    criterion = 'gini',  # classifier specific\n",
    "    max_depth = 3, \n",
    "    min_samples_split = 2, \n",
    "    min_samples_leaf = 1, \n",
    "    min_weight_fraction_leaf = 0.0, \n",
    "    max_features = 'auto', \n",
    "    max_leaf_nodes = None, \n",
    "    min_impurity_decrease = 0.0, \n",
    "    min_impurity_split = None, \n",
    "    ccp_alpha = 0.0, \n",
    "    random_state = 42, \n",
    "    bootstrap = True, \n",
    "    oob_score = True, \n",
    "    max_samples = None,\n",
    "    warm_start = False, \n",
    "    n_jobs = 1, \n",
    "    verbose = 0, \n",
    ")"
   ]
  },
  {
   "cell_type": "code",
   "execution_count": 130,
   "id": "ce2318a1",
   "metadata": {},
   "outputs": [
    {
     "name": "stdout",
     "output_type": "stream",
     "text": [
      "Wall time: 5 s\n"
     ]
    }
   ],
   "source": [
    "%time classifier_base_smote.fit(X_train_smote, y_train_smote)\n",
    "y_pred_test_classifier_base_smote = classifier_base_smote.predict(X_test)"
   ]
  },
  {
   "cell_type": "code",
   "execution_count": 131,
   "id": "e1cf5a11",
   "metadata": {},
   "outputs": [
    {
     "name": "stdout",
     "output_type": "stream",
     "text": [
      "F1 Score is  0.16072842438638163\n",
      "Accuracy score is  0.7628635346756152\n",
      "\n",
      "Classification report :\n",
      "              precision    recall  f1-score   support\n",
      "\n",
      "           0       0.92      0.81      0.86     16307\n",
      "           1       0.12      0.26      0.16      1573\n",
      "\n",
      "    accuracy                           0.76     17880\n",
      "   macro avg       0.52      0.53      0.51     17880\n",
      "weighted avg       0.85      0.76      0.80     17880\n",
      "\n",
      "Confusion matrix :\n",
      "[[13234  3073]\n",
      " [ 1167   406]]\n"
     ]
    }
   ],
   "source": [
    "print(\"F1 Score is \", f1_score(y_test,y_pred_test_classifier_base_smote))\n",
    "print(\"Accuracy score is \", accuracy_score(y_test,y_pred_test_classifier_base_smote))\n",
    "print(\"\\nClassification report :\")\n",
    "print(classification_report(y_test, y_pred_test_classifier_base_smote))\n",
    "print(\"Confusion matrix :\")\n",
    "print(confusion_matrix(y_test, y_pred_test_classifier_base_smote))"
   ]
  },
  {
   "cell_type": "code",
   "execution_count": 132,
   "id": "80b2be88",
   "metadata": {},
   "outputs": [
    {
     "data": {
      "image/png": "[encoded data removed]",
      "text/plain": [
       "<Figure size 432x288 with 2 Axes>"
      ]
     },
     "metadata": {},
     "output_type": "display_data"
    }
   ],
   "source": [
    "fig=plot_confusion_matrix(classifier_base_smote, X_test, y_test)\n",
    "plt.show()"
   ]
  },
  {
   "cell_type": "code",
   "execution_count": 84,
   "id": "e5ed4909",
   "metadata": {},
   "outputs": [],
   "source": [
    "# ..."
   ]
  },
  {
   "cell_type": "markdown",
   "id": "0df68168",
   "metadata": {},
   "source": [
    "## 3.4. CatBoost<a id=\"catboost\"></a>\n",
    "[Back to top](#top)"
   ]
  },
  {
   "cell_type": "code",
   "execution_count": 85,
   "id": "bd7e3c4f",
   "metadata": {},
   "outputs": [],
   "source": [
    "# ..."
   ]
  },
  {
   "cell_type": "markdown",
   "id": "c77237f2",
   "metadata": {},
   "source": [
    "## 3.5. XGBoost <a id=\"xgboost\"></a>\n",
    "[Back to top](#top)"
   ]
  },
  {
   "cell_type": "code",
   "execution_count": 86,
   "id": "225d0fbe",
   "metadata": {},
   "outputs": [],
   "source": [
    "# ..."
   ]
  },
  {
   "cell_type": "markdown",
   "id": "d7434bc2",
   "metadata": {},
   "source": [
    "# 4 Model Evaluation <a id=\"model-evaluation\"></a>\n",
    "[Back to top](#top)"
   ]
  },
  {
   "cell_type": "code",
   "execution_count": 87,
   "id": "193a4579",
   "metadata": {},
   "outputs": [],
   "source": [
    "# ..."
   ]
  }
 ],
 "metadata": {
  "kernelspec": {
   "display_name": "Python 3",
   "language": "python",
   "name": "python3"
  },
  "language_info": {
   "codemirror_mode": {
    "name": "ipython",
    "version": 3
   },
   "file_extension": ".py",
   "mimetype": "text/x-python",
   "name": "python",
   "nbconvert_exporter": "python",
   "pygments_lexer": "ipython3",
   "version": "3.6.13"
  }
 },
 "nbformat": 4,
 "nbformat_minor": 5
}
