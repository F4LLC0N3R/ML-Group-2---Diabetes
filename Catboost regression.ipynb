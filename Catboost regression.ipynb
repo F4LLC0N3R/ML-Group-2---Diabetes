{
 "cells": [
  {
   "cell_type": "code",
   "execution_count": 1,
   "id": "bb686516",
   "metadata": {},
   "outputs": [],
   "source": [
    "# base modules\n",
    "import warnings\n",
    "warnings.filterwarnings('ignore')\n",
    "\n",
    "#Sys tools\n",
    "import os\n",
    "import sys\n",
    "import copy\n",
    "import logging\n",
    "\n",
    "# custom module\n",
    "from emlyon_module.imports import *\n",
    "from emlyon_module.structured import *\n",
    "\n",
    "#ML Tools\n",
    "import numpy as np\n",
    "import pandas as pd\n",
    "from sklearn.preprocessing import StandardScaler\n",
    "from sklearn.pipeline import make_pipeline\n",
    "from sklearn.linear_model import LogisticRegression, LogisticRegressionCV\n",
    "from sklearn.metrics import classification_report\n",
    "from sklearn.ensemble import AdaBoostClassifier, RandomForestClassifier\n",
    "from sklearn.tree import DecisionTreeClassifier\n",
    "from sklearn.metrics import accuracy_score\n",
    "from sklearn.model_selection import cross_val_score, KFold, GridSearchCV\n",
    "\n",
    "#Jaona Modifs: Getting to the file\n",
    "sys.path.append(\"/Users/jaonaandriamasy/Documents/4 - Courses/Machine Learning/Last assignment/ML - Desktop/ML - Desktop\")\n",
    "\n",
    "#Catboost\n",
    "#!pip install catboost\n",
    "import catboost\n",
    "from catboost import CatBoostClassifier, CatBoostRegressor, Pool, cv"
   ]
  },
  {
   "cell_type": "code",
   "execution_count": 2,
   "id": "500e195b",
   "metadata": {},
   "outputs": [],
   "source": [
    "def rmse(y_gold, y_pred): \n",
    "    return math.sqrt(((y_gold - y_pred)**2).mean()) #Math is from emlyon_module\n",
    "\n",
    "def print_score(m, X_train, y_train, X_valid, y_valid):\n",
    "    print('RMSE on train set: {:.4f}'.format(rmse(m.predict(X_train), y_train)))\n",
    "    print('RMSE on valid set: {:.4f}'.format(rmse(m.predict(X_valid), y_valid)))\n",
    "    print('R^2 on train set: {:.4f}'.format(m.score(X_train, y_train)))\n",
    "    print('R^2 on valid set: {:.4f}'.format(m.score(X_valid, y_valid)))\n",
    "    if hasattr(m, 'oob_score_'): print('R^2 on oob set: {:.4f}'.format(m.oob_score_))\n",
    "    return\n",
    "\n",
    "def split_vals(df, n): \n",
    "    return df[:n].copy(), df[n:].copy()"
   ]
  },
  {
   "cell_type": "markdown",
   "id": "3de3ee50",
   "metadata": {},
   "source": [
    "- Import preprocessed features as DataFrames and target variables as Series"
   ]
  },
  {
   "cell_type": "code",
   "execution_count": 3,
   "id": "51e9692f",
   "metadata": {},
   "outputs": [],
   "source": [
    "# training and test sets with original data distribution\n",
    "X_train_base = pd.read_csv('data/X_train.csv')\n",
    "y_train_base = pd.read_csv('data/y_train.csv', squeeze=True)\n",
    "\n",
    "X_test = pd.read_csv('data/X_test.csv')\n",
    "y_test = pd.read_csv('data/y_test.csv', squeeze=True)"
   ]
  },
  {
   "cell_type": "code",
   "execution_count": 5,
   "id": "5916e867",
   "metadata": {},
   "outputs": [],
   "source": [
    "#Validation set\n",
    "n_total = len(X_train_base)\n",
    "n_train = 40000 #20% of the training set\n",
    "\n",
    "X_train, X_valid = split_vals(X_train_base, n_train)\n",
    "y_train, y_valid = split_vals(y_train_base, n_train)"
   ]
  },
  {
   "cell_type": "code",
   "execution_count": 6,
   "id": "8a62b3af",
   "metadata": {},
   "outputs": [
    {
     "data": {
      "text/plain": [
       "(40000, 169)"
      ]
     },
     "execution_count": 6,
     "metadata": {},
     "output_type": "execute_result"
    }
   ],
   "source": [
    "X_train.shape"
   ]
  },
  {
   "cell_type": "code",
   "execution_count": 7,
   "id": "919d73d4",
   "metadata": {},
   "outputs": [
    {
     "data": {
      "application/vnd.jupyter.widget-view+json": {
       "model_id": "6c9e6873f3d7426e81de540df3cbd10c",
       "version_major": 2,
       "version_minor": 0
      },
      "text/plain": [
       "MetricVisualizer(layout=Layout(align_self='stretch', height='500px'))"
      ]
     },
     "metadata": {},
     "output_type": "display_data"
    },
    {
     "name": "stdout",
     "output_type": "stream",
     "text": [
      "CPU times: user 58.7 s, sys: 11.2 s, total: 1min 9s\n",
      "Wall time: 29.9 s\n",
      "RMSE on train set: 0.2727\n",
      "RMSE on valid set: 0.2782\n",
      "R^2 on train set: 0.0767\n",
      "R^2 on valid set: 0.0248\n"
     ]
    }
   ],
   "source": [
    "model = CatBoostRegressor(\n",
    "    n_estimators = 5000, # iterations, n_estimators, num_boost_round, num_trees\n",
    "    learning_rate = 0.01,\n",
    "    random_seed = 42,\n",
    "    loss_function = 'RMSE',\n",
    "    #allow_writing_files = False,\n",
    "    logging_level = 'Silent',\n",
    ")\n",
    "\n",
    "%time model.fit(X_train, y_train, eval_set = (X_valid, y_valid), plot = True)\n",
    "print_score(model, X_train, y_train, X_valid, y_valid) "
   ]
  },
  {
   "cell_type": "code",
   "execution_count": 8,
   "id": "c84d5c9d",
   "metadata": {},
   "outputs": [
    {
     "name": "stdout",
     "output_type": "stream",
     "text": [
      "40000    1.0\n",
      "40001    1.0\n",
      "40002    1.0\n",
      "40003    1.0\n",
      "40004    1.0\n",
      "40005    1.0\n",
      "40006    1.0\n",
      "40007    1.0\n",
      "40008    1.0\n",
      "40009    1.0\n",
      "Name: readmitted_within_30_days, dtype: float64\n",
      "[1, 1, 1, 1, 1, 1, 1, 1, 1, 1]\n"
     ]
    }
   ],
   "source": [
    "predictions = model.predict(X_valid.iloc[:10, :])\n",
    "\n",
    "print(np.exp(y_valid[:10]))\n",
    "print([int(np.exp(pred)) for pred in predictions])"
   ]
  },
  {
   "cell_type": "code",
   "execution_count": 9,
   "id": "84ee23dd",
   "metadata": {},
   "outputs": [
    {
     "data": {
      "text/plain": [
       "1605"
      ]
     },
     "execution_count": 9,
     "metadata": {},
     "output_type": "execute_result"
    }
   ],
   "source": [
    "model.tree_count_"
   ]
  },
  {
   "cell_type": "code",
   "execution_count": 10,
   "id": "0db8faac",
   "metadata": {},
   "outputs": [],
   "source": [
    "### $\\bullet$ Hyperparameter tuning"
   ]
  },
  {
   "cell_type": "code",
   "execution_count": 12,
   "id": "c6f33ac5",
   "metadata": {},
   "outputs": [
    {
     "data": {
      "application/vnd.jupyter.widget-view+json": {
       "model_id": "0edefd392768432ab8d5472e644191cb",
       "version_major": 2,
       "version_minor": 0
      },
      "text/plain": [
       "MetricVisualizer(layout=Layout(align_self='stretch', height='500px'))"
      ]
     },
     "metadata": {},
     "output_type": "display_data"
    },
    {
     "name": "stdout",
     "output_type": "stream",
     "text": [
      "Training on fold [0/5]\n",
      "\n",
      "bestTest = 0.2788255747\n",
      "bestIteration = 380\n",
      "\n",
      "Training on fold [1/5]\n",
      "\n",
      "bestTest = 0.2842805309\n",
      "bestIteration = 498\n",
      "\n",
      "Training on fold [2/5]\n",
      "\n",
      "bestTest = 0.2776225722\n",
      "bestIteration = 465\n",
      "\n",
      "Training on fold [3/5]\n",
      "\n",
      "bestTest = 0.2694857975\n",
      "bestIteration = 411\n",
      "\n",
      "Training on fold [4/5]\n",
      "\n",
      "bestTest = 0.2838998036\n",
      "bestIteration = 470\n",
      "\n"
     ]
    }
   ],
   "source": [
    "cv_dataset = Pool(data = X_train, label = y_train)\n",
    "\n",
    "params = {\n",
    "    \"n_estimators\": 500,\n",
    "    \"loss_function\": \"RMSE\",\n",
    "    \"verbose\": False,\n",
    "}\n",
    "scores = catboost.cv(\n",
    "    cv_dataset,\n",
    "    params,\n",
    "    fold_count = 5, \n",
    "    plot = \"True\",\n",
    ")"
   ]
  },
  {
   "cell_type": "code",
   "execution_count": 4,
   "id": "bc582a9d",
   "metadata": {},
   "outputs": [],
   "source": [
    "# resampled / balanced training sets\n",
    "\n",
    "X_train_rus = pd.read_csv('data/X_train_rus.csv')\n",
    "y_train_rus = pd.read_csv('data/y_train_rus.csv', squeeze=True)\n",
    "\n",
    "X_train_ros = pd.read_csv('data/X_train_ros.csv')\n",
    "y_train_ros = pd.read_csv('data/y_train_ros.csv', squeeze=True)\n",
    "\n",
    "X_train_smote = pd.read_csv('data/X_train_smote.csv')\n",
    "y_train_smote = pd.read_csv('data/y_train_smote.csv', squeeze=True)"
   ]
  },
  {
   "cell_type": "markdown",
   "id": "b4efacfa",
   "metadata": {},
   "source": [
    "- We start by building a logistic regression model with default hyperparameter values and fit it on the preprocessed data."
   ]
  },
  {
   "cell_type": "code",
   "execution_count": 27,
   "id": "81247547",
   "metadata": {},
   "outputs": [],
   "source": [
    "imp = pd.DataFrame({'Column': X_train.columns, 'Feature Importance': clf.feature_importances_})"
   ]
  },
  {
   "cell_type": "code",
   "execution_count": 31,
   "id": "be1a91f5",
   "metadata": {},
   "outputs": [
    {
     "data": {
      "text/html": [
       "<div>\n",
       "<style scoped>\n",
       "    .dataframe tbody tr th:only-of-type {\n",
       "        vertical-align: middle;\n",
       "    }\n",
       "\n",
       "    .dataframe tbody tr th {\n",
       "        vertical-align: top;\n",
       "    }\n",
       "\n",
       "    .dataframe thead th {\n",
       "        text-align: right;\n",
       "    }\n",
       "</style>\n",
       "<table border=\"1\" class=\"dataframe\">\n",
       "  <thead>\n",
       "    <tr style=\"text-align: right;\">\n",
       "      <th></th>\n",
       "      <th>Column</th>\n",
       "      <th>Feature Importance</th>\n",
       "    </tr>\n",
       "  </thead>\n",
       "  <tbody>\n",
       "    <tr>\n",
       "      <th>170</th>\n",
       "      <td>readmitted_NO</td>\n",
       "      <td>0.360951</td>\n",
       "    </tr>\n",
       "    <tr>\n",
       "      <th>169</th>\n",
       "      <td>readmitted_&gt;30</td>\n",
       "      <td>0.352534</td>\n",
       "    </tr>\n",
       "    <tr>\n",
       "      <th>1</th>\n",
       "      <td>num_lab_procedures</td>\n",
       "      <td>0.021185</td>\n",
       "    </tr>\n",
       "    <tr>\n",
       "      <th>3</th>\n",
       "      <td>num_medications</td>\n",
       "      <td>0.019504</td>\n",
       "    </tr>\n",
       "    <tr>\n",
       "      <th>0</th>\n",
       "      <td>time_in_hospital</td>\n",
       "      <td>0.015173</td>\n",
       "    </tr>\n",
       "    <tr>\n",
       "      <th>...</th>\n",
       "      <td>...</td>\n",
       "      <td>...</td>\n",
       "    </tr>\n",
       "    <tr>\n",
       "      <th>59</th>\n",
       "      <td>admission_source_id_ Transfer from Ambulatory ...</td>\n",
       "      <td>0.000000</td>\n",
       "    </tr>\n",
       "    <tr>\n",
       "      <th>133</th>\n",
       "      <td>chlorpropamide_Up</td>\n",
       "      <td>0.000000</td>\n",
       "    </tr>\n",
       "    <tr>\n",
       "      <th>66</th>\n",
       "      <td>admission_source_id_Normal Delivery</td>\n",
       "      <td>0.000000</td>\n",
       "    </tr>\n",
       "    <tr>\n",
       "      <th>63</th>\n",
       "      <td>admission_source_id_ Transfer from hospital in...</td>\n",
       "      <td>0.000000</td>\n",
       "    </tr>\n",
       "    <tr>\n",
       "      <th>41</th>\n",
       "      <td>discharge_disposition_id_Discharged/transferre...</td>\n",
       "      <td>0.000000</td>\n",
       "    </tr>\n",
       "  </tbody>\n",
       "</table>\n",
       "<p>171 rows × 2 columns</p>\n",
       "</div>"
      ],
      "text/plain": [
       "                                                Column  Feature Importance\n",
       "170                                      readmitted_NO            0.360951\n",
       "169                                     readmitted_>30            0.352534\n",
       "1                                   num_lab_procedures            0.021185\n",
       "3                                      num_medications            0.019504\n",
       "0                                     time_in_hospital            0.015173\n",
       "..                                                 ...                 ...\n",
       "59   admission_source_id_ Transfer from Ambulatory ...            0.000000\n",
       "133                                  chlorpropamide_Up            0.000000\n",
       "66                 admission_source_id_Normal Delivery            0.000000\n",
       "63   admission_source_id_ Transfer from hospital in...            0.000000\n",
       "41   discharge_disposition_id_Discharged/transferre...            0.000000\n",
       "\n",
       "[171 rows x 2 columns]"
      ]
     },
     "execution_count": 31,
     "metadata": {},
     "output_type": "execute_result"
    }
   ],
   "source": [
    "imp.sort_values(by='Feature Importance', ascending=False)"
   ]
  },
  {
   "cell_type": "code",
   "execution_count": null,
   "id": "2166be38",
   "metadata": {},
   "outputs": [],
   "source": []
  }
 ],
 "metadata": {
  "kernelspec": {
   "display_name": "Python 3 (ipykernel)",
   "language": "python",
   "name": "python3"
  },
  "language_info": {
   "codemirror_mode": {
    "name": "ipython",
    "version": 3
   },
   "file_extension": ".py",
   "mimetype": "text/x-python",
   "name": "python",
   "nbconvert_exporter": "python",
   "pygments_lexer": "ipython3",
   "version": "3.7.11"
  }
 },
 "nbformat": 4,
 "nbformat_minor": 5
}
